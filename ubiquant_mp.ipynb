{
 "cells": [
  {
   "cell_type": "code",
   "execution_count": 1,
   "id": "3137c050",
   "metadata": {
    "_cell_guid": "b1076dfc-b9ad-4769-8c92-a6c4dae69d19",
    "_uuid": "8f2839f25d086af736a60e9eeb907d3b93b6e0e5",
    "execution": {
     "iopub.execute_input": "2022-04-04T14:09:04.598579Z",
     "iopub.status.busy": "2022-04-04T14:09:04.598078Z",
     "iopub.status.idle": "2022-04-04T14:09:06.788998Z",
     "shell.execute_reply": "2022-04-04T14:09:06.790316Z",
     "shell.execute_reply.started": "2022-04-04T12:32:53.172810Z"
    },
    "papermill": {
     "duration": 2.234714,
     "end_time": "2022-04-04T14:09:06.790681",
     "exception": false,
     "start_time": "2022-04-04T14:09:04.555967",
     "status": "completed"
    },
    "tags": []
   },
   "outputs": [],
   "source": [
    "import numpy as np\n",
    "import pandas as pd\n",
    "import matplotlib.pyplot as plt\n",
    "%matplotlib inline\n",
    "import seaborn as sns\n",
    "import torch"
   ]
  },
  {
   "cell_type": "code",
   "execution_count": 2,
   "id": "3da7a429",
   "metadata": {
    "execution": {
     "iopub.execute_input": "2022-04-04T14:09:06.917166Z",
     "iopub.status.busy": "2022-04-04T14:09:06.916307Z",
     "iopub.status.idle": "2022-04-04T14:09:06.918510Z",
     "shell.execute_reply": "2022-04-04T14:09:06.917870Z",
     "shell.execute_reply.started": "2022-04-04T12:32:54.670131Z"
    },
    "papermill": {
     "duration": 0.060172,
     "end_time": "2022-04-04T14:09:06.918654",
     "exception": false,
     "start_time": "2022-04-04T14:09:06.858482",
     "status": "completed"
    },
    "tags": []
   },
   "outputs": [],
   "source": [
    "data_types_dict = {\n",
    "    'time_id': 'int32',\n",
    "    'investment_id': 'int16',\n",
    "    \"target\": 'float16',\n",
    "}\n",
    "\n",
    "features = [f'f_{i}' for i in range(300)]\n",
    "\n",
    "for f in features:\n",
    "    data_types_dict[f] = 'float16'"
   ]
  },
  {
   "cell_type": "code",
   "execution_count": 3,
   "id": "ef995f4e",
   "metadata": {
    "execution": {
     "iopub.execute_input": "2022-04-04T14:09:07.025521Z",
     "iopub.status.busy": "2022-04-04T14:09:07.024710Z",
     "iopub.status.idle": "2022-04-04T14:09:07.051089Z",
     "shell.execute_reply": "2022-04-04T14:09:07.051942Z",
     "shell.execute_reply.started": "2022-04-04T12:33:15.278838Z"
    },
    "papermill": {
     "duration": 0.083914,
     "end_time": "2022-04-04T14:09:07.052113",
     "exception": false,
     "start_time": "2022-04-04T14:09:06.968199",
     "status": "completed"
    },
    "tags": []
   },
   "outputs": [],
   "source": [
    "data = pd.read_csv('../input/ubiquant-market-prediction/train.csv', \n",
    "                       usecols = data_types_dict.keys(),\n",
    "                       dtype=data_types_dict,\n",
    "                       index_col = 0, chunksize = 3141410) #3141410"
   ]
  },
  {
   "cell_type": "code",
   "execution_count": 4,
   "id": "c258d753",
   "metadata": {
    "execution": {
     "iopub.execute_input": "2022-04-04T14:09:07.156823Z",
     "iopub.status.busy": "2022-04-04T14:09:07.156072Z",
     "iopub.status.idle": "2022-04-04T14:15:22.132605Z",
     "shell.execute_reply": "2022-04-04T14:15:22.132124Z",
     "shell.execute_reply.started": "2022-04-04T12:33:21.214014Z"
    },
    "papermill": {
     "duration": 375.030904,
     "end_time": "2022-04-04T14:15:22.132764",
     "exception": false,
     "start_time": "2022-04-04T14:09:07.101860",
     "status": "completed"
    },
    "tags": []
   },
   "outputs": [
    {
     "name": "stderr",
     "output_type": "stream",
     "text": [
      "/opt/conda/lib/python3.7/site-packages/numpy/lib/arraysetops.py:583: FutureWarning: elementwise comparison failed; returning scalar instead, but in the future will perform elementwise comparison\n",
      "  mask |= (ar1 == a)\n"
     ]
    }
   ],
   "source": [
    "data = next(iter(data))"
   ]
  },
  {
   "cell_type": "code",
   "execution_count": 5,
   "id": "10250ef0",
   "metadata": {
    "execution": {
     "iopub.execute_input": "2022-04-04T14:15:22.205005Z",
     "iopub.status.busy": "2022-04-04T14:15:22.203964Z",
     "iopub.status.idle": "2022-04-04T14:15:25.636641Z",
     "shell.execute_reply": "2022-04-04T14:15:25.635721Z",
     "shell.execute_reply.started": "2022-04-04T12:38:58.692358Z"
    },
    "papermill": {
     "duration": 3.472468,
     "end_time": "2022-04-04T14:15:25.636819",
     "exception": false,
     "start_time": "2022-04-04T14:15:22.164351",
     "status": "completed"
    },
    "tags": []
   },
   "outputs": [],
   "source": [
    "target = data['target']\n",
    "data.drop(['target', 'investment_id'], inplace=True, axis=1)"
   ]
  },
  {
   "cell_type": "code",
   "execution_count": 6,
   "id": "58b0d87e",
   "metadata": {
    "execution": {
     "iopub.execute_input": "2022-04-04T14:15:25.707188Z",
     "iopub.status.busy": "2022-04-04T14:15:25.706593Z",
     "iopub.status.idle": "2022-04-04T14:15:25.709953Z",
     "shell.execute_reply": "2022-04-04T14:15:25.710350Z",
     "shell.execute_reply.started": "2022-04-04T12:39:10.157139Z"
    },
    "papermill": {
     "duration": 0.041264,
     "end_time": "2022-04-04T14:15:25.710473",
     "exception": false,
     "start_time": "2022-04-04T14:15:25.669209",
     "status": "completed"
    },
    "tags": []
   },
   "outputs": [
    {
     "data": {
      "text/plain": [
       "'\\nfrom scipy.stats import pearsonr \\ndef est_score(model):\\n    y_pred = model.predict(X_test)\\n    return pearsonr(y_pred, y_test)[0]\\n'"
      ]
     },
     "execution_count": 6,
     "metadata": {},
     "output_type": "execute_result"
    }
   ],
   "source": [
    "\"\"\"\n",
    "from scipy.stats import pearsonr \n",
    "def est_score(model):\n",
    "    y_pred = model.predict(X_test)\n",
    "    return pearsonr(y_pred, y_test)[0]\n",
    "\"\"\""
   ]
  },
  {
   "cell_type": "code",
   "execution_count": 7,
   "id": "97b38a99",
   "metadata": {
    "execution": {
     "iopub.execute_input": "2022-04-04T14:15:25.778950Z",
     "iopub.status.busy": "2022-04-04T14:15:25.778078Z",
     "iopub.status.idle": "2022-04-04T14:15:25.781099Z",
     "shell.execute_reply": "2022-04-04T14:15:25.781491Z",
     "shell.execute_reply.started": "2022-04-04T12:39:20.418293Z"
    },
    "papermill": {
     "duration": 0.039649,
     "end_time": "2022-04-04T14:15:25.781627",
     "exception": false,
     "start_time": "2022-04-04T14:15:25.741978",
     "status": "completed"
    },
    "tags": []
   },
   "outputs": [
    {
     "data": {
      "text/plain": [
       "'\\nfrom sklearn.model_selection import train_test_split\\nX_train, X_test, y_train, y_test = train_test_split(data, target, test_size=0.1, stratify=data.index)\\n'"
      ]
     },
     "execution_count": 7,
     "metadata": {},
     "output_type": "execute_result"
    }
   ],
   "source": [
    "\"\"\"\n",
    "from sklearn.model_selection import train_test_split\n",
    "X_train, X_test, y_train, y_test = train_test_split(data, target, test_size=0.1, stratify=data.index)\n",
    "\"\"\""
   ]
  },
  {
   "cell_type": "code",
   "execution_count": 8,
   "id": "d801a0af",
   "metadata": {
    "execution": {
     "iopub.execute_input": "2022-04-04T14:15:25.848607Z",
     "iopub.status.busy": "2022-04-04T14:15:25.847454Z",
     "iopub.status.idle": "2022-04-04T14:15:25.850867Z",
     "shell.execute_reply": "2022-04-04T14:15:25.850410Z",
     "shell.execute_reply.started": "2022-04-04T12:39:44.918727Z"
    },
    "papermill": {
     "duration": 0.037597,
     "end_time": "2022-04-04T14:15:25.850975",
     "exception": false,
     "start_time": "2022-04-04T14:15:25.813378",
     "status": "completed"
    },
    "tags": []
   },
   "outputs": [],
   "source": [
    "#del data, target"
   ]
  },
  {
   "cell_type": "code",
   "execution_count": 9,
   "id": "7eb34c97",
   "metadata": {
    "execution": {
     "iopub.execute_input": "2022-04-04T14:15:25.917775Z",
     "iopub.status.busy": "2022-04-04T14:15:25.916986Z",
     "iopub.status.idle": "2022-04-04T14:15:25.920199Z",
     "shell.execute_reply": "2022-04-04T14:15:25.919704Z",
     "shell.execute_reply.started": "2022-04-04T12:39:59.383358Z"
    },
    "papermill": {
     "duration": 0.03785,
     "end_time": "2022-04-04T14:15:25.920307",
     "exception": false,
     "start_time": "2022-04-04T14:15:25.882457",
     "status": "completed"
    },
    "tags": []
   },
   "outputs": [
    {
     "data": {
      "text/plain": [
       "'\\nfrom sklearn.linear_model import LinearRegression\\nreg_model = LinearRegression(copy_X=False).fit(X_train, y_train)\\n'"
      ]
     },
     "execution_count": 9,
     "metadata": {},
     "output_type": "execute_result"
    }
   ],
   "source": [
    "\"\"\"\n",
    "from sklearn.linear_model import LinearRegression\n",
    "reg_model = LinearRegression(copy_X=False).fit(X_train, y_train)\n",
    "\"\"\""
   ]
  },
  {
   "cell_type": "code",
   "execution_count": 10,
   "id": "40ef3ba8",
   "metadata": {
    "execution": {
     "iopub.execute_input": "2022-04-04T14:15:25.986810Z",
     "iopub.status.busy": "2022-04-04T14:15:25.986157Z",
     "iopub.status.idle": "2022-04-04T14:15:25.988895Z",
     "shell.execute_reply": "2022-04-04T14:15:25.988365Z",
     "shell.execute_reply.started": "2022-04-04T12:41:27.402163Z"
    },
    "papermill": {
     "duration": 0.037101,
     "end_time": "2022-04-04T14:15:25.989000",
     "exception": false,
     "start_time": "2022-04-04T14:15:25.951899",
     "status": "completed"
    },
    "tags": []
   },
   "outputs": [],
   "source": [
    "#est_score(reg_model)"
   ]
  },
  {
   "cell_type": "code",
   "execution_count": 11,
   "id": "a65dfb72",
   "metadata": {
    "execution": {
     "iopub.execute_input": "2022-04-04T14:15:26.150248Z",
     "iopub.status.busy": "2022-04-04T14:15:26.149403Z",
     "iopub.status.idle": "2022-04-04T14:15:26.152028Z",
     "shell.execute_reply": "2022-04-04T14:15:26.151564Z",
     "shell.execute_reply.started": "2022-04-04T12:41:33.888601Z"
    },
    "papermill": {
     "duration": 0.131634,
     "end_time": "2022-04-04T14:15:26.152145",
     "exception": false,
     "start_time": "2022-04-04T14:15:26.020511",
     "status": "completed"
    },
    "tags": []
   },
   "outputs": [],
   "source": [
    "device = torch.device('cuda') if torch.cuda.is_available() else torch.device('cpu')\n",
    "\n",
    "def move_to(data, device):\n",
    "    \"\"\"\n",
    "    moving data to device\n",
    "    :param data: data to move\n",
    "    :param device: device\n",
    "    :return: moved data\n",
    "    \"\"\"\n",
    "    if isinstance(data, (list, tuple)):\n",
    "        return [move_to(x, device) for x in data]\n",
    "    return data.to(device, non_blocking=True)"
   ]
  },
  {
   "cell_type": "code",
   "execution_count": 12,
   "id": "89468938",
   "metadata": {
    "execution": {
     "iopub.execute_input": "2022-04-04T14:15:26.222224Z",
     "iopub.status.busy": "2022-04-04T14:15:26.221462Z",
     "iopub.status.idle": "2022-04-04T14:15:26.223503Z",
     "shell.execute_reply": "2022-04-04T14:15:26.223918Z",
     "shell.execute_reply.started": "2022-04-04T12:41:35.778894Z"
    },
    "papermill": {
     "duration": 0.039733,
     "end_time": "2022-04-04T14:15:26.224057",
     "exception": false,
     "start_time": "2022-04-04T14:15:26.184324",
     "status": "completed"
    },
    "tags": []
   },
   "outputs": [],
   "source": [
    "def pearson_loss(x, y):\n",
    "    vx = x - torch.mean(x)\n",
    "    vy = y - torch.mean(y)\n",
    "    loss = -torch.sum(vx*vy) / (torch.sqrt(torch.sum(vx*vx)) * torch.sqrt(torch.sum(vy*vy)))\n",
    "    return loss"
   ]
  },
  {
   "cell_type": "code",
   "execution_count": 13,
   "id": "d462ca6a",
   "metadata": {
    "execution": {
     "iopub.execute_input": "2022-04-04T14:15:26.306867Z",
     "iopub.status.busy": "2022-04-04T14:15:26.305776Z",
     "iopub.status.idle": "2022-04-04T14:15:26.309502Z",
     "shell.execute_reply": "2022-04-04T14:15:26.308782Z",
     "shell.execute_reply.started": "2022-04-04T12:41:37.956425Z"
    },
    "papermill": {
     "duration": 0.054024,
     "end_time": "2022-04-04T14:15:26.309629",
     "exception": false,
     "start_time": "2022-04-04T14:15:26.255605",
     "status": "completed"
    },
    "tags": []
   },
   "outputs": [],
   "source": [
    "class DNN_Model(torch.nn.Module):\n",
    "    def __init__(self, deep_size):\n",
    "        super().__init__()\n",
    "        self.linear_1 = torch.nn.Linear(300, deep_size)\n",
    "        self.linear_2 = torch.nn.Linear(deep_size, deep_size)\n",
    "        self.linear_3 = torch.nn.Linear(deep_size, deep_size)\n",
    "        self.linear_4 = torch.nn.Linear(deep_size, deep_size)\n",
    "        self.linear_5 = torch.nn.Linear(deep_size, 1)\n",
    "        self.dout = torch.nn.Dropout(p=0.7)\n",
    "        self.act = torch.nn.SiLU()\n",
    "    def fit(self, X, y, iters, batch_size = 4096, subset = 0.8, silent=False, plot=False, val=False, X_val=None, y_val=None):\n",
    "        self = move_to(self, device)\n",
    "        if val:\n",
    "            tensor_train_val = move_to(torch.FloatTensor(X_val.values), device)\n",
    "            tensor_y_val = move_to(torch.FloatTensor(y_val.values), device)\n",
    "        scores_train = []\n",
    "        scores_val = []\n",
    "        \n",
    "        opt = torch.optim.Adam(self.parameters(), lr=5e-4)\n",
    "        \n",
    "        for epoch in range(iters):\n",
    "            i = 0\n",
    "            #learning cycle\n",
    "            while i + batch_size < y.shape[0]:     \n",
    "                self.train()\n",
    "                self.zero_grad()\n",
    "                X_tensor = move_to(torch.FloatTensor(X.iloc[i:i+batch_size, :].values), device)\n",
    "                y_tensor = move_to(torch.FloatTensor(y[i:i+batch_size].values), device)\n",
    "                loss = pearson_loss(self.tensor_forward(X_tensor).view(-1), y_tensor)\n",
    "                loss.backward()\n",
    "                opt.step()\n",
    "                i+=batch_size\n",
    "                \n",
    "            #prints\n",
    "            if val:\n",
    "                self.eval()\n",
    "                val_loss = pearson_loss(self.tensor_forward(tensor_train_val).view(-1), tensor_y_val)\n",
    "                scores_val.append(float(val_loss.detach()))\n",
    "            scores_train.append(float(loss.detach()))\n",
    "            \n",
    "            if not silent:\n",
    "                print(f'epoch {epoch} finished with {loss} loss')\n",
    "                if val:\n",
    "                    print(f'val loss {val_loss}')\n",
    "                \n",
    "            \n",
    "        if not silent:\n",
    "            print(f'Finished with {loss} loss')\n",
    "        if plot:\n",
    "            if val:\n",
    "                sns.lineplot(x=range(iters), y=scores_train, label='train')\n",
    "                sns.lineplot(x=range(iters), y=scores_val, label='val')\n",
    "            else:\n",
    "                sns.lineplot(scores_train)\n",
    "            plt.plot()\n",
    "                \n",
    "    def tensor_forward(self, X_tensor):\n",
    "        X_tensor = move_to(X_tensor, device)\n",
    "        tensor_X = self.act(self.linear_1(X_tensor))\n",
    "        tensor_X = self.act(self.linear_2(tensor_X))\n",
    "        tensor_X = self.dout(tensor_X)\n",
    "        tensor_X = self.act(self.linear_3(tensor_X))\n",
    "        tensor_X = self.dout(tensor_X)\n",
    "        tensor_X = self.act(self.linear_4(tensor_X))\n",
    "        tensor_X = self.linear_5(tensor_X)\n",
    "        return tensor_X \n",
    "\n",
    "    def forward(self, X):\n",
    "        tensor_X = torch.FloatTensor(X.values)\n",
    "        tensor_X = move_to(tensor_X, device)\n",
    "        tensor_X = self.act(self.linear_1(tensor_X))\n",
    "        tensor_X = self.act(self.linear_2(tensor_X))\n",
    "        tensor_X = self.dout(tensor_X)\n",
    "        tensor_X = self.act(self.linear_3(tensor_X))\n",
    "        tensor_X = self.dout(tensor_X)\n",
    "        tensor_X = self.act(self.linear_4(tensor_X))\n",
    "        tensor_X = self.linear_5(tensor_X)\n",
    "        return tensor_X"
   ]
  },
  {
   "cell_type": "code",
   "execution_count": 14,
   "id": "e3d589e0",
   "metadata": {
    "execution": {
     "iopub.execute_input": "2022-04-04T14:15:26.395391Z",
     "iopub.status.busy": "2022-04-04T14:15:26.376554Z",
     "iopub.status.idle": "2022-04-04T14:15:26.397787Z",
     "shell.execute_reply": "2022-04-04T14:15:26.397360Z",
     "shell.execute_reply.started": "2022-04-04T12:41:39.928996Z"
    },
    "papermill": {
     "duration": 0.056483,
     "end_time": "2022-04-04T14:15:26.397911",
     "exception": false,
     "start_time": "2022-04-04T14:15:26.341428",
     "status": "completed"
    },
    "tags": []
   },
   "outputs": [],
   "source": [
    "class DNN_Model_1(torch.nn.Module):\n",
    "    def __init__(self, deep_size):\n",
    "        super().__init__()\n",
    "        self.linear_1 = torch.nn.Linear(300, deep_size)\n",
    "        self.linear_2 = torch.nn.Linear(deep_size, deep_size)\n",
    "        self.linear_3 = torch.nn.Linear(deep_size, deep_size)\n",
    "        self.linear_4 = torch.nn.Linear(deep_size, deep_size)\n",
    "        self.linear_5 = torch.nn.Linear(deep_size, deep_size)\n",
    "        self.linear_6 = torch.nn.Linear(deep_size, deep_size)\n",
    "        self.linear_7 = torch.nn.Linear(deep_size, deep_size)\n",
    "        self.linear_8 = torch.nn.Linear(deep_size, 1)\n",
    "        self.dout = torch.nn.Dropout(p=0.7)\n",
    "        self.small_dout = torch.nn.Dropout(p=0.3)\n",
    "        self.act = torch.nn.SiLU()\n",
    "    def fit(self, X, y, iters, batch_size = 4096, subset = 0.8, silent=False, plot=False, val=False, X_val=None, y_val=None):\n",
    "        self = move_to(self, device)\n",
    "        if val:\n",
    "            tensor_train_val = move_to(torch.FloatTensor(X_val.values), device)\n",
    "            tensor_y_val = move_to(torch.FloatTensor(y_val.values), device)\n",
    "        scores_train = []\n",
    "        scores_val = []\n",
    "        \n",
    "        opt = torch.optim.Adam(self.parameters(), lr=5e-4)\n",
    "        \n",
    "        for epoch in range(iters):\n",
    "            i = 0\n",
    "            #learning cycle\n",
    "            while i + batch_size < y.shape[0]: \n",
    "                self.train()\n",
    "                self.zero_grad()\n",
    "                X_tensor = move_to(torch.FloatTensor(X.iloc[i:i+batch_size, :].values), device)\n",
    "                y_tensor = move_to(torch.FloatTensor(y[i:i+batch_size].values), device)\n",
    "                loss = pearson_loss(self.tensor_forward(X_tensor).view(-1), y_tensor)\n",
    "                loss.backward()\n",
    "                opt.step()\n",
    "                i+=batch_size\n",
    "                \n",
    "            #prints\n",
    "            if val:\n",
    "                self.eval()\n",
    "                val_loss = pearson_loss(self.tensor_forward(tensor_train_val).view(-1), tensor_y_val)\n",
    "                scores_val.append(float(val_loss.detach()))\n",
    "            scores_train.append(float(loss.detach()))\n",
    "            \n",
    "            if not silent:\n",
    "                print(f'epoch {epoch} finished with {loss} loss')\n",
    "                if val:\n",
    "                    print(f'val loss {val_loss}')\n",
    "                \n",
    "            \n",
    "        if not silent:\n",
    "            print(f'Finished with {loss} loss')\n",
    "        if plot:\n",
    "            if val:\n",
    "                sns.lineplot(x=range(iters), y=scores_train, label='train')\n",
    "                sns.lineplot(x=range(iters), y=scores_val, label='val')\n",
    "            else:\n",
    "                sns.lineplot(scores_train)\n",
    "            plt.plot()\n",
    "                \n",
    "    def tensor_forward(self, X_tensor):\n",
    "        X_tensor = move_to(X_tensor, device)\n",
    "        tensor_X = self.act(self.linear_1(X_tensor))\n",
    "        tensor_X = self.act(self.linear_2(tensor_X))\n",
    "        tensor_X = self.dout(tensor_X)\n",
    "        tensor_X = self.act(self.linear_3(tensor_X))\n",
    "        tensor_X = self.dout(tensor_X)\n",
    "        tensor_X = self.act(self.linear_4(tensor_X))\n",
    "        tensor_X = self.act(self.linear_5(tensor_X))\n",
    "        tensor_X = self.act(self.linear_6(tensor_X))\n",
    "        tensor_X = self.small_dout(tensor_X)\n",
    "        tensor_X = self.act(self.linear_7(tensor_X))\n",
    "        tensor_X = self.act(self.linear_8(tensor_X))\n",
    "        return tensor_X \n",
    "\n",
    "    def forward(self, X):\n",
    "        tensor_X = torch.FloatTensor(X.values)\n",
    "        tensor_X = move_to(tensor_X, device)\n",
    "        tensor_X = self.act(self.linear_1(tensor_X))\n",
    "        tensor_X = self.act(self.linear_2(tensor_X))\n",
    "        tensor_X = self.dout(tensor_X)\n",
    "        tensor_X = self.act(self.linear_3(tensor_X))\n",
    "        tensor_X = self.dout(tensor_X)\n",
    "        tensor_X = self.act(self.linear_4(tensor_X))\n",
    "        tensor_X = self.act(self.linear_5(tensor_X))\n",
    "        tensor_X = self.act(self.linear_6(tensor_X))\n",
    "        tensor_X = self.small_dout(tensor_X)\n",
    "        tensor_X = self.act(self.linear_7(tensor_X))\n",
    "        tensor_X = self.act(self.linear_8(tensor_X))\n",
    "        return tensor_X"
   ]
  },
  {
   "cell_type": "code",
   "execution_count": 15,
   "id": "d98f777e",
   "metadata": {
    "execution": {
     "iopub.execute_input": "2022-04-04T14:15:26.466390Z",
     "iopub.status.busy": "2022-04-04T14:15:26.465722Z",
     "iopub.status.idle": "2022-04-04T14:15:26.468365Z",
     "shell.execute_reply": "2022-04-04T14:15:26.467933Z",
     "shell.execute_reply.started": "2022-04-04T12:41:46.721095Z"
    },
    "papermill": {
     "duration": 0.038432,
     "end_time": "2022-04-04T14:15:26.468468",
     "exception": false,
     "start_time": "2022-04-04T14:15:26.430036",
     "status": "completed"
    },
    "tags": []
   },
   "outputs": [],
   "source": [
    "#написать subsample: генерируем подмножество всех индексов и из него выбираем в батчах\n",
    "#то есть двойная индексация"
   ]
  },
  {
   "cell_type": "code",
   "execution_count": 16,
   "id": "b22293e9",
   "metadata": {
    "execution": {
     "iopub.execute_input": "2022-04-04T14:15:26.541812Z",
     "iopub.status.busy": "2022-04-04T14:15:26.541013Z",
     "iopub.status.idle": "2022-04-04T14:15:26.542910Z",
     "shell.execute_reply": "2022-04-04T14:15:26.543311Z",
     "shell.execute_reply.started": "2022-04-04T14:02:53.287774Z"
    },
    "papermill": {
     "duration": 0.043095,
     "end_time": "2022-04-04T14:15:26.543431",
     "exception": false,
     "start_time": "2022-04-04T14:15:26.500336",
     "status": "completed"
    },
    "tags": []
   },
   "outputs": [],
   "source": [
    "class StackedDNN:\n",
    "    def __init__(self, n, model, min_deep=30, max_deep=40, min_iter=10, max_iter=15):\n",
    "        self.nets = [model(np.random.randint(min_deep, max_deep)) for i in range(n)]\n",
    "        self.min_iter=min_iter\n",
    "        self.max_iter=max_iter\n",
    "    \n",
    "    def fit(self, X, y, batch_size=4096, subset=0.8):\n",
    "        for i in range(len(self.nets)):\n",
    "            self.nets[i].fit(X, y, np.random.randint(self.min_iter, self.max_iter), batch_size, subset, silent=True, plot=False, val=False, X_val=None, y_val=None)\n",
    "            print(f'{i+1}/{len(self.nets)} fitted')\n",
    "        \n",
    "    def predict(self, X):\n",
    "        y_pred = np.ndarray([len(self.nets), X.shape[0]])\n",
    "        for i in range(len(self.nets)):\n",
    "            self.nets[i].eval()\n",
    "            y_pred[i] = np.array(self.nets[i].forward(X).detach().view(-1).cpu())\n",
    "        y_pred /= len(self.nets)\n",
    "        return np.sum(y_pred, axis=0)"
   ]
  },
  {
   "cell_type": "code",
   "execution_count": 17,
   "id": "e558df3c",
   "metadata": {
    "execution": {
     "iopub.execute_input": "2022-04-04T14:15:26.618191Z",
     "iopub.status.busy": "2022-04-04T14:15:26.617573Z",
     "iopub.status.idle": "2022-04-04T14:15:26.734397Z",
     "shell.execute_reply": "2022-04-04T14:15:26.733933Z",
     "shell.execute_reply.started": "2022-04-04T13:58:16.806546Z"
    },
    "papermill": {
     "duration": 0.158663,
     "end_time": "2022-04-04T14:15:26.734521",
     "exception": false,
     "start_time": "2022-04-04T14:15:26.575858",
     "status": "completed"
    },
    "tags": []
   },
   "outputs": [],
   "source": [
    "nn_model = StackedDNN(30, DNN_Model, min_iter=10, max_iter=12, min_deep=280, max_deep=301)\n",
    "\n",
    "#nn_model = StackedDNN(10, min_iter=12, max_iter=16, min_deep=280, max_deep=301)"
   ]
  },
  {
   "cell_type": "code",
   "execution_count": 18,
   "id": "1701cc7e",
   "metadata": {
    "execution": {
     "iopub.execute_input": "2022-04-04T14:15:26.810660Z",
     "iopub.status.busy": "2022-04-04T14:15:26.810120Z",
     "iopub.status.idle": "2022-04-04T14:45:49.264321Z",
     "shell.execute_reply": "2022-04-04T14:45:49.264767Z",
     "shell.execute_reply.started": "2022-04-04T13:58:20.223291Z"
    },
    "papermill": {
     "duration": 1822.497753,
     "end_time": "2022-04-04T14:45:49.264943",
     "exception": false,
     "start_time": "2022-04-04T14:15:26.767190",
     "status": "completed"
    },
    "tags": []
   },
   "outputs": [
    {
     "name": "stdout",
     "output_type": "stream",
     "text": [
      "1/30 fitted\n",
      "2/30 fitted\n",
      "3/30 fitted\n",
      "4/30 fitted\n",
      "5/30 fitted\n",
      "6/30 fitted\n",
      "7/30 fitted\n",
      "8/30 fitted\n",
      "9/30 fitted\n",
      "10/30 fitted\n",
      "11/30 fitted\n",
      "12/30 fitted\n",
      "13/30 fitted\n",
      "14/30 fitted\n",
      "15/30 fitted\n",
      "16/30 fitted\n",
      "17/30 fitted\n",
      "18/30 fitted\n",
      "19/30 fitted\n",
      "20/30 fitted\n",
      "21/30 fitted\n",
      "22/30 fitted\n",
      "23/30 fitted\n",
      "24/30 fitted\n",
      "25/30 fitted\n",
      "26/30 fitted\n",
      "27/30 fitted\n",
      "28/30 fitted\n",
      "29/30 fitted\n",
      "30/30 fitted\n"
     ]
    }
   ],
   "source": [
    "nn_model.fit(data, target)"
   ]
  },
  {
   "cell_type": "code",
   "execution_count": 19,
   "id": "9e98f034",
   "metadata": {
    "execution": {
     "iopub.execute_input": "2022-04-04T14:45:49.351514Z",
     "iopub.status.busy": "2022-04-04T14:45:49.350967Z",
     "iopub.status.idle": "2022-04-04T14:45:49.353414Z",
     "shell.execute_reply": "2022-04-04T14:45:49.353811Z",
     "shell.execute_reply.started": "2022-04-04T14:02:58.456206Z"
    },
    "papermill": {
     "duration": 0.047292,
     "end_time": "2022-04-04T14:45:49.353946",
     "exception": false,
     "start_time": "2022-04-04T14:45:49.306654",
     "status": "completed"
    },
    "tags": []
   },
   "outputs": [],
   "source": [
    "#res = nn_model.predict(X_test)\n",
    "#pearsonr(res, y_test)[0]\n",
    "\n",
    "#0.19485894974919082  -1\n",
    "#0.1976733510956316  -4\n",
    "#0.2011706156204262  -10"
   ]
  },
  {
   "cell_type": "code",
   "execution_count": 20,
   "id": "3e04ee2b",
   "metadata": {
    "execution": {
     "iopub.execute_input": "2022-04-04T14:45:49.440469Z",
     "iopub.status.busy": "2022-04-04T14:45:49.439743Z",
     "iopub.status.idle": "2022-04-04T14:45:49.586980Z",
     "shell.execute_reply": "2022-04-04T14:45:49.586456Z",
     "shell.execute_reply.started": "2022-04-04T12:49:35.556089Z"
    },
    "papermill": {
     "duration": 0.192394,
     "end_time": "2022-04-04T14:45:49.587111",
     "exception": false,
     "start_time": "2022-04-04T14:45:49.394717",
     "status": "completed"
    },
    "tags": []
   },
   "outputs": [],
   "source": [
    "nn_model_1 = StackedDNN(30, DNN_Model_1, min_iter=10, max_iter=12, min_deep=280, max_deep=301)\n",
    "\n",
    "#nn_model = StackedDNN(10, min_iter=12, max_iter=16, min_deep=280, max_deep=301)"
   ]
  },
  {
   "cell_type": "code",
   "execution_count": 21,
   "id": "debae40b",
   "metadata": {
    "execution": {
     "iopub.execute_input": "2022-04-04T14:45:49.674454Z",
     "iopub.status.busy": "2022-04-04T14:45:49.673679Z",
     "iopub.status.idle": "2022-04-04T15:20:43.154187Z",
     "shell.execute_reply": "2022-04-04T15:20:43.154641Z",
     "shell.execute_reply.started": "2022-04-04T12:49:36.951982Z"
    },
    "papermill": {
     "duration": 2093.525913,
     "end_time": "2022-04-04T15:20:43.154838",
     "exception": false,
     "start_time": "2022-04-04T14:45:49.628925",
     "status": "completed"
    },
    "tags": []
   },
   "outputs": [
    {
     "name": "stdout",
     "output_type": "stream",
     "text": [
      "1/30 fitted\n",
      "2/30 fitted\n",
      "3/30 fitted\n",
      "4/30 fitted\n",
      "5/30 fitted\n",
      "6/30 fitted\n",
      "7/30 fitted\n",
      "8/30 fitted\n",
      "9/30 fitted\n",
      "10/30 fitted\n",
      "11/30 fitted\n",
      "12/30 fitted\n",
      "13/30 fitted\n",
      "14/30 fitted\n",
      "15/30 fitted\n",
      "16/30 fitted\n",
      "17/30 fitted\n",
      "18/30 fitted\n",
      "19/30 fitted\n",
      "20/30 fitted\n",
      "21/30 fitted\n",
      "22/30 fitted\n",
      "23/30 fitted\n",
      "24/30 fitted\n",
      "25/30 fitted\n",
      "26/30 fitted\n",
      "27/30 fitted\n",
      "28/30 fitted\n",
      "29/30 fitted\n",
      "30/30 fitted\n"
     ]
    }
   ],
   "source": [
    "nn_model_1.fit(data, target)"
   ]
  },
  {
   "cell_type": "code",
   "execution_count": 22,
   "id": "3c6a715d",
   "metadata": {
    "execution": {
     "iopub.execute_input": "2022-04-04T15:20:43.261434Z",
     "iopub.status.busy": "2022-04-04T15:20:43.260616Z",
     "iopub.status.idle": "2022-04-04T15:20:43.262931Z",
     "shell.execute_reply": "2022-04-04T15:20:43.262399Z",
     "shell.execute_reply.started": "2022-04-04T13:18:32.102148Z"
    },
    "papermill": {
     "duration": 0.056921,
     "end_time": "2022-04-04T15:20:43.263044",
     "exception": false,
     "start_time": "2022-04-04T15:20:43.206123",
     "status": "completed"
    },
    "tags": []
   },
   "outputs": [],
   "source": [
    "#res_1 = nn_model_1.predict(X_test)\n",
    "#pearsonr(res_1, y_test)[0]\n",
    "\n",
    "#0.1906351900630285  -1\n",
    "#0.19793490067770353  -4\n",
    "#19888346302274712  -10"
   ]
  },
  {
   "cell_type": "code",
   "execution_count": 23,
   "id": "d5076977",
   "metadata": {
    "execution": {
     "iopub.execute_input": "2022-04-04T15:20:43.367500Z",
     "iopub.status.busy": "2022-04-04T15:20:43.366909Z",
     "iopub.status.idle": "2022-04-04T15:20:43.369585Z",
     "shell.execute_reply": "2022-04-04T15:20:43.370000Z",
     "shell.execute_reply.started": "2022-04-04T13:57:05.863755Z"
    },
    "papermill": {
     "duration": 0.057431,
     "end_time": "2022-04-04T15:20:43.370133",
     "exception": false,
     "start_time": "2022-04-04T15:20:43.312702",
     "status": "completed"
    },
    "tags": []
   },
   "outputs": [
    {
     "data": {
      "text/plain": [
       "'\\na = 0.2\\nprint(pearsonr(res, y_test)[0])\\nprint(pearsonr(res_1, y_test)[0])\\npearsonr(a*res + (1-a)*res_1, y_test)[0]\\n'"
      ]
     },
     "execution_count": 23,
     "metadata": {},
     "output_type": "execute_result"
    }
   ],
   "source": [
    "\"\"\"\n",
    "a = 0.2\n",
    "print(pearsonr(res, y_test)[0])\n",
    "print(pearsonr(res_1, y_test)[0])\n",
    "pearsonr(a*res + (1-a)*res_1, y_test)[0]\n",
    "\"\"\""
   ]
  },
  {
   "cell_type": "code",
   "execution_count": 24,
   "id": "3b8ee05a",
   "metadata": {
    "execution": {
     "iopub.execute_input": "2022-04-04T15:20:43.474386Z",
     "iopub.status.busy": "2022-04-04T15:20:43.473881Z",
     "iopub.status.idle": "2022-04-04T15:20:43.479157Z",
     "shell.execute_reply": "2022-04-04T15:20:43.478625Z",
     "shell.execute_reply.started": "2022-04-04T13:56:53.716281Z"
    },
    "papermill": {
     "duration": 0.059198,
     "end_time": "2022-04-04T15:20:43.479280",
     "exception": false,
     "start_time": "2022-04-04T15:20:43.420082",
     "status": "completed"
    },
    "tags": []
   },
   "outputs": [
    {
     "data": {
      "text/plain": [
       "'\\nbest = 0\\nbest_a = 0\\nfor a in np.linspace(0, 1, 100):\\n    if pearsonr(a*res + (1-a)*res_1, y_test)[0] > best:\\n        best = pearsonr(a*res + (1-a)*res_1, y_test)[0]\\n        best_a = a\\n'"
      ]
     },
     "execution_count": 24,
     "metadata": {},
     "output_type": "execute_result"
    }
   ],
   "source": [
    "\"\"\"\n",
    "best = 0\n",
    "best_a = 0\n",
    "for a in np.linspace(0, 1, 100):\n",
    "    if pearsonr(a*res + (1-a)*res_1, y_test)[0] > best:\n",
    "        best = pearsonr(a*res + (1-a)*res_1, y_test)[0]\n",
    "        best_a = a\n",
    "\"\"\""
   ]
  },
  {
   "cell_type": "code",
   "execution_count": 25,
   "id": "3613d2d6",
   "metadata": {
    "execution": {
     "iopub.execute_input": "2022-04-04T15:20:43.584885Z",
     "iopub.status.busy": "2022-04-04T15:20:43.584267Z",
     "iopub.status.idle": "2022-04-04T15:20:43.587873Z",
     "shell.execute_reply": "2022-04-04T15:20:43.587418Z",
     "shell.execute_reply.started": "2022-04-04T13:56:58.384538Z"
    },
    "papermill": {
     "duration": 0.058062,
     "end_time": "2022-04-04T15:20:43.587991",
     "exception": false,
     "start_time": "2022-04-04T15:20:43.529929",
     "status": "completed"
    },
    "tags": []
   },
   "outputs": [],
   "source": [
    "#best_a"
   ]
  },
  {
   "cell_type": "code",
   "execution_count": 26,
   "id": "e9f4b4dc",
   "metadata": {
    "execution": {
     "iopub.execute_input": "2022-04-04T15:20:43.698601Z",
     "iopub.status.busy": "2022-04-04T15:20:43.696979Z",
     "iopub.status.idle": "2022-04-04T15:20:43.699251Z",
     "shell.execute_reply": "2022-04-04T15:20:43.699660Z",
     "shell.execute_reply.started": "2022-04-04T13:57:18.578135Z"
    },
    "papermill": {
     "duration": 0.058033,
     "end_time": "2022-04-04T15:20:43.699819",
     "exception": false,
     "start_time": "2022-04-04T15:20:43.641786",
     "status": "completed"
    },
    "tags": []
   },
   "outputs": [],
   "source": [
    "#res_nn = 0.8*res + 0.2*res_1"
   ]
  },
  {
   "cell_type": "code",
   "execution_count": 27,
   "id": "6bbfe250",
   "metadata": {
    "execution": {
     "iopub.execute_input": "2022-04-04T15:20:43.807121Z",
     "iopub.status.busy": "2022-04-04T15:20:43.806407Z",
     "iopub.status.idle": "2022-04-04T15:20:43.808884Z",
     "shell.execute_reply": "2022-04-04T15:20:43.808372Z",
     "shell.execute_reply.started": "2022-03-30T17:46:58.919478Z"
    },
    "papermill": {
     "duration": 0.057045,
     "end_time": "2022-04-04T15:20:43.808992",
     "exception": false,
     "start_time": "2022-04-04T15:20:43.751947",
     "status": "completed"
    },
    "tags": []
   },
   "outputs": [],
   "source": [
    "#np.sum(res > 10000000000000)"
   ]
  },
  {
   "cell_type": "code",
   "execution_count": 28,
   "id": "ce6f4797",
   "metadata": {
    "execution": {
     "iopub.execute_input": "2022-04-04T15:20:43.914579Z",
     "iopub.status.busy": "2022-04-04T15:20:43.913898Z",
     "iopub.status.idle": "2022-04-04T15:35:08.182220Z",
     "shell.execute_reply": "2022-04-04T15:35:08.183245Z",
     "shell.execute_reply.started": "2022-04-04T13:21:57.543431Z"
    },
    "papermill": {
     "duration": 864.324045,
     "end_time": "2022-04-04T15:35:08.183453",
     "exception": false,
     "start_time": "2022-04-04T15:20:43.859408",
     "status": "completed"
    },
    "tags": []
   },
   "outputs": [],
   "source": [
    "from catboost import CatBoostRegressor\n",
    "model = CatBoostRegressor(iterations=8000, task_type='GPU', devices='0', silent=True).fit(data, target)"
   ]
  },
  {
   "cell_type": "code",
   "execution_count": 29,
   "id": "967fe069",
   "metadata": {
    "execution": {
     "iopub.execute_input": "2022-04-04T15:35:08.341588Z",
     "iopub.status.busy": "2022-04-04T15:35:08.340832Z",
     "iopub.status.idle": "2022-04-04T15:35:08.342801Z",
     "shell.execute_reply": "2022-04-04T15:35:08.342225Z",
     "shell.execute_reply.started": "2022-04-04T13:57:21.956059Z"
    },
    "papermill": {
     "duration": 0.082284,
     "end_time": "2022-04-04T15:35:08.342950",
     "exception": false,
     "start_time": "2022-04-04T15:35:08.260666",
     "status": "completed"
    },
    "tags": []
   },
   "outputs": [],
   "source": [
    "#est_score(model)"
   ]
  },
  {
   "cell_type": "code",
   "execution_count": 30,
   "id": "8f250126",
   "metadata": {
    "execution": {
     "iopub.execute_input": "2022-04-04T15:35:08.499176Z",
     "iopub.status.busy": "2022-04-04T15:35:08.498309Z",
     "iopub.status.idle": "2022-04-04T15:35:08.499970Z",
     "shell.execute_reply": "2022-04-04T15:35:08.500625Z",
     "shell.execute_reply.started": "2022-04-04T13:38:32.519853Z"
    },
    "papermill": {
     "duration": 0.082914,
     "end_time": "2022-04-04T15:35:08.500809",
     "exception": false,
     "start_time": "2022-04-04T15:35:08.417895",
     "status": "completed"
    },
    "tags": []
   },
   "outputs": [],
   "source": [
    "#res_boost = model.predict(X_test)"
   ]
  },
  {
   "cell_type": "code",
   "execution_count": 31,
   "id": "87d747c1",
   "metadata": {
    "execution": {
     "iopub.execute_input": "2022-04-04T15:35:08.655895Z",
     "iopub.status.busy": "2022-04-04T15:35:08.655043Z",
     "iopub.status.idle": "2022-04-04T15:35:08.656671Z",
     "shell.execute_reply": "2022-04-04T15:35:08.657331Z",
     "shell.execute_reply.started": "2022-04-04T13:41:14.429272Z"
    },
    "papermill": {
     "duration": 0.080506,
     "end_time": "2022-04-04T15:35:08.657499",
     "exception": false,
     "start_time": "2022-04-04T15:35:08.576993",
     "status": "completed"
    },
    "tags": []
   },
   "outputs": [],
   "source": [
    "#1/17"
   ]
  },
  {
   "cell_type": "code",
   "execution_count": 32,
   "id": "4aa13698",
   "metadata": {
    "execution": {
     "iopub.execute_input": "2022-04-04T15:35:08.813244Z",
     "iopub.status.busy": "2022-04-04T15:35:08.812485Z",
     "iopub.status.idle": "2022-04-04T15:35:08.815507Z",
     "shell.execute_reply": "2022-04-04T15:35:08.816060Z",
     "shell.execute_reply.started": "2022-04-04T14:08:16.754963Z"
    },
    "papermill": {
     "duration": 0.083744,
     "end_time": "2022-04-04T15:35:08.816226",
     "exception": false,
     "start_time": "2022-04-04T15:35:08.732482",
     "status": "completed"
    },
    "tags": []
   },
   "outputs": [
    {
     "data": {
      "text/plain": [
       "'\\na = 0.8\\nprint(pearsonr(res, y_test)[0])\\nprint(pearsonr(res_boost, y_test)[0])\\npearsonr(a*res_boost+(1-a)*res, y_test)[0]\\n'"
      ]
     },
     "execution_count": 32,
     "metadata": {},
     "output_type": "execute_result"
    }
   ],
   "source": [
    "\"\"\"\n",
    "a = 0.8\n",
    "print(pearsonr(res, y_test)[0])\n",
    "print(pearsonr(res_boost, y_test)[0])\n",
    "pearsonr(a*res_boost+(1-a)*res, y_test)[0]\n",
    "\"\"\""
   ]
  },
  {
   "cell_type": "code",
   "execution_count": 33,
   "id": "dfb2ab9f",
   "metadata": {
    "execution": {
     "iopub.execute_input": "2022-04-04T15:35:08.974807Z",
     "iopub.status.busy": "2022-04-04T15:35:08.973986Z",
     "iopub.status.idle": "2022-04-04T15:35:09.295242Z",
     "shell.execute_reply": "2022-04-04T15:35:09.294408Z"
    },
    "papermill": {
     "duration": 0.404106,
     "end_time": "2022-04-04T15:35:09.295382",
     "exception": false,
     "start_time": "2022-04-04T15:35:08.891276",
     "status": "completed"
    },
    "tags": []
   },
   "outputs": [
    {
     "name": "stdout",
     "output_type": "stream",
     "text": [
      "This version of the API is not optimized and should not be used to estimate the runtime of your code on the hidden test set.\n"
     ]
    }
   ],
   "source": [
    "import ubiquant\n",
    "env = ubiquant.make_env()   # initialize the environment\n",
    "iter_test = env.iter_test()    # an iterator which loops over the test set and sample submission\n",
    "for (test_df, sample_prediction_df) in iter_test:\n",
    "    res_1 = nn_model.predict(test_df[features])\n",
    "    res_2 = nn_model_1.predict(test_df[features])\n",
    "    res_nn = 0.8*res_1 + 0.2*res_2\n",
    "    res_boost = model.predict(test_df[features])\n",
    "    \n",
    "    test_df['target']  = 0.75*res_boost + 0.25*res_nn\n",
    "    env.predict(test_df[['row_id','target']])"
   ]
  },
  {
   "cell_type": "code",
   "execution_count": null,
   "id": "a95430a7",
   "metadata": {
    "execution": {
     "iopub.execute_input": "2022-03-27T14:44:24.228544Z",
     "iopub.status.busy": "2022-03-27T14:44:24.22746Z",
     "iopub.status.idle": "2022-03-27T14:44:24.243794Z",
     "shell.execute_reply": "2022-03-27T14:44:24.243089Z",
     "shell.execute_reply.started": "2022-03-27T14:44:24.228476Z"
    },
    "papermill": {
     "duration": 0.053426,
     "end_time": "2022-04-04T15:35:09.404660",
     "exception": false,
     "start_time": "2022-04-04T15:35:09.351234",
     "status": "completed"
    },
    "tags": []
   },
   "outputs": [],
   "source": []
  },
  {
   "cell_type": "code",
   "execution_count": null,
   "id": "5fff3a11",
   "metadata": {
    "execution": {
     "iopub.execute_input": "2022-03-27T14:43:19.018371Z",
     "iopub.status.busy": "2022-03-27T14:43:19.01783Z",
     "iopub.status.idle": "2022-03-27T14:43:19.023314Z",
     "shell.execute_reply": "2022-03-27T14:43:19.022464Z",
     "shell.execute_reply.started": "2022-03-27T14:43:19.018335Z"
    },
    "papermill": {
     "duration": 0.052053,
     "end_time": "2022-04-04T15:35:09.508368",
     "exception": false,
     "start_time": "2022-04-04T15:35:09.456315",
     "status": "completed"
    },
    "tags": []
   },
   "outputs": [],
   "source": []
  },
  {
   "cell_type": "code",
   "execution_count": 34,
   "id": "6481ccee",
   "metadata": {
    "execution": {
     "iopub.execute_input": "2022-04-04T15:35:09.617837Z",
     "iopub.status.busy": "2022-04-04T15:35:09.616635Z",
     "iopub.status.idle": "2022-04-04T15:35:09.620221Z",
     "shell.execute_reply": "2022-04-04T15:35:09.619770Z",
     "shell.execute_reply.started": "2022-03-27T14:43:24.140623Z"
    },
    "papermill": {
     "duration": 0.06007,
     "end_time": "2022-04-04T15:35:09.620328",
     "exception": false,
     "start_time": "2022-04-04T15:35:09.560258",
     "status": "completed"
    },
    "tags": []
   },
   "outputs": [
    {
     "data": {
      "text/plain": [
       "0.902"
      ]
     },
     "execution_count": 34,
     "metadata": {},
     "output_type": "execute_result"
    }
   ],
   "source": [
    ".902"
   ]
  },
  {
   "cell_type": "code",
   "execution_count": null,
   "id": "fd4e741b",
   "metadata": {
    "papermill": {
     "duration": 0.05292,
     "end_time": "2022-04-04T15:35:09.724984",
     "exception": false,
     "start_time": "2022-04-04T15:35:09.672064",
     "status": "completed"
    },
    "tags": []
   },
   "outputs": [],
   "source": []
  }
 ],
 "metadata": {
  "kernelspec": {
   "display_name": "Python 3",
   "language": "python",
   "name": "python3"
  },
  "language_info": {
   "codemirror_mode": {
    "name": "ipython",
    "version": 3
   },
   "file_extension": ".py",
   "mimetype": "text/x-python",
   "name": "python",
   "nbconvert_exporter": "python",
   "pygments_lexer": "ipython3",
   "version": "3.7.12"
  },
  "papermill": {
   "default_parameters": {},
   "duration": 5175.093728,
   "end_time": "2022-04-04T15:35:11.300243",
   "environment_variables": {},
   "exception": null,
   "input_path": "__notebook__.ipynb",
   "output_path": "__notebook__.ipynb",
   "parameters": {},
   "start_time": "2022-04-04T14:08:56.206515",
   "version": "2.3.3"
  }
 },
 "nbformat": 4,
 "nbformat_minor": 5
}
