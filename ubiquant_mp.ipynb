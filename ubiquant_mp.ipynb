{
 "cells": [
  {
   "cell_type": "code",
   "execution_count": 1,
   "id": "2cbb7953",
   "metadata": {
    "_cell_guid": "b1076dfc-b9ad-4769-8c92-a6c4dae69d19",
    "_uuid": "8f2839f25d086af736a60e9eeb907d3b93b6e0e5",
    "execution": {
     "iopub.execute_input": "2022-04-02T16:50:20.766677Z",
     "iopub.status.busy": "2022-04-02T16:50:20.765189Z",
     "iopub.status.idle": "2022-04-02T16:50:22.866702Z",
     "shell.execute_reply": "2022-04-02T16:50:22.865693Z",
     "shell.execute_reply.started": "2022-04-02T14:33:51.887565Z"
    },
    "papermill": {
     "duration": 2.135346,
     "end_time": "2022-04-02T16:50:22.866871",
     "exception": false,
     "start_time": "2022-04-02T16:50:20.731525",
     "status": "completed"
    },
    "tags": []
   },
   "outputs": [],
   "source": [
    "import numpy as np\n",
    "import pandas as pd\n",
    "import matplotlib.pyplot as plt\n",
    "%matplotlib inline\n",
    "import seaborn as sns\n",
    "import torch"
   ]
  },
  {
   "cell_type": "code",
   "execution_count": 2,
   "id": "225cee5e",
   "metadata": {
    "execution": {
     "iopub.execute_input": "2022-04-02T16:50:22.934147Z",
     "iopub.status.busy": "2022-04-02T16:50:22.932478Z",
     "iopub.status.idle": "2022-04-02T16:50:22.934780Z",
     "shell.execute_reply": "2022-04-02T16:50:22.935177Z",
     "shell.execute_reply.started": "2022-04-02T14:33:53.904505Z"
    },
    "papermill": {
     "duration": 0.036711,
     "end_time": "2022-04-02T16:50:22.935302",
     "exception": false,
     "start_time": "2022-04-02T16:50:22.898591",
     "status": "completed"
    },
    "tags": []
   },
   "outputs": [],
   "source": [
    "data_types_dict = {\n",
    "    'time_id': 'int32',\n",
    "    'investment_id': 'int16',\n",
    "    \"target\": 'float16',\n",
    "}\n",
    "\n",
    "features = [f'f_{i}' for i in range(300)]\n",
    "\n",
    "for f in features:\n",
    "    data_types_dict[f] = 'float16'"
   ]
  },
  {
   "cell_type": "code",
   "execution_count": 3,
   "id": "b13c5dfa",
   "metadata": {
    "execution": {
     "iopub.execute_input": "2022-04-02T16:50:22.998359Z",
     "iopub.status.busy": "2022-04-02T16:50:22.997571Z",
     "iopub.status.idle": "2022-04-02T16:50:23.015641Z",
     "shell.execute_reply": "2022-04-02T16:50:23.016051Z",
     "shell.execute_reply.started": "2022-04-02T14:33:56.648426Z"
    },
    "papermill": {
     "duration": 0.051998,
     "end_time": "2022-04-02T16:50:23.016174",
     "exception": false,
     "start_time": "2022-04-02T16:50:22.964176",
     "status": "completed"
    },
    "tags": []
   },
   "outputs": [],
   "source": [
    "data = pd.read_csv('../input/ubiquant-market-prediction/train.csv', \n",
    "                       usecols = data_types_dict.keys(),\n",
    "                       dtype=data_types_dict,\n",
    "                       index_col = 0, chunksize = 3141410) #3141410"
   ]
  },
  {
   "cell_type": "code",
   "execution_count": 4,
   "id": "1394ffa3",
   "metadata": {
    "execution": {
     "iopub.execute_input": "2022-04-02T16:50:23.077916Z",
     "iopub.status.busy": "2022-04-02T16:50:23.077193Z",
     "iopub.status.idle": "2022-04-02T16:56:55.653967Z",
     "shell.execute_reply": "2022-04-02T16:56:55.653479Z",
     "shell.execute_reply.started": "2022-04-02T14:33:57.940127Z"
    },
    "papermill": {
     "duration": 392.608672,
     "end_time": "2022-04-02T16:56:55.654106",
     "exception": false,
     "start_time": "2022-04-02T16:50:23.045434",
     "status": "completed"
    },
    "tags": []
   },
   "outputs": [
    {
     "name": "stderr",
     "output_type": "stream",
     "text": [
      "/opt/conda/lib/python3.7/site-packages/numpy/lib/arraysetops.py:583: FutureWarning: elementwise comparison failed; returning scalar instead, but in the future will perform elementwise comparison\n",
      "  mask |= (ar1 == a)\n"
     ]
    }
   ],
   "source": [
    "data = next(iter(data))"
   ]
  },
  {
   "cell_type": "code",
   "execution_count": 5,
   "id": "02e3de77",
   "metadata": {
    "execution": {
     "iopub.execute_input": "2022-04-02T16:56:55.723066Z",
     "iopub.status.busy": "2022-04-02T16:56:55.719315Z",
     "iopub.status.idle": "2022-04-02T16:56:59.181152Z",
     "shell.execute_reply": "2022-04-02T16:56:59.181666Z",
     "shell.execute_reply.started": "2022-04-02T14:40:05.908312Z"
    },
    "papermill": {
     "duration": 3.497868,
     "end_time": "2022-04-02T16:56:59.181847",
     "exception": false,
     "start_time": "2022-04-02T16:56:55.683979",
     "status": "completed"
    },
    "tags": []
   },
   "outputs": [],
   "source": [
    "target = data['target']\n",
    "data.drop(['target', 'investment_id'], inplace=True, axis=1)"
   ]
  },
  {
   "cell_type": "code",
   "execution_count": 6,
   "id": "29be1aad",
   "metadata": {
    "execution": {
     "iopub.execute_input": "2022-04-02T16:56:59.244168Z",
     "iopub.status.busy": "2022-04-02T16:56:59.243669Z",
     "iopub.status.idle": "2022-04-02T16:56:59.247594Z",
     "shell.execute_reply": "2022-04-02T16:56:59.247122Z",
     "shell.execute_reply.started": "2022-04-02T14:41:15.171581Z"
    },
    "papermill": {
     "duration": 0.036078,
     "end_time": "2022-04-02T16:56:59.247704",
     "exception": false,
     "start_time": "2022-04-02T16:56:59.211626",
     "status": "completed"
    },
    "tags": []
   },
   "outputs": [],
   "source": [
    "#from scipy.stats import pearsonr \n",
    "#def est_score(model):\n",
    " #   y_pred = model.predict(X_test)\n",
    " #   return pearsonr(y_pred, y_test)[0]"
   ]
  },
  {
   "cell_type": "code",
   "execution_count": 7,
   "id": "5925b3d0",
   "metadata": {
    "execution": {
     "iopub.execute_input": "2022-04-02T16:56:59.308691Z",
     "iopub.status.busy": "2022-04-02T16:56:59.307997Z",
     "iopub.status.idle": "2022-04-02T16:56:59.310371Z",
     "shell.execute_reply": "2022-04-02T16:56:59.309940Z",
     "shell.execute_reply.started": "2022-04-02T14:41:19.197958Z"
    },
    "papermill": {
     "duration": 0.034417,
     "end_time": "2022-04-02T16:56:59.310475",
     "exception": false,
     "start_time": "2022-04-02T16:56:59.276058",
     "status": "completed"
    },
    "tags": []
   },
   "outputs": [],
   "source": [
    "#from sklearn.model_selection import TimeSeriesSplit"
   ]
  },
  {
   "cell_type": "code",
   "execution_count": 8,
   "id": "a5d26367",
   "metadata": {
    "execution": {
     "iopub.execute_input": "2022-04-02T16:56:59.371130Z",
     "iopub.status.busy": "2022-04-02T16:56:59.370399Z",
     "iopub.status.idle": "2022-04-02T16:56:59.372696Z",
     "shell.execute_reply": "2022-04-02T16:56:59.372264Z",
     "shell.execute_reply.started": "2022-04-02T14:41:44.144913Z"
    },
    "papermill": {
     "duration": 0.03368,
     "end_time": "2022-04-02T16:56:59.372798",
     "exception": false,
     "start_time": "2022-04-02T16:56:59.339118",
     "status": "completed"
    },
    "tags": []
   },
   "outputs": [],
   "source": [
    "#from sklearn.model_selection import train_test_split\n",
    "#X_train, X_test, y_train, y_test = train_test_split(data, target, test_size=0.1, stratify=data.index)"
   ]
  },
  {
   "cell_type": "code",
   "execution_count": 9,
   "id": "ea3b0d99",
   "metadata": {
    "execution": {
     "iopub.execute_input": "2022-04-02T16:56:59.433573Z",
     "iopub.status.busy": "2022-04-02T16:56:59.432948Z",
     "iopub.status.idle": "2022-04-02T16:56:59.435202Z",
     "shell.execute_reply": "2022-04-02T16:56:59.435591Z",
     "shell.execute_reply.started": "2022-04-02T14:42:22.208643Z"
    },
    "papermill": {
     "duration": 0.033704,
     "end_time": "2022-04-02T16:56:59.435716",
     "exception": false,
     "start_time": "2022-04-02T16:56:59.402012",
     "status": "completed"
    },
    "tags": []
   },
   "outputs": [],
   "source": [
    "#del data, target"
   ]
  },
  {
   "cell_type": "code",
   "execution_count": 10,
   "id": "eed15ea7",
   "metadata": {
    "execution": {
     "iopub.execute_input": "2022-04-02T16:56:59.496469Z",
     "iopub.status.busy": "2022-04-02T16:56:59.495757Z",
     "iopub.status.idle": "2022-04-02T16:56:59.497672Z",
     "shell.execute_reply": "2022-04-02T16:56:59.498034Z",
     "shell.execute_reply.started": "2022-04-02T14:43:19.999255Z"
    },
    "papermill": {
     "duration": 0.033546,
     "end_time": "2022-04-02T16:56:59.498147",
     "exception": false,
     "start_time": "2022-04-02T16:56:59.464601",
     "status": "completed"
    },
    "tags": []
   },
   "outputs": [],
   "source": [
    "#from sklearn.linear_model import LinearRegression\n",
    "#reg_model = LinearRegression(copy_X=False).fit(X_train, y_train)"
   ]
  },
  {
   "cell_type": "code",
   "execution_count": 11,
   "id": "66cc501c",
   "metadata": {
    "execution": {
     "iopub.execute_input": "2022-04-02T16:56:59.558512Z",
     "iopub.status.busy": "2022-04-02T16:56:59.557916Z",
     "iopub.status.idle": "2022-04-02T16:56:59.560453Z",
     "shell.execute_reply": "2022-04-02T16:56:59.560043Z",
     "shell.execute_reply.started": "2022-04-02T14:44:31.901857Z"
    },
    "papermill": {
     "duration": 0.033808,
     "end_time": "2022-04-02T16:56:59.560558",
     "exception": false,
     "start_time": "2022-04-02T16:56:59.526750",
     "status": "completed"
    },
    "tags": []
   },
   "outputs": [],
   "source": [
    "#est_score(reg_model)"
   ]
  },
  {
   "cell_type": "code",
   "execution_count": 12,
   "id": "43d12595",
   "metadata": {
    "execution": {
     "iopub.execute_input": "2022-04-02T16:56:59.713872Z",
     "iopub.status.busy": "2022-04-02T16:56:59.712791Z",
     "iopub.status.idle": "2022-04-02T16:56:59.733208Z",
     "shell.execute_reply": "2022-04-02T16:56:59.732354Z",
     "shell.execute_reply.started": "2022-04-02T14:44:38.420203Z"
    },
    "papermill": {
     "duration": 0.144328,
     "end_time": "2022-04-02T16:56:59.733410",
     "exception": false,
     "start_time": "2022-04-02T16:56:59.589082",
     "status": "completed"
    },
    "tags": []
   },
   "outputs": [],
   "source": [
    "device = torch.device('cuda') if torch.cuda.is_available() else torch.device('cpu')\n",
    "\n",
    "def move_to(data, device):\n",
    "    \"\"\"\n",
    "    moving data to device\n",
    "    :param data: data to move\n",
    "    :param device: device\n",
    "    :return: moved data\n",
    "    \"\"\"\n",
    "    if isinstance(data, (list, tuple)):\n",
    "        return [move_to(x, device) for x in data]\n",
    "    return data.to(device, non_blocking=True)"
   ]
  },
  {
   "cell_type": "code",
   "execution_count": 13,
   "id": "4d0b3fce",
   "metadata": {
    "execution": {
     "iopub.execute_input": "2022-04-02T16:56:59.869106Z",
     "iopub.status.busy": "2022-04-02T16:56:59.867698Z",
     "iopub.status.idle": "2022-04-02T16:56:59.871913Z",
     "shell.execute_reply": "2022-04-02T16:56:59.872473Z",
     "shell.execute_reply.started": "2022-04-02T14:44:38.844007Z"
    },
    "papermill": {
     "duration": 0.086406,
     "end_time": "2022-04-02T16:56:59.872656",
     "exception": false,
     "start_time": "2022-04-02T16:56:59.786250",
     "status": "completed"
    },
    "tags": []
   },
   "outputs": [],
   "source": [
    "class DNN_Model(torch.nn.Module):\n",
    "    def __init__(self, deep_size):\n",
    "        super().__init__()\n",
    "        self.linear_1 = torch.nn.Linear(300, deep_size)\n",
    "        self.linear_2 = torch.nn.Linear(deep_size, deep_size)\n",
    "        self.linear_3 = torch.nn.Linear(deep_size, deep_size)\n",
    "        self.linear_4 = torch.nn.Linear(deep_size, deep_size)\n",
    "        self.linear_5 = torch.nn.Linear(deep_size, int(deep_size/3.5))\n",
    "        self.linear_6 = torch.nn.Linear(int(deep_size/3.5), 1)\n",
    "        self.dout = torch.nn.Dropout(p=0.7)\n",
    "        self.act = torch.nn.SiLU()\n",
    "    def fit(self, X, y, iters, batch_size = 4096, subset = 0.8, silent=False, plot=False, val=False, X_val=None, y_val=None):\n",
    "        self = move_to(self, device)\n",
    "        if val:\n",
    "            tensor_train_val = move_to(torch.FloatTensor(X_val.values), device)\n",
    "            tensor_y_val = move_to(torch.FloatTensor(y_val.values), device)\n",
    "        scores_train = []\n",
    "        scores_val = []\n",
    "        \n",
    "        opt = torch.optim.Adam(self.parameters(), lr=5e-4)\n",
    "        \n",
    "        if subset == 1:\n",
    "            shift_subset = 0\n",
    "        else:\n",
    "            shift_subset = np.random.randint(0, y.shape[0]-int(y.shape[0]*subset))\n",
    "        \n",
    "        for epoch in range(iters):\n",
    "            i = 0\n",
    "            #learning cycle\n",
    "            while i + batch_size < y.shape[0]:   \n",
    "                self.train()\n",
    "                self.zero_grad()\n",
    "                X_tensor = move_to(torch.FloatTensor(X.iloc[shift_subset+i:shift_subset+i+batch_size, :].values), device)\n",
    "                y_tensor = move_to(torch.FloatTensor(y[shift_subset+i:shift_subset+i+batch_size].values), device)\n",
    "                loss = torch.nn.MSELoss()(self.tensor_forward(X_tensor).view(-1), y_tensor)\n",
    "                loss.backward()\n",
    "                opt.step()\n",
    "                i+=batch_size\n",
    "                \n",
    "            #prints\n",
    "            if val:\n",
    "                self.eval()\n",
    "                val_loss = torch.nn.MSELoss()(self.tensor_forward(tensor_train_val).view(-1), tensor_y_val)\n",
    "                scores_val.append(float(val_loss.detach()))\n",
    "            scores_train.append(float(loss.detach()))\n",
    "            \n",
    "            if not silent:\n",
    "                print(f'epoch {epoch} finished with {loss} loss')\n",
    "                if val:\n",
    "                    print(f'val loss {val_loss}')\n",
    "                \n",
    "            \n",
    "        if not silent:\n",
    "            print(f'Finished with {loss} loss')\n",
    "        if plot:\n",
    "            if val:\n",
    "                sns.lineplot(x=range(iters), y=scores_train, label='train')\n",
    "                sns.lineplot(x=range(iters), y=scores_val, label='val')\n",
    "            else:\n",
    "                sns.lineplot(scores_train)\n",
    "            plt.plot()\n",
    "                \n",
    "    def tensor_forward(self, X_tensor):\n",
    "        X_tensor = move_to(X_tensor, device)\n",
    "        tensor_X = self.act(self.linear_1(X_tensor))\n",
    "        tensor_X = self.act(self.linear_2(tensor_X))\n",
    "        tensor_X = self.dout(tensor_X)\n",
    "        tensor_X = self.act(self.linear_3(tensor_X))\n",
    "        \n",
    "        tensor_X = self.act(self.linear_4(tensor_X))\n",
    "        tensor_X = self.dout(tensor_X)\n",
    "        tensor_X = self.act(self.linear_5(tensor_X))\n",
    "        tensor_X = self.linear_6(tensor_X)\n",
    "        return tensor_X \n",
    "\n",
    "    def forward(self, X):\n",
    "        tensor_X = torch.FloatTensor(X.values)\n",
    "        tensor_X = move_to(tensor_X, device)\n",
    "        tensor_X = self.act(self.linear_1(tensor_X))\n",
    "        tensor_X = self.act(self.linear_2(tensor_X))\n",
    "        tensor_X = self.dout(tensor_X)\n",
    "        tensor_X = self.act(self.linear_3(tensor_X))\n",
    "        \n",
    "        tensor_X = self.act(self.linear_4(tensor_X))\n",
    "        tensor_X = self.dout(tensor_X)\n",
    "        tensor_X = self.act(self.linear_5(tensor_X))\n",
    "        tensor_X = self.linear_6(tensor_X)\n",
    "        return tensor_X"
   ]
  },
  {
   "cell_type": "code",
   "execution_count": 14,
   "id": "7c628cac",
   "metadata": {
    "execution": {
     "iopub.execute_input": "2022-04-02T16:56:59.997328Z",
     "iopub.status.busy": "2022-04-02T16:56:59.980671Z",
     "iopub.status.idle": "2022-04-02T16:57:00.000777Z",
     "shell.execute_reply": "2022-04-02T16:57:00.001691Z",
     "shell.execute_reply.started": "2022-04-02T14:44:43.579331Z"
    },
    "papermill": {
     "duration": 0.081977,
     "end_time": "2022-04-02T16:57:00.001865",
     "exception": false,
     "start_time": "2022-04-02T16:56:59.919888",
     "status": "completed"
    },
    "tags": []
   },
   "outputs": [],
   "source": [
    "class DNN_Model_1(torch.nn.Module):\n",
    "    def __init__(self, deep_size):\n",
    "        super().__init__()\n",
    "        half_deep = int(deep_size/2)\n",
    "        quot_deep = int(half_deep/2)\n",
    "        self.linear_1 = torch.nn.Linear(300, deep_size)\n",
    "        self.linear_2 = torch.nn.Linear(deep_size, deep_size)\n",
    "        self.linear_3 = torch.nn.Linear(deep_size, 1)\n",
    "        \n",
    "        self.small_dout = torch.nn.Dropout(p=0.35)\n",
    "        self.dout = torch.nn.Dropout(p=0.7)\n",
    "        self.act = torch.nn.SiLU()\n",
    "        \n",
    "    def fit(self, X, y, iters, batch_size = 4096, subset = 0.8, silent=False, plot=False, val=False, X_val=None, y_val=None):\n",
    "        self = move_to(self, device)\n",
    "        if val:\n",
    "            tensor_train_val = move_to(torch.FloatTensor(X_val.values), device)\n",
    "            tensor_y_val = move_to(torch.FloatTensor(y_val.values), device)\n",
    "        scores_train = []\n",
    "        scores_val = []\n",
    "        \n",
    "        opt = torch.optim.Adam(self.parameters(), lr=5e-4)\n",
    "        \n",
    "        if subset == 1:\n",
    "            shift_subset = 0\n",
    "        else:\n",
    "            shift_subset = np.random.randint(0, y.shape[0]-int(y.shape[0]*subset))\n",
    "        \n",
    "        for epoch in range(iters):\n",
    "            i = 0\n",
    "            #learning cycle\n",
    "            while i + batch_size < y.shape[0]:\n",
    "                self.train()\n",
    "                self.zero_grad()\n",
    "                X_tensor = move_to(torch.FloatTensor(X.iloc[shift_subset+i:shift_subset+i+batch_size, :].values), device)\n",
    "                y_tensor = move_to(torch.FloatTensor(y[shift_subset+i:shift_subset+i+batch_size].values), device)\n",
    "                loss = torch.nn.MSELoss()(self.tensor_forward(X_tensor).view(-1), y_tensor)\n",
    "                loss.backward()\n",
    "                opt.step()\n",
    "                i+=batch_size\n",
    "                \n",
    "            #prints\n",
    "            if val:\n",
    "                self.eval()\n",
    "                val_loss = torch.nn.MSELoss()(self.tensor_forward(tensor_train_val).view(-1), tensor_y_val)\n",
    "                scores_val.append(float(val_loss.detach()))\n",
    "            scores_train.append(float(loss.detach()))\n",
    "            \n",
    "            if not silent:\n",
    "                print(f'epoch {epoch} finished with {loss} loss')\n",
    "                if val:\n",
    "                    print(f'val loss {val_loss}')\n",
    "                \n",
    "            \n",
    "        if not silent:\n",
    "            print(f'Finished with {loss} loss')\n",
    "        if plot:\n",
    "            if val:\n",
    "                sns.lineplot(x=range(iters), y=scores_train, label='train')\n",
    "                sns.lineplot(x=range(iters), y=scores_val, label='val')\n",
    "            else:\n",
    "                sns.lineplot(scores_train)\n",
    "            plt.plot()\n",
    "                \n",
    "    def tensor_forward(self, X_tensor):\n",
    "        X_tensor = move_to(X_tensor.view(X_tensor.shape[0], 1, -1), device)\n",
    "        tensor_X = self.act(self.linear_1(X_tensor))\n",
    "        tensor_X = self.dout(tensor_X)\n",
    "        tensor_X = self.act(self.linear_2(tensor_X))\n",
    "        tensor_X = self.act(self.linear_3(tensor_X))\n",
    "        return tensor_X\n",
    "    \n",
    "\n",
    "    def forward(self, X):\n",
    "        tensor_X = torch.FloatTensor(X.values)\n",
    "        tensor_X = move_to(tensor_X.view(tensor_X.shape[0], 1, -1), device)\n",
    "        tensor_X = self.act(self.linear_1(tensor_X))\n",
    "        tensor_X = self.dout(tensor_X)\n",
    "        tensor_X = self.act(self.linear_2(tensor_X))\n",
    "        \n",
    "        tensor_X = self.act(self.linear_3(tensor_X))\n",
    "        return tensor_X"
   ]
  },
  {
   "cell_type": "code",
   "execution_count": 15,
   "id": "afcd3ed4",
   "metadata": {
    "execution": {
     "iopub.execute_input": "2022-04-02T16:57:00.113595Z",
     "iopub.status.busy": "2022-04-02T16:57:00.112796Z",
     "iopub.status.idle": "2022-04-02T16:57:00.118595Z",
     "shell.execute_reply": "2022-04-02T16:57:00.119533Z",
     "shell.execute_reply.started": "2022-04-02T14:44:43.980025Z"
    },
    "papermill": {
     "duration": 0.066485,
     "end_time": "2022-04-02T16:57:00.119710",
     "exception": false,
     "start_time": "2022-04-02T16:57:00.053225",
     "status": "completed"
    },
    "tags": []
   },
   "outputs": [],
   "source": [
    "class StackedDNN:\n",
    "    def __init__(self, n, model=None, min_deep=30, max_deep=40):\n",
    "        if model == None:\n",
    "            raise Exception('No model selected')\n",
    "        self.nets = [model(np.random.randint(min_deep, max_deep)) for i in range(n)]\n",
    "    \n",
    "    def fit(self, X, y, min_iter=10, max_iter=15, batch_size=4096, subset=1):\n",
    "        for i in range(len(self.nets)):\n",
    "            self.nets[i].fit(X, y, np.random.randint(min_iter, max_iter), batch_size, subset, silent=True)\n",
    "            print(f'{i}/{len(self.nets)-1} fitted')\n",
    "        \n",
    "    def predict(self, X):\n",
    "        y_pred = np.ndarray([len(self.nets), X.shape[0]])\n",
    "        for i in range(len(self.nets)):\n",
    "            self.nets[i].eval()\n",
    "            y_pred[i] = np.array(self.nets[i].forward(X).detach().view(-1).cpu())\n",
    "        y_pred /= len(self.nets)\n",
    "        return np.sum(y_pred, axis=0)"
   ]
  },
  {
   "cell_type": "code",
   "execution_count": 16,
   "id": "580d1a77",
   "metadata": {
    "execution": {
     "iopub.execute_input": "2022-04-02T16:57:00.220506Z",
     "iopub.status.busy": "2022-04-02T16:57:00.219779Z",
     "iopub.status.idle": "2022-04-02T17:13:01.996926Z",
     "shell.execute_reply": "2022-04-02T17:13:01.997387Z",
     "shell.execute_reply.started": "2022-04-02T15:05:50.171838Z"
    },
    "papermill": {
     "duration": 961.828858,
     "end_time": "2022-04-02T17:13:01.997540",
     "exception": false,
     "start_time": "2022-04-02T16:57:00.168682",
     "status": "completed"
    },
    "tags": []
   },
   "outputs": [
    {
     "name": "stdout",
     "output_type": "stream",
     "text": [
      "0/9 fitted\n",
      "1/9 fitted\n",
      "2/9 fitted\n",
      "3/9 fitted\n",
      "4/9 fitted\n",
      "5/9 fitted\n",
      "6/9 fitted\n",
      "7/9 fitted\n",
      "8/9 fitted\n",
      "9/9 fitted\n"
     ]
    }
   ],
   "source": [
    "nn_model = StackedDNN(10, model=DNN_Model, min_deep=289, max_deep=300)\n",
    "nn_model.fit(data, target, min_iter=20, max_iter=30, batch_size=4096*10)\n",
    "\n",
    "#nn_model = StackedDNN(1, model=DNN_Model, min_deep=100, max_deep=120)\n",
    "#nn_model.fit(X_train, y_train, min_iter=35, max_iter=38, batch_size=4096*10)\n"
   ]
  },
  {
   "cell_type": "code",
   "execution_count": 17,
   "id": "e03d433b",
   "metadata": {
    "execution": {
     "iopub.execute_input": "2022-04-02T17:13:02.065473Z",
     "iopub.status.busy": "2022-04-02T17:13:02.064777Z",
     "iopub.status.idle": "2022-04-02T17:13:02.067149Z",
     "shell.execute_reply": "2022-04-02T17:13:02.066768Z",
     "shell.execute_reply.started": "2022-04-02T15:08:09.071404Z"
    },
    "papermill": {
     "duration": 0.037663,
     "end_time": "2022-04-02T17:13:02.067251",
     "exception": false,
     "start_time": "2022-04-02T17:13:02.029588",
     "status": "completed"
    },
    "tags": []
   },
   "outputs": [],
   "source": [
    "#res = nn_model.predict(X_test)\n",
    "#print(pearsonr(res, y_test)[0])"
   ]
  },
  {
   "cell_type": "code",
   "execution_count": 18,
   "id": "e4c8b6a1",
   "metadata": {
    "execution": {
     "iopub.execute_input": "2022-04-02T17:13:02.134950Z",
     "iopub.status.busy": "2022-04-02T17:13:02.134229Z",
     "iopub.status.idle": "2022-04-02T17:26:43.448862Z",
     "shell.execute_reply": "2022-04-02T17:26:43.449310Z",
     "shell.execute_reply.started": "2022-04-02T15:08:33.432147Z"
    },
    "papermill": {
     "duration": 821.350677,
     "end_time": "2022-04-02T17:26:43.449482",
     "exception": false,
     "start_time": "2022-04-02T17:13:02.098805",
     "status": "completed"
    },
    "tags": []
   },
   "outputs": [
    {
     "name": "stdout",
     "output_type": "stream",
     "text": [
      "0/9 fitted\n",
      "1/9 fitted\n",
      "2/9 fitted\n",
      "3/9 fitted\n",
      "4/9 fitted\n",
      "5/9 fitted\n",
      "6/9 fitted\n",
      "7/9 fitted\n",
      "8/9 fitted\n",
      "9/9 fitted\n"
     ]
    }
   ],
   "source": [
    "nn_model_1 = StackedDNN(10, model=DNN_Model_1, min_deep=289, max_deep=300)\n",
    "nn_model_1.fit(data, target, min_iter=20, max_iter=22, batch_size=4096*5)"
   ]
  },
  {
   "cell_type": "code",
   "execution_count": 19,
   "id": "3964ec32",
   "metadata": {
    "execution": {
     "iopub.execute_input": "2022-04-02T17:26:43.522562Z",
     "iopub.status.busy": "2022-04-02T17:26:43.521863Z",
     "iopub.status.idle": "2022-04-02T17:26:43.524078Z",
     "shell.execute_reply": "2022-04-02T17:26:43.524513Z",
     "shell.execute_reply.started": "2022-04-02T15:10:23.457878Z"
    },
    "papermill": {
     "duration": 0.040452,
     "end_time": "2022-04-02T17:26:43.524650",
     "exception": false,
     "start_time": "2022-04-02T17:26:43.484198",
     "status": "completed"
    },
    "tags": []
   },
   "outputs": [],
   "source": [
    "#res_1 = nn_model_1.predict(X_test)\n",
    "#print(pearsonr(res_1, y_test)[0])"
   ]
  },
  {
   "cell_type": "code",
   "execution_count": 20,
   "id": "32c6e36c",
   "metadata": {
    "execution": {
     "iopub.execute_input": "2022-04-02T17:26:43.597551Z",
     "iopub.status.busy": "2022-04-02T17:26:43.596683Z",
     "iopub.status.idle": "2022-04-02T17:26:43.599406Z",
     "shell.execute_reply": "2022-04-02T17:26:43.598923Z",
     "shell.execute_reply.started": "2022-04-02T15:10:28.107928Z"
    },
    "papermill": {
     "duration": 0.040154,
     "end_time": "2022-04-02T17:26:43.599510",
     "exception": false,
     "start_time": "2022-04-02T17:26:43.559356",
     "status": "completed"
    },
    "tags": []
   },
   "outputs": [],
   "source": [
    "#res = nn_model.predict(X_test)\n",
    "#res_1 = nn_model_1.predict(X_test)"
   ]
  },
  {
   "cell_type": "code",
   "execution_count": 21,
   "id": "737dfb15",
   "metadata": {
    "execution": {
     "iopub.execute_input": "2022-04-02T17:26:43.672923Z",
     "iopub.status.busy": "2022-04-02T17:26:43.672125Z",
     "iopub.status.idle": "2022-04-02T17:26:43.673895Z",
     "shell.execute_reply": "2022-04-02T17:26:43.674289Z",
     "shell.execute_reply.started": "2022-04-02T15:10:52.135017Z"
    },
    "papermill": {
     "duration": 0.040273,
     "end_time": "2022-04-02T17:26:43.674431",
     "exception": false,
     "start_time": "2022-04-02T17:26:43.634158",
     "status": "completed"
    },
    "tags": []
   },
   "outputs": [],
   "source": [
    "#a = 0.5\n",
    "\n",
    "#print(pearsonr(res, y_test)[0])\n",
    "#print(pearsonr(res_1, y_test)[0])\n",
    "#print(pearsonr(a*res + (1-a)*res_1, y_test)[0])\n",
    "#0.185525751867734 single\n",
    "#0.18855076782948865 -2\n",
    "#0.1925553136005383 -5\n",
    "#0.1904118171465486 -10\n",
    "\n",
    "#несмотря на то что model_1 явно хуже model, результат композиции превосходит их по отдельности\n",
    "#написать несколько сетей разной архитектуры, и улучшить предыдушие две\n",
    "\n",
    "#0.18803793483533365 res -1\n",
    "#0.16739222414637583 res_1 -1\n",
    "#0.19103148334509518 composition -1"
   ]
  },
  {
   "cell_type": "code",
   "execution_count": 22,
   "id": "e7017c71",
   "metadata": {
    "execution": {
     "iopub.execute_input": "2022-04-02T17:26:43.747047Z",
     "iopub.status.busy": "2022-04-02T17:26:43.746552Z",
     "iopub.status.idle": "2022-04-02T17:26:43.750046Z",
     "shell.execute_reply": "2022-04-02T17:26:43.749660Z",
     "shell.execute_reply.started": "2022-04-02T15:27:37.849944Z"
    },
    "papermill": {
     "duration": 0.040982,
     "end_time": "2022-04-02T17:26:43.750155",
     "exception": false,
     "start_time": "2022-04-02T17:26:43.709173",
     "status": "completed"
    },
    "tags": []
   },
   "outputs": [],
   "source": [
    "#res_2 = (res+res_1)/2"
   ]
  },
  {
   "cell_type": "markdown",
   "id": "da6fc3d5",
   "metadata": {
    "papermill": {
     "duration": 0.034254,
     "end_time": "2022-04-02T17:26:43.818975",
     "exception": false,
     "start_time": "2022-04-02T17:26:43.784721",
     "status": "completed"
    },
    "tags": []
   },
   "source": [
    "##### "
   ]
  },
  {
   "cell_type": "code",
   "execution_count": 23,
   "id": "893764d5",
   "metadata": {
    "execution": {
     "iopub.execute_input": "2022-04-02T17:26:43.892056Z",
     "iopub.status.busy": "2022-04-02T17:26:43.891572Z",
     "iopub.status.idle": "2022-04-02T17:42:44.681143Z",
     "shell.execute_reply": "2022-04-02T17:42:44.682183Z",
     "shell.execute_reply.started": "2022-04-02T15:11:08.064275Z"
    },
    "papermill": {
     "duration": 960.828452,
     "end_time": "2022-04-02T17:42:44.682414",
     "exception": false,
     "start_time": "2022-04-02T17:26:43.853962",
     "status": "completed"
    },
    "tags": []
   },
   "outputs": [],
   "source": [
    "from catboost import CatBoostRegressor\n",
    "model = CatBoostRegressor(iterations=10e3, task_type='GPU', devices='0', silent=True).fit(data, target)"
   ]
  },
  {
   "cell_type": "code",
   "execution_count": 24,
   "id": "54317396",
   "metadata": {
    "execution": {
     "iopub.execute_input": "2022-04-02T17:42:44.827183Z",
     "iopub.status.busy": "2022-04-02T17:42:44.825094Z",
     "iopub.status.idle": "2022-04-02T17:42:44.828436Z",
     "shell.execute_reply": "2022-04-02T17:42:44.826065Z",
     "shell.execute_reply.started": "2022-04-02T15:25:58.399235Z"
    },
    "papermill": {
     "duration": 0.09387,
     "end_time": "2022-04-02T17:42:44.828793",
     "exception": false,
     "start_time": "2022-04-02T17:42:44.734923",
     "status": "completed"
    },
    "tags": []
   },
   "outputs": [],
   "source": [
    "#est_score(model)"
   ]
  },
  {
   "cell_type": "code",
   "execution_count": 25,
   "id": "53094f03",
   "metadata": {
    "execution": {
     "iopub.execute_input": "2022-04-02T17:42:45.015535Z",
     "iopub.status.busy": "2022-04-02T17:42:45.014671Z",
     "iopub.status.idle": "2022-04-02T17:42:45.016821Z",
     "shell.execute_reply": "2022-04-02T17:42:45.016175Z",
     "shell.execute_reply.started": "2022-04-02T15:26:55.157309Z"
    },
    "papermill": {
     "duration": 0.103132,
     "end_time": "2022-04-02T17:42:45.016973",
     "exception": false,
     "start_time": "2022-04-02T17:42:44.913841",
     "status": "completed"
    },
    "tags": []
   },
   "outputs": [],
   "source": [
    "#boost_pred = model.predict(X_test)"
   ]
  },
  {
   "cell_type": "code",
   "execution_count": 26,
   "id": "212a28c3",
   "metadata": {
    "execution": {
     "iopub.execute_input": "2022-04-02T17:42:45.253417Z",
     "iopub.status.busy": "2022-04-02T17:42:45.244119Z",
     "iopub.status.idle": "2022-04-02T17:42:45.254127Z",
     "shell.execute_reply": "2022-04-02T17:42:45.244736Z",
     "shell.execute_reply.started": "2022-04-02T15:28:16.446814Z"
    },
    "papermill": {
     "duration": 0.13157,
     "end_time": "2022-04-02T17:42:45.254270",
     "exception": false,
     "start_time": "2022-04-02T17:42:45.122700",
     "status": "completed"
    },
    "tags": []
   },
   "outputs": [],
   "source": [
    "#a = 0.7\n",
    "#print(pearsonr(a*boost_pred + (1-a)*res_2, y_test)[0])"
   ]
  },
  {
   "cell_type": "markdown",
   "id": "8c3ada3c",
   "metadata": {
    "papermill": {
     "duration": 0.069322,
     "end_time": "2022-04-02T17:42:45.409846",
     "exception": false,
     "start_time": "2022-04-02T17:42:45.340524",
     "status": "completed"
    },
    "tags": []
   },
   "source": []
  },
  {
   "cell_type": "code",
   "execution_count": 27,
   "id": "975f2c26",
   "metadata": {
    "execution": {
     "iopub.execute_input": "2022-04-02T17:42:45.563838Z",
     "iopub.status.busy": "2022-04-02T17:42:45.562508Z",
     "iopub.status.idle": "2022-04-02T17:42:45.564528Z",
     "shell.execute_reply": "2022-04-02T17:42:45.563151Z"
    },
    "papermill": {
     "duration": 0.080633,
     "end_time": "2022-04-02T17:42:45.564678",
     "exception": false,
     "start_time": "2022-04-02T17:42:45.484045",
     "status": "completed"
    },
    "tags": []
   },
   "outputs": [],
   "source": [
    "#res_boost = model.predict(X_test)"
   ]
  },
  {
   "cell_type": "code",
   "execution_count": 28,
   "id": "a23db26c",
   "metadata": {
    "execution": {
     "iopub.execute_input": "2022-04-02T17:42:45.701939Z",
     "iopub.status.busy": "2022-04-02T17:42:45.701107Z",
     "iopub.status.idle": "2022-04-02T17:42:45.703229Z",
     "shell.execute_reply": "2022-04-02T17:42:45.702619Z",
     "shell.execute_reply.started": "2022-03-30T22:32:13.537101Z"
    },
    "papermill": {
     "duration": 0.063881,
     "end_time": "2022-04-02T17:42:45.703382",
     "exception": false,
     "start_time": "2022-04-02T17:42:45.639501",
     "status": "completed"
    },
    "tags": []
   },
   "outputs": [],
   "source": [
    "#a = 0.5\n",
    "#pearsonr(a*res_boost+(1-a)*res, y_test)[0]"
   ]
  },
  {
   "cell_type": "code",
   "execution_count": 29,
   "id": "8f7f45ba",
   "metadata": {
    "execution": {
     "iopub.execute_input": "2022-04-02T17:42:45.824743Z",
     "iopub.status.busy": "2022-04-02T17:42:45.823972Z",
     "iopub.status.idle": "2022-04-02T17:42:46.112558Z",
     "shell.execute_reply": "2022-04-02T17:42:46.111766Z"
    },
    "papermill": {
     "duration": 0.3528,
     "end_time": "2022-04-02T17:42:46.112712",
     "exception": false,
     "start_time": "2022-04-02T17:42:45.759912",
     "status": "completed"
    },
    "tags": []
   },
   "outputs": [
    {
     "name": "stdout",
     "output_type": "stream",
     "text": [
      "This version of the API is not optimized and should not be used to estimate the runtime of your code on the hidden test set.\n"
     ]
    }
   ],
   "source": [
    "import ubiquant\n",
    "env = ubiquant.make_env()   # initialize the environment\n",
    "iter_test = env.iter_test()    # an iterator which loops over the test set and sample submission\n",
    "for (test_df, sample_prediction_df) in iter_test:\n",
    "    res_boost = model.predict(test_df[features])\n",
    "    res_nn = nn_model.predict(test_df[features])\n",
    "    res_nn_1 = nn_model_1.predict(test_df[features])\n",
    "    test_df['target']  = 0.7*res_boost + 0.3*(res_nn + res_nn_1)/2\n",
    "    env.predict(test_df[['row_id','target']])"
   ]
  },
  {
   "cell_type": "code",
   "execution_count": null,
   "id": "a0a78677",
   "metadata": {
    "execution": {
     "iopub.execute_input": "2022-03-27T14:44:24.228544Z",
     "iopub.status.busy": "2022-03-27T14:44:24.22746Z",
     "iopub.status.idle": "2022-03-27T14:44:24.243794Z",
     "shell.execute_reply": "2022-03-27T14:44:24.243089Z",
     "shell.execute_reply.started": "2022-03-27T14:44:24.228476Z"
    },
    "papermill": {
     "duration": 0.03973,
     "end_time": "2022-04-02T17:42:46.193680",
     "exception": false,
     "start_time": "2022-04-02T17:42:46.153950",
     "status": "completed"
    },
    "tags": []
   },
   "outputs": [],
   "source": []
  },
  {
   "cell_type": "code",
   "execution_count": null,
   "id": "a830abec",
   "metadata": {
    "execution": {
     "iopub.execute_input": "2022-03-27T14:43:19.018371Z",
     "iopub.status.busy": "2022-03-27T14:43:19.01783Z",
     "iopub.status.idle": "2022-03-27T14:43:19.023314Z",
     "shell.execute_reply": "2022-03-27T14:43:19.022464Z",
     "shell.execute_reply.started": "2022-03-27T14:43:19.018335Z"
    },
    "papermill": {
     "duration": 0.035131,
     "end_time": "2022-04-02T17:42:46.266003",
     "exception": false,
     "start_time": "2022-04-02T17:42:46.230872",
     "status": "completed"
    },
    "tags": []
   },
   "outputs": [],
   "source": []
  },
  {
   "cell_type": "code",
   "execution_count": 30,
   "id": "eba047c7",
   "metadata": {
    "execution": {
     "iopub.execute_input": "2022-04-02T17:42:46.343874Z",
     "iopub.status.busy": "2022-04-02T17:42:46.342978Z",
     "iopub.status.idle": "2022-04-02T17:42:46.346634Z",
     "shell.execute_reply": "2022-04-02T17:42:46.347061Z",
     "shell.execute_reply.started": "2022-03-27T14:43:24.140623Z"
    },
    "papermill": {
     "duration": 0.045947,
     "end_time": "2022-04-02T17:42:46.347191",
     "exception": false,
     "start_time": "2022-04-02T17:42:46.301244",
     "status": "completed"
    },
    "tags": []
   },
   "outputs": [
    {
     "data": {
      "text/plain": [
       "0.902"
      ]
     },
     "execution_count": 30,
     "metadata": {},
     "output_type": "execute_result"
    }
   ],
   "source": [
    ".902"
   ]
  },
  {
   "cell_type": "code",
   "execution_count": null,
   "id": "5c9da409",
   "metadata": {
    "papermill": {
     "duration": 0.036053,
     "end_time": "2022-04-02T17:42:46.418915",
     "exception": false,
     "start_time": "2022-04-02T17:42:46.382862",
     "status": "completed"
    },
    "tags": []
   },
   "outputs": [],
   "source": []
  }
 ],
 "metadata": {
  "kernelspec": {
   "display_name": "Python 3",
   "language": "python",
   "name": "python3"
  },
  "language_info": {
   "codemirror_mode": {
    "name": "ipython",
    "version": 3
   },
   "file_extension": ".py",
   "mimetype": "text/x-python",
   "name": "python",
   "nbconvert_exporter": "python",
   "pygments_lexer": "ipython3",
   "version": "3.7.12"
  },
  "papermill": {
   "default_parameters": {},
   "duration": 3155.022647,
   "end_time": "2022-04-02T17:42:47.971265",
   "environment_variables": {},
   "exception": null,
   "input_path": "__notebook__.ipynb",
   "output_path": "__notebook__.ipynb",
   "parameters": {},
   "start_time": "2022-04-02T16:50:12.948618",
   "version": "2.3.3"
  }
 },
 "nbformat": 4,
 "nbformat_minor": 5
}
