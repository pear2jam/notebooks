{
 "cells": [
  {
   "cell_type": "code",
   "execution_count": 1,
   "id": "e3e43dbb",
   "metadata": {
    "_cell_guid": "b1076dfc-b9ad-4769-8c92-a6c4dae69d19",
    "_uuid": "8f2839f25d086af736a60e9eeb907d3b93b6e0e5",
    "execution": {
     "iopub.execute_input": "2022-04-17T17:53:39.573757Z",
     "iopub.status.busy": "2022-04-17T17:53:39.571650Z",
     "iopub.status.idle": "2022-04-17T17:53:42.422638Z",
     "shell.execute_reply": "2022-04-17T17:53:42.423440Z",
     "shell.execute_reply.started": "2022-04-16T16:41:03.365194Z"
    },
    "papermill": {
     "duration": 2.928467,
     "end_time": "2022-04-17T17:53:42.423938",
     "exception": false,
     "start_time": "2022-04-17T17:53:39.495471",
     "status": "completed"
    },
    "tags": []
   },
   "outputs": [],
   "source": [
    "import numpy as np\n",
    "import pandas as pd\n",
    "import matplotlib.pyplot as plt\n",
    "%matplotlib inline\n",
    "import seaborn as sns\n",
    "import torch"
   ]
  },
  {
   "cell_type": "code",
   "execution_count": 2,
   "id": "7de2507d",
   "metadata": {
    "execution": {
     "iopub.execute_input": "2022-04-17T17:53:42.527806Z",
     "iopub.status.busy": "2022-04-17T17:53:42.526690Z",
     "iopub.status.idle": "2022-04-17T17:53:42.529220Z",
     "shell.execute_reply": "2022-04-17T17:53:42.529898Z",
     "shell.execute_reply.started": "2022-04-16T16:41:05.611564Z"
    },
    "papermill": {
     "duration": 0.055752,
     "end_time": "2022-04-17T17:53:42.530075",
     "exception": false,
     "start_time": "2022-04-17T17:53:42.474323",
     "status": "completed"
    },
    "tags": []
   },
   "outputs": [],
   "source": [
    "data_types_dict = {\n",
    "    'time_id': 'int32',\n",
    "    'investment_id': 'int16',\n",
    "    \"target\": 'float16',\n",
    "}\n",
    "\n",
    "features = [f'f_{i}' for i in range(300)]\n",
    "\n",
    "for f in features:\n",
    "    data_types_dict[f] = 'float16'"
   ]
  },
  {
   "cell_type": "code",
   "execution_count": 3,
   "id": "7aacfdcc",
   "metadata": {
    "execution": {
     "iopub.execute_input": "2022-04-17T17:53:42.597121Z",
     "iopub.status.busy": "2022-04-17T17:53:42.592605Z",
     "iopub.status.idle": "2022-04-17T17:53:42.619471Z",
     "shell.execute_reply": "2022-04-17T17:53:42.620102Z",
     "shell.execute_reply.started": "2022-04-16T16:41:05.61848Z"
    },
    "papermill": {
     "duration": 0.061622,
     "end_time": "2022-04-17T17:53:42.620277",
     "exception": false,
     "start_time": "2022-04-17T17:53:42.558655",
     "status": "completed"
    },
    "tags": []
   },
   "outputs": [],
   "source": [
    "data = pd.read_csv('../input/ubiquant-market-prediction/train.csv', \n",
    "                       usecols = data_types_dict.keys(),\n",
    "                       dtype=data_types_dict,\n",
    "                       index_col = 0, chunksize = 3141410) #3141410"
   ]
  },
  {
   "cell_type": "code",
   "execution_count": 4,
   "id": "c837de1b",
   "metadata": {
    "execution": {
     "iopub.execute_input": "2022-04-17T17:53:42.686331Z",
     "iopub.status.busy": "2022-04-17T17:53:42.684170Z",
     "iopub.status.idle": "2022-04-17T18:00:51.150500Z",
     "shell.execute_reply": "2022-04-17T18:00:51.149856Z",
     "shell.execute_reply.started": "2022-04-16T16:41:06.707683Z"
    },
    "papermill": {
     "duration": 428.500215,
     "end_time": "2022-04-17T18:00:51.150671",
     "exception": false,
     "start_time": "2022-04-17T17:53:42.650456",
     "status": "completed"
    },
    "tags": []
   },
   "outputs": [
    {
     "name": "stderr",
     "output_type": "stream",
     "text": [
      "/opt/conda/lib/python3.7/site-packages/numpy/lib/arraysetops.py:583: FutureWarning: elementwise comparison failed; returning scalar instead, but in the future will perform elementwise comparison\n",
      "  mask |= (ar1 == a)\n"
     ]
    }
   ],
   "source": [
    "data = next(iter(data))"
   ]
  },
  {
   "cell_type": "code",
   "execution_count": 5,
   "id": "ee4efd9a",
   "metadata": {
    "execution": {
     "iopub.execute_input": "2022-04-17T18:00:51.230959Z",
     "iopub.status.busy": "2022-04-17T18:00:51.229660Z",
     "iopub.status.idle": "2022-04-17T18:00:54.889243Z",
     "shell.execute_reply": "2022-04-17T18:00:54.888252Z"
    },
    "papermill": {
     "duration": 3.707306,
     "end_time": "2022-04-17T18:00:54.889381",
     "exception": false,
     "start_time": "2022-04-17T18:00:51.182075",
     "status": "completed"
    },
    "tags": []
   },
   "outputs": [],
   "source": [
    "target = data['target']\n",
    "data.drop(['target'], inplace=True, axis=1)"
   ]
  },
  {
   "cell_type": "code",
   "execution_count": 6,
   "id": "ac006872",
   "metadata": {
    "execution": {
     "iopub.execute_input": "2022-04-17T18:00:54.955185Z",
     "iopub.status.busy": "2022-04-17T18:00:54.954049Z",
     "iopub.status.idle": "2022-04-17T18:00:54.956434Z",
     "shell.execute_reply": "2022-04-17T18:00:54.957016Z",
     "shell.execute_reply.started": "2022-04-16T16:42:29.374882Z"
    },
    "papermill": {
     "duration": 0.037997,
     "end_time": "2022-04-17T18:00:54.957191",
     "exception": false,
     "start_time": "2022-04-17T18:00:54.919194",
     "status": "completed"
    },
    "tags": []
   },
   "outputs": [],
   "source": [
    "from scipy.stats import pearsonr \n",
    "def est_score(model):\n",
    "    y_pred = model.predict(X_test)\n",
    "    return pearsonr(y_pred, y_test)[0]"
   ]
  },
  {
   "cell_type": "code",
   "execution_count": 7,
   "id": "ac2e91d9",
   "metadata": {
    "execution": {
     "iopub.execute_input": "2022-04-17T18:00:55.133768Z",
     "iopub.status.busy": "2022-04-17T18:00:55.132610Z",
     "iopub.status.idle": "2022-04-17T18:00:55.135105Z",
     "shell.execute_reply": "2022-04-17T18:00:55.135732Z",
     "shell.execute_reply.started": "2022-04-16T16:42:29.433698Z"
    },
    "papermill": {
     "duration": 0.148321,
     "end_time": "2022-04-17T18:00:55.135964",
     "exception": false,
     "start_time": "2022-04-17T18:00:54.987643",
     "status": "completed"
    },
    "tags": []
   },
   "outputs": [],
   "source": [
    "device = torch.device('cuda') if torch.cuda.is_available() else torch.device('cpu')\n",
    "\n",
    "def move_to(data, device):\n",
    "    \"\"\"\n",
    "    moving data to device\n",
    "    :param data: data to move\n",
    "    :param device: device\n",
    "    :return: moved data\n",
    "    \"\"\"\n",
    "\n",
    "    if isinstance(data, (list, tuple)):\n",
    "        return [move_to(x, device) for x in data]\n",
    "    return data.to(device, non_blocking=True)"
   ]
  },
  {
   "cell_type": "code",
   "execution_count": 8,
   "id": "9860023d",
   "metadata": {
    "execution": {
     "iopub.execute_input": "2022-04-17T18:00:55.205470Z",
     "iopub.status.busy": "2022-04-17T18:00:55.204296Z",
     "iopub.status.idle": "2022-04-17T18:00:55.207557Z",
     "shell.execute_reply": "2022-04-17T18:00:55.207055Z",
     "shell.execute_reply.started": "2022-04-16T16:42:29.51752Z"
    },
    "papermill": {
     "duration": 0.040408,
     "end_time": "2022-04-17T18:00:55.207705",
     "exception": false,
     "start_time": "2022-04-17T18:00:55.167297",
     "status": "completed"
    },
    "tags": []
   },
   "outputs": [],
   "source": [
    "def batch_loader(X, y, batch_size = 4096, equal=False):\n",
    "    i = 0\n",
    "    while True:\n",
    "        if i + batch_size >= y.shape[0]: \n",
    "            break\n",
    "            \n",
    "        yield X.iloc[i:i+batch_size, :], y[i:i+batch_size]\n",
    "        i += batch_size"
   ]
  },
  {
   "cell_type": "code",
   "execution_count": 9,
   "id": "1cad97a1",
   "metadata": {
    "execution": {
     "iopub.execute_input": "2022-04-17T18:00:55.279512Z",
     "iopub.status.busy": "2022-04-17T18:00:55.277399Z",
     "iopub.status.idle": "2022-04-17T18:00:55.280211Z",
     "shell.execute_reply": "2022-04-17T18:00:55.280725Z",
     "shell.execute_reply.started": "2022-04-16T16:42:29.525827Z"
    },
    "papermill": {
     "duration": 0.041646,
     "end_time": "2022-04-17T18:00:55.280967",
     "exception": false,
     "start_time": "2022-04-17T18:00:55.239321",
     "status": "completed"
    },
    "tags": []
   },
   "outputs": [],
   "source": [
    "def pearson_loss(x, y):\n",
    "    vx = x - torch.mean(x)\n",
    "    vy = y - torch.mean(y)\n",
    "    loss = -torch.sum(vx*vy) / (torch.sqrt(torch.sum(vx*vx)) * torch.sqrt(torch.sum(vy*vy)))\n",
    "    return loss"
   ]
  },
  {
   "cell_type": "code",
   "execution_count": 10,
   "id": "8d8a6ae1",
   "metadata": {
    "execution": {
     "iopub.execute_input": "2022-04-17T18:00:55.352477Z",
     "iopub.status.busy": "2022-04-17T18:00:55.351243Z",
     "iopub.status.idle": "2022-04-17T18:00:55.353851Z",
     "shell.execute_reply": "2022-04-17T18:00:55.354385Z",
     "shell.execute_reply.started": "2022-04-16T16:42:29.538344Z"
    },
    "papermill": {
     "duration": 0.04174,
     "end_time": "2022-04-17T18:00:55.354562",
     "exception": false,
     "start_time": "2022-04-17T18:00:55.312822",
     "status": "completed"
    },
    "tags": []
   },
   "outputs": [],
   "source": [
    "def reduce_matching(a):\n",
    "    a = a[0].tolist()\n",
    "    ids = list(set(a))\n",
    "    ids_dict = {}\n",
    "    for i in range(len(ids)):\n",
    "        ids_dict[ids[i]] = i\n",
    "\n",
    "    for i in range(len(a)):\n",
    "        a[i] = ids_dict[a[i]]\n",
    "    return move_to(torch.FloatTensor(a).view(-1, 1), device)"
   ]
  },
  {
   "cell_type": "code",
   "execution_count": 11,
   "id": "0b83e739",
   "metadata": {
    "execution": {
     "iopub.execute_input": "2022-04-17T18:00:55.422113Z",
     "iopub.status.busy": "2022-04-17T18:00:55.421155Z",
     "iopub.status.idle": "2022-04-17T18:00:55.424464Z",
     "shell.execute_reply": "2022-04-17T18:00:55.423890Z",
     "shell.execute_reply.started": "2022-04-16T16:42:29.548316Z"
    },
    "papermill": {
     "duration": 0.038876,
     "end_time": "2022-04-17T18:00:55.424601",
     "exception": false,
     "start_time": "2022-04-17T18:00:55.385725",
     "status": "completed"
    },
    "tags": []
   },
   "outputs": [],
   "source": [
    "def standard(a):\n",
    "    a -= a.mean()\n",
    "    a /= a.std()\n",
    "    return a"
   ]
  },
  {
   "cell_type": "code",
   "execution_count": 12,
   "id": "fcc74b44",
   "metadata": {
    "execution": {
     "iopub.execute_input": "2022-04-17T18:00:55.502208Z",
     "iopub.status.busy": "2022-04-17T18:00:55.500977Z",
     "iopub.status.idle": "2022-04-17T18:00:55.503249Z",
     "shell.execute_reply": "2022-04-17T18:00:55.503841Z",
     "shell.execute_reply.started": "2022-04-16T16:46:15.428371Z"
    },
    "papermill": {
     "duration": 0.048475,
     "end_time": "2022-04-17T18:00:55.504032",
     "exception": false,
     "start_time": "2022-04-17T18:00:55.455557",
     "status": "completed"
    },
    "tags": []
   },
   "outputs": [],
   "source": [
    "class DNN_Model(torch.nn.Module):\n",
    "    def __init__(self, deep_size):\n",
    "        super().__init__()\n",
    "        self.deep_size = deep_size\n",
    "        self.index = 0\n",
    "        self.model_name = 'DNN_Model_0'\n",
    "        self.linear_1 = torch.nn.Linear(300, deep_size)\n",
    "        self.linear_2 = torch.nn.Linear(deep_size, deep_size)\n",
    "        self.linear_3 = torch.nn.Linear(deep_size+64, 128)\n",
    "        self.linear_4 = torch.nn.Linear(128, 128)\n",
    "        self.linear_5 = torch.nn.Linear(128, 64)\n",
    "        self.linear_6 = torch.nn.Linear(64, 1)\n",
    "        \n",
    "        self.id_linear_1 = torch.nn.Linear(1, 16)\n",
    "        self.id_linear_2 = torch.nn.Linear(16, 32)\n",
    "        self.id_linear_3 = torch.nn.Linear(32, 64)\n",
    "        \n",
    "        self.dout = torch.nn.Dropout(p=0.5)\n",
    "        self.act = torch.nn.SiLU()\n",
    "    \n",
    "    def tensor_forward(self, X_tensor):\n",
    "        X_tensor = move_to(X_tensor, device)\n",
    "        ids = X_tensor[:, 0].view(1, -1)\n",
    "        X_tensor = X_tensor[:, 1:]\n",
    "        \n",
    "        ids = standard(reduce_matching(ids))\n",
    "        \n",
    "        ids = self.act(self.id_linear_1(ids))\n",
    "        ids = self.act(self.id_linear_2(ids))\n",
    "        ids = self.act(self.id_linear_3(ids))\n",
    "        \n",
    "        tensor_X = self.act(self.linear_1(X_tensor))\n",
    "        tensor_X = self.act(self.linear_2(tensor_X))\n",
    "        \n",
    "        tensor_X = torch.cat([tensor_X, ids], axis=1)\n",
    "        \n",
    "        tensor_X = self.act(self.linear_3(tensor_X))\n",
    "        tensor_X = self.dout(tensor_X)\n",
    "        tensor_X = self.act(self.linear_4(tensor_X))\n",
    "        tensor_X = self.act(self.linear_5(tensor_X))\n",
    "        tensor_X = self.linear_6(tensor_X)\n",
    "        return tensor_X \n",
    "\n",
    "    def forward(self, X):\n",
    "        tensor_X = torch.FloatTensor(X.values)\n",
    "        return self.tensor_forward(tensor_X)"
   ]
  },
  {
   "cell_type": "code",
   "execution_count": 13,
   "id": "1e96b44e",
   "metadata": {
    "execution": {
     "iopub.execute_input": "2022-04-17T18:00:55.581020Z",
     "iopub.status.busy": "2022-04-17T18:00:55.580045Z",
     "iopub.status.idle": "2022-04-17T18:00:55.584316Z",
     "shell.execute_reply": "2022-04-17T18:00:55.583731Z",
     "shell.execute_reply.started": "2022-04-16T16:42:29.575012Z"
    },
    "papermill": {
     "duration": 0.048989,
     "end_time": "2022-04-17T18:00:55.584500",
     "exception": false,
     "start_time": "2022-04-17T18:00:55.535511",
     "status": "completed"
    },
    "tags": []
   },
   "outputs": [],
   "source": [
    "class DNN_Model_1(torch.nn.Module):\n",
    "    def __init__(self, deep_size):\n",
    "        super().__init__()\n",
    "        self.deep_size = deep_size\n",
    "        self.index = 1\n",
    "        self.model = torch.nn.Sequential(\n",
    "            torch.nn.Linear(300, deep_size),\n",
    "            torch.nn.SiLU(),\n",
    "            torch.nn.Linear(deep_size, deep_size),\n",
    "            torch.nn.SiLU(),\n",
    "            torch.nn.Dropout(p=0.3),\n",
    "            \n",
    "            torch.nn.Linear(deep_size, deep_size),\n",
    "            torch.nn.SiLU(),\n",
    "            torch.nn.Linear(deep_size, deep_size),\n",
    "            torch.nn.SiLU(),\n",
    "            torch.nn.Dropout(p=0.3),\n",
    "            \n",
    "            torch.nn.Linear(deep_size, deep_size),\n",
    "            torch.nn.SiLU(),\n",
    "            torch.nn.Linear(deep_size, deep_size),\n",
    "            torch.nn.SiLU(),\n",
    "            torch.nn.Dropout(p=0.3),\n",
    "            \n",
    "            torch.nn.Linear(deep_size, deep_size),\n",
    "            torch.nn.SiLU(),\n",
    "            torch.nn.Linear(deep_size, deep_size),\n",
    "            torch.nn.SiLU(),\n",
    "            torch.nn.Dropout(p=0.3),\n",
    "            \n",
    "            torch.nn.Linear(deep_size, deep_size),\n",
    "            torch.nn.SiLU(),\n",
    "            torch.nn.Linear(deep_size, deep_size),\n",
    "            torch.nn.SiLU(),\n",
    "            torch.nn.Dropout(p=0.3),\n",
    "            \n",
    "            torch.nn.Linear(deep_size, deep_size),\n",
    "            torch.nn.SiLU(),\n",
    "            torch.nn.Dropout(p=0.3),\n",
    "            \n",
    "            torch.nn.Linear(deep_size, deep_size),\n",
    "            torch.nn.SiLU(),\n",
    "            torch.nn.Linear(deep_size, 1)\n",
    "        )\n",
    "        \n",
    "        self.model_name = 'DNN_Model_1'\n",
    "        \n",
    "                \n",
    "    def tensor_forward(self, X_tensor):\n",
    "        X_tensor = move_to(X_tensor, device)\n",
    "        X_tensor = X_tensor[:, 1:]\n",
    "        return self.model(X_tensor)\n",
    "\n",
    "    def forward(self, X):\n",
    "        tensor_X = torch.FloatTensor(X.values)\n",
    "        return self.tensor_forward(tensor_X)"
   ]
  },
  {
   "cell_type": "code",
   "execution_count": 14,
   "id": "d7833ed7",
   "metadata": {
    "execution": {
     "iopub.execute_input": "2022-04-17T18:00:55.666794Z",
     "iopub.status.busy": "2022-04-17T18:00:55.665854Z",
     "iopub.status.idle": "2022-04-17T18:00:55.668704Z",
     "shell.execute_reply": "2022-04-17T18:00:55.669271Z",
     "shell.execute_reply.started": "2022-04-16T16:42:29.590869Z"
    },
    "papermill": {
     "duration": 0.053947,
     "end_time": "2022-04-17T18:00:55.669442",
     "exception": false,
     "start_time": "2022-04-17T18:00:55.615495",
     "status": "completed"
    },
    "tags": []
   },
   "outputs": [],
   "source": [
    "class DNN_Model_2(torch.nn.Module):\n",
    "    def __init__(self, deep_size):\n",
    "        super().__init__()\n",
    "        self.deep_size = deep_size\n",
    "        self.index = 2\n",
    "        self.model_name = 'DNN_Model_2'\n",
    "        self.linear_1 = torch.nn.Linear(300, deep_size)\n",
    "        self.linear_2 = torch.nn.Linear(deep_size, 350)\n",
    "        self.linear_3 = torch.nn.Linear(350, deep_size)\n",
    "        self.linear_4 = torch.nn.Linear(deep_size+64, 256)\n",
    "        self.linear_5 = torch.nn.Linear(256, 256)\n",
    "        self.linear_6 = torch.nn.Linear(256, 128)\n",
    "        self.linear_7 = torch.nn.Linear(128, 128)\n",
    "        self.linear_8 = torch.nn.Linear(128, 64)\n",
    "        self.linear_9 = torch.nn.Linear(64, 1)\n",
    "        \n",
    "        self.id_linear_1 = torch.nn.Linear(1, 32)\n",
    "        self.id_linear_2 = torch.nn.Linear(32, 64)\n",
    "        self.id_linear_3 = torch.nn.Linear(64, 100)\n",
    "        self.id_linear_4 = torch.nn.Linear(100, 64)\n",
    "        self.id_linear_5 = torch.nn.Linear(64, 64)\n",
    "        \n",
    "        self.dout = torch.nn.Dropout(p=0.4)\n",
    "        self.act = torch.nn.SiLU()\n",
    "    \n",
    "    def tensor_forward(self, X_tensor):\n",
    "        X_tensor = move_to(X_tensor, device)\n",
    "        ids = X_tensor[:, 0].view(1, -1)\n",
    "        X_tensor = X_tensor[:, 1:]\n",
    "        \n",
    "        ids = standard(reduce_matching(ids))\n",
    "        \n",
    "        ids = self.act(self.id_linear_1(ids))\n",
    "        ids = self.act(self.id_linear_2(ids))\n",
    "        ids = self.act(self.id_linear_3(ids))\n",
    "        ids = self.dout(ids)\n",
    "        ids = self.act(self.id_linear_4(ids))\n",
    "        ids = self.act(self.id_linear_5(ids))\n",
    "        \n",
    "        tensor_X = self.act(self.linear_1(X_tensor))\n",
    "        tensor_X = self.act(self.linear_2(tensor_X))\n",
    "        tensor_X = self.dout(tensor_X)\n",
    "        tensor_X = self.act(self.linear_3(tensor_X))\n",
    "        \n",
    "        tensor_X = torch.cat([tensor_X, ids], axis=1)\n",
    "        \n",
    "        tensor_X = self.act(self.linear_4(tensor_X))\n",
    "        tensor_X = self.act(self.linear_5(tensor_X))\n",
    "        tensor_X = self.dout(tensor_X)\n",
    "        tensor_X_6 = self.act(self.linear_6(tensor_X))\n",
    "        tensor_X = self.act(self.linear_7(tensor_X_6))\n",
    "        tensor_X = self.act(self.linear_8(tensor_X + tensor_X_6))\n",
    "        tensor_X = self.linear_9(tensor_X)\n",
    "        return tensor_X \n",
    "\n",
    "    def forward(self, X):\n",
    "        tensor_X = torch.FloatTensor(X.values)\n",
    "        return self.tensor_forward(tensor_X)"
   ]
  },
  {
   "cell_type": "code",
   "execution_count": 15,
   "id": "2b03b883",
   "metadata": {
    "execution": {
     "iopub.execute_input": "2022-04-17T18:00:55.749218Z",
     "iopub.status.busy": "2022-04-17T18:00:55.745133Z",
     "iopub.status.idle": "2022-04-17T18:00:55.752541Z",
     "shell.execute_reply": "2022-04-17T18:00:55.755248Z",
     "shell.execute_reply.started": "2022-04-16T16:42:29.610383Z"
    },
    "papermill": {
     "duration": 0.056252,
     "end_time": "2022-04-17T18:00:55.755564",
     "exception": false,
     "start_time": "2022-04-17T18:00:55.699312",
     "status": "completed"
    },
    "tags": []
   },
   "outputs": [],
   "source": [
    "class DNN_Model_3(torch.nn.Module):\n",
    "    def __init__(self, deep_size):\n",
    "        super().__init__()\n",
    "        self.deep_size = deep_size\n",
    "        self.index = 3\n",
    "        self.linear1 = torch.nn.Linear(300, deep_size)\n",
    "        \n",
    "        self.linear2_1 = torch.nn.Linear(deep_size, deep_size)\n",
    "        self.linear2_2 = torch.nn.Linear(deep_size, deep_size)\n",
    "        self.linear2_3 = torch.nn.Linear(deep_size, deep_size)\n",
    "        \n",
    "        self.linear3_1 = torch.nn.Linear(deep_size, deep_size)\n",
    "        self.linear3_2 = torch.nn.Linear(deep_size, deep_size)\n",
    "        self.linear3_3 = torch.nn.Linear(deep_size, deep_size)\n",
    "        \n",
    "        self.linear4_1 = torch.nn.Linear(deep_size, deep_size)\n",
    "        self.linear4_2 = torch.nn.Linear(deep_size, deep_size)\n",
    "        self.linear4_3 = torch.nn.Linear(deep_size, deep_size)\n",
    "        \n",
    "        self.linear5_1 = torch.nn.Linear(deep_size, deep_size)\n",
    "        self.linear5_2 = torch.nn.Linear(deep_size, deep_size)\n",
    "        self.linear5_3 = torch.nn.Linear(deep_size, deep_size)\n",
    "        \n",
    "        self.linear6_1 = torch.nn.Linear(deep_size, deep_size)\n",
    "        self.linear6_2 = torch.nn.Linear(deep_size, 1)\n",
    "        \n",
    "        self.act = torch.nn.SiLU()\n",
    "        self.dout = torch.nn.Dropout(p=0.5)\n",
    "        \n",
    "        self.model_name = 'DNN_Model_3'\n",
    "\n",
    "                \n",
    "    def tensor_forward(self, X_tensor):\n",
    "        X_tensor = move_to(X_tensor, device)\n",
    "        X_tensor = X_tensor[:, 1:]\n",
    "        X_tensor = self.act(self.linear1(X_tensor))\n",
    "        \n",
    "        X_tensor = self.act(self.linear2_1(X_tensor))\n",
    "        X_tensor = self.act(self.linear2_2(X_tensor))\n",
    "        X_tensor = self.dout(X_tensor)\n",
    "        res_2 = self.act(self.linear2_3(X_tensor))\n",
    "        \n",
    "        X_tensor = self.act(self.linear3_1(res_2))\n",
    "        X_tensor = self.act(self.linear3_2(X_tensor))\n",
    "        X_tensor = self.dout(X_tensor)\n",
    "        res_3 = self.act(self.linear3_3(X_tensor))\n",
    "        \n",
    "        X_tensor = self.act(self.linear4_1(res_2 + res_3))\n",
    "        X_tensor = self.act(self.linear4_2(X_tensor))\n",
    "        X_tensor = self.dout(X_tensor)\n",
    "        res_4 = self.act(self.linear4_3(X_tensor))\n",
    "        \n",
    "        res_4 = X_tensor\n",
    "\n",
    "        X_tensor = self.act(self.linear5_1(res_3 + res_4))\n",
    "        X_tensor = self.act(self.linear5_2(X_tensor))\n",
    "        X_tensor = self.dout(X_tensor)\n",
    "        X_tensor = self.act(self.linear5_3(X_tensor))\n",
    "        \n",
    "        X_tensor = self.act(self.linear6_1(X_tensor + res_4))\n",
    "        X_tensor = self.linear6_2(X_tensor)\n",
    "        \n",
    "        return X_tensor\n",
    "        \n",
    "\n",
    "    def forward(self, X):\n",
    "        tensor_X = torch.FloatTensor(X.values)\n",
    "        return self.tensor_forward(tensor_X)"
   ]
  },
  {
   "cell_type": "code",
   "execution_count": 16,
   "id": "873ce2ff",
   "metadata": {
    "execution": {
     "iopub.execute_input": "2022-04-17T18:00:55.831777Z",
     "iopub.status.busy": "2022-04-17T18:00:55.830702Z",
     "iopub.status.idle": "2022-04-17T18:00:55.832917Z",
     "shell.execute_reply": "2022-04-17T18:00:55.833472Z",
     "shell.execute_reply.started": "2022-04-16T16:42:29.630361Z"
    },
    "papermill": {
     "duration": 0.044845,
     "end_time": "2022-04-17T18:00:55.833640",
     "exception": false,
     "start_time": "2022-04-17T18:00:55.788795",
     "status": "completed"
    },
    "tags": []
   },
   "outputs": [],
   "source": [
    "class DNN_Model_4(torch.nn.Module):\n",
    "    def __init__(self, deep_size):\n",
    "        super().__init__()\n",
    "        self.deep_size = deep_size\n",
    "        self.index = 4\n",
    "        act_1 = torch.nn.SiLU\n",
    "        self.model = self.model = torch.nn.Sequential(\n",
    "            torch.nn.Linear(300, deep_size),\n",
    "            act_1(),\n",
    "            torch.nn.Linear(deep_size, deep_size),\n",
    "            act_1(),\n",
    "            torch.nn.Linear(deep_size, 2*deep_size),\n",
    "            act_1(),\n",
    "            torch.nn.Linear(2*deep_size, 2*deep_size),\n",
    "            \n",
    "            torch.nn.Dropout(p=0.4),\n",
    "            \n",
    "            torch.nn.Linear(2*deep_size, 2*deep_size),\n",
    "            act_1(),\n",
    "            torch.nn.Linear(2*deep_size, 2*deep_size),\n",
    "            act_1(),\n",
    "            torch.nn.Linear(2*deep_size, deep_size),\n",
    "            act_1(),\n",
    "            \n",
    "            torch.nn.Dropout(p=0.4),\n",
    "            \n",
    "            torch.nn.Linear(deep_size, deep_size),\n",
    "            act_1(),\n",
    "            torch.nn.Linear(deep_size, deep_size),\n",
    "            act_1(),\n",
    "            torch.nn.Linear(deep_size, 1)\n",
    "            \n",
    "        )\n",
    "        \n",
    "        self.model_name = 'DNN_Model_4'\n",
    "        \n",
    "                \n",
    "    def tensor_forward(self, X_tensor):\n",
    "        X_tensor = move_to(X_tensor, device)\n",
    "        X_tensor = X_tensor[:, 1:]\n",
    "        return self.model(X_tensor)\n",
    "\n",
    "    def forward(self, X):\n",
    "        tensor_X = torch.FloatTensor(X.values)\n",
    "        return self.tensor_forward(tensor_X)"
   ]
  },
  {
   "cell_type": "code",
   "execution_count": 17,
   "id": "2d010409",
   "metadata": {
    "execution": {
     "iopub.execute_input": "2022-04-17T18:00:55.900991Z",
     "iopub.status.busy": "2022-04-17T18:00:55.899975Z",
     "iopub.status.idle": "2022-04-17T18:00:55.902391Z",
     "shell.execute_reply": "2022-04-17T18:00:55.903031Z",
     "shell.execute_reply.started": "2022-04-16T16:42:29.643266Z"
    },
    "papermill": {
     "duration": 0.038875,
     "end_time": "2022-04-17T18:00:55.903181",
     "exception": false,
     "start_time": "2022-04-17T18:00:55.864306",
     "status": "completed"
    },
    "tags": []
   },
   "outputs": [],
   "source": [
    "dnn_models = [DNN_Model, DNN_Model_1, DNN_Model_2, DNN_Model_3, DNN_Model_4]"
   ]
  },
  {
   "cell_type": "code",
   "execution_count": 18,
   "id": "59eeb104",
   "metadata": {
    "execution": {
     "iopub.execute_input": "2022-04-17T18:00:55.971476Z",
     "iopub.status.busy": "2022-04-17T18:00:55.968027Z",
     "iopub.status.idle": "2022-04-17T18:00:55.974745Z",
     "shell.execute_reply": "2022-04-17T18:00:55.974161Z",
     "shell.execute_reply.started": "2022-04-16T16:42:29.663057Z"
    },
    "papermill": {
     "duration": 0.041036,
     "end_time": "2022-04-17T18:00:55.974893",
     "exception": false,
     "start_time": "2022-04-17T18:00:55.933857",
     "status": "completed"
    },
    "tags": []
   },
   "outputs": [],
   "source": [
    "def corr_based_coefs(a):\n",
    "    if a.shape[0] < 2:\n",
    "        return np.array([1])\n",
    "    preds_sum = np.sum(a, axis=0)\n",
    "    corrs = np.array([pearsonr( (preds_sum-a[i])/(a.shape[0]-1), a[i])[0] for i in range(a.shape[0])])\n",
    "    corrs = 1 - corrs\n",
    "    corrs /= np.sum(corrs)\n",
    "    return corrs"
   ]
  },
  {
   "cell_type": "code",
   "execution_count": 19,
   "id": "89678f05",
   "metadata": {
    "execution": {
     "iopub.execute_input": "2022-04-17T18:00:56.039327Z",
     "iopub.status.busy": "2022-04-17T18:00:56.038280Z",
     "iopub.status.idle": "2022-04-17T18:00:56.066374Z",
     "shell.execute_reply": "2022-04-17T18:00:56.066860Z",
     "shell.execute_reply.started": "2022-04-16T20:48:37.303144Z"
    },
    "papermill": {
     "duration": 0.061458,
     "end_time": "2022-04-17T18:00:56.067070",
     "exception": false,
     "start_time": "2022-04-17T18:00:56.005612",
     "status": "completed"
    },
    "tags": []
   },
   "outputs": [],
   "source": [
    "class StackedDNN:\n",
    "    def __init__(self, n, model, min_deep=30, max_deep=40):\n",
    "        self.nets = [model(np.random.randint(min_deep, max_deep)) for i in range(n)]\n",
    "        self.model_name = self.nets[0].model_name\n",
    "        for net in self.nets:\n",
    "            net = move_to(net, device)\n",
    "    \n",
    "    def fit(self, X, y, iters, batch_size=4096, subset=1, float_subset=True, silent=True, logs=True, plot=False, val=False, X_val=None, y_val=None):\n",
    "        \n",
    "        if val:\n",
    "            tensor_train_val = move_to(torch.FloatTensor(X_val.values), device)\n",
    "            tensor_y_val = move_to(torch.FloatTensor(y_val.values), device)\n",
    "            \n",
    "        if logs and silent:\n",
    "            print(f'Net {self.nets[0].model_name}')\n",
    "            \n",
    "        for i in range(len(self.nets)):\n",
    "    \n",
    "            scores_train = []\n",
    "            scores_val = []\n",
    "        \n",
    "            if val:\n",
    "                tensor_train_val = move_to(torch.FloatTensor(X_val.values).clone(), device)\n",
    "                tensor_y_val = move_to(torch.FloatTensor(y_val.values), device)\n",
    "            scores_train = []\n",
    "            scores_val = []\n",
    "\n",
    "            opt = torch.optim.Adam(self.nets[i].parameters(), lr=5e-4)\n",
    "\n",
    "            if float_subset:\n",
    "                subset_ind = np.random.uniform(subset, 1)\n",
    "\n",
    "            subset_ind = np.random.choice(batch_size, int(batch_size*subset))\n",
    "            \n",
    "            if not silent:\n",
    "                print(f'>>> Net {i + 1}/{len(self.nets)}')\n",
    "                print(f'Deep size: {self.nets[i].deep_size}')\n",
    "                print()\n",
    "                \n",
    "                \n",
    "            for epoch in range(iters):\n",
    "                offset = 0\n",
    "                #learning cycle\n",
    "                while offset + batch_size < y.shape[0]: \n",
    "                    self.nets[i].train()\n",
    "                    self.nets[i].zero_grad()\n",
    "                    X_tensor = move_to(torch.FloatTensor(X.iloc[offset:offset+batch_size, :].values), device)\n",
    "                    y_tensor = move_to(torch.FloatTensor(y[offset:offset+batch_size].values), device)\n",
    "                    X_tensor = X_tensor[subset_ind,:]\n",
    "                    y_tensor = y_tensor[subset_ind]\n",
    "                    \n",
    "                    loss = pearson_loss(self.nets[i].tensor_forward(X_tensor).view(-1), y_tensor)\n",
    "                    loss.backward()\n",
    "                    opt.step()\n",
    "                    offset += batch_size\n",
    "\n",
    "                #prints\n",
    "                if val:\n",
    "                    self.nets[i].eval()\n",
    "                    val_loss = pearson_loss(self.nets[i].tensor_forward(tensor_train_val).view(-1), tensor_y_val)\n",
    "                    scores_val.append(float(val_loss.detach()))\n",
    "                scores_train.append(float(loss.detach()))\n",
    "\n",
    "                if not silent:\n",
    "                    print(f'epoch {epoch} finished with {loss} loss')\n",
    "                    if val:\n",
    "                        print(f'val loss {val_loss}')\n",
    "                \n",
    "            if logs and silent:\n",
    "                print(f'Net {i+1}/{len(self.nets)} fitted')\n",
    "                \n",
    "            if not silent:\n",
    "                if val:\n",
    "                    print(f'Finished with \\n train loss: {loss}\\n val loss: {val_loss}')\n",
    "                else:\n",
    "                    print(f'Finished with {loss} loss')\n",
    "            if plot:\n",
    "                if val:\n",
    "                    sns.lineplot(x=range(iters), y=scores_train, label='train')\n",
    "                    sns.lineplot(x=range(iters), y=scores_val, label='val')\n",
    "                else:\n",
    "                    sns.lineplot(scores_train)\n",
    "                plt.plot()\n",
    "\n",
    "        \n",
    "    def predict(self, X):\n",
    "        y_pred = np.ndarray([len(self.nets), X.shape[0]])\n",
    "        for i in range(len(self.nets)):\n",
    "            self.nets[i].eval()\n",
    "            y_pred[i] = np.array(self.nets[i].forward(X).detach().view(-1).cpu())\n",
    "        y_pred = corr_based_coefs(y_pred).dot(y_pred)\n",
    "        return y_pred\n",
    "    \n",
    "    def save(self):\n",
    "        import os\n",
    "        try:\n",
    "            os.mkdir(f'./{self.model_name}')\n",
    "        except:\n",
    "            pass\n",
    "        with open(f'./{self.model_name}/config.txt', 'w') as f:\n",
    "            f.write(str(self.nets[0].index) + '\\n')\n",
    "            for i in range(len(self.nets)):\n",
    "                torch.save(self.nets[i].state_dict(), f'./{self.model_name}/model:{i}')\n",
    "                f.write(str(self.nets[i].deep_size) + '\\n')\n",
    "\n",
    "    \n",
    "                       \n",
    "    def load(self):\n",
    "        with open(f'../input/ubiquantdevelop/{self.model_name}/config.txt', 'r') as f:\n",
    "            dnn_model = dnn_models[int(f.readline())]\n",
    "            \n",
    "            for i in range(len(self.nets)):\n",
    "                self.nets[i] = dnn_model(int(f.readline()))\n",
    "                self.nets[i].load_state_dict(torch.load(f'../input/ubiquantdevelop/{self.model_name}/model:{i}', map_location=torch.device('cpu')))\n",
    "                self.nets[i] = move_to(self.nets[i], device)"
   ]
  },
  {
   "cell_type": "markdown",
   "id": "ccb2bcbb",
   "metadata": {
    "papermill": {
     "duration": 0.031575,
     "end_time": "2022-04-17T18:00:56.128774",
     "exception": false,
     "start_time": "2022-04-17T18:00:56.097199",
     "status": "completed"
    },
    "tags": []
   },
   "source": [
    "#написать ноутбук как меняется необходимое количество эпох в завимисимости от размера выбранной части выборки\n",
    "#то есть для подвыборки лучшее качетство получается на n итерациях, как дело обстоит если увеличивать выборку\n",
    "#лучше взять датасет для регресии и поменьше\n",
    "#можно взять несколько датасетов"
   ]
  },
  {
   "cell_type": "code",
   "execution_count": 20,
   "id": "10db0e81",
   "metadata": {
    "execution": {
     "iopub.execute_input": "2022-04-17T18:00:56.202500Z",
     "iopub.status.busy": "2022-04-17T18:00:56.195230Z",
     "iopub.status.idle": "2022-04-17T18:33:53.930050Z",
     "shell.execute_reply": "2022-04-17T18:33:53.930676Z",
     "shell.execute_reply.started": "2022-04-16T16:46:21.262517Z"
    },
    "papermill": {
     "duration": 1977.771955,
     "end_time": "2022-04-17T18:33:53.930891",
     "exception": false,
     "start_time": "2022-04-17T18:00:56.158936",
     "status": "completed"
    },
    "tags": []
   },
   "outputs": [
    {
     "name": "stdout",
     "output_type": "stream",
     "text": [
      "Net DNN_Model_0\n",
      "Net 1/25 fitted\n",
      "Net 2/25 fitted\n",
      "Net 3/25 fitted\n",
      "Net 4/25 fitted\n",
      "Net 5/25 fitted\n",
      "Net 6/25 fitted\n",
      "Net 7/25 fitted\n",
      "Net 8/25 fitted\n",
      "Net 9/25 fitted\n",
      "Net 10/25 fitted\n",
      "Net 11/25 fitted\n",
      "Net 12/25 fitted\n",
      "Net 13/25 fitted\n",
      "Net 14/25 fitted\n",
      "Net 15/25 fitted\n",
      "Net 16/25 fitted\n",
      "Net 17/25 fitted\n",
      "Net 18/25 fitted\n",
      "Net 19/25 fitted\n",
      "Net 20/25 fitted\n",
      "Net 21/25 fitted\n",
      "Net 22/25 fitted\n",
      "Net 23/25 fitted\n",
      "Net 24/25 fitted\n",
      "Net 25/25 fitted\n"
     ]
    }
   ],
   "source": [
    "nn_model = StackedDNN(25, DNN_Model, min_deep=260, max_deep=289)\n",
    "nn_model.fit(data, target, 10, subset=0.85, batch_size=int(1.5*4096))\n",
    "nn_model.save()"
   ]
  },
  {
   "cell_type": "code",
   "execution_count": 21,
   "id": "b255b52e",
   "metadata": {
    "execution": {
     "iopub.execute_input": "2022-04-17T18:33:54.021734Z",
     "iopub.status.busy": "2022-04-17T18:33:54.020708Z",
     "iopub.status.idle": "2022-04-17T19:06:15.029151Z",
     "shell.execute_reply": "2022-04-17T19:06:15.029853Z",
     "shell.execute_reply.started": "2022-04-15T22:40:04.924506Z"
    },
    "papermill": {
     "duration": 1941.057318,
     "end_time": "2022-04-17T19:06:15.030045",
     "exception": false,
     "start_time": "2022-04-17T18:33:53.972727",
     "status": "completed"
    },
    "tags": []
   },
   "outputs": [
    {
     "name": "stdout",
     "output_type": "stream",
     "text": [
      "Net DNN_Model_1\n",
      "Net 1/25 fitted\n",
      "Net 2/25 fitted\n",
      "Net 3/25 fitted\n",
      "Net 4/25 fitted\n",
      "Net 5/25 fitted\n",
      "Net 6/25 fitted\n",
      "Net 7/25 fitted\n",
      "Net 8/25 fitted\n",
      "Net 9/25 fitted\n",
      "Net 10/25 fitted\n",
      "Net 11/25 fitted\n",
      "Net 12/25 fitted\n",
      "Net 13/25 fitted\n",
      "Net 14/25 fitted\n",
      "Net 15/25 fitted\n",
      "Net 16/25 fitted\n",
      "Net 17/25 fitted\n",
      "Net 18/25 fitted\n",
      "Net 19/25 fitted\n",
      "Net 20/25 fitted\n",
      "Net 21/25 fitted\n",
      "Net 22/25 fitted\n",
      "Net 23/25 fitted\n",
      "Net 24/25 fitted\n",
      "Net 25/25 fitted\n"
     ]
    }
   ],
   "source": [
    "nn_model_1 = StackedDNN(25, DNN_Model_1, min_deep=40, max_deep=41)\n",
    "nn_model_1.fit(data, target, 10, subset=0.85, batch_size=int(1.5*4096))\n",
    "nn_model_1.save()"
   ]
  },
  {
   "cell_type": "code",
   "execution_count": 22,
   "id": "d680d843",
   "metadata": {
    "execution": {
     "iopub.execute_input": "2022-04-17T19:06:15.198573Z",
     "iopub.status.busy": "2022-04-17T19:06:15.197513Z",
     "iopub.status.idle": "2022-04-17T19:45:05.948682Z",
     "shell.execute_reply": "2022-04-17T19:45:05.949401Z",
     "shell.execute_reply.started": "2022-04-16T16:47:54.163475Z"
    },
    "papermill": {
     "duration": 2330.867922,
     "end_time": "2022-04-17T19:45:05.949595",
     "exception": false,
     "start_time": "2022-04-17T19:06:15.081673",
     "status": "completed"
    },
    "tags": []
   },
   "outputs": [
    {
     "name": "stdout",
     "output_type": "stream",
     "text": [
      "Net DNN_Model_2\n",
      "Net 1/25 fitted\n",
      "Net 2/25 fitted\n",
      "Net 3/25 fitted\n",
      "Net 4/25 fitted\n",
      "Net 5/25 fitted\n",
      "Net 6/25 fitted\n",
      "Net 7/25 fitted\n",
      "Net 8/25 fitted\n",
      "Net 9/25 fitted\n",
      "Net 10/25 fitted\n",
      "Net 11/25 fitted\n",
      "Net 12/25 fitted\n",
      "Net 13/25 fitted\n",
      "Net 14/25 fitted\n",
      "Net 15/25 fitted\n",
      "Net 16/25 fitted\n",
      "Net 17/25 fitted\n",
      "Net 18/25 fitted\n",
      "Net 19/25 fitted\n",
      "Net 20/25 fitted\n",
      "Net 21/25 fitted\n",
      "Net 22/25 fitted\n",
      "Net 23/25 fitted\n",
      "Net 24/25 fitted\n",
      "Net 25/25 fitted\n"
     ]
    }
   ],
   "source": [
    "nn_model_2 = StackedDNN(25, DNN_Model_2, min_deep=220, max_deep=250)\n",
    "nn_model_2.fit(data, target, 10, subset=0.85, batch_size=int(1.5*4096))\n",
    "nn_model_2.save()"
   ]
  },
  {
   "cell_type": "code",
   "execution_count": 23,
   "id": "d537e83a",
   "metadata": {
    "execution": {
     "iopub.execute_input": "2022-04-17T19:45:06.083872Z",
     "iopub.status.busy": "2022-04-17T19:45:06.082857Z",
     "iopub.status.idle": "2022-04-17T20:18:43.234527Z",
     "shell.execute_reply": "2022-04-17T20:18:43.235203Z",
     "shell.execute_reply.started": "2022-04-15T22:32:54.77661Z"
    },
    "papermill": {
     "duration": 2017.223707,
     "end_time": "2022-04-17T20:18:43.235441",
     "exception": false,
     "start_time": "2022-04-17T19:45:06.011734",
     "status": "completed"
    },
    "tags": []
   },
   "outputs": [
    {
     "name": "stdout",
     "output_type": "stream",
     "text": [
      "Net DNN_Model_3\n",
      "Net 1/25 fitted\n",
      "Net 2/25 fitted\n",
      "Net 3/25 fitted\n",
      "Net 4/25 fitted\n",
      "Net 5/25 fitted\n",
      "Net 6/25 fitted\n",
      "Net 7/25 fitted\n",
      "Net 8/25 fitted\n",
      "Net 9/25 fitted\n",
      "Net 10/25 fitted\n",
      "Net 11/25 fitted\n",
      "Net 12/25 fitted\n",
      "Net 13/25 fitted\n",
      "Net 14/25 fitted\n",
      "Net 15/25 fitted\n",
      "Net 16/25 fitted\n",
      "Net 17/25 fitted\n",
      "Net 18/25 fitted\n",
      "Net 19/25 fitted\n",
      "Net 20/25 fitted\n",
      "Net 21/25 fitted\n",
      "Net 22/25 fitted\n",
      "Net 23/25 fitted\n",
      "Net 24/25 fitted\n",
      "Net 25/25 fitted\n"
     ]
    }
   ],
   "source": [
    "nn_model_3 = StackedDNN(25, DNN_Model_3, min_deep=90, max_deep=110)\n",
    "nn_model_3.fit(data, target, 10, subset=0.85, batch_size=int(1.5*4096))\n",
    "nn_model_3.save()"
   ]
  },
  {
   "cell_type": "code",
   "execution_count": 24,
   "id": "5521fa33",
   "metadata": {
    "execution": {
     "iopub.execute_input": "2022-04-17T20:18:43.392540Z",
     "iopub.status.busy": "2022-04-17T20:18:43.391539Z",
     "iopub.status.idle": "2022-04-17T20:46:57.612641Z",
     "shell.execute_reply": "2022-04-17T20:46:57.613192Z",
     "shell.execute_reply.started": "2022-04-15T22:35:29.171316Z"
    },
    "papermill": {
     "duration": 1694.300459,
     "end_time": "2022-04-17T20:46:57.613430",
     "exception": false,
     "start_time": "2022-04-17T20:18:43.312971",
     "status": "completed"
    },
    "tags": []
   },
   "outputs": [
    {
     "name": "stdout",
     "output_type": "stream",
     "text": [
      "Net DNN_Model_4\n",
      "Net 1/25 fitted\n",
      "Net 2/25 fitted\n",
      "Net 3/25 fitted\n",
      "Net 4/25 fitted\n",
      "Net 5/25 fitted\n",
      "Net 6/25 fitted\n",
      "Net 7/25 fitted\n",
      "Net 8/25 fitted\n",
      "Net 9/25 fitted\n",
      "Net 10/25 fitted\n",
      "Net 11/25 fitted\n",
      "Net 12/25 fitted\n",
      "Net 13/25 fitted\n",
      "Net 14/25 fitted\n",
      "Net 15/25 fitted\n",
      "Net 16/25 fitted\n",
      "Net 17/25 fitted\n",
      "Net 18/25 fitted\n",
      "Net 19/25 fitted\n",
      "Net 20/25 fitted\n",
      "Net 21/25 fitted\n",
      "Net 22/25 fitted\n",
      "Net 23/25 fitted\n",
      "Net 24/25 fitted\n",
      "Net 25/25 fitted\n"
     ]
    }
   ],
   "source": [
    "nn_model_4 = StackedDNN(25, DNN_Model_4, min_deep=90, max_deep=110)\n",
    "nn_model_4.fit(data, target, 10, subset=0.85, batch_size=int(1.5*4096))\n",
    "nn_model_4.save()"
   ]
  },
  {
   "cell_type": "code",
   "execution_count": 25,
   "id": "1800e954",
   "metadata": {
    "execution": {
     "iopub.execute_input": "2022-04-17T20:46:57.784491Z",
     "iopub.status.busy": "2022-04-17T20:46:57.783790Z",
     "iopub.status.idle": "2022-04-17T21:06:18.308125Z",
     "shell.execute_reply": "2022-04-17T21:06:18.308898Z",
     "shell.execute_reply.started": "2022-04-12T22:24:12.142396Z"
    },
    "papermill": {
     "duration": 1160.614015,
     "end_time": "2022-04-17T21:06:18.309341",
     "exception": false,
     "start_time": "2022-04-17T20:46:57.695326",
     "status": "completed"
    },
    "tags": []
   },
   "outputs": [],
   "source": [
    "from catboost import CatBoostRegressor\n",
    "model = CatBoostRegressor(iterations=12000, task_type='GPU', devices='0', silent=True, subsample=0.9, bootstrap_type='Poisson').fit(data, target)"
   ]
  },
  {
   "cell_type": "code",
   "execution_count": 26,
   "id": "55190772",
   "metadata": {
    "execution": {
     "iopub.execute_input": "2022-04-17T21:06:18.662338Z",
     "iopub.status.busy": "2022-04-17T21:06:18.661212Z",
     "iopub.status.idle": "2022-04-17T21:06:18.663799Z",
     "shell.execute_reply": "2022-04-17T21:06:18.664644Z",
     "shell.execute_reply.started": "2022-04-12T22:27:21.594066Z"
    },
    "papermill": {
     "duration": 0.228895,
     "end_time": "2022-04-17T21:06:18.664938",
     "exception": false,
     "start_time": "2022-04-17T21:06:18.436043",
     "status": "completed"
    },
    "tags": []
   },
   "outputs": [],
   "source": [
    "model.save_model(\"cat_model\")"
   ]
  }
 ],
 "metadata": {
  "kernelspec": {
   "display_name": "Python 3",
   "language": "python",
   "name": "python3"
  },
  "language_info": {
   "codemirror_mode": {
    "name": "ipython",
    "version": 3
   },
   "file_extension": ".py",
   "mimetype": "text/x-python",
   "name": "python",
   "nbconvert_exporter": "python",
   "pygments_lexer": "ipython3",
   "version": "3.7.12"
  },
  "papermill": {
   "default_parameters": {},
   "duration": 11572.302467,
   "end_time": "2022-04-17T21:06:21.693703",
   "environment_variables": {},
   "exception": null,
   "input_path": "__notebook__.ipynb",
   "output_path": "__notebook__.ipynb",
   "parameters": {},
   "start_time": "2022-04-17T17:53:29.391236",
   "version": "2.3.3"
  }
 },
 "nbformat": 4,
 "nbformat_minor": 5
}
