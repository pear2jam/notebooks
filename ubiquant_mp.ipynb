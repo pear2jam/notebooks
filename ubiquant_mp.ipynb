{
 "cells": [
  {
   "cell_type": "code",
   "execution_count": 1,
   "id": "62750e2d",
   "metadata": {
    "_cell_guid": "b1076dfc-b9ad-4769-8c92-a6c4dae69d19",
    "_uuid": "8f2839f25d086af736a60e9eeb907d3b93b6e0e5",
    "execution": {
     "iopub.execute_input": "2022-04-07T18:10:08.482813Z",
     "iopub.status.busy": "2022-04-07T18:10:08.478853Z",
     "iopub.status.idle": "2022-04-07T18:10:10.759293Z",
     "shell.execute_reply": "2022-04-07T18:10:10.758608Z",
     "shell.execute_reply.started": "2022-04-07T17:29:52.039519Z"
    },
    "papermill": {
     "duration": 2.357271,
     "end_time": "2022-04-07T18:10:10.759450",
     "exception": false,
     "start_time": "2022-04-07T18:10:08.402179",
     "status": "completed"
    },
    "tags": []
   },
   "outputs": [],
   "source": [
    "import numpy as np\n",
    "import pandas as pd\n",
    "import matplotlib.pyplot as plt\n",
    "%matplotlib inline\n",
    "import seaborn as sns\n",
    "import torch"
   ]
  },
  {
   "cell_type": "code",
   "execution_count": 2,
   "id": "d611787e",
   "metadata": {
    "execution": {
     "iopub.execute_input": "2022-04-07T18:10:10.834979Z",
     "iopub.status.busy": "2022-04-07T18:10:10.834136Z",
     "iopub.status.idle": "2022-04-07T18:10:10.838957Z",
     "shell.execute_reply": "2022-04-07T18:10:10.839372Z",
     "shell.execute_reply.started": "2022-04-07T17:29:55.413727Z"
    },
    "papermill": {
     "duration": 0.043544,
     "end_time": "2022-04-07T18:10:10.839501",
     "exception": false,
     "start_time": "2022-04-07T18:10:10.795957",
     "status": "completed"
    },
    "tags": []
   },
   "outputs": [],
   "source": [
    "data_types_dict = {\n",
    "    'time_id': 'int32',\n",
    "    'investment_id': 'int16',\n",
    "    \"target\": 'float16',\n",
    "}\n",
    "\n",
    "features = [f'f_{i}' for i in range(300)]\n",
    "\n",
    "for f in features:\n",
    "    data_types_dict[f] = 'float16'"
   ]
  },
  {
   "cell_type": "code",
   "execution_count": 3,
   "id": "f4422b53",
   "metadata": {
    "execution": {
     "iopub.execute_input": "2022-04-07T18:10:10.916638Z",
     "iopub.status.busy": "2022-04-07T18:10:10.915870Z",
     "iopub.status.idle": "2022-04-07T18:10:10.935504Z",
     "shell.execute_reply": "2022-04-07T18:10:10.935117Z",
     "shell.execute_reply.started": "2022-04-07T17:29:57.720301Z"
    },
    "papermill": {
     "duration": 0.060241,
     "end_time": "2022-04-07T18:10:10.935623",
     "exception": false,
     "start_time": "2022-04-07T18:10:10.875382",
     "status": "completed"
    },
    "tags": []
   },
   "outputs": [],
   "source": [
    "data = pd.read_csv('../input/ubiquant-market-prediction/train.csv', \n",
    "                       usecols = data_types_dict.keys(),\n",
    "                       dtype=data_types_dict,\n",
    "                       index_col = 0, chunksize = 3141410) #3141410"
   ]
  },
  {
   "cell_type": "code",
   "execution_count": 4,
   "id": "c2adc772",
   "metadata": {
    "execution": {
     "iopub.execute_input": "2022-04-07T18:10:11.011999Z",
     "iopub.status.busy": "2022-04-07T18:10:11.010848Z",
     "iopub.status.idle": "2022-04-07T18:16:22.417432Z",
     "shell.execute_reply": "2022-04-07T18:16:22.417896Z",
     "shell.execute_reply.started": "2022-04-07T17:30:05.345376Z"
    },
    "papermill": {
     "duration": 371.445946,
     "end_time": "2022-04-07T18:16:22.418082",
     "exception": false,
     "start_time": "2022-04-07T18:10:10.972136",
     "status": "completed"
    },
    "tags": []
   },
   "outputs": [
    {
     "name": "stderr",
     "output_type": "stream",
     "text": [
      "/opt/conda/lib/python3.7/site-packages/numpy/lib/arraysetops.py:583: FutureWarning: elementwise comparison failed; returning scalar instead, but in the future will perform elementwise comparison\n",
      "  mask |= (ar1 == a)\n"
     ]
    }
   ],
   "source": [
    "data = next(iter(data))"
   ]
  },
  {
   "cell_type": "code",
   "execution_count": 5,
   "id": "7392a84b",
   "metadata": {
    "execution": {
     "iopub.execute_input": "2022-04-07T18:16:22.502972Z",
     "iopub.status.busy": "2022-04-07T18:16:22.501261Z",
     "iopub.status.idle": "2022-04-07T18:16:22.503556Z",
     "shell.execute_reply": "2022-04-07T18:16:22.503997Z",
     "shell.execute_reply.started": "2022-04-07T17:33:14.854309Z"
    },
    "papermill": {
     "duration": 0.046725,
     "end_time": "2022-04-07T18:16:22.504147",
     "exception": false,
     "start_time": "2022-04-07T18:16:22.457422",
     "status": "completed"
    },
    "tags": []
   },
   "outputs": [],
   "source": [
    "#plt.plot(data.groupby('time_id').count())\n",
    "#plt.plot()"
   ]
  },
  {
   "cell_type": "code",
   "execution_count": 6,
   "id": "ac194d26",
   "metadata": {
    "execution": {
     "iopub.execute_input": "2022-04-07T18:16:22.583027Z",
     "iopub.status.busy": "2022-04-07T18:16:22.582291Z",
     "iopub.status.idle": "2022-04-07T18:16:22.585539Z",
     "shell.execute_reply": "2022-04-07T18:16:22.585940Z",
     "shell.execute_reply.started": "2022-04-07T17:33:59.800477Z"
    },
    "papermill": {
     "duration": 0.045515,
     "end_time": "2022-04-07T18:16:22.586076",
     "exception": false,
     "start_time": "2022-04-07T18:16:22.540561",
     "status": "completed"
    },
    "tags": []
   },
   "outputs": [
    {
     "data": {
      "text/plain": [
       "\"\\ntime_id = 625\\nX_train = data.loc[:time_id-1,]\\nX_test = data.loc[time_id:,]\\nprint(X_train.shape[0], X_test.shape[0])\\n\\ny_train = X_train['target']\\nX_train.drop(['target', 'investment_id'], inplace=True, axis=1)\\n\\ny_test = X_test['target']\\nX_test.drop(['target', 'investment_id'], inplace=True, axis=1)\\nprint(y_train.shape[0], y_test.shape[0])\\nprint(y_test.shape[0]/y_train.shape[0])\\n\""
      ]
     },
     "execution_count": 6,
     "metadata": {},
     "output_type": "execute_result"
    }
   ],
   "source": [
    "\"\"\"\n",
    "time_id = 625\n",
    "X_train = data.loc[:time_id-1,]\n",
    "X_test = data.loc[time_id:,]\n",
    "print(X_train.shape[0], X_test.shape[0])\n",
    "\n",
    "y_train = X_train['target']\n",
    "X_train.drop(['target', 'investment_id'], inplace=True, axis=1)\n",
    "\n",
    "y_test = X_test['target']\n",
    "X_test.drop(['target', 'investment_id'], inplace=True, axis=1)\n",
    "print(y_train.shape[0], y_test.shape[0])\n",
    "print(y_test.shape[0]/y_train.shape[0])\n",
    "\"\"\""
   ]
  },
  {
   "cell_type": "code",
   "execution_count": 7,
   "id": "90016a9c",
   "metadata": {
    "execution": {
     "iopub.execute_input": "2022-04-07T18:16:22.669921Z",
     "iopub.status.busy": "2022-04-07T18:16:22.668821Z",
     "iopub.status.idle": "2022-04-07T18:16:26.295214Z",
     "shell.execute_reply": "2022-04-07T18:16:26.294310Z",
     "shell.execute_reply.started": "2022-04-06T13:34:02.096295Z"
    },
    "papermill": {
     "duration": 3.673282,
     "end_time": "2022-04-07T18:16:26.295358",
     "exception": false,
     "start_time": "2022-04-07T18:16:22.622076",
     "status": "completed"
    },
    "tags": []
   },
   "outputs": [],
   "source": [
    "target = data['target']\n",
    "data.drop(['target', 'investment_id'], inplace=True, axis=1)"
   ]
  },
  {
   "cell_type": "code",
   "execution_count": 8,
   "id": "ddde3468",
   "metadata": {
    "execution": {
     "iopub.execute_input": "2022-04-07T18:16:26.376482Z",
     "iopub.status.busy": "2022-04-07T18:16:26.375833Z",
     "iopub.status.idle": "2022-04-07T18:16:26.378478Z",
     "shell.execute_reply": "2022-04-07T18:16:26.378918Z",
     "shell.execute_reply.started": "2022-04-07T17:34:21.856406Z"
    },
    "papermill": {
     "duration": 0.046249,
     "end_time": "2022-04-07T18:16:26.379062",
     "exception": false,
     "start_time": "2022-04-07T18:16:26.332813",
     "status": "completed"
    },
    "tags": []
   },
   "outputs": [
    {
     "data": {
      "text/plain": [
       "'\\nfrom scipy.stats import pearsonr \\ndef est_score(model):\\n    y_pred = model.predict(X_test)\\n    return pearsonr(y_pred, y_test)[0]\\n'"
      ]
     },
     "execution_count": 8,
     "metadata": {},
     "output_type": "execute_result"
    }
   ],
   "source": [
    "\"\"\"\n",
    "from scipy.stats import pearsonr \n",
    "def est_score(model):\n",
    "    y_pred = model.predict(X_test)\n",
    "    return pearsonr(y_pred, y_test)[0]\n",
    "\"\"\""
   ]
  },
  {
   "cell_type": "code",
   "execution_count": 9,
   "id": "171b7dd4",
   "metadata": {
    "execution": {
     "iopub.execute_input": "2022-04-07T18:16:26.461174Z",
     "iopub.status.busy": "2022-04-07T18:16:26.459811Z",
     "iopub.status.idle": "2022-04-07T18:16:26.463691Z",
     "shell.execute_reply": "2022-04-07T18:16:26.463267Z",
     "shell.execute_reply.started": "2022-04-06T15:53:49.037323Z"
    },
    "papermill": {
     "duration": 0.046862,
     "end_time": "2022-04-07T18:16:26.463816",
     "exception": false,
     "start_time": "2022-04-07T18:16:26.416954",
     "status": "completed"
    },
    "tags": []
   },
   "outputs": [
    {
     "data": {
      "text/plain": [
       "\"\\nfrom sklearn.model_selection import train_test_split\\nX_train, X_test, y_train, y_test = train_test_split(data, data['target'], test_size=0.1, stratify=data.index)\\n\\nX_train.drop(['target', 'investment_id'], inplace=True, axis=1)\\nX_test.drop(['target', 'investment_id'], inplace=True, axis=1)\\n\""
      ]
     },
     "execution_count": 9,
     "metadata": {},
     "output_type": "execute_result"
    }
   ],
   "source": [
    "\"\"\"\n",
    "from sklearn.model_selection import train_test_split\n",
    "X_train, X_test, y_train, y_test = train_test_split(data, data['target'], test_size=0.1, stratify=data.index)\n",
    "\n",
    "X_train.drop(['target', 'investment_id'], inplace=True, axis=1)\n",
    "X_test.drop(['target', 'investment_id'], inplace=True, axis=1)\n",
    "\"\"\""
   ]
  },
  {
   "cell_type": "code",
   "execution_count": 10,
   "id": "c0da343b",
   "metadata": {
    "execution": {
     "iopub.execute_input": "2022-04-07T18:16:26.543748Z",
     "iopub.status.busy": "2022-04-07T18:16:26.542133Z",
     "iopub.status.idle": "2022-04-07T18:16:26.544321Z",
     "shell.execute_reply": "2022-04-07T18:16:26.544730Z",
     "shell.execute_reply.started": "2022-04-07T17:34:11.419360Z"
    },
    "papermill": {
     "duration": 0.043811,
     "end_time": "2022-04-07T18:16:26.544872",
     "exception": false,
     "start_time": "2022-04-07T18:16:26.501061",
     "status": "completed"
    },
    "tags": []
   },
   "outputs": [],
   "source": [
    "#del data"
   ]
  },
  {
   "cell_type": "code",
   "execution_count": 11,
   "id": "6b42c2ab",
   "metadata": {
    "execution": {
     "iopub.execute_input": "2022-04-07T18:16:26.624276Z",
     "iopub.status.busy": "2022-04-07T18:16:26.623472Z",
     "iopub.status.idle": "2022-04-07T18:16:26.626133Z",
     "shell.execute_reply": "2022-04-07T18:16:26.625691Z",
     "shell.execute_reply.started": "2022-04-07T17:34:24.470957Z"
    },
    "papermill": {
     "duration": 0.043433,
     "end_time": "2022-04-07T18:16:26.626246",
     "exception": false,
     "start_time": "2022-04-07T18:16:26.582813",
     "status": "completed"
    },
    "tags": []
   },
   "outputs": [],
   "source": [
    "#from sklearn.linear_model import LinearRegression\n",
    "#reg_model = LinearRegression(copy_X=False).fit(X_train, y_train)"
   ]
  },
  {
   "cell_type": "code",
   "execution_count": 12,
   "id": "e807fb78",
   "metadata": {
    "execution": {
     "iopub.execute_input": "2022-04-07T18:16:26.703921Z",
     "iopub.status.busy": "2022-04-07T18:16:26.703101Z",
     "iopub.status.idle": "2022-04-07T18:16:26.705599Z",
     "shell.execute_reply": "2022-04-07T18:16:26.705192Z",
     "shell.execute_reply.started": "2022-04-07T17:34:56.473865Z"
    },
    "papermill": {
     "duration": 0.042169,
     "end_time": "2022-04-07T18:16:26.705726",
     "exception": false,
     "start_time": "2022-04-07T18:16:26.663557",
     "status": "completed"
    },
    "tags": []
   },
   "outputs": [],
   "source": [
    "#est_score(reg_model)"
   ]
  },
  {
   "cell_type": "code",
   "execution_count": 13,
   "id": "d075a999",
   "metadata": {
    "execution": {
     "iopub.execute_input": "2022-04-07T18:16:26.872685Z",
     "iopub.status.busy": "2022-04-07T18:16:26.872038Z",
     "iopub.status.idle": "2022-04-07T18:16:26.874762Z",
     "shell.execute_reply": "2022-04-07T18:16:26.875203Z",
     "shell.execute_reply.started": "2022-04-07T17:35:05.528410Z"
    },
    "papermill": {
     "duration": 0.13292,
     "end_time": "2022-04-07T18:16:26.875390",
     "exception": false,
     "start_time": "2022-04-07T18:16:26.742470",
     "status": "completed"
    },
    "tags": []
   },
   "outputs": [],
   "source": [
    "device = torch.device('cuda') if torch.cuda.is_available() else torch.device('cpu')\n",
    "\n",
    "def move_to(data, device):\n",
    "    \"\"\"\n",
    "    moving data to device\n",
    "    :param data: data to move\n",
    "    :param device: device\n",
    "    :return: moved data\n",
    "    \"\"\"\n",
    "\n",
    "    if isinstance(data, (list, tuple)):\n",
    "        return [move_to(x, device) for x in data]\n",
    "    return data.to(device, non_blocking=True)"
   ]
  },
  {
   "cell_type": "code",
   "execution_count": 14,
   "id": "720a6baf",
   "metadata": {
    "execution": {
     "iopub.execute_input": "2022-04-07T18:16:26.958504Z",
     "iopub.status.busy": "2022-04-07T18:16:26.957648Z",
     "iopub.status.idle": "2022-04-07T18:16:26.959609Z",
     "shell.execute_reply": "2022-04-07T18:16:26.960103Z",
     "shell.execute_reply.started": "2022-04-07T17:35:06.971804Z"
    },
    "papermill": {
     "duration": 0.046044,
     "end_time": "2022-04-07T18:16:26.960241",
     "exception": false,
     "start_time": "2022-04-07T18:16:26.914197",
     "status": "completed"
    },
    "tags": []
   },
   "outputs": [],
   "source": [
    "def batch_loader(X, y, batch_size = 4096, equal=False):\n",
    "    i = 0\n",
    "    while True:\n",
    "        if i + batch_size >= y.shape[0]: \n",
    "            break\n",
    "            \n",
    "        yield X.iloc[i:i+batch_size, :], y[i:i+batch_size]\n",
    "        i += batch_size"
   ]
  },
  {
   "cell_type": "code",
   "execution_count": 15,
   "id": "aaaff961",
   "metadata": {
    "execution": {
     "iopub.execute_input": "2022-04-07T18:16:27.043429Z",
     "iopub.status.busy": "2022-04-07T18:16:27.041829Z",
     "iopub.status.idle": "2022-04-07T18:16:27.044012Z",
     "shell.execute_reply": "2022-04-07T18:16:27.044404Z",
     "shell.execute_reply.started": "2022-04-07T17:35:08.962081Z"
    },
    "papermill": {
     "duration": 0.04588,
     "end_time": "2022-04-07T18:16:27.044532",
     "exception": false,
     "start_time": "2022-04-07T18:16:26.998652",
     "status": "completed"
    },
    "tags": []
   },
   "outputs": [],
   "source": [
    "def pearson_loss(x, y):\n",
    "    vx = x - torch.mean(x)\n",
    "    vy = y - torch.mean(y)\n",
    "    loss = -torch.sum(vx*vy) / (torch.sqrt(torch.sum(vx*vx)) * torch.sqrt(torch.sum(vy*vy)))\n",
    "    return loss"
   ]
  },
  {
   "cell_type": "code",
   "execution_count": 16,
   "id": "8d320bae",
   "metadata": {
    "execution": {
     "iopub.execute_input": "2022-04-07T18:16:27.151634Z",
     "iopub.status.busy": "2022-04-07T18:16:27.150660Z",
     "iopub.status.idle": "2022-04-07T18:16:27.152488Z",
     "shell.execute_reply": "2022-04-07T18:16:27.153117Z",
     "shell.execute_reply.started": "2022-04-07T17:35:10.349863Z"
    },
    "papermill": {
     "duration": 0.071108,
     "end_time": "2022-04-07T18:16:27.153293",
     "exception": false,
     "start_time": "2022-04-07T18:16:27.082185",
     "status": "completed"
    },
    "tags": []
   },
   "outputs": [],
   "source": [
    "class DNN_Model(torch.nn.Module):\n",
    "    def __init__(self, deep_size):\n",
    "        super().__init__()\n",
    "        self.linear1_1 = torch.nn.Linear(300, deep_size)\n",
    "        self.linear1_2 = torch.nn.Linear(deep_size, deep_size)\n",
    "        \n",
    "        self.linear2_1 = torch.nn.Linear(deep_size, deep_size)\n",
    "        self.linear2_2 = torch.nn.Linear(deep_size, deep_size)\n",
    "        \n",
    "        self.linear3_1 = torch.nn.Linear(deep_size, deep_size)\n",
    "        self.linear3_2 = torch.nn.Linear(deep_size, deep_size)\n",
    "        \n",
    "        self.linear4_1 = torch.nn.Linear(deep_size, deep_size)\n",
    "        self.linear4_2 = torch.nn.Linear(deep_size, deep_size)\n",
    "        \n",
    "        self.linear5_1 = torch.nn.Linear(deep_size, deep_size)\n",
    "        self.linear5_2 = torch.nn.Linear(deep_size, deep_size)\n",
    "        \n",
    "        self.linear6_1 = torch.nn.Linear(deep_size, deep_size)\n",
    "        self.linear6_2 = torch.nn.Linear(deep_size, deep_size)\n",
    "        \n",
    "        self.linear7_1 = torch.nn.Linear(deep_size, deep_size)\n",
    "        self.linear7_2 = torch.nn.Linear(deep_size, 1)\n",
    "        \n",
    "        self.dout = torch.nn.Dropout(p=0.3)\n",
    "        self.act = torch.nn.SiLU()\n",
    "    def fit(self, X, y, iters, batch_size = 4096, subset = 0.8, silent=False, plot=False, val=False, X_val=None, y_val=None):\n",
    "        if val:\n",
    "            tensor_train_val = move_to(torch.FloatTensor(X_val.values), device)\n",
    "            tensor_y_val = move_to(torch.FloatTensor(y_val.values), device)\n",
    "        scores_train = []\n",
    "        scores_val = []\n",
    "        \n",
    "        opt = torch.optim.Adam(self.parameters(), lr=1e-3)\n",
    "        \n",
    "        for epoch in range(iters):\n",
    "            i = 0\n",
    "            #learning cycle\n",
    "            for X_batch, y_batch in batch_loader(X, y):\n",
    "                self.train()\n",
    "                self.zero_grad()\n",
    "                X_tensor = move_to(torch.FloatTensor(X_batch.values), device)\n",
    "                y_tensor = move_to(torch.FloatTensor(y_batch.values), device)\n",
    "                loss = pearson_loss(self.tensor_forward(X_tensor).view(-1), y_tensor)\n",
    "                loss.backward()\n",
    "                opt.step()\n",
    "                i+=batch_size\n",
    "                \n",
    "            #prints\n",
    "            if val:\n",
    "                self.eval()\n",
    "                val_loss = pearson_loss(self.tensor_forward(tensor_train_val).view(-1), tensor_y_val)\n",
    "                scores_val.append(float(val_loss.detach()))\n",
    "            scores_train.append(float(loss.detach()))\n",
    "            \n",
    "            if not silent:\n",
    "                print(f'epoch {epoch} finished with {loss} loss')\n",
    "                if val:\n",
    "                    print(f'val loss {val_loss}')\n",
    "                \n",
    "            \n",
    "        if not silent:\n",
    "            print(f'Finished with {loss} loss')\n",
    "        if plot:\n",
    "            if val:\n",
    "                sns.lineplot(x=range(iters), y=scores_train, label='train')\n",
    "                sns.lineplot(x=range(iters), y=scores_val, label='val')\n",
    "            else:\n",
    "                sns.lineplot(scores_train)\n",
    "            plt.plot()\n",
    "                \n",
    "    def tensor_forward(self, X_tensor):\n",
    "        X_tensor = move_to(X_tensor, device)\n",
    "        tensor_X = self.act(self.linear1_1(X_tensor))\n",
    "        res_1 = self.act(self.linear1_2(tensor_X))\n",
    "        \n",
    "        tensor_X = self.act(self.linear2_1(res_1))\n",
    "        tensor_X = self.dout(tensor_X)\n",
    "        res_2 = self.act(self.linear2_2(tensor_X))\n",
    "        \n",
    "        tensor_X = self.act(self.linear3_1(res_2))\n",
    "        tensor_X = self.dout(tensor_X)\n",
    "        res_3 = self.act(self.linear3_2(tensor_X))\n",
    "        \n",
    "        tensor_X = self.act(self.linear4_1(res_3))\n",
    "        tensor_X = self.act(self.linear4_2(tensor_X))\n",
    "        \n",
    "        tensor_X = self.act(self.linear5_1(tensor_X + res_3))\n",
    "        tensor_X = self.dout(tensor_X)\n",
    "        tensor_X = self.act(self.linear5_2(tensor_X))\n",
    "        \n",
    "        tensor_X = self.act(self.linear6_1(tensor_X + res_2))\n",
    "        tensor_X = self.dout(tensor_X)\n",
    "        tensor_X = self.act(self.linear6_2(tensor_X))\n",
    "        \n",
    "        tensor_X = self.act(self.linear7_1(tensor_X + res_1))\n",
    "        tensor_X = self.linear7_2(tensor_X)\n",
    "        return tensor_X \n",
    "\n",
    "    def forward(self, X):\n",
    "        tensor_X = torch.FloatTensor(X.values)\n",
    "        return self.tensor_forward(tensor_X)"
   ]
  },
  {
   "cell_type": "code",
   "execution_count": 17,
   "id": "d509bc6e",
   "metadata": {
    "execution": {
     "iopub.execute_input": "2022-04-07T18:16:27.262746Z",
     "iopub.status.busy": "2022-04-07T18:16:27.242121Z",
     "iopub.status.idle": "2022-04-07T18:16:27.265489Z",
     "shell.execute_reply": "2022-04-07T18:16:27.264995Z",
     "shell.execute_reply.started": "2022-04-07T17:35:12.934275Z"
    },
    "papermill": {
     "duration": 0.069162,
     "end_time": "2022-04-07T18:16:27.265639",
     "exception": false,
     "start_time": "2022-04-07T18:16:27.196477",
     "status": "completed"
    },
    "tags": []
   },
   "outputs": [],
   "source": [
    "class DNN_Model_1(torch.nn.Module):\n",
    "    def __init__(self, deep_size):\n",
    "        super().__init__()\n",
    "        act_1 = torch.nn.SiLU\n",
    "        act_2 = torch.nn.ReLU\n",
    "        self.model = self.model = torch.nn.Sequential(\n",
    "            torch.nn.Linear(300, deep_size),\n",
    "            act_1(),\n",
    "            \n",
    "            torch.nn.Linear(deep_size, deep_size),\n",
    "            act_1(),\n",
    "            torch.nn.Linear(deep_size, deep_size),\n",
    "            act_1(),\n",
    "            torch.nn.Linear(deep_size, deep_size),\n",
    "            act_1(),\n",
    "            torch.nn.Dropout(p=0.3),\n",
    "            \n",
    "            torch.nn.Linear(deep_size, deep_size),\n",
    "            act_1(),\n",
    "            torch.nn.Linear(deep_size, deep_size),\n",
    "            act_1(),\n",
    "            torch.nn.Linear(deep_size, deep_size),\n",
    "            act_1(),\n",
    "            torch.nn.Dropout(p=0.3),\n",
    "            \n",
    "            torch.nn.Linear(deep_size, deep_size),\n",
    "            act_1(),\n",
    "            torch.nn.Linear(deep_size, deep_size),\n",
    "            act_1(),\n",
    "            torch.nn.Linear(deep_size, deep_size),\n",
    "            act_1(),\n",
    "            torch.nn.Dropout(p=0.3),\n",
    "            \n",
    "            torch.nn.Linear(deep_size, deep_size),\n",
    "            act_1(),\n",
    "            torch.nn.Linear(deep_size, deep_size),\n",
    "            act_1(),\n",
    "            torch.nn.Linear(deep_size, deep_size),\n",
    "            act_1(),\n",
    "            torch.nn.Dropout(p=0.3),\n",
    "            \n",
    "            torch.nn.Linear(deep_size, deep_size),\n",
    "            act_1(),\n",
    "            torch.nn.Linear(deep_size, deep_size),\n",
    "            act_1(),\n",
    "            torch.nn.Linear(deep_size, deep_size),\n",
    "            act_1(),\n",
    "            torch.nn.Dropout(p=0.3),\n",
    "            \n",
    "            torch.nn.Linear(deep_size, 1)\n",
    "            \n",
    "        )\n",
    "    def fit(self, X, y, iters, batch_size = 4096, subset = 0.8, silent=False, plot=False, val=False, X_val=None, y_val=None):\n",
    "        if val:\n",
    "            tensor_train_val = move_to(torch.FloatTensor(X_val.values), device)\n",
    "            tensor_y_val = move_to(torch.FloatTensor(y_val.values), device)\n",
    "        scores_train = []\n",
    "        scores_val = []\n",
    "        \n",
    "        opt = torch.optim.Adam(self.parameters(), lr=5e-4)\n",
    "        \n",
    "        for epoch in range(iters):\n",
    "            i = 0\n",
    "            #learning cycle\n",
    "            while i + batch_size < y.shape[0]: \n",
    "                self.train()\n",
    "                self.zero_grad()\n",
    "                X_tensor = move_to(torch.FloatTensor(X.iloc[i:i+batch_size, :].values), device)\n",
    "                y_tensor = move_to(torch.FloatTensor(y[i:i+batch_size].values), device)\n",
    "                loss = pearson_loss(self.tensor_forward(X_tensor).view(-1), y_tensor)\n",
    "                loss.backward()\n",
    "                opt.step()\n",
    "                i+=batch_size\n",
    "                \n",
    "            #prints\n",
    "            if val:\n",
    "                self.eval()\n",
    "                val_loss = pearson_loss(self.tensor_forward(tensor_train_val).view(-1), tensor_y_val)\n",
    "                scores_val.append(float(val_loss.detach()))\n",
    "            scores_train.append(float(loss.detach()))\n",
    "            \n",
    "            if not silent:\n",
    "                print(f'epoch {epoch} finished with {loss} loss')\n",
    "                if val:\n",
    "                    print(f'val loss {val_loss}')\n",
    "                \n",
    "            \n",
    "        if not silent:\n",
    "            print(f'Finished with {loss} loss')\n",
    "        if plot:\n",
    "            if val:\n",
    "                sns.lineplot(x=range(iters), y=scores_train, label='train')\n",
    "                sns.lineplot(x=range(iters), y=scores_val, label='val')\n",
    "            else:\n",
    "                sns.lineplot(scores_train)\n",
    "            plt.plot()\n",
    "                \n",
    "    def tensor_forward(self, X_tensor):\n",
    "        X_tensor = move_to(X_tensor, device)\n",
    "        return self.model(X_tensor)\n",
    "\n",
    "    def forward(self, X):\n",
    "        tensor_X = torch.FloatTensor(X.values)\n",
    "        return self.tensor_forward(tensor_X)"
   ]
  },
  {
   "cell_type": "code",
   "execution_count": 18,
   "id": "ca851fc5",
   "metadata": {
    "execution": {
     "iopub.execute_input": "2022-04-07T18:16:27.374772Z",
     "iopub.status.busy": "2022-04-07T18:16:27.372869Z",
     "iopub.status.idle": "2022-04-07T18:16:27.375403Z",
     "shell.execute_reply": "2022-04-07T18:16:27.375882Z",
     "shell.execute_reply.started": "2022-04-07T17:35:16.045145Z"
    },
    "papermill": {
     "duration": 0.067986,
     "end_time": "2022-04-07T18:16:27.376041",
     "exception": false,
     "start_time": "2022-04-07T18:16:27.308055",
     "status": "completed"
    },
    "tags": []
   },
   "outputs": [],
   "source": [
    "class DNN_Model_2(torch.nn.Module):\n",
    "    def __init__(self, deep_size):\n",
    "        super().__init__()\n",
    "        self.model = torch.nn.Sequential(\n",
    "            torch.nn.Linear(300, deep_size),\n",
    "            torch.nn.SiLU(),\n",
    "            torch.nn.Linear(deep_size, deep_size),\n",
    "            torch.nn.SiLU(),\n",
    "            torch.nn.Dropout(p=0.3),\n",
    "            \n",
    "            torch.nn.Linear(deep_size, deep_size),\n",
    "            torch.nn.SiLU(),\n",
    "            torch.nn.Linear(deep_size, deep_size),\n",
    "            torch.nn.SiLU(),\n",
    "            torch.nn.Dropout(p=0.3),\n",
    "            \n",
    "            torch.nn.Linear(deep_size, deep_size),\n",
    "            torch.nn.SiLU(),\n",
    "            torch.nn.Linear(deep_size, deep_size),\n",
    "            torch.nn.SiLU(),\n",
    "            torch.nn.Dropout(p=0.3),\n",
    "            \n",
    "            torch.nn.Linear(deep_size, deep_size),\n",
    "            torch.nn.SiLU(),\n",
    "            torch.nn.Linear(deep_size, deep_size),\n",
    "            torch.nn.SiLU(),\n",
    "            torch.nn.Dropout(p=0.3),\n",
    "            \n",
    "            torch.nn.Linear(deep_size, deep_size),\n",
    "            torch.nn.SiLU(),\n",
    "            torch.nn.Linear(deep_size, deep_size),\n",
    "            torch.nn.SiLU(),\n",
    "            torch.nn.Dropout(p=0.3),\n",
    "            \n",
    "            torch.nn.Linear(deep_size, deep_size),\n",
    "            torch.nn.SiLU(),\n",
    "            torch.nn.Dropout(p=0.3),\n",
    "            \n",
    "            torch.nn.Linear(deep_size, deep_size),\n",
    "            torch.nn.SiLU(),\n",
    "            torch.nn.Linear(deep_size, 1)\n",
    "        )\n",
    "\n",
    "    def fit(self, X, y, iters, batch_size = 4096, subset = 0.8, silent=False, plot=False, val=False, X_val=None, y_val=None):\n",
    "        self = move_to(self, device)\n",
    "        if val:\n",
    "            tensor_train_val = move_to(torch.FloatTensor(X_val.values), device)\n",
    "            tensor_y_val = move_to(torch.FloatTensor(y_val.values), device)\n",
    "        scores_train = []\n",
    "        scores_val = []\n",
    "        \n",
    "        opt = torch.optim.Adam(self.parameters(), lr=5e-4)\n",
    "        \n",
    "        for epoch in range(iters):\n",
    "            i = 0\n",
    "            #learning cycle\n",
    "            while i + batch_size < y.shape[0]: \n",
    "                self.train()\n",
    "                self.zero_grad()\n",
    "                X_tensor = move_to(torch.FloatTensor(X.iloc[i:i+batch_size, :].values), device)\n",
    "                y_tensor = move_to(torch.FloatTensor(y[i:i+batch_size].values), device)\n",
    "                loss = pearson_loss(self.tensor_forward(X_tensor).view(-1), y_tensor)\n",
    "                loss.backward()\n",
    "                opt.step()\n",
    "                i+=batch_size\n",
    "                \n",
    "            #prints\n",
    "            if val:\n",
    "                self.eval()\n",
    "                val_loss = pearson_loss(self.tensor_forward(tensor_train_val).view(-1), tensor_y_val)\n",
    "                scores_val.append(float(val_loss.detach()))\n",
    "            scores_train.append(float(loss.detach()))\n",
    "            \n",
    "            if not silent:\n",
    "                print(f'epoch {epoch} finished with {loss} loss')\n",
    "                if val:\n",
    "                    print(f'val loss {val_loss}')\n",
    "                \n",
    "            \n",
    "        if not silent:\n",
    "            print(f'Finished with {loss} loss')\n",
    "        if plot:\n",
    "            if val:\n",
    "                sns.lineplot(x=range(iters), y=scores_train, label='train')\n",
    "                sns.lineplot(x=range(iters), y=scores_val, label='val')\n",
    "            else:\n",
    "                sns.lineplot(scores_train)\n",
    "            plt.plot()\n",
    "                \n",
    "    def tensor_forward(self, X_tensor):\n",
    "        X_tensor = move_to(X_tensor, device)\n",
    "        return self.model(X_tensor)\n",
    "\n",
    "    def forward(self, X):\n",
    "        tensor_X = torch.FloatTensor(X.values)\n",
    "        return self.tensor_forward(tensor_X)"
   ]
  },
  {
   "cell_type": "code",
   "execution_count": 19,
   "id": "ef7addaa",
   "metadata": {
    "execution": {
     "iopub.execute_input": "2022-04-07T18:16:27.468341Z",
     "iopub.status.busy": "2022-04-07T18:16:27.467371Z",
     "iopub.status.idle": "2022-04-07T18:16:27.488843Z",
     "shell.execute_reply": "2022-04-07T18:16:27.488344Z",
     "shell.execute_reply.started": "2022-04-07T17:35:18.511510Z"
    },
    "papermill": {
     "duration": 0.070724,
     "end_time": "2022-04-07T18:16:27.488981",
     "exception": false,
     "start_time": "2022-04-07T18:16:27.418257",
     "status": "completed"
    },
    "tags": []
   },
   "outputs": [],
   "source": [
    "class DNN_Model_3(torch.nn.Module):\n",
    "    def __init__(self, deep_size):\n",
    "        super().__init__()\n",
    "        self.linear1 = torch.nn.Linear(300, deep_size)\n",
    "        \n",
    "        self.linear2_1 = torch.nn.Linear(deep_size, deep_size)\n",
    "        self.linear2_2 = torch.nn.Linear(deep_size, deep_size)\n",
    "        self.linear2_3 = torch.nn.Linear(deep_size, deep_size)\n",
    "        \n",
    "        self.linear3_1 = torch.nn.Linear(deep_size, deep_size)\n",
    "        self.linear3_2 = torch.nn.Linear(deep_size, deep_size)\n",
    "        self.linear3_3 = torch.nn.Linear(deep_size, deep_size)\n",
    "        \n",
    "        self.linear4_1 = torch.nn.Linear(deep_size, deep_size)\n",
    "        self.linear4_2 = torch.nn.Linear(deep_size, deep_size)\n",
    "        self.linear4_3 = torch.nn.Linear(deep_size, deep_size)\n",
    "        \n",
    "        self.linear5_1 = torch.nn.Linear(deep_size, deep_size)\n",
    "        self.linear5_2 = torch.nn.Linear(deep_size, deep_size)\n",
    "        self.linear5_3 = torch.nn.Linear(deep_size, deep_size)\n",
    "        \n",
    "        self.linear6_1 = torch.nn.Linear(deep_size, deep_size)\n",
    "        self.linear6_2 = torch.nn.Linear(deep_size, 1)\n",
    "        \n",
    "        self.act = torch.nn.SiLU()\n",
    "        self.dout = torch.nn.Dropout(p=0.5)\n",
    "\n",
    "    def fit(self, X, y, iters, batch_size = 4096, subset = 0.8, silent=False, plot=False, val=False, X_val=None, y_val=None):\n",
    "        self = move_to(self, device)\n",
    "        if val:\n",
    "            tensor_train_val = move_to(torch.FloatTensor(X_val.values), device)\n",
    "            tensor_y_val = move_to(torch.FloatTensor(y_val.values), device)\n",
    "        scores_train = []\n",
    "        scores_val = []\n",
    "        \n",
    "        opt = torch.optim.Adam(self.parameters(), lr=1e-3)\n",
    "        \n",
    "        for epoch in range(iters):\n",
    "            i = 0\n",
    "            #learning cycle\n",
    "            while i + batch_size < y.shape[0]: \n",
    "                self.train()\n",
    "                self.zero_grad()\n",
    "                X_tensor = move_to(torch.FloatTensor(X.iloc[i:i+batch_size, :].values), device)\n",
    "                y_tensor = move_to(torch.FloatTensor(y[i:i+batch_size].values), device)\n",
    "                loss = pearson_loss(self.tensor_forward(X_tensor).view(-1), y_tensor)\n",
    "                loss.backward()\n",
    "                opt.step()\n",
    "                i+=batch_size\n",
    "                \n",
    "            #prints\n",
    "            if val:\n",
    "                self.eval()\n",
    "                val_loss = pearson_loss(self.tensor_forward(tensor_train_val).view(-1), tensor_y_val)\n",
    "                scores_val.append(float(val_loss.detach()))\n",
    "            scores_train.append(float(loss.detach()))\n",
    "            \n",
    "            if not silent:\n",
    "                print(f'epoch {epoch} finished with {loss} loss')\n",
    "                if val:\n",
    "                    print(f'val loss {val_loss}')\n",
    "                \n",
    "            \n",
    "        if not silent:\n",
    "            print(f'Finished with {loss} loss')\n",
    "        if plot:\n",
    "            if val:\n",
    "                sns.lineplot(x=range(iters), y=scores_train, label='train')\n",
    "                sns.lineplot(x=range(iters), y=scores_val, label='val')\n",
    "            else:\n",
    "                sns.lineplot(scores_train)\n",
    "            plt.plot()\n",
    "                \n",
    "    def tensor_forward(self, X_tensor):\n",
    "        X_tensor = move_to(X_tensor, device)\n",
    "        \n",
    "        X_tensor = self.act(self.linear1(X_tensor))\n",
    "        \n",
    "        X_tensor = self.act(self.linear2_1(X_tensor))\n",
    "        X_tensor = self.act(self.linear2_2(X_tensor))\n",
    "        X_tensor = self.dout(X_tensor)\n",
    "        res_2 = self.act(self.linear2_3(X_tensor))\n",
    "        \n",
    "        \n",
    "        #res_2 = X_tensor\n",
    "        \n",
    "        X_tensor = self.act(self.linear3_1(res_2))\n",
    "        X_tensor = self.act(self.linear3_2(X_tensor))\n",
    "        X_tensor = self.dout(X_tensor)\n",
    "        res_3 = self.act(self.linear3_3(X_tensor))\n",
    "        \n",
    "        \n",
    "        #res_3 = X_tensor\n",
    "        \n",
    "        X_tensor = self.act(self.linear4_1(res_2 + res_3))\n",
    "        X_tensor = self.act(self.linear4_2(X_tensor))\n",
    "        X_tensor = self.dout(X_tensor)\n",
    "        res_4 = self.act(self.linear4_3(X_tensor))\n",
    "        \n",
    "        res_4 = X_tensor\n",
    "\n",
    "        X_tensor = self.act(self.linear5_1(res_3 + res_4))\n",
    "        X_tensor = self.act(self.linear5_2(X_tensor))\n",
    "        X_tensor = self.dout(X_tensor)\n",
    "        X_tensor = self.act(self.linear5_3(X_tensor))\n",
    "        \n",
    "        X_tensor = self.act(self.linear6_1(X_tensor + res_4))\n",
    "        X_tensor = self.linear6_2(X_tensor)\n",
    "        \n",
    "        return X_tensor\n",
    "        \n",
    "\n",
    "    def forward(self, X):\n",
    "        tensor_X = torch.FloatTensor(X.values)\n",
    "        return self.tensor_forward(tensor_X)"
   ]
  },
  {
   "cell_type": "code",
   "execution_count": 20,
   "id": "e461e4b9",
   "metadata": {
    "execution": {
     "iopub.execute_input": "2022-04-07T18:16:27.577553Z",
     "iopub.status.busy": "2022-04-07T18:16:27.576640Z",
     "iopub.status.idle": "2022-04-07T18:16:27.578927Z",
     "shell.execute_reply": "2022-04-07T18:16:27.578410Z",
     "shell.execute_reply.started": "2022-04-07T17:57:14.310828Z"
    },
    "papermill": {
     "duration": 0.044215,
     "end_time": "2022-04-07T18:16:27.579049",
     "exception": false,
     "start_time": "2022-04-07T18:16:27.534834",
     "status": "completed"
    },
    "tags": []
   },
   "outputs": [],
   "source": [
    "#написать subsample еще раз (также попробовать booststrap)\n",
    "#написать еще пару моделей, желательно как можно более разных\n",
    "#из большого количества моделей выбрать топ лучших (на полном датасете!)\n",
    "#продумать как можно (например с помощью матрицы корреляции) стакать сети в одной модели чтобы увеличить скор\n",
    "#поработать с бустами, попробовать их пообъединять"
   ]
  },
  {
   "cell_type": "code",
   "execution_count": 21,
   "id": "789c9431",
   "metadata": {
    "execution": {
     "iopub.execute_input": "2022-04-07T18:16:27.658384Z",
     "iopub.status.busy": "2022-04-07T18:16:27.657549Z",
     "iopub.status.idle": "2022-04-07T18:16:27.667194Z",
     "shell.execute_reply": "2022-04-07T18:16:27.667585Z",
     "shell.execute_reply.started": "2022-04-07T17:35:37.858982Z"
    },
    "papermill": {
     "duration": 0.049271,
     "end_time": "2022-04-07T18:16:27.667734",
     "exception": false,
     "start_time": "2022-04-07T18:16:27.618463",
     "status": "completed"
    },
    "tags": []
   },
   "outputs": [],
   "source": [
    "class StackedDNN:\n",
    "    def __init__(self, n, model, min_deep=30, max_deep=40, min_iter=10, max_iter=15):\n",
    "        self.nets = [model(np.random.randint(min_deep, max_deep)) for i in range(n)]\n",
    "        for net in self.nets:\n",
    "            net = move_to(net, device)\n",
    "        self.min_iter=min_iter\n",
    "        self.max_iter=max_iter\n",
    "    \n",
    "    def fit(self, X, y, batch_size=4096, subset=0.8):\n",
    "        for i in range(len(self.nets)):\n",
    "            self.nets[i].fit(X, y, np.random.randint(self.min_iter, self.max_iter), batch_size, subset, silent=True, plot=False, val=False, X_val=None, y_val=None)\n",
    "            print(f'{i+1}/{len(self.nets)} fitted')\n",
    "        \n",
    "    def predict(self, X):\n",
    "        y_pred = np.ndarray([len(self.nets), X.shape[0]])\n",
    "        for i in range(len(self.nets)):\n",
    "            self.nets[i].eval()\n",
    "            y_pred[i] = np.array(self.nets[i].forward(X).detach().view(-1).cpu())\n",
    "        y_pred /= len(self.nets)\n",
    "        return np.sum(y_pred, axis=0)"
   ]
  },
  {
   "cell_type": "code",
   "execution_count": 22,
   "id": "763f12f3",
   "metadata": {
    "execution": {
     "iopub.execute_input": "2022-04-07T18:16:27.744358Z",
     "iopub.status.busy": "2022-04-07T18:16:27.743560Z",
     "iopub.status.idle": "2022-04-07T18:16:27.746796Z",
     "shell.execute_reply": "2022-04-07T18:16:27.747178Z"
    },
    "papermill": {
     "duration": 0.042761,
     "end_time": "2022-04-07T18:16:27.747310",
     "exception": false,
     "start_time": "2022-04-07T18:16:27.704549",
     "status": "completed"
    },
    "tags": []
   },
   "outputs": [],
   "source": [
    "#0   0.16049979767507658\n",
    "#1   0.16195405253013023\n",
    "#2   0.16213173833206326\n",
    "#3   0.16256979869460275\n",
    "#4"
   ]
  },
  {
   "cell_type": "code",
   "execution_count": 23,
   "id": "7375f597",
   "metadata": {
    "execution": {
     "iopub.execute_input": "2022-04-07T18:16:27.825066Z",
     "iopub.status.busy": "2022-04-07T18:16:27.824270Z",
     "iopub.status.idle": "2022-04-07T18:16:30.336979Z",
     "shell.execute_reply": "2022-04-07T18:16:30.336450Z",
     "shell.execute_reply.started": "2022-04-07T17:35:51.526134Z"
    },
    "papermill": {
     "duration": 2.552855,
     "end_time": "2022-04-07T18:16:30.337114",
     "exception": false,
     "start_time": "2022-04-07T18:16:27.784259",
     "status": "completed"
    },
    "tags": []
   },
   "outputs": [],
   "source": [
    "nn_model = StackedDNN(25, DNN_Model, min_iter=5, max_iter=8, min_deep=90, max_deep=110)\n",
    "\n",
    "#nn_model = StackedDNN(1, DNN_Model, min_iter=6, max_iter=11, min_deep=280, max_deep=301)"
   ]
  },
  {
   "cell_type": "code",
   "execution_count": 24,
   "id": "91b4e014",
   "metadata": {
    "execution": {
     "iopub.execute_input": "2022-04-07T18:16:30.417939Z",
     "iopub.status.busy": "2022-04-07T18:16:30.417337Z",
     "iopub.status.idle": "2022-04-07T18:39:26.869155Z",
     "shell.execute_reply": "2022-04-07T18:39:26.869595Z",
     "shell.execute_reply.started": "2022-04-07T17:35:55.912139Z"
    },
    "papermill": {
     "duration": 1376.495432,
     "end_time": "2022-04-07T18:39:26.869782",
     "exception": false,
     "start_time": "2022-04-07T18:16:30.374350",
     "status": "completed"
    },
    "tags": []
   },
   "outputs": [
    {
     "name": "stdout",
     "output_type": "stream",
     "text": [
      "1/25 fitted\n",
      "2/25 fitted\n",
      "3/25 fitted\n",
      "4/25 fitted\n",
      "5/25 fitted\n",
      "6/25 fitted\n",
      "7/25 fitted\n",
      "8/25 fitted\n",
      "9/25 fitted\n",
      "10/25 fitted\n",
      "11/25 fitted\n",
      "12/25 fitted\n",
      "13/25 fitted\n",
      "14/25 fitted\n",
      "15/25 fitted\n",
      "16/25 fitted\n",
      "17/25 fitted\n",
      "18/25 fitted\n",
      "19/25 fitted\n",
      "20/25 fitted\n",
      "21/25 fitted\n",
      "22/25 fitted\n",
      "23/25 fitted\n",
      "24/25 fitted\n",
      "25/25 fitted\n"
     ]
    }
   ],
   "source": [
    "nn_model.fit(data, target)"
   ]
  },
  {
   "cell_type": "code",
   "execution_count": 25,
   "id": "14476c35",
   "metadata": {
    "execution": {
     "iopub.execute_input": "2022-04-07T18:39:26.965632Z",
     "iopub.status.busy": "2022-04-07T18:39:26.963931Z",
     "iopub.status.idle": "2022-04-07T18:39:26.966217Z",
     "shell.execute_reply": "2022-04-07T18:39:26.966624Z",
     "shell.execute_reply.started": "2022-04-07T17:57:21.226180Z"
    },
    "papermill": {
     "duration": 0.051029,
     "end_time": "2022-04-07T18:39:26.966774",
     "exception": false,
     "start_time": "2022-04-07T18:39:26.915745",
     "status": "completed"
    },
    "tags": []
   },
   "outputs": [],
   "source": [
    "#res = nn_model.predict(X_test)\n",
    "#pearsonr(res, y_test)[0]"
   ]
  },
  {
   "cell_type": "code",
   "execution_count": 26,
   "id": "afa9d52c",
   "metadata": {
    "execution": {
     "iopub.execute_input": "2022-04-07T18:39:27.062256Z",
     "iopub.status.busy": "2022-04-07T18:39:27.061431Z",
     "iopub.status.idle": "2022-04-07T18:39:27.240059Z",
     "shell.execute_reply": "2022-04-07T18:39:27.239559Z",
     "shell.execute_reply.started": "2022-04-07T17:38:42.413545Z"
    },
    "papermill": {
     "duration": 0.228658,
     "end_time": "2022-04-07T18:39:27.240200",
     "exception": false,
     "start_time": "2022-04-07T18:39:27.011542",
     "status": "completed"
    },
    "tags": []
   },
   "outputs": [],
   "source": [
    "nn_model_1 = StackedDNN(25, DNN_Model_1, min_iter=11, max_iter=13, min_deep=40, max_deep=41)\n",
    "\n",
    "#nn_model = StackedDNN(10, min_iter=12, max_iter=16, min_deep=280, max_deep=301)"
   ]
  },
  {
   "cell_type": "code",
   "execution_count": 27,
   "id": "21793d85",
   "metadata": {
    "execution": {
     "iopub.execute_input": "2022-04-07T18:39:27.337186Z",
     "iopub.status.busy": "2022-04-07T18:39:27.336407Z",
     "iopub.status.idle": "2022-04-07T19:25:06.236506Z",
     "shell.execute_reply": "2022-04-07T19:25:06.237013Z",
     "shell.execute_reply.started": "2022-04-07T17:38:42.448715Z"
    },
    "papermill": {
     "duration": 2738.950346,
     "end_time": "2022-04-07T19:25:06.237177",
     "exception": false,
     "start_time": "2022-04-07T18:39:27.286831",
     "status": "completed"
    },
    "tags": []
   },
   "outputs": [
    {
     "name": "stdout",
     "output_type": "stream",
     "text": [
      "1/25 fitted\n",
      "2/25 fitted\n",
      "3/25 fitted\n",
      "4/25 fitted\n",
      "5/25 fitted\n",
      "6/25 fitted\n",
      "7/25 fitted\n",
      "8/25 fitted\n",
      "9/25 fitted\n",
      "10/25 fitted\n",
      "11/25 fitted\n",
      "12/25 fitted\n",
      "13/25 fitted\n",
      "14/25 fitted\n",
      "15/25 fitted\n",
      "16/25 fitted\n",
      "17/25 fitted\n",
      "18/25 fitted\n",
      "19/25 fitted\n",
      "20/25 fitted\n",
      "21/25 fitted\n",
      "22/25 fitted\n",
      "23/25 fitted\n",
      "24/25 fitted\n",
      "25/25 fitted\n"
     ]
    }
   ],
   "source": [
    "nn_model_1.fit(data, target)"
   ]
  },
  {
   "cell_type": "code",
   "execution_count": 28,
   "id": "261ac637",
   "metadata": {
    "execution": {
     "iopub.execute_input": "2022-04-07T19:25:06.346591Z",
     "iopub.status.busy": "2022-04-07T19:25:06.345946Z",
     "iopub.status.idle": "2022-04-07T19:25:06.348469Z",
     "shell.execute_reply": "2022-04-07T19:25:06.348078Z",
     "shell.execute_reply.started": "2022-04-07T17:57:29.457175Z"
    },
    "papermill": {
     "duration": 0.058639,
     "end_time": "2022-04-07T19:25:06.348576",
     "exception": false,
     "start_time": "2022-04-07T19:25:06.289937",
     "status": "completed"
    },
    "tags": []
   },
   "outputs": [],
   "source": [
    "#res_1 = nn_model_1.predict(X_test)\n",
    "#pearsonr(res_1, y_test)[0]"
   ]
  },
  {
   "cell_type": "code",
   "execution_count": 29,
   "id": "c329ffa8",
   "metadata": {
    "execution": {
     "iopub.execute_input": "2022-04-07T19:25:06.458806Z",
     "iopub.status.busy": "2022-04-07T19:25:06.458025Z",
     "iopub.status.idle": "2022-04-07T19:58:26.839171Z",
     "shell.execute_reply": "2022-04-07T19:58:26.839597Z",
     "shell.execute_reply.started": "2022-04-07T17:43:59.789863Z"
    },
    "papermill": {
     "duration": 2000.438103,
     "end_time": "2022-04-07T19:58:26.839791",
     "exception": false,
     "start_time": "2022-04-07T19:25:06.401688",
     "status": "completed"
    },
    "tags": []
   },
   "outputs": [
    {
     "name": "stdout",
     "output_type": "stream",
     "text": [
      "1/25 fitted\n",
      "2/25 fitted\n",
      "3/25 fitted\n",
      "4/25 fitted\n",
      "5/25 fitted\n",
      "6/25 fitted\n",
      "7/25 fitted\n",
      "8/25 fitted\n",
      "9/25 fitted\n",
      "10/25 fitted\n",
      "11/25 fitted\n",
      "12/25 fitted\n",
      "13/25 fitted\n",
      "14/25 fitted\n",
      "15/25 fitted\n",
      "16/25 fitted\n",
      "17/25 fitted\n",
      "18/25 fitted\n",
      "19/25 fitted\n",
      "20/25 fitted\n",
      "21/25 fitted\n",
      "22/25 fitted\n",
      "23/25 fitted\n",
      "24/25 fitted\n",
      "25/25 fitted\n"
     ]
    }
   ],
   "source": [
    "nn_model_2 = StackedDNN(25, DNN_Model_2, min_iter=9, max_iter=11, min_deep=100, max_deep=101)\n",
    "nn_model_2.fit(data, target)\n",
    "\n",
    "#StackedDNN(1, DNN_Model_2, min_iter=10, max_iter=12, min_deep=100, max_deep=101)"
   ]
  },
  {
   "cell_type": "code",
   "execution_count": 30,
   "id": "f2e8eac3",
   "metadata": {
    "execution": {
     "iopub.execute_input": "2022-04-07T19:58:26.964670Z",
     "iopub.status.busy": "2022-04-07T19:58:26.963678Z",
     "iopub.status.idle": "2022-04-07T19:58:26.966262Z",
     "shell.execute_reply": "2022-04-07T19:58:26.965741Z",
     "shell.execute_reply.started": "2022-04-07T17:57:47.405145Z"
    },
    "papermill": {
     "duration": 0.066351,
     "end_time": "2022-04-07T19:58:26.966365",
     "exception": false,
     "start_time": "2022-04-07T19:58:26.900014",
     "status": "completed"
    },
    "tags": []
   },
   "outputs": [],
   "source": [
    "#res_2 = nn_model_2.predict(X_test)\n",
    "#pearsonr(res_2, y_test)[0]"
   ]
  },
  {
   "cell_type": "code",
   "execution_count": 31,
   "id": "b6380712",
   "metadata": {
    "execution": {
     "iopub.execute_input": "2022-04-07T19:58:27.091908Z",
     "iopub.status.busy": "2022-04-07T19:58:27.091113Z",
     "iopub.status.idle": "2022-04-07T20:22:22.444336Z",
     "shell.execute_reply": "2022-04-07T20:22:22.445508Z",
     "shell.execute_reply.started": "2022-04-07T17:46:28.936378Z"
    },
    "papermill": {
     "duration": 1435.419527,
     "end_time": "2022-04-07T20:22:22.445820",
     "exception": false,
     "start_time": "2022-04-07T19:58:27.026293",
     "status": "completed"
    },
    "tags": []
   },
   "outputs": [
    {
     "name": "stdout",
     "output_type": "stream",
     "text": [
      "1/25 fitted\n",
      "2/25 fitted\n",
      "3/25 fitted\n",
      "4/25 fitted\n",
      "5/25 fitted\n",
      "6/25 fitted\n",
      "7/25 fitted\n",
      "8/25 fitted\n",
      "9/25 fitted\n",
      "10/25 fitted\n",
      "11/25 fitted\n",
      "12/25 fitted\n",
      "13/25 fitted\n",
      "14/25 fitted\n",
      "15/25 fitted\n",
      "16/25 fitted\n",
      "17/25 fitted\n",
      "18/25 fitted\n",
      "19/25 fitted\n",
      "20/25 fitted\n",
      "21/25 fitted\n",
      "22/25 fitted\n",
      "23/25 fitted\n",
      "24/25 fitted\n",
      "25/25 fitted\n"
     ]
    }
   ],
   "source": [
    "nn_model_3 = StackedDNN(25, DNN_Model_3, min_iter=6, max_iter=8, min_deep=90, max_deep=110)\n",
    "\n",
    "nn_model_3.fit(data, target)\n",
    "\n",
    "#StackedDNN(1, DNN_Model_2, min_iter=10, max_iter=12, min_deep=100, max_deep=101)"
   ]
  },
  {
   "cell_type": "code",
   "execution_count": 32,
   "id": "66741325",
   "metadata": {
    "execution": {
     "iopub.execute_input": "2022-04-07T20:22:22.650137Z",
     "iopub.status.busy": "2022-04-07T20:22:22.649328Z",
     "iopub.status.idle": "2022-04-07T20:22:22.651441Z",
     "shell.execute_reply": "2022-04-07T20:22:22.651847Z",
     "shell.execute_reply.started": "2022-04-07T17:57:39.601044Z"
    },
    "papermill": {
     "duration": 0.096004,
     "end_time": "2022-04-07T20:22:22.651995",
     "exception": false,
     "start_time": "2022-04-07T20:22:22.555991",
     "status": "completed"
    },
    "tags": []
   },
   "outputs": [],
   "source": [
    "#res_3 = nn_model_3.predict(X_test)\n",
    "#pearsonr(res_3, y_test)[0]"
   ]
  },
  {
   "cell_type": "code",
   "execution_count": 33,
   "id": "842656cc",
   "metadata": {
    "execution": {
     "iopub.execute_input": "2022-04-07T20:22:22.791322Z",
     "iopub.status.busy": "2022-04-07T20:22:22.790822Z",
     "iopub.status.idle": "2022-04-07T20:38:22.180543Z",
     "shell.execute_reply": "2022-04-07T20:38:22.181616Z",
     "shell.execute_reply.started": "2022-04-07T17:49:32.131283Z"
    },
    "papermill": {
     "duration": 959.462859,
     "end_time": "2022-04-07T20:38:22.181848",
     "exception": false,
     "start_time": "2022-04-07T20:22:22.718989",
     "status": "completed"
    },
    "tags": []
   },
   "outputs": [],
   "source": [
    "from catboost import CatBoostRegressor\n",
    "model = CatBoostRegressor(iterations=10000, task_type='GPU', devices='0', silent=True).fit(data, target)"
   ]
  },
  {
   "cell_type": "code",
   "execution_count": 34,
   "id": "bf75a716",
   "metadata": {
    "execution": {
     "iopub.execute_input": "2022-04-07T20:38:22.385387Z",
     "iopub.status.busy": "2022-04-07T20:38:22.383306Z",
     "iopub.status.idle": "2022-04-07T20:38:22.386137Z",
     "shell.execute_reply": "2022-04-07T20:38:22.386687Z",
     "shell.execute_reply.started": "2022-04-07T17:56:36.095993Z"
    },
    "papermill": {
     "duration": 0.104869,
     "end_time": "2022-04-07T20:38:22.386862",
     "exception": false,
     "start_time": "2022-04-07T20:38:22.281993",
     "status": "completed"
    },
    "tags": []
   },
   "outputs": [],
   "source": [
    "#est_score(model)"
   ]
  },
  {
   "cell_type": "code",
   "execution_count": 35,
   "id": "94f03ff2",
   "metadata": {
    "execution": {
     "iopub.execute_input": "2022-04-07T20:38:22.587757Z",
     "iopub.status.busy": "2022-04-07T20:38:22.586080Z",
     "iopub.status.idle": "2022-04-07T20:38:22.588472Z",
     "shell.execute_reply": "2022-04-07T20:38:22.589004Z",
     "shell.execute_reply.started": "2022-04-07T17:56:55.786492Z"
    },
    "papermill": {
     "duration": 0.104675,
     "end_time": "2022-04-07T20:38:22.589155",
     "exception": false,
     "start_time": "2022-04-07T20:38:22.484480",
     "status": "completed"
    },
    "tags": []
   },
   "outputs": [],
   "source": [
    "#res_boost = model.predict(X_test)"
   ]
  },
  {
   "cell_type": "code",
   "execution_count": 36,
   "id": "139fde26",
   "metadata": {
    "execution": {
     "iopub.execute_input": "2022-04-07T20:38:22.791079Z",
     "iopub.status.busy": "2022-04-07T20:38:22.790270Z",
     "iopub.status.idle": "2022-04-07T20:38:22.793396Z",
     "shell.execute_reply": "2022-04-07T20:38:22.793965Z",
     "shell.execute_reply.started": "2022-04-07T17:58:19.354572Z"
    },
    "papermill": {
     "duration": 0.107595,
     "end_time": "2022-04-07T20:38:22.794112",
     "exception": false,
     "start_time": "2022-04-07T20:38:22.686517",
     "status": "completed"
    },
    "tags": []
   },
   "outputs": [
    {
     "data": {
      "text/plain": [
       "'\\nbest = 0\\nfor i in range(10000):\\n    a = np.random.rand(5)\\n    a /= np.sum(a)\\n    #print(pearsonr(res_1, y_test)[0])\\n    #print(pearsonr(res_2, y_test)[0])\\n    #print(pearsonr(res_3, y_test)[0])\\n    total = pearsonr(a[0]*res + a[1]*res_1 + a[2]*res_2 + a[3]*res_3 + a[4]*res_boost, y_test)[0]\\n    if total > best:\\n        best = total\\n        print(a, best)\\n'"
      ]
     },
     "execution_count": 36,
     "metadata": {},
     "output_type": "execute_result"
    }
   ],
   "source": [
    "\"\"\"\n",
    "best = 0\n",
    "for i in range(10000):\n",
    "    a = np.random.rand(5)\n",
    "    a /= np.sum(a)\n",
    "    #print(pearsonr(res_1, y_test)[0])\n",
    "    #print(pearsonr(res_2, y_test)[0])\n",
    "    #print(pearsonr(res_3, y_test)[0])\n",
    "    total = pearsonr(a[0]*res + a[1]*res_1 + a[2]*res_2 + a[3]*res_3 + a[4]*res_boost, y_test)[0]\n",
    "    if total > best:\n",
    "        best = total\n",
    "        print(a, best)\n",
    "\"\"\""
   ]
  },
  {
   "cell_type": "code",
   "execution_count": 37,
   "id": "2b99edf3",
   "metadata": {
    "execution": {
     "iopub.execute_input": "2022-04-07T20:38:22.998343Z",
     "iopub.status.busy": "2022-04-07T20:38:22.997584Z",
     "iopub.status.idle": "2022-04-07T20:38:23.000148Z",
     "shell.execute_reply": "2022-04-07T20:38:22.999471Z"
    },
    "papermill": {
     "duration": 0.105702,
     "end_time": "2022-04-07T20:38:23.000275",
     "exception": false,
     "start_time": "2022-04-07T20:38:22.894573",
     "status": "completed"
    },
    "tags": []
   },
   "outputs": [],
   "source": [
    "#[0.001, 0.337, 0.116, 0.01, 0.536] - coefs"
   ]
  },
  {
   "cell_type": "code",
   "execution_count": 38,
   "id": "1fb89f65",
   "metadata": {
    "execution": {
     "iopub.execute_input": "2022-04-07T20:38:23.169206Z",
     "iopub.status.busy": "2022-04-07T20:38:23.168493Z",
     "iopub.status.idle": "2022-04-07T20:38:23.170985Z",
     "shell.execute_reply": "2022-04-07T20:38:23.170461Z",
     "shell.execute_reply.started": "2022-04-07T18:01:17.816946Z"
    },
    "papermill": {
     "duration": 0.073999,
     "end_time": "2022-04-07T20:38:23.171090",
     "exception": false,
     "start_time": "2022-04-07T20:38:23.097091",
     "status": "completed"
    },
    "tags": []
   },
   "outputs": [],
   "source": [
    "#pearsonr(0.001*res + 0.337*res_1 + 0.116*a[2]*res_2 + 0.01*a[3]*res_3 + 0.536*res_boost, y_test)[0]"
   ]
  },
  {
   "cell_type": "code",
   "execution_count": 39,
   "id": "810db219",
   "metadata": {
    "execution": {
     "iopub.execute_input": "2022-04-07T20:38:23.314072Z",
     "iopub.status.busy": "2022-04-07T20:38:23.313384Z",
     "iopub.status.idle": "2022-04-07T20:38:23.316161Z",
     "shell.execute_reply": "2022-04-07T20:38:23.316583Z",
     "shell.execute_reply.started": "2022-04-04T14:08:16.754963Z"
    },
    "papermill": {
     "duration": 0.078093,
     "end_time": "2022-04-07T20:38:23.316702",
     "exception": false,
     "start_time": "2022-04-07T20:38:23.238609",
     "status": "completed"
    },
    "tags": []
   },
   "outputs": [
    {
     "data": {
      "text/plain": [
       "'\\na = 0.8\\nprint(pearsonr(res, y_test)[0])\\nprint(pearsonr(res_boost, y_test)[0])\\npearsonr(a*res_boost+(1-a)*res, y_test)[0]\\n'"
      ]
     },
     "execution_count": 39,
     "metadata": {},
     "output_type": "execute_result"
    }
   ],
   "source": [
    "\"\"\"\n",
    "a = 0.8\n",
    "print(pearsonr(res, y_test)[0])\n",
    "print(pearsonr(res_boost, y_test)[0])\n",
    "pearsonr(a*res_boost+(1-a)*res, y_test)[0]\n",
    "\"\"\""
   ]
  },
  {
   "cell_type": "code",
   "execution_count": 40,
   "id": "ed018c29",
   "metadata": {
    "execution": {
     "iopub.execute_input": "2022-04-07T20:38:23.461345Z",
     "iopub.status.busy": "2022-04-07T20:38:23.460733Z",
     "iopub.status.idle": "2022-04-07T20:38:24.071048Z",
     "shell.execute_reply": "2022-04-07T20:38:24.070534Z"
    },
    "papermill": {
     "duration": 0.683768,
     "end_time": "2022-04-07T20:38:24.071838",
     "exception": false,
     "start_time": "2022-04-07T20:38:23.388070",
     "status": "completed"
    },
    "tags": []
   },
   "outputs": [
    {
     "name": "stdout",
     "output_type": "stream",
     "text": [
      "This version of the API is not optimized and should not be used to estimate the runtime of your code on the hidden test set.\n"
     ]
    }
   ],
   "source": [
    "import ubiquant\n",
    "env = ubiquant.make_env()   # initialize the environment\n",
    "iter_test = env.iter_test()    # an iterator which loops over the test set and sample submission\n",
    "for (test_df, sample_prediction_df) in iter_test:\n",
    "    res = nn_model.predict(test_df[features])\n",
    "    res_1 = nn_model_1.predict(test_df[features])\n",
    "    res_2 = nn_model_2.predict(test_df[features])\n",
    "    res_3 = nn_model_3.predict(test_df[features])\n",
    "    res_boost = model.predict(test_df[features])\n",
    "    #[0.001, 0.337, 0.116, 0.01, 0.536]\n",
    "    test_df['target']  = 0.001*res + 0.337*res_1 + 0.116*res_2 + 0.01*res_3 + 0.536*res_boost\n",
    "    env.predict(test_df[['row_id','target']])"
   ]
  },
  {
   "cell_type": "code",
   "execution_count": null,
   "id": "cb71394c",
   "metadata": {
    "execution": {
     "iopub.execute_input": "2022-03-27T14:44:24.228544Z",
     "iopub.status.busy": "2022-03-27T14:44:24.22746Z",
     "iopub.status.idle": "2022-03-27T14:44:24.243794Z",
     "shell.execute_reply": "2022-03-27T14:44:24.243089Z",
     "shell.execute_reply.started": "2022-03-27T14:44:24.228476Z"
    },
    "papermill": {
     "duration": 0.06792,
     "end_time": "2022-04-07T20:38:24.208612",
     "exception": false,
     "start_time": "2022-04-07T20:38:24.140692",
     "status": "completed"
    },
    "tags": []
   },
   "outputs": [],
   "source": []
  },
  {
   "cell_type": "code",
   "execution_count": null,
   "id": "2c589895",
   "metadata": {
    "execution": {
     "iopub.execute_input": "2022-03-27T14:43:19.018371Z",
     "iopub.status.busy": "2022-03-27T14:43:19.01783Z",
     "iopub.status.idle": "2022-03-27T14:43:19.023314Z",
     "shell.execute_reply": "2022-03-27T14:43:19.022464Z",
     "shell.execute_reply.started": "2022-03-27T14:43:19.018335Z"
    },
    "papermill": {
     "duration": 0.069562,
     "end_time": "2022-04-07T20:38:24.346353",
     "exception": false,
     "start_time": "2022-04-07T20:38:24.276791",
     "status": "completed"
    },
    "tags": []
   },
   "outputs": [],
   "source": []
  },
  {
   "cell_type": "code",
   "execution_count": null,
   "id": "7938778d",
   "metadata": {
    "papermill": {
     "duration": 0.067779,
     "end_time": "2022-04-07T20:38:24.482639",
     "exception": false,
     "start_time": "2022-04-07T20:38:24.414860",
     "status": "completed"
    },
    "tags": []
   },
   "outputs": [],
   "source": []
  }
 ],
 "metadata": {
  "kernelspec": {
   "display_name": "Python 3",
   "language": "python",
   "name": "python3"
  },
  "language_info": {
   "codemirror_mode": {
    "name": "ipython",
    "version": 3
   },
   "file_extension": ".py",
   "mimetype": "text/x-python",
   "name": "python",
   "nbconvert_exporter": "python",
   "pygments_lexer": "ipython3",
   "version": "3.7.12"
  },
  "papermill": {
   "default_parameters": {},
   "duration": 8906.095629,
   "end_time": "2022-04-07T20:38:26.077212",
   "environment_variables": {},
   "exception": null,
   "input_path": "__notebook__.ipynb",
   "output_path": "__notebook__.ipynb",
   "parameters": {},
   "start_time": "2022-04-07T18:09:59.981583",
   "version": "2.3.3"
  }
 },
 "nbformat": 4,
 "nbformat_minor": 5
}
