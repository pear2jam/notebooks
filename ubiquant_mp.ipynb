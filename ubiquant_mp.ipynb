{
 "cells": [
  {
   "cell_type": "code",
   "execution_count": 1,
   "id": "b1046216",
   "metadata": {
    "_cell_guid": "b1076dfc-b9ad-4769-8c92-a6c4dae69d19",
    "_uuid": "8f2839f25d086af736a60e9eeb907d3b93b6e0e5",
    "execution": {
     "iopub.execute_input": "2022-04-13T22:43:13.374797Z",
     "iopub.status.busy": "2022-04-13T22:43:13.373149Z",
     "iopub.status.idle": "2022-04-13T22:43:15.531547Z",
     "shell.execute_reply": "2022-04-13T22:43:15.532749Z",
     "shell.execute_reply.started": "2022-04-13T22:31:39.006615Z"
    },
    "papermill": {
     "duration": 2.207001,
     "end_time": "2022-04-13T22:43:15.533092",
     "exception": false,
     "start_time": "2022-04-13T22:43:13.326091",
     "status": "completed"
    },
    "tags": []
   },
   "outputs": [],
   "source": [
    "import numpy as np\n",
    "import pandas as pd\n",
    "import matplotlib.pyplot as plt\n",
    "%matplotlib inline\n",
    "import seaborn as sns\n",
    "import torch"
   ]
  },
  {
   "cell_type": "code",
   "execution_count": 2,
   "id": "639820ca",
   "metadata": {
    "execution": {
     "iopub.execute_input": "2022-04-13T22:43:15.677345Z",
     "iopub.status.busy": "2022-04-13T22:43:15.676610Z",
     "iopub.status.idle": "2022-04-13T22:43:15.678870Z",
     "shell.execute_reply": "2022-04-13T22:43:15.679459Z",
     "shell.execute_reply.started": "2022-04-13T22:31:41.016173Z"
    },
    "papermill": {
     "duration": 0.077552,
     "end_time": "2022-04-13T22:43:15.679635",
     "exception": false,
     "start_time": "2022-04-13T22:43:15.602083",
     "status": "completed"
    },
    "tags": []
   },
   "outputs": [],
   "source": [
    "data_types_dict = {\n",
    "    'time_id': 'int32',\n",
    "    'investment_id': 'int16',\n",
    "    \"target\": 'float16',\n",
    "}\n",
    "\n",
    "features = [f'f_{i}' for i in range(300)]\n",
    "\n",
    "for f in features:\n",
    "    data_types_dict[f] = 'float16'"
   ]
  },
  {
   "cell_type": "code",
   "execution_count": 3,
   "id": "63dc249e",
   "metadata": {
    "execution": {
     "iopub.execute_input": "2022-04-13T22:43:15.784936Z",
     "iopub.status.busy": "2022-04-13T22:43:15.784109Z",
     "iopub.status.idle": "2022-04-13T22:43:15.802452Z",
     "shell.execute_reply": "2022-04-13T22:43:15.801977Z",
     "shell.execute_reply.started": "2022-04-13T22:37:47.209518Z"
    },
    "papermill": {
     "duration": 0.063279,
     "end_time": "2022-04-13T22:43:15.802574",
     "exception": false,
     "start_time": "2022-04-13T22:43:15.739295",
     "status": "completed"
    },
    "tags": []
   },
   "outputs": [],
   "source": [
    "data = pd.read_csv('../input/ubiquant-market-prediction/train.csv', \n",
    "                       usecols = data_types_dict.keys(),\n",
    "                       dtype=data_types_dict,\n",
    "                       index_col = 0, chunksize = 3141410) #3141410"
   ]
  },
  {
   "cell_type": "code",
   "execution_count": 4,
   "id": "e7e26dd2",
   "metadata": {
    "execution": {
     "iopub.execute_input": "2022-04-13T22:43:15.886467Z",
     "iopub.status.busy": "2022-04-13T22:43:15.885593Z",
     "iopub.status.idle": "2022-04-13T22:49:32.550723Z",
     "shell.execute_reply": "2022-04-13T22:49:32.551668Z",
     "shell.execute_reply.started": "2022-04-13T22:37:47.378930Z"
    },
    "papermill": {
     "duration": 376.708319,
     "end_time": "2022-04-13T22:49:32.551879",
     "exception": false,
     "start_time": "2022-04-13T22:43:15.843560",
     "status": "completed"
    },
    "tags": []
   },
   "outputs": [
    {
     "name": "stderr",
     "output_type": "stream",
     "text": [
      "/opt/conda/lib/python3.7/site-packages/numpy/lib/arraysetops.py:583: FutureWarning: elementwise comparison failed; returning scalar instead, but in the future will perform elementwise comparison\n",
      "  mask |= (ar1 == a)\n"
     ]
    }
   ],
   "source": [
    "data = next(iter(data))"
   ]
  },
  {
   "cell_type": "code",
   "execution_count": 5,
   "id": "17e914fc",
   "metadata": {
    "execution": {
     "iopub.execute_input": "2022-04-13T22:49:32.633466Z",
     "iopub.status.busy": "2022-04-13T22:49:32.632927Z",
     "iopub.status.idle": "2022-04-13T22:49:32.636292Z",
     "shell.execute_reply": "2022-04-13T22:49:32.635876Z",
     "shell.execute_reply.started": "2022-04-13T22:37:19.869928Z"
    },
    "papermill": {
     "duration": 0.045015,
     "end_time": "2022-04-13T22:49:32.636392",
     "exception": false,
     "start_time": "2022-04-13T22:49:32.591377",
     "status": "completed"
    },
    "tags": []
   },
   "outputs": [],
   "source": [
    "#plt.plot(data.groupby('time_id').count())\n",
    "#plt.plot()"
   ]
  },
  {
   "cell_type": "code",
   "execution_count": 6,
   "id": "af92ec43",
   "metadata": {
    "execution": {
     "iopub.execute_input": "2022-04-13T22:49:32.720300Z",
     "iopub.status.busy": "2022-04-13T22:49:32.719667Z",
     "iopub.status.idle": "2022-04-13T22:49:32.722769Z",
     "shell.execute_reply": "2022-04-13T22:49:32.723157Z",
     "shell.execute_reply.started": "2022-04-13T22:37:19.871506Z"
    },
    "papermill": {
     "duration": 0.048568,
     "end_time": "2022-04-13T22:49:32.723272",
     "exception": false,
     "start_time": "2022-04-13T22:49:32.674704",
     "status": "completed"
    },
    "tags": []
   },
   "outputs": [
    {
     "data": {
      "text/plain": [
       "\"\\ntime_id = 40 #40\\nX_train = data.loc[:time_id-1,]\\nX_test = data.loc[time_id:,]\\nprint(X_train.shape[0], X_test.shape[0])\\n\\ny_train = X_train['target']\\nX_train.drop(['target', 'investment_id'], inplace=True, axis=1)\\n\\ny_test = X_test['target']\\nX_test.drop(['target', 'investment_id'], inplace=True, axis=1)\\nprint(y_train.shape[0], y_test.shape[0])\\nprint(y_test.shape[0]/y_train.shape[0])\\n\""
      ]
     },
     "execution_count": 6,
     "metadata": {},
     "output_type": "execute_result"
    }
   ],
   "source": [
    "\"\"\"\n",
    "time_id = 40 #40\n",
    "X_train = data.loc[:time_id-1,]\n",
    "X_test = data.loc[time_id:,]\n",
    "print(X_train.shape[0], X_test.shape[0])\n",
    "\n",
    "y_train = X_train['target']\n",
    "X_train.drop(['target', 'investment_id'], inplace=True, axis=1)\n",
    "\n",
    "y_test = X_test['target']\n",
    "X_test.drop(['target', 'investment_id'], inplace=True, axis=1)\n",
    "print(y_train.shape[0], y_test.shape[0])\n",
    "print(y_test.shape[0]/y_train.shape[0])\n",
    "\"\"\""
   ]
  },
  {
   "cell_type": "code",
   "execution_count": 7,
   "id": "4a01f354",
   "metadata": {
    "execution": {
     "iopub.execute_input": "2022-04-13T22:49:32.810221Z",
     "iopub.status.busy": "2022-04-13T22:49:32.809237Z",
     "iopub.status.idle": "2022-04-13T22:49:36.194660Z",
     "shell.execute_reply": "2022-04-13T22:49:36.194171Z",
     "shell.execute_reply.started": "2022-04-13T22:37:19.873759Z"
    },
    "papermill": {
     "duration": 3.432626,
     "end_time": "2022-04-13T22:49:36.194806",
     "exception": false,
     "start_time": "2022-04-13T22:49:32.762180",
     "status": "completed"
    },
    "tags": []
   },
   "outputs": [],
   "source": [
    "target = data['target']\n",
    "data.drop(['target', 'investment_id'], inplace=True, axis=1)"
   ]
  },
  {
   "cell_type": "code",
   "execution_count": 8,
   "id": "5f8f900d",
   "metadata": {
    "execution": {
     "iopub.execute_input": "2022-04-13T22:49:36.278320Z",
     "iopub.status.busy": "2022-04-13T22:49:36.276811Z",
     "iopub.status.idle": "2022-04-13T22:49:36.278937Z",
     "shell.execute_reply": "2022-04-13T22:49:36.279324Z",
     "shell.execute_reply.started": "2022-04-13T22:37:19.875538Z"
    },
    "papermill": {
     "duration": 0.045725,
     "end_time": "2022-04-13T22:49:36.279471",
     "exception": false,
     "start_time": "2022-04-13T22:49:36.233746",
     "status": "completed"
    },
    "tags": []
   },
   "outputs": [],
   "source": [
    "from scipy.stats import pearsonr \n",
    "def est_score(model):\n",
    "    y_pred = model.predict(X_test)\n",
    "    return pearsonr(y_pred, y_test)[0]"
   ]
  },
  {
   "cell_type": "code",
   "execution_count": 9,
   "id": "e956fb40",
   "metadata": {
    "execution": {
     "iopub.execute_input": "2022-04-13T22:49:36.362000Z",
     "iopub.status.busy": "2022-04-13T22:49:36.360441Z",
     "iopub.status.idle": "2022-04-13T22:49:36.362615Z",
     "shell.execute_reply": "2022-04-13T22:49:36.363023Z",
     "shell.execute_reply.started": "2022-04-13T22:37:19.877368Z"
    },
    "papermill": {
     "duration": 0.044674,
     "end_time": "2022-04-13T22:49:36.363140",
     "exception": false,
     "start_time": "2022-04-13T22:49:36.318466",
     "status": "completed"
    },
    "tags": []
   },
   "outputs": [],
   "source": [
    "#from sklearn.model_selection import train_test_split\n",
    "#X_train, X_test, y_train, y_test = train_test_split(data, data['target'], test_size=0.1, stratify=data.index)\n",
    "\n",
    "#id_train = X_train['investment_id']\n",
    "#id_test = X_test['investment_id']\n",
    "\n",
    "#X_train.drop(['target', 'investment_id'], inplace=True, axis=1)\n",
    "#X_test.drop(['target', 'investment_id'], inplace=True, axis=1)"
   ]
  },
  {
   "cell_type": "code",
   "execution_count": 10,
   "id": "94fadc49",
   "metadata": {
    "execution": {
     "iopub.execute_input": "2022-04-13T22:49:36.444317Z",
     "iopub.status.busy": "2022-04-13T22:49:36.443582Z",
     "iopub.status.idle": "2022-04-13T22:49:36.445966Z",
     "shell.execute_reply": "2022-04-13T22:49:36.445536Z",
     "shell.execute_reply.started": "2022-04-13T22:37:19.879182Z"
    },
    "papermill": {
     "duration": 0.043913,
     "end_time": "2022-04-13T22:49:36.446065",
     "exception": false,
     "start_time": "2022-04-13T22:49:36.402152",
     "status": "completed"
    },
    "tags": []
   },
   "outputs": [],
   "source": [
    "#id_train.isna().sum()"
   ]
  },
  {
   "cell_type": "code",
   "execution_count": 11,
   "id": "2c024adb",
   "metadata": {
    "execution": {
     "iopub.execute_input": "2022-04-13T22:49:36.526303Z",
     "iopub.status.busy": "2022-04-13T22:49:36.524575Z",
     "iopub.status.idle": "2022-04-13T22:49:36.528661Z",
     "shell.execute_reply": "2022-04-13T22:49:36.528201Z",
     "shell.execute_reply.started": "2022-04-13T22:37:19.880850Z"
    },
    "papermill": {
     "duration": 0.044474,
     "end_time": "2022-04-13T22:49:36.528764",
     "exception": false,
     "start_time": "2022-04-13T22:49:36.484290",
     "status": "completed"
    },
    "tags": []
   },
   "outputs": [],
   "source": [
    "#del data"
   ]
  },
  {
   "cell_type": "code",
   "execution_count": 12,
   "id": "a9439d0b",
   "metadata": {
    "execution": {
     "iopub.execute_input": "2022-04-13T22:49:36.609334Z",
     "iopub.status.busy": "2022-04-13T22:49:36.608566Z",
     "iopub.status.idle": "2022-04-13T22:49:36.612270Z",
     "shell.execute_reply": "2022-04-13T22:49:36.611789Z",
     "shell.execute_reply.started": "2022-04-13T22:37:19.883630Z"
    },
    "papermill": {
     "duration": 0.04444,
     "end_time": "2022-04-13T22:49:36.612378",
     "exception": false,
     "start_time": "2022-04-13T22:49:36.567938",
     "status": "completed"
    },
    "tags": []
   },
   "outputs": [],
   "source": [
    "#from sklearn.linear_model import LinearRegression\n",
    "#reg_model = LinearRegression(copy_X=False).fit(X_train, y_train)"
   ]
  },
  {
   "cell_type": "code",
   "execution_count": 13,
   "id": "bfb21b34",
   "metadata": {
    "execution": {
     "iopub.execute_input": "2022-04-13T22:49:36.693540Z",
     "iopub.status.busy": "2022-04-13T22:49:36.692769Z",
     "iopub.status.idle": "2022-04-13T22:49:36.695141Z",
     "shell.execute_reply": "2022-04-13T22:49:36.694732Z",
     "shell.execute_reply.started": "2022-04-13T22:37:19.885361Z"
    },
    "papermill": {
     "duration": 0.043927,
     "end_time": "2022-04-13T22:49:36.695248",
     "exception": false,
     "start_time": "2022-04-13T22:49:36.651321",
     "status": "completed"
    },
    "tags": []
   },
   "outputs": [],
   "source": [
    "#est_score(reg_model)"
   ]
  },
  {
   "cell_type": "code",
   "execution_count": 14,
   "id": "19e6a209",
   "metadata": {
    "execution": {
     "iopub.execute_input": "2022-04-13T22:49:36.874076Z",
     "iopub.status.busy": "2022-04-13T22:49:36.873377Z",
     "iopub.status.idle": "2022-04-13T22:49:36.875836Z",
     "shell.execute_reply": "2022-04-13T22:49:36.876196Z",
     "shell.execute_reply.started": "2022-04-13T22:37:19.887021Z"
    },
    "papermill": {
     "duration": 0.141909,
     "end_time": "2022-04-13T22:49:36.876344",
     "exception": false,
     "start_time": "2022-04-13T22:49:36.734435",
     "status": "completed"
    },
    "tags": []
   },
   "outputs": [],
   "source": [
    "device = torch.device('cuda') if torch.cuda.is_available() else torch.device('cpu')\n",
    "\n",
    "def move_to(data, device):\n",
    "    \"\"\"\n",
    "    moving data to device\n",
    "    :param data: data to move\n",
    "    :param device: device\n",
    "    :return: moved data\n",
    "    \"\"\"\n",
    "\n",
    "    if isinstance(data, (list, tuple)):\n",
    "        return [move_to(x, device) for x in data]\n",
    "    return data.to(device, non_blocking=True)"
   ]
  },
  {
   "cell_type": "code",
   "execution_count": 15,
   "id": "58311c66",
   "metadata": {
    "execution": {
     "iopub.execute_input": "2022-04-13T22:49:36.994772Z",
     "iopub.status.busy": "2022-04-13T22:49:36.994062Z",
     "iopub.status.idle": "2022-04-13T22:49:36.998720Z",
     "shell.execute_reply": "2022-04-13T22:49:36.999250Z",
     "shell.execute_reply.started": "2022-04-13T22:37:19.888737Z"
    },
    "papermill": {
     "duration": 0.083803,
     "end_time": "2022-04-13T22:49:36.999472",
     "exception": false,
     "start_time": "2022-04-13T22:49:36.915669",
     "status": "completed"
    },
    "tags": []
   },
   "outputs": [],
   "source": [
    "def batch_loader(X, y, batch_size = 4096, equal=False):\n",
    "    i = 0\n",
    "    while True:\n",
    "        if i + batch_size >= y.shape[0]: \n",
    "            break\n",
    "            \n",
    "        yield X.iloc[i:i+batch_size, :], y[i:i+batch_size]\n",
    "        i += batch_size"
   ]
  },
  {
   "cell_type": "code",
   "execution_count": 16,
   "id": "1eee6174",
   "metadata": {
    "execution": {
     "iopub.execute_input": "2022-04-13T22:49:37.139156Z",
     "iopub.status.busy": "2022-04-13T22:49:37.138381Z",
     "iopub.status.idle": "2022-04-13T22:49:37.141398Z",
     "shell.execute_reply": "2022-04-13T22:49:37.142050Z",
     "shell.execute_reply.started": "2022-04-13T22:37:19.890598Z"
    },
    "papermill": {
     "duration": 0.071594,
     "end_time": "2022-04-13T22:49:37.142246",
     "exception": false,
     "start_time": "2022-04-13T22:49:37.070652",
     "status": "completed"
    },
    "tags": []
   },
   "outputs": [],
   "source": [
    "def pearson_loss(x, y):\n",
    "    vx = x - torch.mean(x)\n",
    "    vy = y - torch.mean(y)\n",
    "    loss = -torch.sum(vx*vy) / (torch.sqrt(torch.sum(vx*vx)) * torch.sqrt(torch.sum(vy*vy)))\n",
    "    return loss"
   ]
  },
  {
   "cell_type": "code",
   "execution_count": 17,
   "id": "f2df45b8",
   "metadata": {
    "execution": {
     "iopub.execute_input": "2022-04-13T22:49:37.276005Z",
     "iopub.status.busy": "2022-04-13T22:49:37.275213Z",
     "iopub.status.idle": "2022-04-13T22:49:37.280591Z",
     "shell.execute_reply": "2022-04-13T22:49:37.281073Z",
     "shell.execute_reply.started": "2022-04-13T22:37:19.893673Z"
    },
    "papermill": {
     "duration": 0.075518,
     "end_time": "2022-04-13T22:49:37.281194",
     "exception": false,
     "start_time": "2022-04-13T22:49:37.205676",
     "status": "completed"
    },
    "tags": []
   },
   "outputs": [],
   "source": [
    "class DNN_Model(torch.nn.Module):\n",
    "    def __init__(self, deep_size):\n",
    "        super().__init__()\n",
    "        self.deep_size = deep_size\n",
    "        self.index = 0\n",
    "        self.model_name = 'DNN_Model_0'\n",
    "        self.linear_1 = torch.nn.Linear(300, deep_size)\n",
    "        self.linear_2 = torch.nn.Linear(deep_size, deep_size)\n",
    "        self.linear_3 = torch.nn.Linear(deep_size, deep_size)\n",
    "        self.linear_4 = torch.nn.Linear(deep_size, deep_size)\n",
    "        self.linear_5 = torch.nn.Linear(deep_size, 1)\n",
    "        self.dout = torch.nn.Dropout(p=0.7)\n",
    "        self.act = torch.nn.SiLU()\n",
    "    \n",
    "    def tensor_forward(self, X_tensor):\n",
    "        X_tensor = move_to(X_tensor, device)\n",
    "        tensor_X = self.act(self.linear_1(X_tensor))\n",
    "        tensor_X = self.act(self.linear_2(tensor_X))\n",
    "        tensor_X = self.dout(tensor_X)\n",
    "        tensor_X = self.act(self.linear_3(tensor_X))\n",
    "        tensor_X = self.dout(tensor_X)\n",
    "        tensor_X = self.act(self.linear_4(tensor_X))\n",
    "        tensor_X = self.linear_5(tensor_X)\n",
    "        return tensor_X \n",
    "\n",
    "    def forward(self, X):\n",
    "        tensor_X = torch.FloatTensor(X.values)\n",
    "        return self.tensor_forward(tensor_X)"
   ]
  },
  {
   "cell_type": "code",
   "execution_count": 18,
   "id": "01b03a98",
   "metadata": {
    "execution": {
     "iopub.execute_input": "2022-04-13T22:49:37.419952Z",
     "iopub.status.busy": "2022-04-13T22:49:37.419140Z",
     "iopub.status.idle": "2022-04-13T22:49:37.437201Z",
     "shell.execute_reply": "2022-04-13T22:49:37.437760Z",
     "shell.execute_reply.started": "2022-04-13T22:37:19.895281Z"
    },
    "papermill": {
     "duration": 0.085287,
     "end_time": "2022-04-13T22:49:37.437933",
     "exception": false,
     "start_time": "2022-04-13T22:49:37.352646",
     "status": "completed"
    },
    "tags": []
   },
   "outputs": [],
   "source": [
    "class DNN_Model_1(torch.nn.Module):\n",
    "    def __init__(self, deep_size):\n",
    "        super().__init__()\n",
    "        self.deep_size = deep_size\n",
    "        self.index = 1\n",
    "        self.model = torch.nn.Sequential(\n",
    "            torch.nn.Linear(300, deep_size),\n",
    "            torch.nn.SiLU(),\n",
    "            torch.nn.Linear(deep_size, deep_size),\n",
    "            torch.nn.SiLU(),\n",
    "            torch.nn.Dropout(p=0.3),\n",
    "            \n",
    "            torch.nn.Linear(deep_size, deep_size),\n",
    "            torch.nn.SiLU(),\n",
    "            torch.nn.Linear(deep_size, deep_size),\n",
    "            torch.nn.SiLU(),\n",
    "            torch.nn.Dropout(p=0.3),\n",
    "            \n",
    "            torch.nn.Linear(deep_size, deep_size),\n",
    "            torch.nn.SiLU(),\n",
    "            torch.nn.Linear(deep_size, deep_size),\n",
    "            torch.nn.SiLU(),\n",
    "            torch.nn.Dropout(p=0.3),\n",
    "            \n",
    "            torch.nn.Linear(deep_size, deep_size),\n",
    "            torch.nn.SiLU(),\n",
    "            torch.nn.Linear(deep_size, deep_size),\n",
    "            torch.nn.SiLU(),\n",
    "            torch.nn.Dropout(p=0.3),\n",
    "            \n",
    "            torch.nn.Linear(deep_size, deep_size),\n",
    "            torch.nn.SiLU(),\n",
    "            torch.nn.Linear(deep_size, deep_size),\n",
    "            torch.nn.SiLU(),\n",
    "            torch.nn.Dropout(p=0.3),\n",
    "            \n",
    "            torch.nn.Linear(deep_size, deep_size),\n",
    "            torch.nn.SiLU(),\n",
    "            torch.nn.Dropout(p=0.3),\n",
    "            \n",
    "            torch.nn.Linear(deep_size, deep_size),\n",
    "            torch.nn.SiLU(),\n",
    "            torch.nn.Linear(deep_size, 1)\n",
    "        )\n",
    "        \n",
    "        self.model_name = 'DNN_Model_1'\n",
    "        \n",
    "                \n",
    "    def tensor_forward(self, X_tensor):\n",
    "        X_tensor = move_to(X_tensor, device)\n",
    "        return self.model(X_tensor)\n",
    "\n",
    "    def forward(self, X):\n",
    "        tensor_X = torch.FloatTensor(X.values)\n",
    "        return self.tensor_forward(tensor_X)"
   ]
  },
  {
   "cell_type": "code",
   "execution_count": 19,
   "id": "8ee91db4",
   "metadata": {
    "execution": {
     "iopub.execute_input": "2022-04-13T22:49:37.576053Z",
     "iopub.status.busy": "2022-04-13T22:49:37.575195Z",
     "iopub.status.idle": "2022-04-13T22:49:37.588445Z",
     "shell.execute_reply": "2022-04-13T22:49:37.589380Z",
     "shell.execute_reply.started": "2022-04-13T22:37:19.897623Z"
    },
    "papermill": {
     "duration": 0.086178,
     "end_time": "2022-04-13T22:49:37.589566",
     "exception": false,
     "start_time": "2022-04-13T22:49:37.503388",
     "status": "completed"
    },
    "tags": []
   },
   "outputs": [],
   "source": [
    "class DNN_Model_2(torch.nn.Module):\n",
    "    def __init__(self, deep_size):\n",
    "        super().__init__()\n",
    "        self.deep_size = deep_size\n",
    "        self.index = 2\n",
    "        act_1 = torch.nn.SiLU\n",
    "        act_2 = torch.nn.ReLU\n",
    "        self.model = self.model = torch.nn.Sequential(\n",
    "            torch.nn.Linear(300, deep_size),\n",
    "            act_1(),\n",
    "            \n",
    "            torch.nn.Linear(deep_size, deep_size),\n",
    "            act_1(),\n",
    "            torch.nn.Linear(deep_size, deep_size),\n",
    "            act_1(),\n",
    "            torch.nn.Linear(deep_size, deep_size),\n",
    "            act_1(),\n",
    "            torch.nn.Dropout(p=0.3),\n",
    "            \n",
    "            torch.nn.Linear(deep_size, deep_size),\n",
    "            act_1(),\n",
    "            torch.nn.Linear(deep_size, deep_size),\n",
    "            act_1(),\n",
    "            torch.nn.Linear(deep_size, deep_size),\n",
    "            act_1(),\n",
    "            torch.nn.Dropout(p=0.3),\n",
    "            \n",
    "            torch.nn.Linear(deep_size, deep_size),\n",
    "            act_1(),\n",
    "            torch.nn.Linear(deep_size, deep_size),\n",
    "            act_1(),\n",
    "            torch.nn.Linear(deep_size, deep_size),\n",
    "            act_1(),\n",
    "            torch.nn.Dropout(p=0.3),\n",
    "            \n",
    "            torch.nn.Linear(deep_size, deep_size),\n",
    "            act_1(),\n",
    "            torch.nn.Linear(deep_size, deep_size),\n",
    "            act_1(),\n",
    "            torch.nn.Linear(deep_size, deep_size),\n",
    "            act_1(),\n",
    "            torch.nn.Dropout(p=0.3),\n",
    "            \n",
    "            torch.nn.Linear(deep_size, deep_size),\n",
    "            act_1(),\n",
    "            torch.nn.Linear(deep_size, deep_size),\n",
    "            act_1(),\n",
    "            torch.nn.Linear(deep_size, deep_size),\n",
    "            act_1(),\n",
    "            torch.nn.Dropout(p=0.3),\n",
    "            \n",
    "            torch.nn.Linear(deep_size, 1)\n",
    "            \n",
    "        )\n",
    "        \n",
    "        self.model_name = 'DNN_Model_2'\n",
    "        \n",
    "                \n",
    "    def tensor_forward(self, X_tensor):\n",
    "        X_tensor = move_to(X_tensor, device)\n",
    "        return self.model(X_tensor)\n",
    "\n",
    "    def forward(self, X):\n",
    "        tensor_X = torch.FloatTensor(X.values)\n",
    "        return self.tensor_forward(tensor_X)"
   ]
  },
  {
   "cell_type": "code",
   "execution_count": 20,
   "id": "a4a04eef",
   "metadata": {
    "execution": {
     "iopub.execute_input": "2022-04-13T22:49:37.730018Z",
     "iopub.status.busy": "2022-04-13T22:49:37.729241Z",
     "iopub.status.idle": "2022-04-13T22:49:37.744688Z",
     "shell.execute_reply": "2022-04-13T22:49:37.745633Z",
     "shell.execute_reply.started": "2022-04-13T22:37:19.899603Z"
    },
    "papermill": {
     "duration": 0.091499,
     "end_time": "2022-04-13T22:49:37.745802",
     "exception": false,
     "start_time": "2022-04-13T22:49:37.654303",
     "status": "completed"
    },
    "tags": []
   },
   "outputs": [],
   "source": [
    "class DNN_Model_3(torch.nn.Module):\n",
    "    def __init__(self, deep_size):\n",
    "        super().__init__()\n",
    "        self.deep_size = deep_size\n",
    "        self.index = 3\n",
    "        self.linear1 = torch.nn.Linear(300, deep_size)\n",
    "        \n",
    "        self.linear2_1 = torch.nn.Linear(deep_size, deep_size)\n",
    "        self.linear2_2 = torch.nn.Linear(deep_size, deep_size)\n",
    "        self.linear2_3 = torch.nn.Linear(deep_size, deep_size)\n",
    "        \n",
    "        self.linear3_1 = torch.nn.Linear(deep_size, deep_size)\n",
    "        self.linear3_2 = torch.nn.Linear(deep_size, deep_size)\n",
    "        self.linear3_3 = torch.nn.Linear(deep_size, deep_size)\n",
    "        \n",
    "        self.linear4_1 = torch.nn.Linear(deep_size, deep_size)\n",
    "        self.linear4_2 = torch.nn.Linear(deep_size, deep_size)\n",
    "        self.linear4_3 = torch.nn.Linear(deep_size, deep_size)\n",
    "        \n",
    "        self.linear5_1 = torch.nn.Linear(deep_size, deep_size)\n",
    "        self.linear5_2 = torch.nn.Linear(deep_size, deep_size)\n",
    "        self.linear5_3 = torch.nn.Linear(deep_size, deep_size)\n",
    "        \n",
    "        self.linear6_1 = torch.nn.Linear(deep_size, deep_size)\n",
    "        self.linear6_2 = torch.nn.Linear(deep_size, 1)\n",
    "        \n",
    "        self.act = torch.nn.SiLU()\n",
    "        self.dout = torch.nn.Dropout(p=0.5)\n",
    "        \n",
    "        self.model_name = 'DNN_Model_3'\n",
    "\n",
    "                \n",
    "    def tensor_forward(self, X_tensor):\n",
    "        X_tensor = move_to(X_tensor, device)\n",
    "        \n",
    "        X_tensor = self.act(self.linear1(X_tensor))\n",
    "        \n",
    "        X_tensor = self.act(self.linear2_1(X_tensor))\n",
    "        X_tensor = self.act(self.linear2_2(X_tensor))\n",
    "        X_tensor = self.dout(X_tensor)\n",
    "        res_2 = self.act(self.linear2_3(X_tensor))\n",
    "        \n",
    "        \n",
    "        #res_2 = X_tensor\n",
    "        \n",
    "        X_tensor = self.act(self.linear3_1(res_2))\n",
    "        X_tensor = self.act(self.linear3_2(X_tensor))\n",
    "        X_tensor = self.dout(X_tensor)\n",
    "        res_3 = self.act(self.linear3_3(X_tensor))\n",
    "        \n",
    "        \n",
    "        #res_3 = X_tensor\n",
    "        \n",
    "        X_tensor = self.act(self.linear4_1(res_2 + res_3))\n",
    "        X_tensor = self.act(self.linear4_2(X_tensor))\n",
    "        X_tensor = self.dout(X_tensor)\n",
    "        res_4 = self.act(self.linear4_3(X_tensor))\n",
    "        \n",
    "        res_4 = X_tensor\n",
    "\n",
    "        X_tensor = self.act(self.linear5_1(res_3 + res_4))\n",
    "        X_tensor = self.act(self.linear5_2(X_tensor))\n",
    "        X_tensor = self.dout(X_tensor)\n",
    "        X_tensor = self.act(self.linear5_3(X_tensor))\n",
    "        \n",
    "        X_tensor = self.act(self.linear6_1(X_tensor + res_4))\n",
    "        X_tensor = self.linear6_2(X_tensor)\n",
    "        \n",
    "        return X_tensor\n",
    "        \n",
    "\n",
    "    def forward(self, X):\n",
    "        tensor_X = torch.FloatTensor(X.values)\n",
    "        return self.tensor_forward(tensor_X)"
   ]
  },
  {
   "cell_type": "code",
   "execution_count": 21,
   "id": "31bfac6f",
   "metadata": {
    "execution": {
     "iopub.execute_input": "2022-04-13T22:49:37.888162Z",
     "iopub.status.busy": "2022-04-13T22:49:37.887414Z",
     "iopub.status.idle": "2022-04-13T22:49:37.890054Z",
     "shell.execute_reply": "2022-04-13T22:49:37.891011Z",
     "shell.execute_reply.started": "2022-04-13T22:37:19.901735Z"
    },
    "papermill": {
     "duration": 0.081151,
     "end_time": "2022-04-13T22:49:37.891181",
     "exception": false,
     "start_time": "2022-04-13T22:49:37.810030",
     "status": "completed"
    },
    "tags": []
   },
   "outputs": [],
   "source": [
    "class DNN_Model_4(torch.nn.Module):\n",
    "    def __init__(self, deep_size):\n",
    "        super().__init__()\n",
    "        self.deep_size = deep_size\n",
    "        self.index = 4\n",
    "        act_1 = torch.nn.SiLU\n",
    "        self.model = self.model = torch.nn.Sequential(\n",
    "            torch.nn.Linear(300, deep_size),\n",
    "            act_1(),\n",
    "            torch.nn.Linear(deep_size, deep_size),\n",
    "            act_1(),\n",
    "            torch.nn.Linear(deep_size, 2*deep_size),\n",
    "            act_1(),\n",
    "            torch.nn.Linear(2*deep_size, 2*deep_size),\n",
    "            \n",
    "            torch.nn.Dropout(p=0.4),\n",
    "            \n",
    "            torch.nn.Linear(2*deep_size, 2*deep_size),\n",
    "            act_1(),\n",
    "            torch.nn.Linear(2*deep_size, 2*deep_size),\n",
    "            act_1(),\n",
    "            torch.nn.Linear(2*deep_size, deep_size),\n",
    "            act_1(),\n",
    "            \n",
    "            torch.nn.Dropout(p=0.4),\n",
    "            \n",
    "            torch.nn.Linear(deep_size, deep_size),\n",
    "            act_1(),\n",
    "            torch.nn.Linear(deep_size, deep_size),\n",
    "            act_1(),\n",
    "            torch.nn.Linear(deep_size, 1)\n",
    "            \n",
    "        )\n",
    "        \n",
    "        self.model_name = 'DNN_Model_4'\n",
    "        \n",
    "                \n",
    "    def tensor_forward(self, X_tensor):\n",
    "        X_tensor = move_to(X_tensor, device)\n",
    "        return self.model(X_tensor)\n",
    "\n",
    "    def forward(self, X):\n",
    "        tensor_X = torch.FloatTensor(X.values)\n",
    "        return self.tensor_forward(tensor_X)"
   ]
  },
  {
   "cell_type": "code",
   "execution_count": 22,
   "id": "5e15b9eb",
   "metadata": {
    "execution": {
     "iopub.execute_input": "2022-04-13T22:49:38.031965Z",
     "iopub.status.busy": "2022-04-13T22:49:38.031111Z",
     "iopub.status.idle": "2022-04-13T22:49:38.041066Z",
     "shell.execute_reply": "2022-04-13T22:49:38.042014Z",
     "shell.execute_reply.started": "2022-04-13T22:37:19.903645Z"
    },
    "papermill": {
     "duration": 0.08716,
     "end_time": "2022-04-13T22:49:38.042182",
     "exception": false,
     "start_time": "2022-04-13T22:49:37.955022",
     "status": "completed"
    },
    "tags": []
   },
   "outputs": [],
   "source": [
    "class DNN_Model_5(torch.nn.Module):\n",
    "    def __init__(self, deep_size):\n",
    "        super().__init__()\n",
    "        self.deep_size = deep_size\n",
    "        self.index = 5\n",
    "        act = torch.nn.SiLU\n",
    "        self.model = self.model = torch.nn.Sequential(\n",
    "            torch.nn.Linear(300, deep_size),\n",
    "            act(),\n",
    "            torch.nn.Linear(deep_size, deep_size),\n",
    "            act(),\n",
    "            torch.nn.Dropout(p=0.1),\n",
    "            torch.nn.Linear(deep_size, deep_size),\n",
    "            act(),\n",
    "            torch.nn.Dropout(p=0.1),\n",
    "            torch.nn.Linear(deep_size, deep_size),\n",
    "            act(),\n",
    "            torch.nn.Dropout(p=0.1),\n",
    "            torch.nn.Linear(deep_size, deep_size),\n",
    "            act(),\n",
    "            torch.nn.Dropout(p=0.1),\n",
    "            torch.nn.Linear(deep_size, deep_size),\n",
    "            act(),\n",
    "            torch.nn.Dropout(p=0.1),\n",
    "            torch.nn.Linear(deep_size, deep_size),\n",
    "            act(),\n",
    "            torch.nn.Dropout(p=0.1),\n",
    "            torch.nn.Linear(deep_size, deep_size),\n",
    "            act(),\n",
    "            torch.nn.Dropout(p=0.1),\n",
    "            torch.nn.Linear(deep_size, deep_size),\n",
    "            act(),\n",
    "            torch.nn.Dropout(p=0.1),\n",
    "            torch.nn.Linear(deep_size, deep_size),\n",
    "            act(),\n",
    "            torch.nn.Dropout(p=0.1),\n",
    "            torch.nn.Linear(deep_size, deep_size),\n",
    "            torch.nn.Linear(deep_size, 1)\n",
    "            \n",
    "        )\n",
    "        \n",
    "        self.model_name = 'DNN_Model_5'\n",
    "        \n",
    "                \n",
    "    def tensor_forward(self, X_tensor):\n",
    "        X_tensor = move_to(X_tensor, device)\n",
    "        return self.model(X_tensor)\n",
    "\n",
    "    def forward(self, X):\n",
    "        tensor_X = torch.FloatTensor(X.values)\n",
    "        return self.tensor_forward(tensor_X)"
   ]
  },
  {
   "cell_type": "code",
   "execution_count": 23,
   "id": "71208575",
   "metadata": {
    "execution": {
     "iopub.execute_input": "2022-04-13T22:49:38.188267Z",
     "iopub.status.busy": "2022-04-13T22:49:38.187270Z",
     "iopub.status.idle": "2022-04-13T22:49:38.195012Z",
     "shell.execute_reply": "2022-04-13T22:49:38.194614Z",
     "shell.execute_reply.started": "2022-04-13T22:37:19.905394Z"
    },
    "papermill": {
     "duration": 0.087825,
     "end_time": "2022-04-13T22:49:38.195121",
     "exception": false,
     "start_time": "2022-04-13T22:49:38.107296",
     "status": "completed"
    },
    "tags": []
   },
   "outputs": [],
   "source": [
    "class DNN_Model_6(torch.nn.Module):\n",
    "    def __init__(self, deep_size):\n",
    "        super().__init__()\n",
    "        self.deep_size = deep_size\n",
    "        self.index = 6\n",
    "        act = torch.nn.SiLU\n",
    "        self.model = self.model = torch.nn.Sequential(\n",
    "            torch.nn.Linear(300, deep_size),\n",
    "            act(),\n",
    "            torch.nn.Linear(deep_size, 256),\n",
    "            act(),\n",
    "            torch.nn.Dropout(p=0.1),\n",
    "            torch.nn.Linear(256, 256),\n",
    "            act(),\n",
    "            torch.nn.Dropout(p=0.2),\n",
    "            torch.nn.Linear(256, 384),\n",
    "            act(),\n",
    "            torch.nn.Dropout(p=0.1),\n",
    "            torch.nn.Linear(384, 384),\n",
    "            act(),\n",
    "            torch.nn.Dropout(p=0.5),\n",
    "            torch.nn.Linear(384, 256),\n",
    "            act(),\n",
    "            torch.nn.Linear(256, deep_size),\n",
    "            act(),\n",
    "            torch.nn.Dropout(p=0.2),\n",
    "            torch.nn.Linear(deep_size, deep_size),\n",
    "            act(),\n",
    "            torch.nn.Linear(deep_size, 64),\n",
    "            act(),\n",
    "            torch.nn.Linear(64, 1)\n",
    "        )\n",
    "        self.model_name = 'DNN_Model_6'\n",
    "        \n",
    "                \n",
    "    def tensor_forward(self, X_tensor):\n",
    "        X_tensor = move_to(X_tensor, device)\n",
    "        return self.model(X_tensor)\n",
    "\n",
    "    def forward(self, X):\n",
    "        tensor_X = torch.FloatTensor(X.values)\n",
    "        return self.tensor_forward(tensor_X)"
   ]
  },
  {
   "cell_type": "code",
   "execution_count": 24,
   "id": "31de9447",
   "metadata": {
    "execution": {
     "iopub.execute_input": "2022-04-13T22:49:38.276480Z",
     "iopub.status.busy": "2022-04-13T22:49:38.275975Z",
     "iopub.status.idle": "2022-04-13T22:49:38.279553Z",
     "shell.execute_reply": "2022-04-13T22:49:38.279106Z",
     "shell.execute_reply.started": "2022-04-13T22:37:19.907028Z"
    },
    "papermill": {
     "duration": 0.045552,
     "end_time": "2022-04-13T22:49:38.279654",
     "exception": false,
     "start_time": "2022-04-13T22:49:38.234102",
     "status": "completed"
    },
    "tags": []
   },
   "outputs": [],
   "source": [
    "dnn_models = [DNN_Model, DNN_Model_1, DNN_Model_2, DNN_Model_3, DNN_Model_4, DNN_Model_5]"
   ]
  },
  {
   "cell_type": "code",
   "execution_count": 25,
   "id": "6d54e759",
   "metadata": {
    "execution": {
     "iopub.execute_input": "2022-04-13T22:49:38.362324Z",
     "iopub.status.busy": "2022-04-13T22:49:38.360723Z",
     "iopub.status.idle": "2022-04-13T22:49:38.362911Z",
     "shell.execute_reply": "2022-04-13T22:49:38.363344Z",
     "shell.execute_reply.started": "2022-04-13T22:37:19.908926Z"
    },
    "papermill": {
     "duration": 0.045213,
     "end_time": "2022-04-13T22:49:38.363556",
     "exception": false,
     "start_time": "2022-04-13T22:49:38.318343",
     "status": "completed"
    },
    "tags": []
   },
   "outputs": [],
   "source": [
    "#написать subsample еще раз (также попробовать booststrap)\n",
    "#написать еще пару моделей, желательно как можно более разных\n",
    "#из большого количества моделей выбрать топ лучших (на полном датасете!)\n",
    "#продумать как можно (например с помощью матрицы корреляции) стакать сети в одной модели чтобы увеличить скор\n",
    "#поработать с бустами, попробовать их пообъединять"
   ]
  },
  {
   "cell_type": "code",
   "execution_count": 26,
   "id": "69b7fc8a",
   "metadata": {
    "execution": {
     "iopub.execute_input": "2022-04-13T22:49:38.451608Z",
     "iopub.status.busy": "2022-04-13T22:49:38.451029Z",
     "iopub.status.idle": "2022-04-13T22:49:38.454546Z",
     "shell.execute_reply": "2022-04-13T22:49:38.454130Z",
     "shell.execute_reply.started": "2022-04-12T22:42:23.833966Z"
    },
    "papermill": {
     "duration": 0.0477,
     "end_time": "2022-04-13T22:49:38.454654",
     "exception": false,
     "start_time": "2022-04-13T22:49:38.406954",
     "status": "completed"
    },
    "tags": []
   },
   "outputs": [],
   "source": [
    "def corr_based_coefs(a):\n",
    "    if a.shape[0] < 2:\n",
    "        return np.array([1])\n",
    "    preds_sum = np.sum(a, axis=0)\n",
    "    corrs = np.array([pearsonr( (preds_sum-a[i])/(a.shape[0]-1), a[i])[0] for i in range(a.shape[0])])\n",
    "    print(f'Correlation coefs: {corrs}')\n",
    "    corrs = 1 - corrs\n",
    "    corrs /= np.sum(corrs)\n",
    "    print(f'Stacking coefs: {corrs}')\n",
    "    return corrs"
   ]
  },
  {
   "cell_type": "code",
   "execution_count": 27,
   "id": "cd1aa3f0",
   "metadata": {
    "execution": {
     "iopub.execute_input": "2022-04-13T22:49:38.566316Z",
     "iopub.status.busy": "2022-04-13T22:49:38.564515Z",
     "iopub.status.idle": "2022-04-13T22:49:38.566990Z",
     "shell.execute_reply": "2022-04-13T22:49:38.567469Z",
     "shell.execute_reply.started": "2022-04-13T10:10:58.51617Z"
    },
    "papermill": {
     "duration": 0.072016,
     "end_time": "2022-04-13T22:49:38.567607",
     "exception": false,
     "start_time": "2022-04-13T22:49:38.495591",
     "status": "completed"
    },
    "tags": []
   },
   "outputs": [],
   "source": [
    "class StackedDNN:\n",
    "    def __init__(self, n, model, min_deep=30, max_deep=40):\n",
    "        self.nets = [model(np.random.randint(min_deep, max_deep)) for i in range(n)]\n",
    "        self.model_name = self.nets[0].model_name\n",
    "        for net in self.nets:\n",
    "            net = move_to(net, device)\n",
    "    \n",
    "    def fit(self, X, y, iters, batch_size=4096, subset=1, float_subset=True, silent=False, logs=False, plot=False, val=False, X_val=None, y_val=None):\n",
    "        \n",
    "        if val:\n",
    "            tensor_train_val = move_to(torch.FloatTensor(X_val.values), device)\n",
    "            tensor_y_val = move_to(torch.FloatTensor(y_val.values), device)\n",
    "            \n",
    "        if logs and silent:\n",
    "            print(f'Net {self.nets[0].model_name}')\n",
    "            \n",
    "        for i in range(len(self.nets)):\n",
    "    \n",
    "            scores_train = []\n",
    "            scores_val = []\n",
    "        \n",
    "            if val:\n",
    "                tensor_train_val = move_to(torch.FloatTensor(X_val.values), device)\n",
    "                tensor_y_val = move_to(torch.FloatTensor(y_val.values), device)\n",
    "            scores_train = []\n",
    "            scores_val = []\n",
    "\n",
    "            opt = torch.optim.Adam(self.nets[i].parameters(), lr=5e-4)\n",
    "\n",
    "            if float_subset:\n",
    "                subset_ind = np.random.uniform(subset, 1)\n",
    "\n",
    "            subset_ind = np.random.choice(batch_size, int(batch_size*subset))\n",
    "            \n",
    "            if not silent:\n",
    "                print(f'>>> Net {i + 1}/{len(self.nets)}')\n",
    "                print(f'Deep size: {self.nets[i].deep_size}')\n",
    "                print()\n",
    "                \n",
    "                \n",
    "            for epoch in range(iters):\n",
    "                offset = 0\n",
    "                #learning cycle\n",
    "                while offset + batch_size < y.shape[0]: \n",
    "                    self.nets[i].train()\n",
    "                    self.nets[i].zero_grad()\n",
    "                    X_tensor = move_to(torch.FloatTensor(X.iloc[offset:offset+batch_size, :].values), device)\n",
    "                    y_tensor = move_to(torch.FloatTensor(y[offset:offset+batch_size].values), device)\n",
    "                    X_tensor = X_tensor[subset_ind,:]\n",
    "                    y_tensor = y_tensor[subset_ind]\n",
    "                    \n",
    "                    loss = pearson_loss(self.nets[i].tensor_forward(X_tensor).view(-1), y_tensor)\n",
    "                    loss.backward()\n",
    "                    opt.step()\n",
    "                    offset += batch_size\n",
    "\n",
    "                #prints\n",
    "                if val:\n",
    "                    self.nets[i].eval()\n",
    "                    val_loss = pearson_loss(self.nets[i].tensor_forward(tensor_train_val).view(-1), tensor_y_val)\n",
    "                    scores_val.append(float(val_loss.detach()))\n",
    "                scores_train.append(float(loss.detach()))\n",
    "\n",
    "                if not silent:\n",
    "                    print(f'epoch {epoch} finished with {loss} loss')\n",
    "                    if val:\n",
    "                        print(f'val loss {val_loss}')\n",
    "                \n",
    "            if logs and silent:\n",
    "                print(f'Net {i+1}/{len(self.nets)} fitted')\n",
    "                \n",
    "            if not silent:\n",
    "                if val:\n",
    "                    print(f'Finished with \\n train loss: {loss}\\n val loss: {val_loss}')\n",
    "                else:\n",
    "                    print(f'Finished with {loss} loss')\n",
    "            if plot:\n",
    "                if val:\n",
    "                    sns.lineplot(x=range(iters), y=scores_train, label='train')\n",
    "                    sns.lineplot(x=range(iters), y=scores_val, label='val')\n",
    "                else:\n",
    "                    sns.lineplot(scores_train)\n",
    "                plt.plot()\n",
    "\n",
    "        \n",
    "    def predict(self, X):\n",
    "        y_pred = np.ndarray([len(self.nets), X.shape[0]])\n",
    "        for i in range(len(self.nets)):\n",
    "            self.nets[i].eval()\n",
    "            y_pred[i] = np.array(self.nets[i].forward(X).detach().view(-1).cpu())\n",
    "        y_pred = corr_based_coefs(y_pred).dot(y_pred)\n",
    "        return y_pred\n",
    "    \n",
    "    def save(self):\n",
    "        import os\n",
    "        try:\n",
    "            os.mkdir(f'./{self.model_name}')\n",
    "        except:\n",
    "            pass\n",
    "        with open(f'./{self.model_name}/config.txt', 'w') as f:\n",
    "            f.write(str(self.nets[0].index) + '\\n')\n",
    "            for i in range(len(self.nets)):\n",
    "                torch.save(self.nets[i].state_dict(), f'./{self.model_name}/model:{i}')\n",
    "                f.write(str(self.nets[i].deep_size) + '\\n')\n",
    "\n",
    "    \n",
    "                       \n",
    "    def load(self):\n",
    "        with open(f'../input/ubiquantdevelop/{self.model_name}/config.txt', 'r') as f:\n",
    "            dnn_model = dnn_models[int(f.readline())]\n",
    "            \n",
    "            for i in range(len(self.nets)):\n",
    "                self.nets[i] = dnn_model(int(f.readline()))\n",
    "                self.nets[i].load_state_dict(torch.load(f'../input/ubiquantdevelop/{self.model_name}/model:{i}', map_location=torch.device('cpu')))\n",
    "                self.nets[i] = move_to(self.nets[i], device)"
   ]
  },
  {
   "cell_type": "code",
   "execution_count": 28,
   "id": "b13a53ba",
   "metadata": {
    "execution": {
     "iopub.execute_input": "2022-04-13T22:49:38.655541Z",
     "iopub.status.busy": "2022-04-13T22:49:38.655018Z",
     "iopub.status.idle": "2022-04-13T22:49:38.658512Z",
     "shell.execute_reply": "2022-04-13T22:49:38.658026Z",
     "shell.execute_reply.started": "2022-04-12T21:58:42.078351Z"
    },
    "papermill": {
     "duration": 0.0472,
     "end_time": "2022-04-13T22:49:38.658650",
     "exception": false,
     "start_time": "2022-04-13T22:49:38.611450",
     "status": "completed"
    },
    "tags": []
   },
   "outputs": [],
   "source": [
    "#0   0.16049979767507658\n",
    "#1   0.16195405253013023\n",
    "#2   0.16213173833206326\n",
    "#3   0.16256979869460275\n",
    "#4"
   ]
  },
  {
   "cell_type": "markdown",
   "id": "f1946466",
   "metadata": {
    "papermill": {
     "duration": 0.039377,
     "end_time": "2022-04-13T22:49:38.736822",
     "exception": false,
     "start_time": "2022-04-13T22:49:38.697445",
     "status": "completed"
    },
    "tags": []
   },
   "source": [
    "#написать ноутбук как меняется необходимое количество эпох в завимисимости от размера выбранной части выборки\n",
    "#то есть для подвыборки лучшее качетство получается на n итерациях, как дело обстоит если увеличивать выборку\n",
    "#лучше взять датасет для регресии и поменьше\n",
    "#можно взять несколько датасетов"
   ]
  },
  {
   "cell_type": "code",
   "execution_count": 29,
   "id": "251d27cd",
   "metadata": {
    "execution": {
     "iopub.execute_input": "2022-04-13T22:49:38.825439Z",
     "iopub.status.busy": "2022-04-13T22:49:38.824864Z",
     "iopub.status.idle": "2022-04-13T22:54:46.894033Z",
     "shell.execute_reply": "2022-04-13T22:54:46.894550Z"
    },
    "papermill": {
     "duration": 308.118673,
     "end_time": "2022-04-13T22:54:46.894799",
     "exception": false,
     "start_time": "2022-04-13T22:49:38.776126",
     "status": "completed"
    },
    "tags": []
   },
   "outputs": [
    {
     "name": "stdout",
     "output_type": "stream",
     "text": [
      ">>> Net 1/10\n",
      "Deep size: 288\n",
      "\n",
      "epoch 0 finished with -0.24693968892097473 loss\n",
      "epoch 1 finished with -0.24460723996162415 loss\n",
      "epoch 2 finished with -0.2522820830345154 loss\n",
      "epoch 3 finished with -0.2472161054611206 loss\n",
      "epoch 4 finished with -0.2496943175792694 loss\n",
      "Finished with -0.2496943175792694 loss\n",
      ">>> Net 2/10\n",
      "Deep size: 294\n",
      "\n",
      "epoch 0 finished with -0.24021734297275543 loss\n",
      "epoch 1 finished with -0.2567983567714691 loss\n",
      "epoch 2 finished with -0.2594028413295746 loss\n",
      "epoch 3 finished with -0.2606032192707062 loss\n",
      "epoch 4 finished with -0.2746770977973938 loss\n",
      "Finished with -0.2746770977973938 loss\n",
      ">>> Net 3/10\n",
      "Deep size: 288\n",
      "\n",
      "epoch 0 finished with -0.23524922132492065 loss\n",
      "epoch 1 finished with -0.23356597125530243 loss\n",
      "epoch 2 finished with -0.24730341136455536 loss\n",
      "epoch 3 finished with -0.23560263216495514 loss\n",
      "epoch 4 finished with -0.2474345564842224 loss\n",
      "Finished with -0.2474345564842224 loss\n",
      ">>> Net 4/10\n",
      "Deep size: 282\n",
      "\n",
      "epoch 0 finished with -0.23979631066322327 loss\n",
      "epoch 1 finished with -0.2541443109512329 loss\n",
      "epoch 2 finished with -0.2530745565891266 loss\n",
      "epoch 3 finished with -0.26375892758369446 loss\n",
      "epoch 4 finished with -0.2594374120235443 loss\n",
      "Finished with -0.2594374120235443 loss\n",
      ">>> Net 5/10\n",
      "Deep size: 296\n",
      "\n",
      "epoch 0 finished with -0.28869980573654175 loss\n",
      "epoch 1 finished with -0.30780646204948425 loss\n",
      "epoch 2 finished with -0.286210834980011 loss\n",
      "epoch 3 finished with -0.3172989785671234 loss\n",
      "epoch 4 finished with -0.30773621797561646 loss\n",
      "Finished with -0.30773621797561646 loss\n",
      ">>> Net 6/10\n",
      "Deep size: 292\n",
      "\n",
      "epoch 0 finished with -0.22998595237731934 loss\n",
      "epoch 1 finished with -0.24137945473194122 loss\n",
      "epoch 2 finished with -0.23632897436618805 loss\n",
      "epoch 3 finished with -0.2549796402454376 loss\n",
      "epoch 4 finished with -0.255169153213501 loss\n",
      "Finished with -0.255169153213501 loss\n",
      ">>> Net 7/10\n",
      "Deep size: 289\n",
      "\n",
      "epoch 0 finished with -0.24069350957870483 loss\n",
      "epoch 1 finished with -0.21643982827663422 loss\n",
      "epoch 2 finished with -0.22413989901542664 loss\n",
      "epoch 3 finished with -0.2141677588224411 loss\n",
      "epoch 4 finished with -0.22761863470077515 loss\n",
      "Finished with -0.22761863470077515 loss\n",
      ">>> Net 8/10\n",
      "Deep size: 289\n",
      "\n",
      "epoch 0 finished with -0.27913451194763184 loss\n",
      "epoch 1 finished with -0.2794462740421295 loss\n",
      "epoch 2 finished with -0.27663472294807434 loss\n",
      "epoch 3 finished with -0.27159807085990906 loss\n",
      "epoch 4 finished with -0.2681831121444702 loss\n",
      "Finished with -0.2681831121444702 loss\n",
      ">>> Net 9/10\n",
      "Deep size: 294\n",
      "\n",
      "epoch 0 finished with -0.22479842603206635 loss\n",
      "epoch 1 finished with -0.2227550894021988 loss\n",
      "epoch 2 finished with -0.23112475872039795 loss\n",
      "epoch 3 finished with -0.22542177140712738 loss\n",
      "epoch 4 finished with -0.22693656384944916 loss\n",
      "Finished with -0.22693656384944916 loss\n",
      ">>> Net 10/10\n",
      "Deep size: 293\n",
      "\n",
      "epoch 0 finished with -0.23255549371242523 loss\n",
      "epoch 1 finished with -0.23270906507968903 loss\n",
      "epoch 2 finished with -0.2214358150959015 loss\n",
      "epoch 3 finished with -0.23343156278133392 loss\n",
      "epoch 4 finished with -0.22346767783164978 loss\n",
      "Finished with -0.22346767783164978 loss\n"
     ]
    }
   ],
   "source": [
    "nn_model = StackedDNN(10, DNN_Model, min_deep=280, max_deep=301)\n",
    "nn_model.fit(data, target, 5, subset=1)\n",
    "nn_model.save()"
   ]
  },
  {
   "cell_type": "code",
   "execution_count": 30,
   "id": "c9d1ab13",
   "metadata": {
    "execution": {
     "iopub.execute_input": "2022-04-13T22:54:47.011257Z",
     "iopub.status.busy": "2022-04-13T22:54:47.010457Z",
     "iopub.status.idle": "2022-04-13T23:01:44.158346Z",
     "shell.execute_reply": "2022-04-13T23:01:44.157855Z"
    },
    "papermill": {
     "duration": 417.208155,
     "end_time": "2022-04-13T23:01:44.158505",
     "exception": false,
     "start_time": "2022-04-13T22:54:46.950350",
     "status": "completed"
    },
    "tags": []
   },
   "outputs": [
    {
     "name": "stdout",
     "output_type": "stream",
     "text": [
      ">>> Net 1/10\n",
      "Deep size: 40\n",
      "\n",
      "epoch 0 finished with -0.1880437135696411 loss\n",
      "epoch 1 finished with -0.1933516263961792 loss\n",
      "epoch 2 finished with -0.187080979347229 loss\n",
      "epoch 3 finished with -0.20494689047336578 loss\n",
      "epoch 4 finished with -0.16735270619392395 loss\n",
      "Finished with -0.16735270619392395 loss\n",
      ">>> Net 2/10\n",
      "Deep size: 40\n",
      "\n",
      "epoch 0 finished with -0.17569400370121002 loss\n",
      "epoch 1 finished with -0.16813808679580688 loss\n",
      "epoch 2 finished with -0.1794738918542862 loss\n",
      "epoch 3 finished with -0.17088033258914948 loss\n",
      "epoch 4 finished with -0.178660586476326 loss\n",
      "Finished with -0.178660586476326 loss\n",
      ">>> Net 3/10\n",
      "Deep size: 40\n",
      "\n",
      "epoch 0 finished with -0.20426365733146667 loss\n",
      "epoch 1 finished with -0.20232141017913818 loss\n",
      "epoch 2 finished with -0.20594707131385803 loss\n",
      "epoch 3 finished with -0.21068470180034637 loss\n",
      "epoch 4 finished with -0.19789838790893555 loss\n",
      "Finished with -0.19789838790893555 loss\n",
      ">>> Net 4/10\n",
      "Deep size: 40\n",
      "\n",
      "epoch 0 finished with -0.25511592626571655 loss\n",
      "epoch 1 finished with -0.23469537496566772 loss\n",
      "epoch 2 finished with -0.2468443065881729 loss\n",
      "epoch 3 finished with -0.24213960766792297 loss\n",
      "epoch 4 finished with -0.2515791952610016 loss\n",
      "Finished with -0.2515791952610016 loss\n",
      ">>> Net 5/10\n",
      "Deep size: 40\n",
      "\n",
      "epoch 0 finished with -0.2071060687303543 loss\n",
      "epoch 1 finished with -0.2293323576450348 loss\n",
      "epoch 2 finished with -0.23430851101875305 loss\n",
      "epoch 3 finished with -0.2168780416250229 loss\n",
      "epoch 4 finished with -0.2102433294057846 loss\n",
      "Finished with -0.2102433294057846 loss\n",
      ">>> Net 6/10\n",
      "Deep size: 40\n",
      "\n",
      "epoch 0 finished with -0.19615179300308228 loss\n",
      "epoch 1 finished with -0.18937355279922485 loss\n",
      "epoch 2 finished with -0.2130144089460373 loss\n",
      "epoch 3 finished with -0.22287914156913757 loss\n",
      "epoch 4 finished with -0.20461741089820862 loss\n",
      "Finished with -0.20461741089820862 loss\n",
      ">>> Net 7/10\n",
      "Deep size: 40\n",
      "\n",
      "epoch 0 finished with -0.19485993683338165 loss\n",
      "epoch 1 finished with -0.20935271680355072 loss\n",
      "epoch 2 finished with -0.20292700827121735 loss\n",
      "epoch 3 finished with -0.19780346751213074 loss\n",
      "epoch 4 finished with -0.21716465055942535 loss\n",
      "Finished with -0.21716465055942535 loss\n",
      ">>> Net 8/10\n",
      "Deep size: 40\n",
      "\n",
      "epoch 0 finished with -0.22573284804821014 loss\n",
      "epoch 1 finished with -0.22719499468803406 loss\n",
      "epoch 2 finished with -0.23191766440868378 loss\n",
      "epoch 3 finished with -0.2288135439157486 loss\n",
      "epoch 4 finished with -0.24010328948497772 loss\n",
      "Finished with -0.24010328948497772 loss\n",
      ">>> Net 9/10\n",
      "Deep size: 40\n",
      "\n",
      "epoch 0 finished with -0.1978955715894699 loss\n",
      "epoch 1 finished with -0.2081310749053955 loss\n",
      "epoch 2 finished with -0.20651192963123322 loss\n",
      "epoch 3 finished with -0.22871994972229004 loss\n",
      "epoch 4 finished with -0.22200414538383484 loss\n",
      "Finished with -0.22200414538383484 loss\n",
      ">>> Net 10/10\n",
      "Deep size: 40\n",
      "\n",
      "epoch 0 finished with -0.23550090193748474 loss\n",
      "epoch 1 finished with -0.2367258369922638 loss\n",
      "epoch 2 finished with -0.24041935801506042 loss\n",
      "epoch 3 finished with -0.22881634533405304 loss\n",
      "epoch 4 finished with -0.23357482254505157 loss\n",
      "Finished with -0.23357482254505157 loss\n"
     ]
    }
   ],
   "source": [
    "nn_model_1 = StackedDNN(10, DNN_Model_1, min_deep=40, max_deep=41)\n",
    "nn_model_1.fit(data, target, 5, subset=1)\n",
    "nn_model_1.save()"
   ]
  },
  {
   "cell_type": "code",
   "execution_count": 31,
   "id": "ac122a69",
   "metadata": {
    "execution": {
     "iopub.execute_input": "2022-04-13T23:01:44.323066Z",
     "iopub.status.busy": "2022-04-13T23:01:44.322277Z",
     "iopub.status.idle": "2022-04-13T23:09:17.157885Z",
     "shell.execute_reply": "2022-04-13T23:09:17.158450Z"
    },
    "papermill": {
     "duration": 452.916486,
     "end_time": "2022-04-13T23:09:17.158630",
     "exception": false,
     "start_time": "2022-04-13T23:01:44.242144",
     "status": "completed"
    },
    "tags": []
   },
   "outputs": [
    {
     "name": "stdout",
     "output_type": "stream",
     "text": [
      ">>> Net 1/10\n",
      "Deep size: 100\n",
      "\n",
      "epoch 0 finished with -0.2972073554992676 loss\n",
      "epoch 1 finished with -0.3069702088832855 loss\n",
      "epoch 2 finished with -0.3098713457584381 loss\n",
      "epoch 3 finished with -0.2991941273212433 loss\n",
      "epoch 4 finished with -0.3147832453250885 loss\n",
      "Finished with -0.3147832453250885 loss\n",
      ">>> Net 2/10\n",
      "Deep size: 100\n",
      "\n",
      "epoch 0 finished with -0.2667606472969055 loss\n",
      "epoch 1 finished with -0.26880964636802673 loss\n",
      "epoch 2 finished with -0.27846023440361023 loss\n",
      "epoch 3 finished with -0.2770363986492157 loss\n",
      "epoch 4 finished with -0.2706456184387207 loss\n",
      "Finished with -0.2706456184387207 loss\n",
      ">>> Net 3/10\n",
      "Deep size: 100\n",
      "\n",
      "epoch 0 finished with -0.27953994274139404 loss\n",
      "epoch 1 finished with -0.2714928984642029 loss\n",
      "epoch 2 finished with -0.2649078369140625 loss\n",
      "epoch 3 finished with -0.2595667243003845 loss\n",
      "epoch 4 finished with -0.25946491956710815 loss\n",
      "Finished with -0.25946491956710815 loss\n",
      ">>> Net 4/10\n",
      "Deep size: 100\n",
      "\n",
      "epoch 0 finished with -0.2936372458934784 loss\n",
      "epoch 1 finished with -0.28076431155204773 loss\n",
      "epoch 2 finished with -0.300317645072937 loss\n",
      "epoch 3 finished with -0.3091590404510498 loss\n",
      "epoch 4 finished with -0.29614177346229553 loss\n",
      "Finished with -0.29614177346229553 loss\n",
      ">>> Net 5/10\n",
      "Deep size: 100\n",
      "\n",
      "epoch 0 finished with -0.23771442472934723 loss\n",
      "epoch 1 finished with -0.2220689207315445 loss\n",
      "epoch 2 finished with -0.23951435089111328 loss\n",
      "epoch 3 finished with -0.22572357952594757 loss\n",
      "epoch 4 finished with -0.23305226862430573 loss\n",
      "Finished with -0.23305226862430573 loss\n",
      ">>> Net 6/10\n",
      "Deep size: 100\n",
      "\n",
      "epoch 0 finished with -0.2158488780260086 loss\n",
      "epoch 1 finished with -0.2359199970960617 loss\n",
      "epoch 2 finished with -0.2412855476140976 loss\n",
      "epoch 3 finished with -0.24303056299686432 loss\n",
      "epoch 4 finished with -0.23742865025997162 loss\n",
      "Finished with -0.23742865025997162 loss\n",
      ">>> Net 7/10\n",
      "Deep size: 100\n",
      "\n",
      "epoch 0 finished with -0.1828063726425171 loss\n",
      "epoch 1 finished with -0.19204829633235931 loss\n",
      "epoch 2 finished with -0.18504369258880615 loss\n",
      "epoch 3 finished with -0.1957295536994934 loss\n",
      "epoch 4 finished with -0.1954643428325653 loss\n",
      "Finished with -0.1954643428325653 loss\n",
      ">>> Net 8/10\n",
      "Deep size: 100\n",
      "\n",
      "epoch 0 finished with -0.22812971472740173 loss\n",
      "epoch 1 finished with -0.20787325501441956 loss\n",
      "epoch 2 finished with -0.2086673080921173 loss\n",
      "epoch 3 finished with -0.21718311309814453 loss\n",
      "epoch 4 finished with -0.2071966528892517 loss\n",
      "Finished with -0.2071966528892517 loss\n",
      ">>> Net 9/10\n",
      "Deep size: 100\n",
      "\n",
      "epoch 0 finished with -0.28576281666755676 loss\n",
      "epoch 1 finished with -0.2927144169807434 loss\n",
      "epoch 2 finished with -0.2941261827945709 loss\n",
      "epoch 3 finished with -0.29200106859207153 loss\n",
      "epoch 4 finished with -0.29113683104515076 loss\n",
      "Finished with -0.29113683104515076 loss\n",
      ">>> Net 10/10\n",
      "Deep size: 100\n",
      "\n",
      "epoch 0 finished with -0.18994379043579102 loss\n",
      "epoch 1 finished with -0.1977810561656952 loss\n",
      "epoch 2 finished with -0.21116164326667786 loss\n",
      "epoch 3 finished with -0.20535193383693695 loss\n",
      "epoch 4 finished with -0.19640739262104034 loss\n",
      "Finished with -0.19640739262104034 loss\n"
     ]
    }
   ],
   "source": [
    "nn_model_2 = StackedDNN(10, DNN_Model_2, min_deep=100, max_deep=101)\n",
    "nn_model_2.fit(data, target, 5, subset=1)\n",
    "nn_model_2.save()"
   ]
  },
  {
   "cell_type": "code",
   "execution_count": 32,
   "id": "a4e4c886",
   "metadata": {
    "execution": {
     "iopub.execute_input": "2022-04-13T23:09:17.475299Z",
     "iopub.status.busy": "2022-04-13T23:09:17.474529Z",
     "iopub.status.idle": "2022-04-13T23:16:13.962122Z",
     "shell.execute_reply": "2022-04-13T23:16:13.962617Z"
    },
    "papermill": {
     "duration": 416.672658,
     "end_time": "2022-04-13T23:16:13.962847",
     "exception": false,
     "start_time": "2022-04-13T23:09:17.290189",
     "status": "completed"
    },
    "tags": []
   },
   "outputs": [
    {
     "name": "stdout",
     "output_type": "stream",
     "text": [
      ">>> Net 1/10\n",
      "Deep size: 97\n",
      "\n",
      "epoch 0 finished with -0.24891239404678345 loss\n",
      "epoch 1 finished with -0.2649911344051361 loss\n",
      "epoch 2 finished with -0.26951995491981506 loss\n",
      "epoch 3 finished with -0.2752933204174042 loss\n",
      "epoch 4 finished with -0.28771039843559265 loss\n",
      "Finished with -0.28771039843559265 loss\n",
      ">>> Net 2/10\n",
      "Deep size: 100\n",
      "\n",
      "epoch 0 finished with -0.199471116065979 loss\n",
      "epoch 1 finished with -0.19169989228248596 loss\n",
      "epoch 2 finished with -0.18833041191101074 loss\n",
      "epoch 3 finished with -0.1975925713777542 loss\n",
      "epoch 4 finished with -0.19214491546154022 loss\n",
      "Finished with -0.19214491546154022 loss\n",
      ">>> Net 3/10\n",
      "Deep size: 92\n",
      "\n",
      "epoch 0 finished with -0.21249793469905853 loss\n",
      "epoch 1 finished with -0.20998099446296692 loss\n",
      "epoch 2 finished with -0.2125391811132431 loss\n",
      "epoch 3 finished with -0.22337943315505981 loss\n",
      "epoch 4 finished with -0.22080321609973907 loss\n",
      "Finished with -0.22080321609973907 loss\n",
      ">>> Net 4/10\n",
      "Deep size: 97\n",
      "\n",
      "epoch 0 finished with -0.18578170239925385 loss\n",
      "epoch 1 finished with -0.18932536244392395 loss\n",
      "epoch 2 finished with -0.19370026886463165 loss\n",
      "epoch 3 finished with -0.19172585010528564 loss\n",
      "epoch 4 finished with -0.19696444272994995 loss\n",
      "Finished with -0.19696444272994995 loss\n",
      ">>> Net 5/10\n",
      "Deep size: 94\n",
      "\n",
      "epoch 0 finished with -0.26350903511047363 loss\n",
      "epoch 1 finished with -0.2697986960411072 loss\n",
      "epoch 2 finished with -0.2584078013896942 loss\n",
      "epoch 3 finished with -0.26348498463630676 loss\n",
      "epoch 4 finished with -0.26722607016563416 loss\n",
      "Finished with -0.26722607016563416 loss\n",
      ">>> Net 6/10\n",
      "Deep size: 102\n",
      "\n",
      "epoch 0 finished with -0.21923032402992249 loss\n",
      "epoch 1 finished with -0.21374811232089996 loss\n",
      "epoch 2 finished with -0.1872585117816925 loss\n",
      "epoch 3 finished with -0.2036072462797165 loss\n",
      "epoch 4 finished with -0.19121535122394562 loss\n",
      "Finished with -0.19121535122394562 loss\n",
      ">>> Net 7/10\n",
      "Deep size: 92\n",
      "\n",
      "epoch 0 finished with -0.22481511533260345 loss\n",
      "epoch 1 finished with -0.23164889216423035 loss\n",
      "epoch 2 finished with -0.24495522677898407 loss\n",
      "epoch 3 finished with -0.2548370361328125 loss\n",
      "epoch 4 finished with -0.25135013461112976 loss\n",
      "Finished with -0.25135013461112976 loss\n",
      ">>> Net 8/10\n",
      "Deep size: 93\n",
      "\n",
      "epoch 0 finished with -0.20888255536556244 loss\n",
      "epoch 1 finished with -0.19130434095859528 loss\n",
      "epoch 2 finished with -0.19919340312480927 loss\n",
      "epoch 3 finished with -0.20406822860240936 loss\n",
      "epoch 4 finished with -0.20721030235290527 loss\n",
      "Finished with -0.20721030235290527 loss\n",
      ">>> Net 9/10\n",
      "Deep size: 101\n",
      "\n",
      "epoch 0 finished with -0.28608059883117676 loss\n",
      "epoch 1 finished with -0.27810904383659363 loss\n",
      "epoch 2 finished with -0.2717741131782532 loss\n",
      "epoch 3 finished with -0.2699795365333557 loss\n",
      "epoch 4 finished with -0.27246057987213135 loss\n",
      "Finished with -0.27246057987213135 loss\n",
      ">>> Net 10/10\n",
      "Deep size: 92\n",
      "\n",
      "epoch 0 finished with -0.24269048869609833 loss\n",
      "epoch 1 finished with -0.2127179056406021 loss\n",
      "epoch 2 finished with -0.2144315391778946 loss\n",
      "epoch 3 finished with -0.20905129611492157 loss\n",
      "epoch 4 finished with -0.20134757459163666 loss\n",
      "Finished with -0.20134757459163666 loss\n"
     ]
    }
   ],
   "source": [
    "nn_model_3 = StackedDNN(10, DNN_Model_3, min_deep=90, max_deep=110)\n",
    "nn_model_3.fit(data, target, 5, subset=1)\n",
    "nn_model_3.save()"
   ]
  },
  {
   "cell_type": "code",
   "execution_count": 33,
   "id": "f4b5434c",
   "metadata": {
    "execution": {
     "iopub.execute_input": "2022-04-13T23:16:14.182125Z",
     "iopub.status.busy": "2022-04-13T23:16:14.181624Z",
     "iopub.status.idle": "2022-04-13T23:22:15.309838Z",
     "shell.execute_reply": "2022-04-13T23:22:15.310290Z"
    },
    "papermill": {
     "duration": 361.233994,
     "end_time": "2022-04-13T23:22:15.310473",
     "exception": false,
     "start_time": "2022-04-13T23:16:14.076479",
     "status": "completed"
    },
    "tags": []
   },
   "outputs": [
    {
     "name": "stdout",
     "output_type": "stream",
     "text": [
      ">>> Net 1/10\n",
      "Deep size: 92\n",
      "\n",
      "epoch 0 finished with -0.2529107630252838 loss\n",
      "epoch 1 finished with -0.228806272149086 loss\n",
      "epoch 2 finished with -0.23439006507396698 loss\n",
      "epoch 3 finished with -0.24320636689662933 loss\n",
      "epoch 4 finished with -0.23174431920051575 loss\n",
      "Finished with -0.23174431920051575 loss\n",
      ">>> Net 2/10\n",
      "Deep size: 103\n",
      "\n",
      "epoch 0 finished with -0.2780415415763855 loss\n",
      "epoch 1 finished with -0.2802083492279053 loss\n",
      "epoch 2 finished with -0.28236088156700134 loss\n",
      "epoch 3 finished with -0.28828415274620056 loss\n",
      "epoch 4 finished with -0.2938397526741028 loss\n",
      "Finished with -0.2938397526741028 loss\n",
      ">>> Net 3/10\n",
      "Deep size: 95\n",
      "\n",
      "epoch 0 finished with -0.23326300084590912 loss\n",
      "epoch 1 finished with -0.2431890219449997 loss\n",
      "epoch 2 finished with -0.243187814950943 loss\n",
      "epoch 3 finished with -0.2427978515625 loss\n",
      "epoch 4 finished with -0.24886994063854218 loss\n",
      "Finished with -0.24886994063854218 loss\n",
      ">>> Net 4/10\n",
      "Deep size: 101\n",
      "\n",
      "epoch 0 finished with -0.25699248909950256 loss\n",
      "epoch 1 finished with -0.2714189291000366 loss\n",
      "epoch 2 finished with -0.2770950496196747 loss\n",
      "epoch 3 finished with -0.27062320709228516 loss\n",
      "epoch 4 finished with -0.27748554944992065 loss\n",
      "Finished with -0.27748554944992065 loss\n",
      ">>> Net 5/10\n",
      "Deep size: 102\n",
      "\n",
      "epoch 0 finished with -0.1899552047252655 loss\n",
      "epoch 1 finished with -0.19097284972667694 loss\n",
      "epoch 2 finished with -0.1868421584367752 loss\n",
      "epoch 3 finished with -0.18544860184192657 loss\n",
      "epoch 4 finished with -0.19301219284534454 loss\n",
      "Finished with -0.19301219284534454 loss\n",
      ">>> Net 6/10\n",
      "Deep size: 94\n",
      "\n",
      "epoch 0 finished with -0.2556250989437103 loss\n",
      "epoch 1 finished with -0.25679969787597656 loss\n",
      "epoch 2 finished with -0.256402850151062 loss\n",
      "epoch 3 finished with -0.23516544699668884 loss\n",
      "epoch 4 finished with -0.2527211606502533 loss\n",
      "Finished with -0.2527211606502533 loss\n",
      ">>> Net 7/10\n",
      "Deep size: 99\n",
      "\n",
      "epoch 0 finished with -0.25670626759529114 loss\n",
      "epoch 1 finished with -0.22077147662639618 loss\n",
      "epoch 2 finished with -0.19789732992649078 loss\n",
      "epoch 3 finished with -0.18830576539039612 loss\n",
      "epoch 4 finished with -0.1997428685426712 loss\n",
      "Finished with -0.1997428685426712 loss\n",
      ">>> Net 8/10\n",
      "Deep size: 98\n",
      "\n",
      "epoch 0 finished with -0.23200377821922302 loss\n",
      "epoch 1 finished with -0.23552635312080383 loss\n",
      "epoch 2 finished with -0.22883561253547668 loss\n",
      "epoch 3 finished with -0.2385227084159851 loss\n",
      "epoch 4 finished with -0.23641547560691833 loss\n",
      "Finished with -0.23641547560691833 loss\n",
      ">>> Net 9/10\n",
      "Deep size: 102\n",
      "\n",
      "epoch 0 finished with -0.2465183436870575 loss\n",
      "epoch 1 finished with -0.2479880005121231 loss\n",
      "epoch 2 finished with -0.24950647354125977 loss\n",
      "epoch 3 finished with -0.238524928689003 loss\n",
      "epoch 4 finished with -0.25346651673316956 loss\n",
      "Finished with -0.25346651673316956 loss\n",
      ">>> Net 10/10\n",
      "Deep size: 94\n",
      "\n",
      "epoch 0 finished with -0.2813626229763031 loss\n",
      "epoch 1 finished with -0.2902127206325531 loss\n",
      "epoch 2 finished with -0.2936118543148041 loss\n",
      "epoch 3 finished with -0.2869024872779846 loss\n",
      "epoch 4 finished with -0.3054216206073761 loss\n",
      "Finished with -0.3054216206073761 loss\n"
     ]
    }
   ],
   "source": [
    "nn_model_4 = StackedDNN(10, DNN_Model_4, min_deep=90, max_deep=110)\n",
    "nn_model_4.fit(data, target, 5, subset=1)\n",
    "nn_model_4.save()"
   ]
  },
  {
   "cell_type": "code",
   "execution_count": 34,
   "id": "81cbc290",
   "metadata": {
    "execution": {
     "iopub.execute_input": "2022-04-13T23:22:15.551768Z",
     "iopub.status.busy": "2022-04-13T23:22:15.550857Z",
     "iopub.status.idle": "2022-04-13T23:28:55.215896Z",
     "shell.execute_reply": "2022-04-13T23:28:55.216451Z"
    },
    "papermill": {
     "duration": 399.787463,
     "end_time": "2022-04-13T23:28:55.216640",
     "exception": false,
     "start_time": "2022-04-13T23:22:15.429177",
     "status": "completed"
    },
    "tags": []
   },
   "outputs": [
    {
     "name": "stdout",
     "output_type": "stream",
     "text": [
      ">>> Net 1/10\n",
      "Deep size: 103\n",
      "\n",
      "epoch 0 finished with -0.2240101397037506 loss\n",
      "epoch 1 finished with -0.2155267745256424 loss\n",
      "epoch 2 finished with -0.21182452142238617 loss\n",
      "epoch 3 finished with -0.20135419070720673 loss\n",
      "epoch 4 finished with -0.21555712819099426 loss\n",
      "Finished with -0.21555712819099426 loss\n",
      ">>> Net 2/10\n",
      "Deep size: 103\n",
      "\n",
      "epoch 0 finished with -0.2785224914550781 loss\n",
      "epoch 1 finished with -0.281108021736145 loss\n",
      "epoch 2 finished with -0.26938337087631226 loss\n",
      "epoch 3 finished with -0.280425488948822 loss\n",
      "epoch 4 finished with -0.2702045440673828 loss\n",
      "Finished with -0.2702045440673828 loss\n",
      ">>> Net 3/10\n",
      "Deep size: 108\n",
      "\n",
      "epoch 0 finished with -0.2590528130531311 loss\n",
      "epoch 1 finished with -0.26606354117393494 loss\n",
      "epoch 2 finished with -0.2600416839122772 loss\n",
      "epoch 3 finished with -0.26438668370246887 loss\n",
      "epoch 4 finished with -0.2559710443019867 loss\n",
      "Finished with -0.2559710443019867 loss\n",
      ">>> Net 4/10\n",
      "Deep size: 101\n",
      "\n",
      "epoch 0 finished with -0.251762717962265 loss\n",
      "epoch 1 finished with -0.247639998793602 loss\n",
      "epoch 2 finished with -0.25327715277671814 loss\n",
      "epoch 3 finished with -0.24175849556922913 loss\n",
      "epoch 4 finished with -0.24936364591121674 loss\n",
      "Finished with -0.24936364591121674 loss\n",
      ">>> Net 5/10\n",
      "Deep size: 109\n",
      "\n",
      "epoch 0 finished with -0.264526903629303 loss\n",
      "epoch 1 finished with -0.2463444322347641 loss\n",
      "epoch 2 finished with -0.24667221307754517 loss\n",
      "epoch 3 finished with -0.25672951340675354 loss\n",
      "epoch 4 finished with -0.25170186161994934 loss\n",
      "Finished with -0.25170186161994934 loss\n",
      ">>> Net 6/10\n",
      "Deep size: 105\n",
      "\n",
      "epoch 0 finished with -0.23615334928035736 loss\n",
      "epoch 1 finished with -0.23495246469974518 loss\n",
      "epoch 2 finished with -0.2303633987903595 loss\n",
      "epoch 3 finished with -0.2238708883523941 loss\n",
      "epoch 4 finished with -0.2144472599029541 loss\n",
      "Finished with -0.2144472599029541 loss\n",
      ">>> Net 7/10\n",
      "Deep size: 105\n",
      "\n",
      "epoch 0 finished with -0.2436797171831131 loss\n",
      "epoch 1 finished with -0.25115966796875 loss\n",
      "epoch 2 finished with -0.26181545853614807 loss\n",
      "epoch 3 finished with -0.25387516617774963 loss\n",
      "epoch 4 finished with -0.251193642616272 loss\n",
      "Finished with -0.251193642616272 loss\n",
      ">>> Net 8/10\n",
      "Deep size: 104\n",
      "\n",
      "epoch 0 finished with -0.28927668929100037 loss\n",
      "epoch 1 finished with -0.28272780776023865 loss\n",
      "epoch 2 finished with -0.28509077429771423 loss\n",
      "epoch 3 finished with -0.2852306067943573 loss\n",
      "epoch 4 finished with -0.27500852942466736 loss\n",
      "Finished with -0.27500852942466736 loss\n",
      ">>> Net 9/10\n",
      "Deep size: 100\n",
      "\n",
      "epoch 0 finished with -0.26968902349472046 loss\n",
      "epoch 1 finished with -0.2803618311882019 loss\n",
      "epoch 2 finished with -0.2730523347854614 loss\n",
      "epoch 3 finished with -0.2910785973072052 loss\n",
      "epoch 4 finished with -0.2823759913444519 loss\n",
      "Finished with -0.2823759913444519 loss\n",
      ">>> Net 10/10\n",
      "Deep size: 104\n",
      "\n",
      "epoch 0 finished with -0.21248619258403778 loss\n",
      "epoch 1 finished with -0.2111818790435791 loss\n",
      "epoch 2 finished with -0.22143808007240295 loss\n",
      "epoch 3 finished with -0.22255314886569977 loss\n",
      "epoch 4 finished with -0.2153821885585785 loss\n",
      "Finished with -0.2153821885585785 loss\n"
     ]
    }
   ],
   "source": [
    "nn_model_5 = StackedDNN(10, DNN_Model_5, min_deep=100, max_deep=110)\n",
    "nn_model_5.fit(data, target, 5, subset=1)\n",
    "nn_model_5.save()"
   ]
  },
  {
   "cell_type": "code",
   "execution_count": 35,
   "id": "94ca3379",
   "metadata": {
    "execution": {
     "iopub.execute_input": "2022-04-13T23:28:55.490668Z",
     "iopub.status.busy": "2022-04-13T23:28:55.490076Z",
     "iopub.status.idle": "2022-04-13T23:46:16.955555Z",
     "shell.execute_reply": "2022-04-13T23:46:16.956614Z",
     "shell.execute_reply.started": "2022-04-12T22:24:12.142396Z"
    },
    "papermill": {
     "duration": 1041.604264,
     "end_time": "2022-04-13T23:46:16.956822",
     "exception": false,
     "start_time": "2022-04-13T23:28:55.352558",
     "status": "completed"
    },
    "tags": []
   },
   "outputs": [],
   "source": [
    "from catboost import CatBoostRegressor\n",
    "model = CatBoostRegressor(iterations=12000, task_type='GPU', devices='0', silent=True, subsample=0.9, bootstrap_type='Poisson').fit(data, target)"
   ]
  },
  {
   "cell_type": "code",
   "execution_count": 36,
   "id": "17fcce28",
   "metadata": {
    "execution": {
     "iopub.execute_input": "2022-04-13T23:46:17.448142Z",
     "iopub.status.busy": "2022-04-13T23:46:17.447420Z",
     "iopub.status.idle": "2022-04-13T23:46:17.451326Z",
     "shell.execute_reply": "2022-04-13T23:46:17.452236Z",
     "shell.execute_reply.started": "2022-04-12T22:27:21.594066Z"
    },
    "papermill": {
     "duration": 0.297585,
     "end_time": "2022-04-13T23:46:17.452432",
     "exception": false,
     "start_time": "2022-04-13T23:46:17.154847",
     "status": "completed"
    },
    "tags": []
   },
   "outputs": [],
   "source": [
    "model.save_model(\"cat_model\")"
   ]
  },
  {
   "cell_type": "code",
   "execution_count": 37,
   "id": "ed7a0f66",
   "metadata": {
    "execution": {
     "iopub.execute_input": "2022-04-13T23:46:17.850982Z",
     "iopub.status.busy": "2022-04-13T23:46:17.850182Z",
     "iopub.status.idle": "2022-04-13T23:46:17.852190Z",
     "shell.execute_reply": "2022-04-13T23:46:17.851621Z",
     "shell.execute_reply.started": "2022-04-12T22:28:36.331314Z"
    },
    "papermill": {
     "duration": 0.203062,
     "end_time": "2022-04-13T23:46:17.852330",
     "exception": false,
     "start_time": "2022-04-13T23:46:17.649268",
     "status": "completed"
    },
    "tags": []
   },
   "outputs": [],
   "source": [
    "#res_boost = model.predict(X_test)"
   ]
  },
  {
   "cell_type": "code",
   "execution_count": 38,
   "id": "70880127",
   "metadata": {
    "execution": {
     "iopub.execute_input": "2022-04-13T23:46:18.126471Z",
     "iopub.status.busy": "2022-04-13T23:46:18.125331Z",
     "iopub.status.idle": "2022-04-13T23:46:18.128479Z",
     "shell.execute_reply": "2022-04-13T23:46:18.128885Z",
     "shell.execute_reply.started": "2022-04-12T23:09:39.891087Z"
    },
    "papermill": {
     "duration": 0.14095,
     "end_time": "2022-04-13T23:46:18.129003",
     "exception": false,
     "start_time": "2022-04-13T23:46:17.988053",
     "status": "completed"
    },
    "tags": []
   },
   "outputs": [
    {
     "data": {
      "text/plain": [
       "'\\nbest = 0\\nfor i in range(100000):\\n    a = np.random.rand(7)\\n    for j in range(7):\\n        if (np.random.rand() <= 0.06):\\n            a[j] = 0\\n    a /= np.sum(a)\\n    total = pearsonr(a[0]*res + a[1]*res_1 + a[2]*res_2 + a[3]*res_3 + a[4]*res_4 + a[5]*res_5 + a[6]*res_boost, y_test)[0]\\n    if total > best:\\n        best = total\\n        print(a, best, i)\\n'"
      ]
     },
     "execution_count": 38,
     "metadata": {},
     "output_type": "execute_result"
    }
   ],
   "source": [
    "\"\"\"\n",
    "best = 0\n",
    "for i in range(100000):\n",
    "    a = np.random.rand(7)\n",
    "    for j in range(7):\n",
    "        if (np.random.rand() <= 0.06):\n",
    "            a[j] = 0\n",
    "    a /= np.sum(a)\n",
    "    total = pearsonr(a[0]*res + a[1]*res_1 + a[2]*res_2 + a[3]*res_3 + a[4]*res_4 + a[5]*res_5 + a[6]*res_boost, y_test)[0]\n",
    "    if total > best:\n",
    "        best = total\n",
    "        print(a, best, i)\n",
    "\"\"\""
   ]
  },
  {
   "cell_type": "code",
   "execution_count": null,
   "id": "ca2dfdc2",
   "metadata": {
    "execution": {
     "iopub.execute_input": "2022-04-12T23:06:32.209701Z",
     "iopub.status.busy": "2022-04-12T23:06:32.209121Z",
     "iopub.status.idle": "2022-04-12T23:06:32.214955Z",
     "shell.execute_reply": "2022-04-12T23:06:32.214137Z",
     "shell.execute_reply.started": "2022-04-12T23:06:32.209667Z"
    },
    "papermill": {
     "duration": 0.133226,
     "end_time": "2022-04-13T23:46:18.399099",
     "exception": false,
     "start_time": "2022-04-13T23:46:18.265873",
     "status": "completed"
    },
    "tags": []
   },
   "outputs": [],
   "source": []
  },
  {
   "cell_type": "code",
   "execution_count": 39,
   "id": "4de97587",
   "metadata": {
    "execution": {
     "iopub.execute_input": "2022-04-13T23:46:18.668136Z",
     "iopub.status.busy": "2022-04-13T23:46:18.667375Z",
     "iopub.status.idle": "2022-04-13T23:46:18.669439Z",
     "shell.execute_reply": "2022-04-13T23:46:18.669852Z"
    },
    "papermill": {
     "duration": 0.137965,
     "end_time": "2022-04-13T23:46:18.669981",
     "exception": false,
     "start_time": "2022-04-13T23:46:18.532016",
     "status": "completed"
    },
    "tags": []
   },
   "outputs": [],
   "source": [
    "#[0.001, 0.337, 0.116, 0.01, 0.536] - coefs"
   ]
  },
  {
   "cell_type": "code",
   "execution_count": 40,
   "id": "c709b75b",
   "metadata": {
    "execution": {
     "iopub.execute_input": "2022-04-13T23:46:18.939484Z",
     "iopub.status.busy": "2022-04-13T23:46:18.938702Z",
     "iopub.status.idle": "2022-04-13T23:46:18.940651Z",
     "shell.execute_reply": "2022-04-13T23:46:18.941023Z",
     "shell.execute_reply.started": "2022-04-12T22:31:25.664792Z"
    },
    "papermill": {
     "duration": 0.13855,
     "end_time": "2022-04-13T23:46:18.941145",
     "exception": false,
     "start_time": "2022-04-13T23:46:18.802595",
     "status": "completed"
    },
    "tags": []
   },
   "outputs": [],
   "source": [
    "#pearsonr(0*res + 0*res_1 + 0*res_2 + 0*res_3 + 1/6*res_4 + 0*res_5, y_test)[0]"
   ]
  },
  {
   "cell_type": "code",
   "execution_count": 41,
   "id": "2117899f",
   "metadata": {
    "execution": {
     "iopub.execute_input": "2022-04-13T23:46:19.229661Z",
     "iopub.status.busy": "2022-04-13T23:46:19.227320Z",
     "iopub.status.idle": "2022-04-13T23:46:19.230936Z",
     "shell.execute_reply": "2022-04-13T23:46:19.232047Z",
     "shell.execute_reply.started": "2022-04-08T18:03:42.888363Z"
    },
    "papermill": {
     "duration": 0.158456,
     "end_time": "2022-04-13T23:46:19.232337",
     "exception": false,
     "start_time": "2022-04-13T23:46:19.073881",
     "status": "completed"
    },
    "tags": []
   },
   "outputs": [],
   "source": [
    "#1-0.111-0.43-0.02"
   ]
  },
  {
   "cell_type": "code",
   "execution_count": 42,
   "id": "390cffef",
   "metadata": {
    "execution": {
     "iopub.execute_input": "2022-04-13T23:46:19.686360Z",
     "iopub.status.busy": "2022-04-13T23:46:19.685553Z",
     "iopub.status.idle": "2022-04-13T23:46:19.688785Z",
     "shell.execute_reply": "2022-04-13T23:46:19.689392Z",
     "shell.execute_reply.started": "2022-04-04T14:08:16.754963Z"
    },
    "papermill": {
     "duration": 0.226921,
     "end_time": "2022-04-13T23:46:19.689581",
     "exception": false,
     "start_time": "2022-04-13T23:46:19.462660",
     "status": "completed"
    },
    "tags": []
   },
   "outputs": [
    {
     "data": {
      "text/plain": [
       "'\\na = 0.8\\nprint(pearsonr(res, y_test)[0])\\nprint(pearsonr(res_boost, y_test)[0])\\npearsonr(a*res_boost+(1-a)*res, y_test)[0]\\n'"
      ]
     },
     "execution_count": 42,
     "metadata": {},
     "output_type": "execute_result"
    }
   ],
   "source": [
    "\"\"\"\n",
    "a = 0.8\n",
    "print(pearsonr(res, y_test)[0])\n",
    "print(pearsonr(res_boost, y_test)[0])\n",
    "pearsonr(a*res_boost+(1-a)*res, y_test)[0]\n",
    "\"\"\""
   ]
  },
  {
   "cell_type": "code",
   "execution_count": 43,
   "id": "6db9da20",
   "metadata": {
    "execution": {
     "iopub.execute_input": "2022-04-13T23:46:19.994076Z",
     "iopub.status.busy": "2022-04-13T23:46:19.993458Z",
     "iopub.status.idle": "2022-04-13T23:46:19.996262Z",
     "shell.execute_reply": "2022-04-13T23:46:19.996725Z",
     "shell.execute_reply.started": "2022-04-08T14:43:05.282332Z"
    },
    "papermill": {
     "duration": 0.140657,
     "end_time": "2022-04-13T23:46:19.996849",
     "exception": false,
     "start_time": "2022-04-13T23:46:19.856192",
     "status": "completed"
    },
    "tags": []
   },
   "outputs": [
    {
     "data": {
      "text/plain": [
       "\"\\nimport ubiquant\\nenv = ubiquant.make_env()   # initialize the environment\\niter_test = env.iter_test()    # an iterator which loops over the test set and sample submission\\nfor (test_df, sample_prediction_df) in iter_test:\\n    res = nn_model.predict(test_df[features])\\n    res_1 = nn_model_1.predict(test_df[features])\\n    res_2 = nn_model_2.predict(test_df[features])\\n    res_3 = nn_model_3.predict(test_df[features])\\n    res_boost = model.predict(test_df[features])\\n    #[0.001, 0.337, 0.116, 0.01, 0.536]\\n    test_df['target']  = 0.001*res + 0.337*res_1 + 0.116*res_2 + 0.01*res_3 + 0.536*res_boost\\n    env.predict(test_df[['row_id','target']])\\n\""
      ]
     },
     "execution_count": 43,
     "metadata": {},
     "output_type": "execute_result"
    }
   ],
   "source": [
    "\"\"\"\n",
    "import ubiquant\n",
    "env = ubiquant.make_env()   # initialize the environment\n",
    "iter_test = env.iter_test()    # an iterator which loops over the test set and sample submission\n",
    "for (test_df, sample_prediction_df) in iter_test:\n",
    "    res = nn_model.predict(test_df[features])\n",
    "    res_1 = nn_model_1.predict(test_df[features])\n",
    "    res_2 = nn_model_2.predict(test_df[features])\n",
    "    res_3 = nn_model_3.predict(test_df[features])\n",
    "    res_boost = model.predict(test_df[features])\n",
    "    #[0.001, 0.337, 0.116, 0.01, 0.536]\n",
    "    test_df['target']  = 0.001*res + 0.337*res_1 + 0.116*res_2 + 0.01*res_3 + 0.536*res_boost\n",
    "    env.predict(test_df[['row_id','target']])\n",
    "\"\"\""
   ]
  },
  {
   "cell_type": "code",
   "execution_count": null,
   "id": "be892307",
   "metadata": {
    "execution": {
     "iopub.execute_input": "2022-03-27T14:44:24.228544Z",
     "iopub.status.busy": "2022-03-27T14:44:24.22746Z",
     "iopub.status.idle": "2022-03-27T14:44:24.243794Z",
     "shell.execute_reply": "2022-03-27T14:44:24.243089Z",
     "shell.execute_reply.started": "2022-03-27T14:44:24.228476Z"
    },
    "papermill": {
     "duration": 0.138294,
     "end_time": "2022-04-13T23:46:20.271427",
     "exception": false,
     "start_time": "2022-04-13T23:46:20.133133",
     "status": "completed"
    },
    "tags": []
   },
   "outputs": [],
   "source": []
  },
  {
   "cell_type": "code",
   "execution_count": null,
   "id": "25f00339",
   "metadata": {
    "execution": {
     "iopub.execute_input": "2022-03-27T14:43:19.018371Z",
     "iopub.status.busy": "2022-03-27T14:43:19.01783Z",
     "iopub.status.idle": "2022-03-27T14:43:19.023314Z",
     "shell.execute_reply": "2022-03-27T14:43:19.022464Z",
     "shell.execute_reply.started": "2022-03-27T14:43:19.018335Z"
    },
    "papermill": {
     "duration": 0.133343,
     "end_time": "2022-04-13T23:46:20.541602",
     "exception": false,
     "start_time": "2022-04-13T23:46:20.408259",
     "status": "completed"
    },
    "tags": []
   },
   "outputs": [],
   "source": []
  },
  {
   "cell_type": "code",
   "execution_count": null,
   "id": "66455129",
   "metadata": {
    "papermill": {
     "duration": 0.133555,
     "end_time": "2022-04-13T23:46:20.808182",
     "exception": false,
     "start_time": "2022-04-13T23:46:20.674627",
     "status": "completed"
    },
    "tags": []
   },
   "outputs": [],
   "source": []
  }
 ],
 "metadata": {
  "kernelspec": {
   "display_name": "Python 3",
   "language": "python",
   "name": "python3"
  },
  "language_info": {
   "codemirror_mode": {
    "name": "ipython",
    "version": 3
   },
   "file_extension": ".py",
   "mimetype": "text/x-python",
   "name": "python",
   "nbconvert_exporter": "python",
   "pygments_lexer": "ipython3",
   "version": "3.7.12"
  },
  "papermill": {
   "default_parameters": {},
   "duration": 3797.813412,
   "end_time": "2022-04-13T23:46:23.236631",
   "environment_variables": {},
   "exception": null,
   "input_path": "__notebook__.ipynb",
   "output_path": "__notebook__.ipynb",
   "parameters": {},
   "start_time": "2022-04-13T22:43:05.423219",
   "version": "2.3.3"
  }
 },
 "nbformat": 4,
 "nbformat_minor": 5
}
