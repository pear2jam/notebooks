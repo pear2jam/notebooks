{
 "cells": [
  {
   "cell_type": "code",
   "execution_count": 1,
   "id": "782bee3d",
   "metadata": {
    "_cell_guid": "b1076dfc-b9ad-4769-8c92-a6c4dae69d19",
    "_uuid": "8f2839f25d086af736a60e9eeb907d3b93b6e0e5",
    "execution": {
     "iopub.execute_input": "2022-04-19T01:00:29.210239Z",
     "iopub.status.busy": "2022-04-19T01:00:29.208591Z",
     "iopub.status.idle": "2022-04-19T01:00:31.516670Z",
     "shell.execute_reply": "2022-04-19T01:00:31.517678Z",
     "shell.execute_reply.started": "2022-04-16T16:41:03.365194Z"
    },
    "papermill": {
     "duration": 2.342156,
     "end_time": "2022-04-19T01:00:31.518145",
     "exception": false,
     "start_time": "2022-04-19T01:00:29.175989",
     "status": "completed"
    },
    "tags": []
   },
   "outputs": [],
   "source": [
    "import numpy as np\n",
    "import pandas as pd\n",
    "import matplotlib.pyplot as plt\n",
    "%matplotlib inline\n",
    "import seaborn as sns\n",
    "import torch"
   ]
  },
  {
   "cell_type": "code",
   "execution_count": 2,
   "id": "1ff34399",
   "metadata": {
    "execution": {
     "iopub.execute_input": "2022-04-19T01:00:31.615020Z",
     "iopub.status.busy": "2022-04-19T01:00:31.614036Z",
     "iopub.status.idle": "2022-04-19T01:00:31.616539Z",
     "shell.execute_reply": "2022-04-19T01:00:31.615726Z",
     "shell.execute_reply.started": "2022-04-16T16:41:05.611564Z"
    },
    "papermill": {
     "duration": 0.053358,
     "end_time": "2022-04-19T01:00:31.616694",
     "exception": false,
     "start_time": "2022-04-19T01:00:31.563336",
     "status": "completed"
    },
    "tags": []
   },
   "outputs": [],
   "source": [
    "data_types_dict = {\n",
    "    'time_id': 'int32',\n",
    "    'investment_id': 'int16',\n",
    "    \"target\": 'float16',\n",
    "}\n",
    "\n",
    "features = [f'f_{i}' for i in range(300)]\n",
    "\n",
    "for f in features:\n",
    "    data_types_dict[f] = 'float16'"
   ]
  },
  {
   "cell_type": "code",
   "execution_count": 3,
   "id": "0531e575",
   "metadata": {
    "execution": {
     "iopub.execute_input": "2022-04-19T01:00:31.704488Z",
     "iopub.status.busy": "2022-04-19T01:00:31.703669Z",
     "iopub.status.idle": "2022-04-19T01:00:31.731344Z",
     "shell.execute_reply": "2022-04-19T01:00:31.732401Z",
     "shell.execute_reply.started": "2022-04-16T16:41:05.61848Z"
    },
    "papermill": {
     "duration": 0.074815,
     "end_time": "2022-04-19T01:00:31.732588",
     "exception": false,
     "start_time": "2022-04-19T01:00:31.657773",
     "status": "completed"
    },
    "tags": []
   },
   "outputs": [],
   "source": [
    "data = pd.read_csv('../input/ubiquant-market-prediction/train.csv', \n",
    "                       usecols = data_types_dict.keys(),\n",
    "                       dtype=data_types_dict,\n",
    "                       index_col = 0, chunksize = 3141410) #3141410"
   ]
  },
  {
   "cell_type": "code",
   "execution_count": 4,
   "id": "5d70a84f",
   "metadata": {
    "execution": {
     "iopub.execute_input": "2022-04-19T01:00:31.820555Z",
     "iopub.status.busy": "2022-04-19T01:00:31.819614Z",
     "iopub.status.idle": "2022-04-19T01:06:46.750216Z",
     "shell.execute_reply": "2022-04-19T01:06:46.750659Z",
     "shell.execute_reply.started": "2022-04-16T16:41:06.707683Z"
    },
    "papermill": {
     "duration": 374.97775,
     "end_time": "2022-04-19T01:06:46.750834",
     "exception": false,
     "start_time": "2022-04-19T01:00:31.773084",
     "status": "completed"
    },
    "tags": []
   },
   "outputs": [
    {
     "name": "stderr",
     "output_type": "stream",
     "text": [
      "/opt/conda/lib/python3.7/site-packages/numpy/lib/arraysetops.py:583: FutureWarning: elementwise comparison failed; returning scalar instead, but in the future will perform elementwise comparison\n",
      "  mask |= (ar1 == a)\n"
     ]
    }
   ],
   "source": [
    "data = next(iter(data))"
   ]
  },
  {
   "cell_type": "code",
   "execution_count": 5,
   "id": "a69b692f",
   "metadata": {
    "execution": {
     "iopub.execute_input": "2022-04-19T01:06:46.816275Z",
     "iopub.status.busy": "2022-04-19T01:06:46.815174Z",
     "iopub.status.idle": "2022-04-19T01:06:50.284802Z",
     "shell.execute_reply": "2022-04-19T01:06:50.284320Z"
    },
    "papermill": {
     "duration": 3.510314,
     "end_time": "2022-04-19T01:06:50.284934",
     "exception": false,
     "start_time": "2022-04-19T01:06:46.774620",
     "status": "completed"
    },
    "tags": []
   },
   "outputs": [],
   "source": [
    "target = data['target']\n",
    "data.drop(['target'], inplace=True, axis=1)"
   ]
  },
  {
   "cell_type": "code",
   "execution_count": 6,
   "id": "8e3e70ca",
   "metadata": {
    "execution": {
     "iopub.execute_input": "2022-04-19T01:06:50.339594Z",
     "iopub.status.busy": "2022-04-19T01:06:50.338532Z",
     "iopub.status.idle": "2022-04-19T01:06:50.340264Z",
     "shell.execute_reply": "2022-04-19T01:06:50.340694Z",
     "shell.execute_reply.started": "2022-04-16T16:42:29.374882Z"
    },
    "papermill": {
     "duration": 0.030921,
     "end_time": "2022-04-19T01:06:50.340822",
     "exception": false,
     "start_time": "2022-04-19T01:06:50.309901",
     "status": "completed"
    },
    "tags": []
   },
   "outputs": [],
   "source": [
    "from scipy.stats import pearsonr \n",
    "def est_score(model):\n",
    "    y_pred = model.predict(X_test)\n",
    "    return pearsonr(y_pred, y_test)[0]"
   ]
  },
  {
   "cell_type": "code",
   "execution_count": 7,
   "id": "0d1381a2",
   "metadata": {
    "execution": {
     "iopub.execute_input": "2022-04-19T01:06:50.485779Z",
     "iopub.status.busy": "2022-04-19T01:06:50.476256Z",
     "iopub.status.idle": "2022-04-19T01:06:50.489603Z",
     "shell.execute_reply": "2022-04-19T01:06:50.489155Z",
     "shell.execute_reply.started": "2022-04-16T16:42:29.433698Z"
    },
    "papermill": {
     "duration": 0.125536,
     "end_time": "2022-04-19T01:06:50.489719",
     "exception": false,
     "start_time": "2022-04-19T01:06:50.364183",
     "status": "completed"
    },
    "tags": []
   },
   "outputs": [],
   "source": [
    "device = torch.device('cuda') if torch.cuda.is_available() else torch.device('cpu')\n",
    "\n",
    "def move_to(data, device):\n",
    "    \"\"\"\n",
    "    moving data to device\n",
    "    :param data: data to move\n",
    "    :param device: device\n",
    "    :return: moved data\n",
    "    \"\"\"\n",
    "\n",
    "    if isinstance(data, (list, tuple)):\n",
    "        return [move_to(x, device) for x in data]\n",
    "    return data.to(device, non_blocking=True)"
   ]
  },
  {
   "cell_type": "code",
   "execution_count": 8,
   "id": "ec72741f",
   "metadata": {
    "execution": {
     "iopub.execute_input": "2022-04-19T01:06:50.542004Z",
     "iopub.status.busy": "2022-04-19T01:06:50.538744Z",
     "iopub.status.idle": "2022-04-19T01:06:50.545046Z",
     "shell.execute_reply": "2022-04-19T01:06:50.544622Z",
     "shell.execute_reply.started": "2022-04-16T16:42:29.51752Z"
    },
    "papermill": {
     "duration": 0.031661,
     "end_time": "2022-04-19T01:06:50.545179",
     "exception": false,
     "start_time": "2022-04-19T01:06:50.513518",
     "status": "completed"
    },
    "tags": []
   },
   "outputs": [],
   "source": [
    "def batch_loader(X, y, batch_size = 4096, equal=False):\n",
    "    i = 0\n",
    "    while True:\n",
    "        if i + batch_size >= y.shape[0]: \n",
    "            break\n",
    "            \n",
    "        yield X.iloc[i:i+batch_size, :], y[i:i+batch_size]\n",
    "        i += batch_size"
   ]
  },
  {
   "cell_type": "code",
   "execution_count": 9,
   "id": "f8bb1f8c",
   "metadata": {
    "execution": {
     "iopub.execute_input": "2022-04-19T01:06:50.597992Z",
     "iopub.status.busy": "2022-04-19T01:06:50.597487Z",
     "iopub.status.idle": "2022-04-19T01:06:50.600774Z",
     "shell.execute_reply": "2022-04-19T01:06:50.601162Z",
     "shell.execute_reply.started": "2022-04-16T16:42:29.525827Z"
    },
    "papermill": {
     "duration": 0.032436,
     "end_time": "2022-04-19T01:06:50.601295",
     "exception": false,
     "start_time": "2022-04-19T01:06:50.568859",
     "status": "completed"
    },
    "tags": []
   },
   "outputs": [],
   "source": [
    "def pearson_loss(x, y):\n",
    "    vx = x - torch.mean(x)\n",
    "    vy = y - torch.mean(y)\n",
    "    loss = -torch.sum(vx*vy) / (torch.sqrt(torch.sum(vx*vx)) * torch.sqrt(torch.sum(vy*vy)))\n",
    "    return loss"
   ]
  },
  {
   "cell_type": "code",
   "execution_count": 10,
   "id": "a6cb5ad1",
   "metadata": {
    "execution": {
     "iopub.execute_input": "2022-04-19T01:06:50.653881Z",
     "iopub.status.busy": "2022-04-19T01:06:50.653151Z",
     "iopub.status.idle": "2022-04-19T01:06:50.655641Z",
     "shell.execute_reply": "2022-04-19T01:06:50.655244Z",
     "shell.execute_reply.started": "2022-04-16T16:42:29.538344Z"
    },
    "papermill": {
     "duration": 0.031139,
     "end_time": "2022-04-19T01:06:50.655747",
     "exception": false,
     "start_time": "2022-04-19T01:06:50.624608",
     "status": "completed"
    },
    "tags": []
   },
   "outputs": [],
   "source": [
    "def reduce_matching(a):\n",
    "    a = a[0].tolist()\n",
    "    ids = list(set(a))\n",
    "    ids_dict = {}\n",
    "    for i in range(len(ids)):\n",
    "        ids_dict[ids[i]] = i\n",
    "\n",
    "    for i in range(len(a)):\n",
    "        a[i] = ids_dict[a[i]]\n",
    "    return move_to(torch.FloatTensor(a).view(-1, 1), device)"
   ]
  },
  {
   "cell_type": "code",
   "execution_count": 11,
   "id": "f190d98f",
   "metadata": {
    "execution": {
     "iopub.execute_input": "2022-04-19T01:06:50.707436Z",
     "iopub.status.busy": "2022-04-19T01:06:50.705913Z",
     "iopub.status.idle": "2022-04-19T01:06:50.708053Z",
     "shell.execute_reply": "2022-04-19T01:06:50.708484Z",
     "shell.execute_reply.started": "2022-04-16T16:42:29.548316Z"
    },
    "papermill": {
     "duration": 0.029483,
     "end_time": "2022-04-19T01:06:50.708605",
     "exception": false,
     "start_time": "2022-04-19T01:06:50.679122",
     "status": "completed"
    },
    "tags": []
   },
   "outputs": [],
   "source": [
    "def standard(a):\n",
    "    a -= a.mean()\n",
    "    a /= a.std()\n",
    "    return a"
   ]
  },
  {
   "cell_type": "code",
   "execution_count": 12,
   "id": "3b8ea365",
   "metadata": {
    "execution": {
     "iopub.execute_input": "2022-04-19T01:06:50.768088Z",
     "iopub.status.busy": "2022-04-19T01:06:50.767303Z",
     "iopub.status.idle": "2022-04-19T01:06:50.769339Z",
     "shell.execute_reply": "2022-04-19T01:06:50.769708Z",
     "shell.execute_reply.started": "2022-04-16T16:46:15.428371Z"
    },
    "papermill": {
     "duration": 0.037476,
     "end_time": "2022-04-19T01:06:50.769848",
     "exception": false,
     "start_time": "2022-04-19T01:06:50.732372",
     "status": "completed"
    },
    "tags": []
   },
   "outputs": [],
   "source": [
    "class DNN_Model(torch.nn.Module):\n",
    "    def __init__(self, deep_size):\n",
    "        super().__init__()\n",
    "        self.deep_size = deep_size\n",
    "        self.index = 0\n",
    "        self.model_name = 'DNN_Model_0'\n",
    "        self.linear_1 = torch.nn.Linear(300, deep_size)\n",
    "        self.linear_2 = torch.nn.Linear(deep_size, deep_size)\n",
    "        self.linear_3 = torch.nn.Linear(deep_size+64, 128)\n",
    "        self.linear_4 = torch.nn.Linear(128, 128)\n",
    "        self.linear_5 = torch.nn.Linear(128, 64)\n",
    "        self.linear_6 = torch.nn.Linear(64, 1)\n",
    "        \n",
    "        self.id_linear_1 = torch.nn.Linear(1, 16)\n",
    "        self.id_linear_2 = torch.nn.Linear(16, 32)\n",
    "        self.id_linear_3 = torch.nn.Linear(32, 64)\n",
    "        \n",
    "        self.dout = torch.nn.Dropout(p=0.5)\n",
    "        self.act = torch.nn.SiLU()\n",
    "    \n",
    "    def tensor_forward(self, X_tensor):\n",
    "        X_tensor = move_to(X_tensor, device)\n",
    "        ids = X_tensor[:, 0].view(1, -1)\n",
    "        X_tensor = X_tensor[:, 1:]\n",
    "        \n",
    "        ids = standard(reduce_matching(ids))\n",
    "        \n",
    "        ids = self.act(self.id_linear_1(ids))\n",
    "        ids = self.act(self.id_linear_2(ids))\n",
    "        ids = self.act(self.id_linear_3(ids))\n",
    "        \n",
    "        tensor_X = self.act(self.linear_1(X_tensor))\n",
    "        tensor_X = self.act(self.linear_2(tensor_X))\n",
    "        \n",
    "        tensor_X = torch.cat([tensor_X, ids], axis=1)\n",
    "        \n",
    "        tensor_X = self.act(self.linear_3(tensor_X))\n",
    "        tensor_X = self.dout(tensor_X)\n",
    "        tensor_X = self.act(self.linear_4(tensor_X))\n",
    "        tensor_X = self.act(self.linear_5(tensor_X))\n",
    "        tensor_X = self.linear_6(tensor_X)\n",
    "        return tensor_X \n",
    "\n",
    "    def forward(self, X):\n",
    "        tensor_X = torch.FloatTensor(X.values)\n",
    "        return self.tensor_forward(tensor_X)"
   ]
  },
  {
   "cell_type": "code",
   "execution_count": 13,
   "id": "454f5683",
   "metadata": {
    "execution": {
     "iopub.execute_input": "2022-04-19T01:06:50.829667Z",
     "iopub.status.busy": "2022-04-19T01:06:50.828880Z",
     "iopub.status.idle": "2022-04-19T01:06:50.831271Z",
     "shell.execute_reply": "2022-04-19T01:06:50.830844Z",
     "shell.execute_reply.started": "2022-04-16T16:42:29.575012Z"
    },
    "papermill": {
     "duration": 0.038125,
     "end_time": "2022-04-19T01:06:50.831384",
     "exception": false,
     "start_time": "2022-04-19T01:06:50.793259",
     "status": "completed"
    },
    "tags": []
   },
   "outputs": [],
   "source": [
    "class DNN_Model_1(torch.nn.Module):\n",
    "    def __init__(self, deep_size):\n",
    "        super().__init__()\n",
    "        self.deep_size = deep_size\n",
    "        self.index = 1\n",
    "        self.model = torch.nn.Sequential(\n",
    "            torch.nn.Linear(300, deep_size),\n",
    "            torch.nn.SiLU(),\n",
    "            torch.nn.Linear(deep_size, deep_size),\n",
    "            torch.nn.SiLU(),\n",
    "            torch.nn.Dropout(p=0.3),\n",
    "            \n",
    "            torch.nn.Linear(deep_size, deep_size),\n",
    "            torch.nn.SiLU(),\n",
    "            torch.nn.Linear(deep_size, deep_size),\n",
    "            torch.nn.SiLU(),\n",
    "            torch.nn.Dropout(p=0.3),\n",
    "            \n",
    "            torch.nn.Linear(deep_size, deep_size),\n",
    "            torch.nn.SiLU(),\n",
    "            torch.nn.Linear(deep_size, deep_size),\n",
    "            torch.nn.SiLU(),\n",
    "            torch.nn.Dropout(p=0.3),\n",
    "            \n",
    "            torch.nn.Linear(deep_size, deep_size),\n",
    "            torch.nn.SiLU(),\n",
    "            torch.nn.Linear(deep_size, deep_size),\n",
    "            torch.nn.SiLU(),\n",
    "            torch.nn.Dropout(p=0.3),\n",
    "            \n",
    "            torch.nn.Linear(deep_size, deep_size),\n",
    "            torch.nn.SiLU(),\n",
    "            torch.nn.Linear(deep_size, deep_size),\n",
    "            torch.nn.SiLU(),\n",
    "            torch.nn.Dropout(p=0.3),\n",
    "            \n",
    "            torch.nn.Linear(deep_size, deep_size),\n",
    "            torch.nn.SiLU(),\n",
    "            torch.nn.Dropout(p=0.3),\n",
    "            \n",
    "            torch.nn.Linear(deep_size, deep_size),\n",
    "            torch.nn.SiLU(),\n",
    "            torch.nn.Linear(deep_size, 1)\n",
    "        )\n",
    "        \n",
    "        self.model_name = 'DNN_Model_1'\n",
    "        \n",
    "                \n",
    "    def tensor_forward(self, X_tensor):\n",
    "        X_tensor = move_to(X_tensor, device)\n",
    "        X_tensor = X_tensor[:, 1:]\n",
    "        return self.model(X_tensor)\n",
    "\n",
    "    def forward(self, X):\n",
    "        tensor_X = torch.FloatTensor(X.values)\n",
    "        return self.tensor_forward(tensor_X)"
   ]
  },
  {
   "cell_type": "code",
   "execution_count": 14,
   "id": "ca54a9dc",
   "metadata": {
    "execution": {
     "iopub.execute_input": "2022-04-19T01:06:50.893425Z",
     "iopub.status.busy": "2022-04-19T01:06:50.892633Z",
     "iopub.status.idle": "2022-04-19T01:06:50.894605Z",
     "shell.execute_reply": "2022-04-19T01:06:50.894973Z",
     "shell.execute_reply.started": "2022-04-16T16:42:29.590869Z"
    },
    "papermill": {
     "duration": 0.040481,
     "end_time": "2022-04-19T01:06:50.895097",
     "exception": false,
     "start_time": "2022-04-19T01:06:50.854616",
     "status": "completed"
    },
    "tags": []
   },
   "outputs": [],
   "source": [
    "class DNN_Model_2(torch.nn.Module):\n",
    "    def __init__(self, deep_size):\n",
    "        super().__init__()\n",
    "        self.deep_size = deep_size\n",
    "        self.index = 2\n",
    "        self.model_name = 'DNN_Model_2'\n",
    "        self.linear_1 = torch.nn.Linear(300, deep_size)\n",
    "        self.linear_2 = torch.nn.Linear(deep_size, 350)\n",
    "        self.linear_3 = torch.nn.Linear(350, deep_size)\n",
    "        self.linear_4 = torch.nn.Linear(deep_size+64, 256)\n",
    "        self.linear_5 = torch.nn.Linear(256, 256)\n",
    "        self.linear_6 = torch.nn.Linear(256, 128)\n",
    "        self.linear_7 = torch.nn.Linear(128, 128)\n",
    "        self.linear_8 = torch.nn.Linear(128, 64)\n",
    "        self.linear_9 = torch.nn.Linear(64, 1)\n",
    "        \n",
    "        self.id_linear_1 = torch.nn.Linear(1, 32)\n",
    "        self.id_linear_2 = torch.nn.Linear(32, 64)\n",
    "        self.id_linear_3 = torch.nn.Linear(64, 100)\n",
    "        self.id_linear_4 = torch.nn.Linear(100, 64)\n",
    "        self.id_linear_5 = torch.nn.Linear(64, 64)\n",
    "        \n",
    "        self.dout = torch.nn.Dropout(p=0.4)\n",
    "        self.act = torch.nn.SiLU()\n",
    "    \n",
    "    def tensor_forward(self, X_tensor):\n",
    "        X_tensor = move_to(X_tensor, device)\n",
    "        ids = X_tensor[:, 0].view(1, -1)\n",
    "        X_tensor = X_tensor[:, 1:]\n",
    "        \n",
    "        ids = standard(reduce_matching(ids))\n",
    "        \n",
    "        ids = self.act(self.id_linear_1(ids))\n",
    "        ids = self.act(self.id_linear_2(ids))\n",
    "        ids = self.act(self.id_linear_3(ids))\n",
    "        ids = self.dout(ids)\n",
    "        ids = self.act(self.id_linear_4(ids))\n",
    "        ids = self.act(self.id_linear_5(ids))\n",
    "        \n",
    "        tensor_X = self.act(self.linear_1(X_tensor))\n",
    "        tensor_X = self.act(self.linear_2(tensor_X))\n",
    "        tensor_X = self.dout(tensor_X)\n",
    "        tensor_X = self.act(self.linear_3(tensor_X))\n",
    "        \n",
    "        tensor_X = torch.cat([tensor_X, ids], axis=1)\n",
    "        \n",
    "        tensor_X = self.act(self.linear_4(tensor_X))\n",
    "        tensor_X = self.act(self.linear_5(tensor_X))\n",
    "        tensor_X = self.dout(tensor_X)\n",
    "        tensor_X_6 = self.act(self.linear_6(tensor_X))\n",
    "        tensor_X = self.act(self.linear_7(tensor_X_6))\n",
    "        tensor_X = self.act(self.linear_8(tensor_X + tensor_X_6))\n",
    "        tensor_X = self.linear_9(tensor_X)\n",
    "        return tensor_X \n",
    "\n",
    "    def forward(self, X):\n",
    "        tensor_X = torch.FloatTensor(X.values)\n",
    "        return self.tensor_forward(tensor_X)"
   ]
  },
  {
   "cell_type": "code",
   "execution_count": 15,
   "id": "1c42e5a6",
   "metadata": {
    "execution": {
     "iopub.execute_input": "2022-04-19T01:06:50.957417Z",
     "iopub.status.busy": "2022-04-19T01:06:50.949940Z",
     "iopub.status.idle": "2022-04-19T01:06:50.959673Z",
     "shell.execute_reply": "2022-04-19T01:06:50.959251Z",
     "shell.execute_reply.started": "2022-04-16T16:42:29.610383Z"
    },
    "papermill": {
     "duration": 0.041321,
     "end_time": "2022-04-19T01:06:50.959776",
     "exception": false,
     "start_time": "2022-04-19T01:06:50.918455",
     "status": "completed"
    },
    "tags": []
   },
   "outputs": [],
   "source": [
    "class DNN_Model_3(torch.nn.Module):\n",
    "    def __init__(self, deep_size):\n",
    "        super().__init__()\n",
    "        self.deep_size = deep_size\n",
    "        self.index = 3\n",
    "        self.linear1 = torch.nn.Linear(300, deep_size)\n",
    "        \n",
    "        self.linear2_1 = torch.nn.Linear(deep_size, deep_size)\n",
    "        self.linear2_2 = torch.nn.Linear(deep_size, deep_size)\n",
    "        self.linear2_3 = torch.nn.Linear(deep_size, deep_size)\n",
    "        \n",
    "        self.linear3_1 = torch.nn.Linear(deep_size, deep_size)\n",
    "        self.linear3_2 = torch.nn.Linear(deep_size, deep_size)\n",
    "        self.linear3_3 = torch.nn.Linear(deep_size, deep_size)\n",
    "        \n",
    "        self.linear4_1 = torch.nn.Linear(deep_size, deep_size)\n",
    "        self.linear4_2 = torch.nn.Linear(deep_size, deep_size)\n",
    "        self.linear4_3 = torch.nn.Linear(deep_size, deep_size)\n",
    "        \n",
    "        self.linear5_1 = torch.nn.Linear(deep_size, deep_size)\n",
    "        self.linear5_2 = torch.nn.Linear(deep_size, deep_size)\n",
    "        self.linear5_3 = torch.nn.Linear(deep_size, deep_size)\n",
    "        \n",
    "        self.linear6_1 = torch.nn.Linear(deep_size, deep_size)\n",
    "        self.linear6_2 = torch.nn.Linear(deep_size, 1)\n",
    "        \n",
    "        self.act = torch.nn.SiLU()\n",
    "        self.dout = torch.nn.Dropout(p=0.5)\n",
    "        \n",
    "        self.model_name = 'DNN_Model_3'\n",
    "\n",
    "                \n",
    "    def tensor_forward(self, X_tensor):\n",
    "        X_tensor = move_to(X_tensor, device)\n",
    "        X_tensor = X_tensor[:, 1:]\n",
    "        X_tensor = self.act(self.linear1(X_tensor))\n",
    "        \n",
    "        X_tensor = self.act(self.linear2_1(X_tensor))\n",
    "        X_tensor = self.act(self.linear2_2(X_tensor))\n",
    "        X_tensor = self.dout(X_tensor)\n",
    "        res_2 = self.act(self.linear2_3(X_tensor))\n",
    "        \n",
    "        X_tensor = self.act(self.linear3_1(res_2))\n",
    "        X_tensor = self.act(self.linear3_2(X_tensor))\n",
    "        X_tensor = self.dout(X_tensor)\n",
    "        res_3 = self.act(self.linear3_3(X_tensor))\n",
    "        \n",
    "        X_tensor = self.act(self.linear4_1(res_2 + res_3))\n",
    "        X_tensor = self.act(self.linear4_2(X_tensor))\n",
    "        X_tensor = self.dout(X_tensor)\n",
    "        res_4 = self.act(self.linear4_3(X_tensor))\n",
    "        \n",
    "        res_4 = X_tensor\n",
    "\n",
    "        X_tensor = self.act(self.linear5_1(res_3 + res_4))\n",
    "        X_tensor = self.act(self.linear5_2(X_tensor))\n",
    "        X_tensor = self.dout(X_tensor)\n",
    "        X_tensor = self.act(self.linear5_3(X_tensor))\n",
    "        \n",
    "        X_tensor = self.act(self.linear6_1(X_tensor + res_4))\n",
    "        X_tensor = self.linear6_2(X_tensor)\n",
    "        \n",
    "        return X_tensor\n",
    "        \n",
    "\n",
    "    def forward(self, X):\n",
    "        tensor_X = torch.FloatTensor(X.values)\n",
    "        return self.tensor_forward(tensor_X)"
   ]
  },
  {
   "cell_type": "code",
   "execution_count": 16,
   "id": "78c7f1dc",
   "metadata": {
    "execution": {
     "iopub.execute_input": "2022-04-19T01:06:51.017070Z",
     "iopub.status.busy": "2022-04-19T01:06:51.016222Z",
     "iopub.status.idle": "2022-04-19T01:06:51.018215Z",
     "shell.execute_reply": "2022-04-19T01:06:51.018578Z",
     "shell.execute_reply.started": "2022-04-16T16:42:29.630361Z"
    },
    "papermill": {
     "duration": 0.035667,
     "end_time": "2022-04-19T01:06:51.018703",
     "exception": false,
     "start_time": "2022-04-19T01:06:50.983036",
     "status": "completed"
    },
    "tags": []
   },
   "outputs": [],
   "source": [
    "class DNN_Model_4(torch.nn.Module):\n",
    "    def __init__(self, deep_size):\n",
    "        super().__init__()\n",
    "        self.deep_size = deep_size\n",
    "        self.index = 4\n",
    "        act_1 = torch.nn.SiLU\n",
    "        self.model = self.model = torch.nn.Sequential(\n",
    "            torch.nn.Linear(300, deep_size),\n",
    "            act_1(),\n",
    "            torch.nn.Linear(deep_size, deep_size),\n",
    "            act_1(),\n",
    "            torch.nn.Linear(deep_size, 2*deep_size),\n",
    "            act_1(),\n",
    "            torch.nn.Linear(2*deep_size, 2*deep_size),\n",
    "            \n",
    "            torch.nn.Dropout(p=0.4),\n",
    "            \n",
    "            torch.nn.Linear(2*deep_size, 2*deep_size),\n",
    "            act_1(),\n",
    "            torch.nn.Linear(2*deep_size, 2*deep_size),\n",
    "            act_1(),\n",
    "            torch.nn.Linear(2*deep_size, deep_size),\n",
    "            act_1(),\n",
    "            \n",
    "            torch.nn.Dropout(p=0.4),\n",
    "            \n",
    "            torch.nn.Linear(deep_size, deep_size),\n",
    "            act_1(),\n",
    "            torch.nn.Linear(deep_size, deep_size),\n",
    "            act_1(),\n",
    "            torch.nn.Linear(deep_size, 1)\n",
    "            \n",
    "        )\n",
    "        \n",
    "        self.model_name = 'DNN_Model_4'\n",
    "        \n",
    "                \n",
    "    def tensor_forward(self, X_tensor):\n",
    "        X_tensor = move_to(X_tensor, device)\n",
    "        X_tensor = X_tensor[:, 1:]\n",
    "        return self.model(X_tensor)\n",
    "\n",
    "    def forward(self, X):\n",
    "        tensor_X = torch.FloatTensor(X.values)\n",
    "        return self.tensor_forward(tensor_X)"
   ]
  },
  {
   "cell_type": "code",
   "execution_count": 17,
   "id": "6d33725b",
   "metadata": {
    "execution": {
     "iopub.execute_input": "2022-04-19T01:06:51.069028Z",
     "iopub.status.busy": "2022-04-19T01:06:51.068405Z",
     "iopub.status.idle": "2022-04-19T01:06:51.070545Z",
     "shell.execute_reply": "2022-04-19T01:06:51.070906Z",
     "shell.execute_reply.started": "2022-04-16T16:42:29.643266Z"
    },
    "papermill": {
     "duration": 0.02904,
     "end_time": "2022-04-19T01:06:51.071030",
     "exception": false,
     "start_time": "2022-04-19T01:06:51.041990",
     "status": "completed"
    },
    "tags": []
   },
   "outputs": [],
   "source": [
    "dnn_models = [DNN_Model, DNN_Model_1, DNN_Model_2, DNN_Model_3, DNN_Model_4]"
   ]
  },
  {
   "cell_type": "code",
   "execution_count": 18,
   "id": "10291952",
   "metadata": {
    "execution": {
     "iopub.execute_input": "2022-04-19T01:06:51.123900Z",
     "iopub.status.busy": "2022-04-19T01:06:51.123087Z",
     "iopub.status.idle": "2022-04-19T01:06:51.124957Z",
     "shell.execute_reply": "2022-04-19T01:06:51.125343Z",
     "shell.execute_reply.started": "2022-04-16T16:42:29.663057Z"
    },
    "papermill": {
     "duration": 0.030962,
     "end_time": "2022-04-19T01:06:51.125467",
     "exception": false,
     "start_time": "2022-04-19T01:06:51.094505",
     "status": "completed"
    },
    "tags": []
   },
   "outputs": [],
   "source": [
    "def corr_based_coefs(a):\n",
    "    if a.shape[0] < 2:\n",
    "        return np.array([1])\n",
    "    preds_sum = np.sum(a, axis=0)\n",
    "    corrs = np.array([pearsonr( (preds_sum-a[i])/(a.shape[0]-1), a[i])[0] for i in range(a.shape[0])])\n",
    "    corrs = 1 - corrs\n",
    "    corrs /= np.sum(corrs)\n",
    "    return corrs"
   ]
  },
  {
   "cell_type": "code",
   "execution_count": 19,
   "id": "231fab8c",
   "metadata": {
    "execution": {
     "iopub.execute_input": "2022-04-19T01:06:51.198968Z",
     "iopub.status.busy": "2022-04-19T01:06:51.198062Z",
     "iopub.status.idle": "2022-04-19T01:06:51.199881Z",
     "shell.execute_reply": "2022-04-19T01:06:51.200369Z",
     "shell.execute_reply.started": "2022-04-16T20:48:37.303144Z"
    },
    "papermill": {
     "duration": 0.050662,
     "end_time": "2022-04-19T01:06:51.200498",
     "exception": false,
     "start_time": "2022-04-19T01:06:51.149836",
     "status": "completed"
    },
    "tags": []
   },
   "outputs": [],
   "source": [
    "class StackedDNN:\n",
    "    def __init__(self, n, model, min_deep=30, max_deep=40):\n",
    "        self.nets = [model(np.random.randint(min_deep, max_deep)) for i in range(n)]\n",
    "        self.model_name = self.nets[0].model_name\n",
    "        for net in self.nets:\n",
    "            net = move_to(net, device)\n",
    "    \n",
    "    def fit(self, X, y, iters, batch_size=4096, subset=1, float_subset=True, silent=True, logs=True, plot=False, val=False, X_val=None, y_val=None):\n",
    "        \n",
    "        if val:\n",
    "            tensor_train_val = move_to(torch.FloatTensor(X_val.values), device)\n",
    "            tensor_y_val = move_to(torch.FloatTensor(y_val.values), device)\n",
    "            \n",
    "        if logs and silent:\n",
    "            print(f'Net {self.nets[0].model_name}')\n",
    "            \n",
    "        for i in range(len(self.nets)):\n",
    "    \n",
    "            scores_train = []\n",
    "            scores_val = []\n",
    "        \n",
    "            if val:\n",
    "                tensor_train_val = move_to(torch.FloatTensor(X_val.values).clone(), device)\n",
    "                tensor_y_val = move_to(torch.FloatTensor(y_val.values), device)\n",
    "            scores_train = []\n",
    "            scores_val = []\n",
    "\n",
    "            opt = torch.optim.Adam(self.nets[i].parameters(), lr=5e-4)\n",
    "\n",
    "            if float_subset:\n",
    "                subset_ind = np.random.uniform(subset, 1)\n",
    "\n",
    "            subset_ind = np.random.choice(batch_size, int(batch_size*subset))\n",
    "            \n",
    "            if not silent:\n",
    "                print(f'>>> Net {i + 1}/{len(self.nets)}')\n",
    "                print(f'Deep size: {self.nets[i].deep_size}')\n",
    "                print()\n",
    "                \n",
    "                \n",
    "            for epoch in range(iters):\n",
    "                offset = 0\n",
    "                #learning cycle\n",
    "                while offset + batch_size < y.shape[0]: \n",
    "                    self.nets[i].train()\n",
    "                    self.nets[i].zero_grad()\n",
    "                    X_tensor = move_to(torch.FloatTensor(X.iloc[offset:offset+batch_size, :].values), device)\n",
    "                    y_tensor = move_to(torch.FloatTensor(y[offset:offset+batch_size].values), device)\n",
    "                    X_tensor = X_tensor[subset_ind,:]\n",
    "                    y_tensor = y_tensor[subset_ind]\n",
    "                    \n",
    "                    loss = pearson_loss(self.nets[i].tensor_forward(X_tensor).view(-1), y_tensor)\n",
    "                    loss.backward()\n",
    "                    opt.step()\n",
    "                    offset += batch_size\n",
    "\n",
    "                #prints\n",
    "                if val:\n",
    "                    self.nets[i].eval()\n",
    "                    val_loss = pearson_loss(self.nets[i].tensor_forward(tensor_train_val).view(-1), tensor_y_val)\n",
    "                    scores_val.append(float(val_loss.detach()))\n",
    "                scores_train.append(float(loss.detach()))\n",
    "\n",
    "                if not silent:\n",
    "                    print(f'epoch {epoch} finished with {loss} loss')\n",
    "                    if val:\n",
    "                        print(f'val loss {val_loss}')\n",
    "                \n",
    "            if logs and silent:\n",
    "                print(f'Net {i+1}/{len(self.nets)} fitted')\n",
    "                \n",
    "            if not silent:\n",
    "                if val:\n",
    "                    print(f'Finished with \\n train loss: {loss}\\n val loss: {val_loss}')\n",
    "                else:\n",
    "                    print(f'Finished with {loss} loss')\n",
    "            if plot:\n",
    "                if val:\n",
    "                    sns.lineplot(x=range(iters), y=scores_train, label='train')\n",
    "                    sns.lineplot(x=range(iters), y=scores_val, label='val')\n",
    "                else:\n",
    "                    sns.lineplot(scores_train)\n",
    "                plt.plot()\n",
    "\n",
    "        \n",
    "    def predict(self, X):\n",
    "        y_pred = np.ndarray([len(self.nets), X.shape[0]])\n",
    "        for i in range(len(self.nets)):\n",
    "            self.nets[i].eval()\n",
    "            y_pred[i] = np.array(self.nets[i].forward(X).detach().view(-1).cpu())\n",
    "        y_pred = corr_based_coefs(y_pred).dot(y_pred)\n",
    "        return y_pred\n",
    "    \n",
    "    def save(self):\n",
    "        import os\n",
    "        try:\n",
    "            os.mkdir(f'./{self.model_name}')\n",
    "        except:\n",
    "            pass\n",
    "        with open(f'./{self.model_name}/config.txt', 'w') as f:\n",
    "            f.write(str(self.nets[0].index) + '\\n')\n",
    "            for i in range(len(self.nets)):\n",
    "                torch.save(self.nets[i].state_dict(), f'./{self.model_name}/model:{i}')\n",
    "                f.write(str(self.nets[i].deep_size) + '\\n')\n",
    "\n",
    "    \n",
    "                       \n",
    "    def load(self):\n",
    "        with open(f'../input/ubiquantdevelop/{self.model_name}/config.txt', 'r') as f:\n",
    "            dnn_model = dnn_models[int(f.readline())]\n",
    "            \n",
    "            for i in range(len(self.nets)):\n",
    "                self.nets[i] = dnn_model(int(f.readline()))\n",
    "                self.nets[i].load_state_dict(torch.load(f'../input/ubiquantdevelop/{self.model_name}/model:{i}', map_location=torch.device('cpu')))\n",
    "                self.nets[i] = move_to(self.nets[i], device)"
   ]
  },
  {
   "cell_type": "markdown",
   "id": "0c548c68",
   "metadata": {
    "papermill": {
     "duration": 0.02331,
     "end_time": "2022-04-19T01:06:51.247570",
     "exception": false,
     "start_time": "2022-04-19T01:06:51.224260",
     "status": "completed"
    },
    "tags": []
   },
   "source": [
    "#написать ноутбук как меняется необходимое количество эпох в завимисимости от размера выбранной части выборки\n",
    "#то есть для подвыборки лучшее качетство получается на n итерациях, как дело обстоит если увеличивать выборку\n",
    "#лучше взять датасет для регресии и поменьше\n",
    "#можно взять несколько датасетов"
   ]
  },
  {
   "cell_type": "code",
   "execution_count": 20,
   "id": "b724f07c",
   "metadata": {
    "execution": {
     "iopub.execute_input": "2022-04-19T01:06:51.303697Z",
     "iopub.status.busy": "2022-04-19T01:06:51.303086Z",
     "iopub.status.idle": "2022-04-19T01:32:01.630819Z",
     "shell.execute_reply": "2022-04-19T01:32:01.631282Z",
     "shell.execute_reply.started": "2022-04-16T16:46:21.262517Z"
    },
    "papermill": {
     "duration": 1510.360567,
     "end_time": "2022-04-19T01:32:01.631466",
     "exception": false,
     "start_time": "2022-04-19T01:06:51.270899",
     "status": "completed"
    },
    "tags": []
   },
   "outputs": [
    {
     "name": "stdout",
     "output_type": "stream",
     "text": [
      "Net DNN_Model_0\n",
      "Net 1/25 fitted\n",
      "Net 2/25 fitted\n",
      "Net 3/25 fitted\n",
      "Net 4/25 fitted\n",
      "Net 5/25 fitted\n",
      "Net 6/25 fitted\n",
      "Net 7/25 fitted\n",
      "Net 8/25 fitted\n",
      "Net 9/25 fitted\n",
      "Net 10/25 fitted\n",
      "Net 11/25 fitted\n",
      "Net 12/25 fitted\n",
      "Net 13/25 fitted\n",
      "Net 14/25 fitted\n",
      "Net 15/25 fitted\n",
      "Net 16/25 fitted\n",
      "Net 17/25 fitted\n",
      "Net 18/25 fitted\n",
      "Net 19/25 fitted\n",
      "Net 20/25 fitted\n",
      "Net 21/25 fitted\n",
      "Net 22/25 fitted\n",
      "Net 23/25 fitted\n",
      "Net 24/25 fitted\n",
      "Net 25/25 fitted\n"
     ]
    }
   ],
   "source": [
    "nn_model = StackedDNN(25, DNN_Model, min_deep=260, max_deep=289)\n",
    "nn_model.fit(data, target, 10, subset=0.65, batch_size=int(2*4096))\n",
    "nn_model.save()"
   ]
  },
  {
   "cell_type": "code",
   "execution_count": 21,
   "id": "bb903c5c",
   "metadata": {
    "execution": {
     "iopub.execute_input": "2022-04-19T01:32:01.699219Z",
     "iopub.status.busy": "2022-04-19T01:32:01.698410Z",
     "iopub.status.idle": "2022-04-19T01:55:46.784588Z",
     "shell.execute_reply": "2022-04-19T01:55:46.785021Z",
     "shell.execute_reply.started": "2022-04-15T22:40:04.924506Z"
    },
    "papermill": {
     "duration": 1425.122534,
     "end_time": "2022-04-19T01:55:46.785209",
     "exception": false,
     "start_time": "2022-04-19T01:32:01.662675",
     "status": "completed"
    },
    "tags": []
   },
   "outputs": [
    {
     "name": "stdout",
     "output_type": "stream",
     "text": [
      "Net DNN_Model_1\n",
      "Net 1/25 fitted\n",
      "Net 2/25 fitted\n",
      "Net 3/25 fitted\n",
      "Net 4/25 fitted\n",
      "Net 5/25 fitted\n",
      "Net 6/25 fitted\n",
      "Net 7/25 fitted\n",
      "Net 8/25 fitted\n",
      "Net 9/25 fitted\n",
      "Net 10/25 fitted\n",
      "Net 11/25 fitted\n",
      "Net 12/25 fitted\n",
      "Net 13/25 fitted\n",
      "Net 14/25 fitted\n",
      "Net 15/25 fitted\n",
      "Net 16/25 fitted\n",
      "Net 17/25 fitted\n",
      "Net 18/25 fitted\n",
      "Net 19/25 fitted\n",
      "Net 20/25 fitted\n",
      "Net 21/25 fitted\n",
      "Net 22/25 fitted\n",
      "Net 23/25 fitted\n",
      "Net 24/25 fitted\n",
      "Net 25/25 fitted\n"
     ]
    }
   ],
   "source": [
    "nn_model_1 = StackedDNN(25, DNN_Model_1, min_deep=40, max_deep=41)\n",
    "nn_model_1.fit(data, target, 9, subset=0.65, batch_size=int(1.5*4096))\n",
    "nn_model_1.save()"
   ]
  },
  {
   "cell_type": "code",
   "execution_count": 22,
   "id": "98a190a3",
   "metadata": {
    "execution": {
     "iopub.execute_input": "2022-04-19T01:55:46.868659Z",
     "iopub.status.busy": "2022-04-19T01:55:46.867897Z",
     "iopub.status.idle": "2022-04-19T02:20:58.045624Z",
     "shell.execute_reply": "2022-04-19T02:20:58.046084Z",
     "shell.execute_reply.started": "2022-04-16T16:47:54.163475Z"
    },
    "papermill": {
     "duration": 1511.222057,
     "end_time": "2022-04-19T02:20:58.046267",
     "exception": false,
     "start_time": "2022-04-19T01:55:46.824210",
     "status": "completed"
    },
    "tags": []
   },
   "outputs": [
    {
     "name": "stdout",
     "output_type": "stream",
     "text": [
      "Net DNN_Model_2\n",
      "Net 1/25 fitted\n",
      "Net 2/25 fitted\n",
      "Net 3/25 fitted\n",
      "Net 4/25 fitted\n",
      "Net 5/25 fitted\n",
      "Net 6/25 fitted\n",
      "Net 7/25 fitted\n",
      "Net 8/25 fitted\n",
      "Net 9/25 fitted\n",
      "Net 10/25 fitted\n",
      "Net 11/25 fitted\n",
      "Net 12/25 fitted\n",
      "Net 13/25 fitted\n",
      "Net 14/25 fitted\n",
      "Net 15/25 fitted\n",
      "Net 16/25 fitted\n",
      "Net 17/25 fitted\n",
      "Net 18/25 fitted\n",
      "Net 19/25 fitted\n",
      "Net 20/25 fitted\n",
      "Net 21/25 fitted\n",
      "Net 22/25 fitted\n",
      "Net 23/25 fitted\n",
      "Net 24/25 fitted\n",
      "Net 25/25 fitted\n"
     ]
    }
   ],
   "source": [
    "nn_model_2 = StackedDNN(25, DNN_Model_2, min_deep=220, max_deep=250)\n",
    "nn_model_2.fit(data, target, 9, subset=0.65, batch_size=int(2*4096))\n",
    "nn_model_2.save()"
   ]
  },
  {
   "cell_type": "code",
   "execution_count": 23,
   "id": "13d0e9be",
   "metadata": {
    "execution": {
     "iopub.execute_input": "2022-04-19T02:20:58.151962Z",
     "iopub.status.busy": "2022-04-19T02:20:58.150061Z",
     "iopub.status.idle": "2022-04-19T02:40:24.975198Z",
     "shell.execute_reply": "2022-04-19T02:40:24.975679Z",
     "shell.execute_reply.started": "2022-04-15T22:32:54.77661Z"
    },
    "papermill": {
     "duration": 1166.879763,
     "end_time": "2022-04-19T02:40:24.975842",
     "exception": false,
     "start_time": "2022-04-19T02:20:58.096079",
     "status": "completed"
    },
    "tags": []
   },
   "outputs": [
    {
     "name": "stdout",
     "output_type": "stream",
     "text": [
      "Net DNN_Model_3\n",
      "Net 1/25 fitted\n",
      "Net 2/25 fitted\n",
      "Net 3/25 fitted\n",
      "Net 4/25 fitted\n",
      "Net 5/25 fitted\n",
      "Net 6/25 fitted\n",
      "Net 7/25 fitted\n",
      "Net 8/25 fitted\n",
      "Net 9/25 fitted\n",
      "Net 10/25 fitted\n",
      "Net 11/25 fitted\n",
      "Net 12/25 fitted\n",
      "Net 13/25 fitted\n",
      "Net 14/25 fitted\n",
      "Net 15/25 fitted\n",
      "Net 16/25 fitted\n",
      "Net 17/25 fitted\n",
      "Net 18/25 fitted\n",
      "Net 19/25 fitted\n",
      "Net 20/25 fitted\n",
      "Net 21/25 fitted\n",
      "Net 22/25 fitted\n",
      "Net 23/25 fitted\n",
      "Net 24/25 fitted\n",
      "Net 25/25 fitted\n"
     ]
    }
   ],
   "source": [
    "nn_model_3 = StackedDNN(25, DNN_Model_3, min_deep=90, max_deep=110)\n",
    "nn_model_3.fit(data, target, 8, subset=0.65, batch_size=int(2*4096))\n",
    "nn_model_3.save()"
   ]
  },
  {
   "cell_type": "code",
   "execution_count": 24,
   "id": "74f08404",
   "metadata": {
    "execution": {
     "iopub.execute_input": "2022-04-19T02:40:25.091049Z",
     "iopub.status.busy": "2022-04-19T02:40:25.090293Z",
     "iopub.status.idle": "2022-04-19T02:57:49.913922Z",
     "shell.execute_reply": "2022-04-19T02:57:49.914410Z",
     "shell.execute_reply.started": "2022-04-15T22:35:29.171316Z"
    },
    "papermill": {
     "duration": 1044.883665,
     "end_time": "2022-04-19T02:57:49.914579",
     "exception": false,
     "start_time": "2022-04-19T02:40:25.030914",
     "status": "completed"
    },
    "tags": []
   },
   "outputs": [
    {
     "name": "stdout",
     "output_type": "stream",
     "text": [
      "Net DNN_Model_4\n",
      "Net 1/25 fitted\n",
      "Net 2/25 fitted\n",
      "Net 3/25 fitted\n",
      "Net 4/25 fitted\n",
      "Net 5/25 fitted\n",
      "Net 6/25 fitted\n",
      "Net 7/25 fitted\n",
      "Net 8/25 fitted\n",
      "Net 9/25 fitted\n",
      "Net 10/25 fitted\n",
      "Net 11/25 fitted\n",
      "Net 12/25 fitted\n",
      "Net 13/25 fitted\n",
      "Net 14/25 fitted\n",
      "Net 15/25 fitted\n",
      "Net 16/25 fitted\n",
      "Net 17/25 fitted\n",
      "Net 18/25 fitted\n",
      "Net 19/25 fitted\n",
      "Net 20/25 fitted\n",
      "Net 21/25 fitted\n",
      "Net 22/25 fitted\n",
      "Net 23/25 fitted\n",
      "Net 24/25 fitted\n",
      "Net 25/25 fitted\n"
     ]
    }
   ],
   "source": [
    "nn_model_4 = StackedDNN(25, DNN_Model_4, min_deep=90, max_deep=110)\n",
    "nn_model_4.fit(data, target, 8, subset=0.65, batch_size=int(2*4096))\n",
    "nn_model_4.save()"
   ]
  },
  {
   "cell_type": "code",
   "execution_count": 25,
   "id": "5bea095a",
   "metadata": {
    "execution": {
     "iopub.execute_input": "2022-04-19T02:57:50.058735Z",
     "iopub.status.busy": "2022-04-19T02:57:50.058157Z",
     "iopub.status.idle": "2022-04-19T03:15:31.202325Z",
     "shell.execute_reply": "2022-04-19T03:15:31.203430Z",
     "shell.execute_reply.started": "2022-04-12T22:24:12.142396Z"
    },
    "papermill": {
     "duration": 1061.22073,
     "end_time": "2022-04-19T03:15:31.203650",
     "exception": false,
     "start_time": "2022-04-19T02:57:49.982920",
     "status": "completed"
    },
    "tags": []
   },
   "outputs": [],
   "source": [
    "from catboost import CatBoostRegressor\n",
    "model = CatBoostRegressor(iterations=12000, task_type='GPU', devices='0', silent=True, subsample=0.9, bootstrap_type='Poisson').fit(data, target)"
   ]
  },
  {
   "cell_type": "code",
   "execution_count": 26,
   "id": "0cc2cf2f",
   "metadata": {
    "execution": {
     "iopub.execute_input": "2022-04-19T03:15:31.489262Z",
     "iopub.status.busy": "2022-04-19T03:15:31.488485Z",
     "iopub.status.idle": "2022-04-19T03:15:31.492331Z",
     "shell.execute_reply": "2022-04-19T03:15:31.493229Z",
     "shell.execute_reply.started": "2022-04-12T22:27:21.594066Z"
    },
    "papermill": {
     "duration": 0.196152,
     "end_time": "2022-04-19T03:15:31.493427",
     "exception": false,
     "start_time": "2022-04-19T03:15:31.297275",
     "status": "completed"
    },
    "tags": []
   },
   "outputs": [],
   "source": [
    "model.save_model(\"cat_model\")"
   ]
  }
 ],
 "metadata": {
  "kernelspec": {
   "display_name": "Python 3",
   "language": "python",
   "name": "python3"
  },
  "language_info": {
   "codemirror_mode": {
    "name": "ipython",
    "version": 3
   },
   "file_extension": ".py",
   "mimetype": "text/x-python",
   "name": "python",
   "nbconvert_exporter": "python",
   "pygments_lexer": "ipython3",
   "version": "3.7.12"
  },
  "papermill": {
   "default_parameters": {},
   "duration": 8112.152863,
   "end_time": "2022-04-19T03:15:33.313705",
   "environment_variables": {},
   "exception": null,
   "input_path": "__notebook__.ipynb",
   "output_path": "__notebook__.ipynb",
   "parameters": {},
   "start_time": "2022-04-19T01:00:21.160842",
   "version": "2.3.3"
  }
 },
 "nbformat": 4,
 "nbformat_minor": 5
}
