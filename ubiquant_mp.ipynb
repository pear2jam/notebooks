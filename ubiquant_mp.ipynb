{
 "cells": [
  {
   "cell_type": "code",
   "execution_count": 1,
   "id": "d78c6217",
   "metadata": {
    "_cell_guid": "b1076dfc-b9ad-4769-8c92-a6c4dae69d19",
    "_uuid": "8f2839f25d086af736a60e9eeb907d3b93b6e0e5",
    "execution": {
     "iopub.execute_input": "2022-03-30T23:07:11.388166Z",
     "iopub.status.busy": "2022-03-30T23:07:11.386014Z",
     "iopub.status.idle": "2022-03-30T23:07:14.006039Z",
     "shell.execute_reply": "2022-03-30T23:07:14.005175Z",
     "shell.execute_reply.started": "2022-03-30T22:03:43.885395Z"
    },
    "papermill": {
     "duration": 2.71605,
     "end_time": "2022-03-30T23:07:14.006211",
     "exception": false,
     "start_time": "2022-03-30T23:07:11.290161",
     "status": "completed"
    },
    "tags": []
   },
   "outputs": [],
   "source": [
    "import numpy as np\n",
    "import pandas as pd\n",
    "import matplotlib.pyplot as plt\n",
    "%matplotlib inline\n",
    "import seaborn as sns\n",
    "import torch"
   ]
  },
  {
   "cell_type": "code",
   "execution_count": 2,
   "id": "21db6e26",
   "metadata": {
    "execution": {
     "iopub.execute_input": "2022-03-30T23:07:14.106647Z",
     "iopub.status.busy": "2022-03-30T23:07:14.105605Z",
     "iopub.status.idle": "2022-03-30T23:07:14.108947Z",
     "shell.execute_reply": "2022-03-30T23:07:14.108397Z",
     "shell.execute_reply.started": "2022-03-30T22:03:58.935111Z"
    },
    "papermill": {
     "duration": 0.054084,
     "end_time": "2022-03-30T23:07:14.109103",
     "exception": false,
     "start_time": "2022-03-30T23:07:14.055019",
     "status": "completed"
    },
    "tags": []
   },
   "outputs": [],
   "source": [
    "data_types_dict = {\n",
    "    'time_id': 'int32',\n",
    "    'investment_id': 'int16',\n",
    "    \"target\": 'float16',\n",
    "}\n",
    "\n",
    "features = [f'f_{i}' for i in range(300)]\n",
    "\n",
    "for f in features:\n",
    "    data_types_dict[f] = 'float16'"
   ]
  },
  {
   "cell_type": "code",
   "execution_count": 3,
   "id": "c812a011",
   "metadata": {
    "execution": {
     "iopub.execute_input": "2022-03-30T23:07:14.205849Z",
     "iopub.status.busy": "2022-03-30T23:07:14.204543Z",
     "iopub.status.idle": "2022-03-30T23:07:14.227137Z",
     "shell.execute_reply": "2022-03-30T23:07:14.226497Z",
     "shell.execute_reply.started": "2022-03-30T22:40:49.724332Z"
    },
    "papermill": {
     "duration": 0.074056,
     "end_time": "2022-03-30T23:07:14.227285",
     "exception": false,
     "start_time": "2022-03-30T23:07:14.153229",
     "status": "completed"
    },
    "tags": []
   },
   "outputs": [],
   "source": [
    "data = pd.read_csv('../input/ubiquant-market-prediction/train.csv', \n",
    "                       usecols = data_types_dict.keys(),\n",
    "                       dtype=data_types_dict,\n",
    "                       index_col = 0, chunksize = 3141410) #3141410"
   ]
  },
  {
   "cell_type": "code",
   "execution_count": 4,
   "id": "e0e77d3d",
   "metadata": {
    "execution": {
     "iopub.execute_input": "2022-03-30T23:07:14.317523Z",
     "iopub.status.busy": "2022-03-30T23:07:14.316502Z",
     "iopub.status.idle": "2022-03-30T23:14:00.454708Z",
     "shell.execute_reply": "2022-03-30T23:14:00.453698Z",
     "shell.execute_reply.started": "2022-03-30T22:40:51.230051Z"
    },
    "papermill": {
     "duration": 406.184339,
     "end_time": "2022-03-30T23:14:00.454860",
     "exception": false,
     "start_time": "2022-03-30T23:07:14.270521",
     "status": "completed"
    },
    "tags": []
   },
   "outputs": [
    {
     "name": "stderr",
     "output_type": "stream",
     "text": [
      "/opt/conda/lib/python3.7/site-packages/numpy/lib/arraysetops.py:583: FutureWarning: elementwise comparison failed; returning scalar instead, but in the future will perform elementwise comparison\n",
      "  mask |= (ar1 == a)\n"
     ]
    }
   ],
   "source": [
    "data = next(iter(data))"
   ]
  },
  {
   "cell_type": "code",
   "execution_count": 5,
   "id": "2b70e94c",
   "metadata": {
    "execution": {
     "iopub.execute_input": "2022-03-30T23:14:00.556048Z",
     "iopub.status.busy": "2022-03-30T23:14:00.554791Z",
     "iopub.status.idle": "2022-03-30T23:14:04.380208Z",
     "shell.execute_reply": "2022-03-30T23:14:04.379213Z",
     "shell.execute_reply.started": "2022-03-30T22:40:52.956119Z"
    },
    "papermill": {
     "duration": 3.880124,
     "end_time": "2022-03-30T23:14:04.380398",
     "exception": false,
     "start_time": "2022-03-30T23:14:00.500274",
     "status": "completed"
    },
    "tags": []
   },
   "outputs": [],
   "source": [
    "target = data['target']\n",
    "data.drop(['target', 'investment_id'], inplace=True, axis=1)"
   ]
  },
  {
   "cell_type": "code",
   "execution_count": 6,
   "id": "1aa4d1d2",
   "metadata": {
    "execution": {
     "iopub.execute_input": "2022-03-30T23:14:04.473607Z",
     "iopub.status.busy": "2022-03-30T23:14:04.472638Z",
     "iopub.status.idle": "2022-03-30T23:14:04.476223Z",
     "shell.execute_reply": "2022-03-30T23:14:04.475649Z",
     "shell.execute_reply.started": "2022-03-30T22:40:53.85219Z"
    },
    "papermill": {
     "duration": 0.051761,
     "end_time": "2022-03-30T23:14:04.476352",
     "exception": false,
     "start_time": "2022-03-30T23:14:04.424591",
     "status": "completed"
    },
    "tags": []
   },
   "outputs": [],
   "source": [
    "#data.groupby(['time_id'])['target'].std()"
   ]
  },
  {
   "cell_type": "code",
   "execution_count": null,
   "id": "af0445e7",
   "metadata": {
    "papermill": {
     "duration": 0.04353,
     "end_time": "2022-03-30T23:14:04.564259",
     "exception": false,
     "start_time": "2022-03-30T23:14:04.520729",
     "status": "completed"
    },
    "tags": []
   },
   "outputs": [],
   "source": []
  },
  {
   "cell_type": "code",
   "execution_count": 7,
   "id": "5ab7a04f",
   "metadata": {
    "execution": {
     "iopub.execute_input": "2022-03-30T23:14:04.659478Z",
     "iopub.status.busy": "2022-03-30T23:14:04.658530Z",
     "iopub.status.idle": "2022-03-30T23:14:04.662582Z",
     "shell.execute_reply": "2022-03-30T23:14:04.663215Z",
     "shell.execute_reply.started": "2022-03-30T22:38:31.540256Z"
    },
    "papermill": {
     "duration": 0.055628,
     "end_time": "2022-03-30T23:14:04.663354",
     "exception": false,
     "start_time": "2022-03-30T23:14:04.607726",
     "status": "completed"
    },
    "tags": []
   },
   "outputs": [
    {
     "data": {
      "text/plain": [
       "'\\nfrom scipy.stats import pearsonr \\ndef est_score(model):\\n    y_pred = model.predict(X_test)\\n    return pearsonr(y_pred, y_test)[0]\\n'"
      ]
     },
     "execution_count": 7,
     "metadata": {},
     "output_type": "execute_result"
    }
   ],
   "source": [
    "\"\"\"\n",
    "from scipy.stats import pearsonr \n",
    "def est_score(model):\n",
    "    y_pred = model.predict(X_test)\n",
    "    return pearsonr(y_pred, y_test)[0]\n",
    "\"\"\""
   ]
  },
  {
   "cell_type": "code",
   "execution_count": 8,
   "id": "8fdfad73",
   "metadata": {
    "execution": {
     "iopub.execute_input": "2022-03-30T23:14:04.755026Z",
     "iopub.status.busy": "2022-03-30T23:14:04.754190Z",
     "iopub.status.idle": "2022-03-30T23:14:04.757616Z",
     "shell.execute_reply": "2022-03-30T23:14:04.757109Z",
     "shell.execute_reply.started": "2022-03-30T22:38:32.796443Z"
    },
    "papermill": {
     "duration": 0.051271,
     "end_time": "2022-03-30T23:14:04.757786",
     "exception": false,
     "start_time": "2022-03-30T23:14:04.706515",
     "status": "completed"
    },
    "tags": []
   },
   "outputs": [],
   "source": [
    "#from sklearn.model_selection import TimeSeriesSplit\n"
   ]
  },
  {
   "cell_type": "code",
   "execution_count": 9,
   "id": "2b191cc1",
   "metadata": {
    "execution": {
     "iopub.execute_input": "2022-03-30T23:14:04.851722Z",
     "iopub.status.busy": "2022-03-30T23:14:04.850934Z",
     "iopub.status.idle": "2022-03-30T23:14:04.854385Z",
     "shell.execute_reply": "2022-03-30T23:14:04.854872Z",
     "shell.execute_reply.started": "2022-03-30T22:38:34.055937Z"
    },
    "papermill": {
     "duration": 0.052986,
     "end_time": "2022-03-30T23:14:04.855042",
     "exception": false,
     "start_time": "2022-03-30T23:14:04.802056",
     "status": "completed"
    },
    "tags": []
   },
   "outputs": [
    {
     "data": {
      "text/plain": [
       "'\\nfrom sklearn.model_selection import train_test_split\\nX_train, X_test, y_train, y_test = train_test_split(data, target, test_size=0.08, stratify=data.index)\\n'"
      ]
     },
     "execution_count": 9,
     "metadata": {},
     "output_type": "execute_result"
    }
   ],
   "source": [
    "\"\"\"\n",
    "from sklearn.model_selection import train_test_split\n",
    "X_train, X_test, y_train, y_test = train_test_split(data, target, test_size=0.08, stratify=data.index)\n",
    "\"\"\""
   ]
  },
  {
   "cell_type": "code",
   "execution_count": 10,
   "id": "fb29e462",
   "metadata": {
    "execution": {
     "iopub.execute_input": "2022-03-30T23:14:04.949301Z",
     "iopub.status.busy": "2022-03-30T23:14:04.945940Z",
     "iopub.status.idle": "2022-03-30T23:14:04.952763Z",
     "shell.execute_reply": "2022-03-30T23:14:04.953359Z",
     "shell.execute_reply.started": "2022-03-30T22:38:35.241949Z"
    },
    "papermill": {
     "duration": 0.054737,
     "end_time": "2022-03-30T23:14:04.953496",
     "exception": false,
     "start_time": "2022-03-30T23:14:04.898759",
     "status": "completed"
    },
    "tags": []
   },
   "outputs": [
    {
     "data": {
      "text/plain": [
       "'\\nclass DNN_Model(torch.nn.Module):\\n    def __init__(self):\\n        super().__init__()\\n        self.linear_1 = torch.nn.Linear(300, 180)\\n        self.linear_2 = torch.nn.Linear(180, 180)\\n        self.linear_3 = torch.nn.Linear(180, 1)\\n        self.act = torch.nn.SiLU()\\n    def forward(self, X):\\n        X = self.act(self.linear_1(X))\\n        X = self.act(self.linear_2(X))\\n        X = self.linear_3(X)\\n        return X\\n'"
      ]
     },
     "execution_count": 10,
     "metadata": {},
     "output_type": "execute_result"
    }
   ],
   "source": [
    "\"\"\"\n",
    "class DNN_Model(torch.nn.Module):\n",
    "    def __init__(self):\n",
    "        super().__init__()\n",
    "        self.linear_1 = torch.nn.Linear(300, 180)\n",
    "        self.linear_2 = torch.nn.Linear(180, 180)\n",
    "        self.linear_3 = torch.nn.Linear(180, 1)\n",
    "        self.act = torch.nn.SiLU()\n",
    "    def forward(self, X):\n",
    "        X = self.act(self.linear_1(X))\n",
    "        X = self.act(self.linear_2(X))\n",
    "        X = self.linear_3(X)\n",
    "        return X\n",
    "\"\"\""
   ]
  },
  {
   "cell_type": "code",
   "execution_count": 11,
   "id": "5ba4ac89",
   "metadata": {
    "execution": {
     "iopub.execute_input": "2022-03-30T23:14:05.049499Z",
     "iopub.status.busy": "2022-03-30T23:14:05.048399Z",
     "iopub.status.idle": "2022-03-30T23:14:05.052420Z",
     "shell.execute_reply": "2022-03-30T23:14:05.053049Z",
     "shell.execute_reply.started": "2022-03-30T22:38:36.45525Z"
    },
    "papermill": {
     "duration": 0.053975,
     "end_time": "2022-03-30T23:14:05.053188",
     "exception": false,
     "start_time": "2022-03-30T23:14:04.999213",
     "status": "completed"
    },
    "tags": []
   },
   "outputs": [
    {
     "data": {
      "text/plain": [
       "\"\\ntensor_train = torch.FloatTensor(X_train.values)\\ntensor_test = torch.FloatTensor(X_test.values)\\nprint(tensor_train.shape)\\ntensor_y = torch.FloatTensor(y_train.values)\\ntensor_y_test = (y_test.values)\\n\\nmodel = DNN_Model()\\n\\nopt = torch.optim.Adam(model.parameters(), lr=5e-4)\\nfor epoch in range(100):\\n    model.zero_grad()\\n    loss = torch.nn.MSELoss()(model(tensor_train).view(-1), tensor_y)\\n    loss.backward()\\n    opt.step()\\n    print(f'epoch {epoch} finished with {loss} loss')\\n    y_pred = model(tensor_test).view(-1)\\n    print(pearsonr(y_pred.detach().numpy(), tensor_y_test)[0])\\n\""
      ]
     },
     "execution_count": 11,
     "metadata": {},
     "output_type": "execute_result"
    }
   ],
   "source": [
    "\"\"\"\n",
    "tensor_train = torch.FloatTensor(X_train.values)\n",
    "tensor_test = torch.FloatTensor(X_test.values)\n",
    "print(tensor_train.shape)\n",
    "tensor_y = torch.FloatTensor(y_train.values)\n",
    "tensor_y_test = (y_test.values)\n",
    "\n",
    "model = DNN_Model()\n",
    "\n",
    "opt = torch.optim.Adam(model.parameters(), lr=5e-4)\n",
    "for epoch in range(100):\n",
    "    model.zero_grad()\n",
    "    loss = torch.nn.MSELoss()(model(tensor_train).view(-1), tensor_y)\n",
    "    loss.backward()\n",
    "    opt.step()\n",
    "    print(f'epoch {epoch} finished with {loss} loss')\n",
    "    y_pred = model(tensor_test).view(-1)\n",
    "    print(pearsonr(y_pred.detach().numpy(), tensor_y_test)[0])\n",
    "\"\"\""
   ]
  },
  {
   "cell_type": "code",
   "execution_count": 12,
   "id": "97d4f133",
   "metadata": {
    "execution": {
     "iopub.execute_input": "2022-03-30T23:14:05.150082Z",
     "iopub.status.busy": "2022-03-30T23:14:05.149226Z",
     "iopub.status.idle": "2022-03-30T23:14:05.153115Z",
     "shell.execute_reply": "2022-03-30T23:14:05.153704Z",
     "shell.execute_reply.started": "2022-03-30T22:38:37.677774Z"
    },
    "papermill": {
     "duration": 0.05523,
     "end_time": "2022-03-30T23:14:05.153969",
     "exception": false,
     "start_time": "2022-03-30T23:14:05.098739",
     "status": "completed"
    },
    "tags": []
   },
   "outputs": [
    {
     "data": {
      "text/plain": [
       "'\\nfrom sklearn.linear_model import LinearRegression\\nreg_model = LinearRegression(copy_X=False).fit(X_train, y_train)\\n'"
      ]
     },
     "execution_count": 12,
     "metadata": {},
     "output_type": "execute_result"
    }
   ],
   "source": [
    "\"\"\"\n",
    "from sklearn.linear_model import LinearRegression\n",
    "reg_model = LinearRegression(copy_X=False).fit(X_train, y_train)\n",
    "\"\"\""
   ]
  },
  {
   "cell_type": "code",
   "execution_count": 13,
   "id": "451e5f95",
   "metadata": {
    "execution": {
     "iopub.execute_input": "2022-03-30T23:14:05.249333Z",
     "iopub.status.busy": "2022-03-30T23:14:05.248654Z",
     "iopub.status.idle": "2022-03-30T23:14:05.252948Z",
     "shell.execute_reply": "2022-03-30T23:14:05.252416Z",
     "shell.execute_reply.started": "2022-03-30T22:38:38.893058Z"
    },
    "papermill": {
     "duration": 0.053365,
     "end_time": "2022-03-30T23:14:05.253082",
     "exception": false,
     "start_time": "2022-03-30T23:14:05.199717",
     "status": "completed"
    },
    "tags": []
   },
   "outputs": [],
   "source": [
    "#est_score(reg_model)"
   ]
  },
  {
   "cell_type": "code",
   "execution_count": 14,
   "id": "d7e787c7",
   "metadata": {
    "execution": {
     "iopub.execute_input": "2022-03-30T23:14:05.354368Z",
     "iopub.status.busy": "2022-03-30T23:14:05.353312Z",
     "iopub.status.idle": "2022-03-30T23:14:05.357133Z",
     "shell.execute_reply": "2022-03-30T23:14:05.357701Z",
     "shell.execute_reply.started": "2022-03-30T22:38:40.120543Z"
    },
    "papermill": {
     "duration": 0.059253,
     "end_time": "2022-03-30T23:14:05.357860",
     "exception": false,
     "start_time": "2022-03-30T23:14:05.298607",
     "status": "completed"
    },
    "tags": []
   },
   "outputs": [
    {
     "data": {
      "text/plain": [
       "\"\\nfrom catboost import CatBoostRegressor\\n\\nclass BoostStack:\\n    def __init__(self, n_est):\\n        self.boosts = [CatBoostRegressor(iterations=100, subsample=0.7, silent = True) for i in range(n_est)]\\n    \\n    def fit(self, X, y):\\n        for i in range(len(self.boosts)):\\n            self.boosts[i].fit(X, y)\\n            print(f'{i}-th boost fitted')\\n    \\n    def predict(self, X):\\n        res = 0\\n        \\n        for i in range(len(self.boosts)):\\n            res += self.boosts[i].predict(X) \\n        return res / len(self.boosts)\\n    \\n\""
      ]
     },
     "execution_count": 14,
     "metadata": {},
     "output_type": "execute_result"
    }
   ],
   "source": [
    "\"\"\"\n",
    "from catboost import CatBoostRegressor\n",
    "\n",
    "class BoostStack:\n",
    "    def __init__(self, n_est):\n",
    "        self.boosts = [CatBoostRegressor(iterations=100, subsample=0.7, silent = True) for i in range(n_est)]\n",
    "    \n",
    "    def fit(self, X, y):\n",
    "        for i in range(len(self.boosts)):\n",
    "            self.boosts[i].fit(X, y)\n",
    "            print(f'{i}-th boost fitted')\n",
    "    \n",
    "    def predict(self, X):\n",
    "        res = 0\n",
    "        \n",
    "        for i in range(len(self.boosts)):\n",
    "            res += self.boosts[i].predict(X) \n",
    "        return res / len(self.boosts)\n",
    "    \n",
    "\"\"\""
   ]
  },
  {
   "cell_type": "code",
   "execution_count": 15,
   "id": "09d72c90",
   "metadata": {
    "execution": {
     "iopub.execute_input": "2022-03-30T23:14:05.453987Z",
     "iopub.status.busy": "2022-03-30T23:14:05.452849Z",
     "iopub.status.idle": "2022-03-30T23:14:05.455294Z",
     "shell.execute_reply": "2022-03-30T23:14:05.455847Z",
     "shell.execute_reply.started": "2022-03-30T22:38:41.345251Z"
    },
    "papermill": {
     "duration": 0.052404,
     "end_time": "2022-03-30T23:14:05.456011",
     "exception": false,
     "start_time": "2022-03-30T23:14:05.403607",
     "status": "completed"
    },
    "tags": []
   },
   "outputs": [],
   "source": [
    "#est_score(model)"
   ]
  },
  {
   "cell_type": "markdown",
   "id": "e0f9496b",
   "metadata": {
    "papermill": {
     "duration": 0.045848,
     "end_time": "2022-03-30T23:14:05.547726",
     "exception": false,
     "start_time": "2022-03-30T23:14:05.501878",
     "status": "completed"
    },
    "tags": []
   },
   "source": []
  },
  {
   "cell_type": "code",
   "execution_count": 16,
   "id": "82afabe3",
   "metadata": {
    "execution": {
     "iopub.execute_input": "2022-03-30T23:14:05.647468Z",
     "iopub.status.busy": "2022-03-30T23:14:05.646475Z",
     "iopub.status.idle": "2022-03-30T23:14:05.650352Z",
     "shell.execute_reply": "2022-03-30T23:14:05.650910Z",
     "shell.execute_reply.started": "2022-03-30T22:38:42.906744Z"
    },
    "papermill": {
     "duration": 0.057577,
     "end_time": "2022-03-30T23:14:05.651054",
     "exception": false,
     "start_time": "2022-03-30T23:14:05.593477",
     "status": "completed"
    },
    "tags": []
   },
   "outputs": [
    {
     "data": {
      "text/plain": [
       "\"\\nscores = []\\niters = [10, 20, 30, 50, 100, 200, 500, 1000, 2000, 5000]\\nfor it in iters:\\n    md = CatBoostRegressor(iterations=it, task_type='GPU', devices='0', silent=True).fit(X_train, y_train)\\n    scores.append(est_score(md))\\n    print(f'finished with {it}')\\n    print(scores[-1])\\n\""
      ]
     },
     "execution_count": 16,
     "metadata": {},
     "output_type": "execute_result"
    }
   ],
   "source": [
    "\"\"\"\n",
    "scores = []\n",
    "iters = [10, 20, 30, 50, 100, 200, 500, 1000, 2000, 5000]\n",
    "for it in iters:\n",
    "    md = CatBoostRegressor(iterations=it, task_type='GPU', devices='0', silent=True).fit(X_train, y_train)\n",
    "    scores.append(est_score(md))\n",
    "    print(f'finished with {it}')\n",
    "    print(scores[-1])\n",
    "\"\"\""
   ]
  },
  {
   "cell_type": "code",
   "execution_count": 17,
   "id": "e8547b7a",
   "metadata": {
    "execution": {
     "iopub.execute_input": "2022-03-30T23:14:05.749301Z",
     "iopub.status.busy": "2022-03-30T23:14:05.748210Z",
     "iopub.status.idle": "2022-03-30T23:14:05.750592Z",
     "shell.execute_reply": "2022-03-30T23:14:05.751152Z",
     "shell.execute_reply.started": "2022-03-30T22:38:44.184645Z"
    },
    "papermill": {
     "duration": 0.053501,
     "end_time": "2022-03-30T23:14:05.751307",
     "exception": false,
     "start_time": "2022-03-30T23:14:05.697806",
     "status": "completed"
    },
    "tags": []
   },
   "outputs": [],
   "source": [
    "#sns.lineplot(x=iters, y=scores)"
   ]
  },
  {
   "cell_type": "markdown",
   "id": "8d637856",
   "metadata": {
    "execution": {
     "iopub.execute_input": "2022-03-27T15:50:25.373851Z",
     "iopub.status.busy": "2022-03-27T15:50:25.373013Z",
     "iopub.status.idle": "2022-03-27T15:50:25.800761Z",
     "shell.execute_reply": "2022-03-27T15:50:25.799661Z",
     "shell.execute_reply.started": "2022-03-27T15:50:25.373801Z"
    },
    "papermill": {
     "duration": 0.046064,
     "end_time": "2022-03-30T23:14:05.842699",
     "exception": false,
     "start_time": "2022-03-30T23:14:05.796635",
     "status": "completed"
    },
    "tags": []
   },
   "source": [
    "from sklearn.linear_model import LinearRegression\n",
    "model = LinearRegression(copy_X=False).fit(data.drop('investment_id', axis=1), target)"
   ]
  },
  {
   "cell_type": "code",
   "execution_count": 18,
   "id": "b23a2b93",
   "metadata": {
    "execution": {
     "iopub.execute_input": "2022-03-30T23:14:06.037958Z",
     "iopub.status.busy": "2022-03-30T23:14:06.036926Z",
     "iopub.status.idle": "2022-03-30T23:14:06.040457Z",
     "shell.execute_reply": "2022-03-30T23:14:06.039517Z",
     "shell.execute_reply.started": "2022-03-30T22:41:00.289408Z"
    },
    "papermill": {
     "duration": 0.151268,
     "end_time": "2022-03-30T23:14:06.040603",
     "exception": false,
     "start_time": "2022-03-30T23:14:05.889335",
     "status": "completed"
    },
    "tags": []
   },
   "outputs": [],
   "source": [
    "device = torch.device('cuda') if torch.cuda.is_available() else torch.device('cpu')\n",
    "\n",
    "def move_to(data, device):\n",
    "    \"\"\"\n",
    "    moving data to device\n",
    "    :param data: data to move\n",
    "    :param device: device\n",
    "    :return: moved data\n",
    "    \"\"\"\n",
    "    if isinstance(data, (list, tuple)):\n",
    "        return [move_to(x, device) for x in data]\n",
    "    return data.to(device, non_blocking=True)"
   ]
  },
  {
   "cell_type": "code",
   "execution_count": 19,
   "id": "ed8d1bc6",
   "metadata": {
    "execution": {
     "iopub.execute_input": "2022-03-30T23:14:06.156406Z",
     "iopub.status.busy": "2022-03-30T23:14:06.147691Z",
     "iopub.status.idle": "2022-03-30T23:14:06.159532Z",
     "shell.execute_reply": "2022-03-30T23:14:06.158880Z",
     "shell.execute_reply.started": "2022-03-30T22:41:01.183835Z"
    },
    "papermill": {
     "duration": 0.072207,
     "end_time": "2022-03-30T23:14:06.159834",
     "exception": false,
     "start_time": "2022-03-30T23:14:06.087627",
     "status": "completed"
    },
    "tags": []
   },
   "outputs": [],
   "source": [
    "class DNN_Model(torch.nn.Module):\n",
    "    def __init__(self, deep_size):\n",
    "        super().__init__()\n",
    "        self.linear_1 = torch.nn.Linear(300, deep_size)\n",
    "        self.linear_2 = torch.nn.Linear(deep_size, deep_size)\n",
    "        self.linear_3 = torch.nn.Linear(deep_size, deep_size)\n",
    "        self.linear_4 = torch.nn.Linear(deep_size, deep_size)\n",
    "        self.linear_5 = torch.nn.Linear(deep_size, 1)\n",
    "        self.dout = torch.nn.Dropout(p=0.7)\n",
    "        self.act = torch.nn.SiLU()\n",
    "    def fit(self, X, y, iters, batch_size = 4096, subset = 0.8, silent=False, plot=False, val=False, X_val=None, y_val=None):\n",
    "        self = move_to(self, device)\n",
    "        if val:\n",
    "            tensor_train_val = move_to(torch.FloatTensor(X_val.values), device)\n",
    "            tensor_y_val = move_to(torch.FloatTensor(y_val.values), device)\n",
    "        scores_train = []\n",
    "        scores_val = []\n",
    "        \n",
    "        opt = torch.optim.Adam(self.parameters(), lr=5e-4)\n",
    "        \n",
    "        for epoch in range(iters):\n",
    "            i = 0\n",
    "            #learning cycle\n",
    "            while i + batch_size < y.shape[0]:             \n",
    "                self.zero_grad()\n",
    "                X_tensor = move_to(torch.FloatTensor(X.iloc[i:i+batch_size, :].values), device)\n",
    "                y_tensor = move_to(torch.FloatTensor(y[i:i+batch_size].values), device)\n",
    "                loss = torch.nn.MSELoss()(self.tensor_forward(X_tensor).view(-1), y_tensor)\n",
    "                loss.backward()\n",
    "                opt.step()\n",
    "                i+=batch_size\n",
    "                \n",
    "            #prints\n",
    "            if val:\n",
    "                val_loss = torch.nn.MSELoss()(self.tensor_forward(tensor_train_val).view(-1), tensor_y_val)\n",
    "                scores_val.append(float(val_loss.detach()))\n",
    "            scores_train.append(float(loss.detach()))\n",
    "            \n",
    "            if not silent:\n",
    "                print(f'epoch {epoch} finished with {loss} loss')\n",
    "                if val:\n",
    "                    print(f'val loss {val_loss}')\n",
    "                \n",
    "            \n",
    "        if not silent:\n",
    "            print(f'Finished with {loss} loss')\n",
    "        if plot:\n",
    "            if val:\n",
    "                sns.lineplot(x=range(iters), y=scores_train, label='train')\n",
    "                sns.lineplot(x=range(iters), y=scores_val, label='val')\n",
    "            else:\n",
    "                sns.lineplot(scores_train)\n",
    "            plt.plot()\n",
    "                \n",
    "    def tensor_forward(self, X_tensor):\n",
    "        X_tensor = move_to(X_tensor, device)\n",
    "        tensor_X = self.act(self.linear_1(X_tensor))\n",
    "        tensor_X = self.act(self.linear_2(tensor_X))\n",
    "        tensor_X = self.dout(tensor_X)\n",
    "        tensor_X = self.act(self.linear_3(tensor_X))\n",
    "        tensor_X = self.dout(tensor_X)\n",
    "        tensor_X = self.act(self.linear_4(tensor_X))\n",
    "        tensor_X = self.linear_5(tensor_X)\n",
    "        return tensor_X \n",
    "\n",
    "    def forward(self, X):\n",
    "        tensor_X = torch.FloatTensor(X.values)\n",
    "        tensor_X = move_to(tensor_X, device)\n",
    "        tensor_X = self.act(self.linear_1(tensor_X))\n",
    "        tensor_X = self.act(self.linear_2(tensor_X))\n",
    "        tensor_X = self.dout(tensor_X)\n",
    "        tensor_X = self.act(self.linear_3(tensor_X))\n",
    "        tensor_X = self.dout(tensor_X)\n",
    "        tensor_X = self.act(self.linear_4(tensor_X))\n",
    "        tensor_X = self.linear_5(tensor_X)\n",
    "        return tensor_X"
   ]
  },
  {
   "cell_type": "code",
   "execution_count": 20,
   "id": "d17d6bb7",
   "metadata": {
    "execution": {
     "iopub.execute_input": "2022-03-30T23:14:06.256806Z",
     "iopub.status.busy": "2022-03-30T23:14:06.255713Z",
     "iopub.status.idle": "2022-03-30T23:14:06.259030Z",
     "shell.execute_reply": "2022-03-30T23:14:06.258477Z",
     "shell.execute_reply.started": "2022-03-30T22:41:02.777498Z"
    },
    "papermill": {
     "duration": 0.053834,
     "end_time": "2022-03-30T23:14:06.259162",
     "exception": false,
     "start_time": "2022-03-30T23:14:06.205328",
     "status": "completed"
    },
    "tags": []
   },
   "outputs": [],
   "source": [
    "#написать subsample: генерируем подмножество всех индексов и из него выбираем в батчах\n",
    "#то есть двойная индексация"
   ]
  },
  {
   "cell_type": "code",
   "execution_count": 21,
   "id": "f9580cfb",
   "metadata": {
    "execution": {
     "iopub.execute_input": "2022-03-30T23:14:06.363457Z",
     "iopub.status.busy": "2022-03-30T23:14:06.355869Z",
     "iopub.status.idle": "2022-03-30T23:14:06.366625Z",
     "shell.execute_reply": "2022-03-30T23:14:06.366092Z",
     "shell.execute_reply.started": "2022-03-30T22:41:03.185212Z"
    },
    "papermill": {
     "duration": 0.061147,
     "end_time": "2022-03-30T23:14:06.366787",
     "exception": false,
     "start_time": "2022-03-30T23:14:06.305640",
     "status": "completed"
    },
    "tags": []
   },
   "outputs": [],
   "source": [
    "class StackedDNN:\n",
    "    def __init__(self, n, min_deep=30, max_deep=40, min_iter=10, max_iter=15):\n",
    "        self.nets = [DNN_Model(np.random.randint(min_deep, max_deep)) for i in range(n)]\n",
    "        self.min_iter=min_iter\n",
    "        self.max_iter=max_iter\n",
    "    \n",
    "    def fit(self, X, y, batch_size=4096, subset=0.8):\n",
    "        for i in range(len(self.nets)):\n",
    "            self.nets[i].fit(X, y, np.random.randint(self.min_iter, self.max_iter), batch_size, subset, silent=True, plot=False, val=False, X_val=None, y_val=None)\n",
    "            print(f'{i}/{len(self.nets)-1} fitted')\n",
    "        \n",
    "    def predict(self, X):\n",
    "        y_pred = np.ndarray([len(self.nets), X.shape[0]])\n",
    "        for i in range(len(self.nets)):\n",
    "            self.nets[i].eval()\n",
    "            y_pred[i] = np.array(self.nets[i].forward(X).detach().view(-1).cpu())\n",
    "        y_pred /= len(self.nets)\n",
    "        return np.sum(y_pred, axis=0)"
   ]
  },
  {
   "cell_type": "code",
   "execution_count": 22,
   "id": "db623cac",
   "metadata": {
    "execution": {
     "iopub.execute_input": "2022-03-30T23:14:06.472870Z",
     "iopub.status.busy": "2022-03-30T23:14:06.472259Z",
     "iopub.status.idle": "2022-03-30T23:14:06.588378Z",
     "shell.execute_reply": "2022-03-30T23:14:06.587718Z",
     "shell.execute_reply.started": "2022-03-30T22:41:05.371836Z"
    },
    "papermill": {
     "duration": 0.174669,
     "end_time": "2022-03-30T23:14:06.588510",
     "exception": false,
     "start_time": "2022-03-30T23:14:06.413841",
     "status": "completed"
    },
    "tags": []
   },
   "outputs": [],
   "source": [
    "nn_model = StackedDNN(20, min_iter=5,max_iter=7, min_deep=280, max_deep=301)"
   ]
  },
  {
   "cell_type": "code",
   "execution_count": 23,
   "id": "cff33c7a",
   "metadata": {
    "execution": {
     "iopub.execute_input": "2022-03-30T23:14:06.696211Z",
     "iopub.status.busy": "2022-03-30T23:14:06.695419Z",
     "iopub.status.idle": "2022-03-30T23:26:18.323357Z",
     "shell.execute_reply": "2022-03-30T23:26:18.323832Z",
     "shell.execute_reply.started": "2022-03-30T22:41:06.939556Z"
    },
    "papermill": {
     "duration": 731.688,
     "end_time": "2022-03-30T23:26:18.324054",
     "exception": false,
     "start_time": "2022-03-30T23:14:06.636054",
     "status": "completed"
    },
    "tags": []
   },
   "outputs": [
    {
     "name": "stdout",
     "output_type": "stream",
     "text": [
      "0/19 fitted\n",
      "1/19 fitted\n",
      "2/19 fitted\n",
      "3/19 fitted\n",
      "4/19 fitted\n",
      "5/19 fitted\n",
      "6/19 fitted\n",
      "7/19 fitted\n",
      "8/19 fitted\n",
      "9/19 fitted\n",
      "10/19 fitted\n",
      "11/19 fitted\n",
      "12/19 fitted\n",
      "13/19 fitted\n",
      "14/19 fitted\n",
      "15/19 fitted\n",
      "16/19 fitted\n",
      "17/19 fitted\n",
      "18/19 fitted\n",
      "19/19 fitted\n"
     ]
    }
   ],
   "source": [
    "nn_model.fit(data, target)"
   ]
  },
  {
   "cell_type": "markdown",
   "id": "cb197bb6",
   "metadata": {
    "papermill": {
     "duration": 0.054582,
     "end_time": "2022-03-30T23:26:18.431735",
     "exception": false,
     "start_time": "2022-03-30T23:26:18.377153",
     "status": "completed"
    },
    "tags": []
   },
   "source": []
  },
  {
   "cell_type": "code",
   "execution_count": 24,
   "id": "66f796c0",
   "metadata": {
    "execution": {
     "iopub.execute_input": "2022-03-30T23:26:18.547098Z",
     "iopub.status.busy": "2022-03-30T23:26:18.545993Z",
     "iopub.status.idle": "2022-03-30T23:26:18.549238Z",
     "shell.execute_reply": "2022-03-30T23:26:18.548691Z",
     "shell.execute_reply.started": "2022-03-30T22:20:25.311124Z"
    },
    "papermill": {
     "duration": 0.062696,
     "end_time": "2022-03-30T23:26:18.549400",
     "exception": false,
     "start_time": "2022-03-30T23:26:18.486704",
     "status": "completed"
    },
    "tags": []
   },
   "outputs": [],
   "source": [
    "#res = nn_model.predict(X_test)"
   ]
  },
  {
   "cell_type": "code",
   "execution_count": 25,
   "id": "fd5fd2bf",
   "metadata": {
    "execution": {
     "iopub.execute_input": "2022-03-30T23:26:18.663232Z",
     "iopub.status.busy": "2022-03-30T23:26:18.662315Z",
     "iopub.status.idle": "2022-03-30T23:26:18.665730Z",
     "shell.execute_reply": "2022-03-30T23:26:18.665116Z",
     "shell.execute_reply.started": "2022-03-30T22:20:28.194228Z"
    },
    "papermill": {
     "duration": 0.061709,
     "end_time": "2022-03-30T23:26:18.665858",
     "exception": false,
     "start_time": "2022-03-30T23:26:18.604149",
     "status": "completed"
    },
    "tags": []
   },
   "outputs": [],
   "source": [
    "#pearsonr(res, y_test)[0]"
   ]
  },
  {
   "cell_type": "raw",
   "id": "1a40cae4",
   "metadata": {
    "execution": {
     "iopub.execute_input": "2022-03-30T18:22:40.781446Z",
     "iopub.status.busy": "2022-03-30T18:22:40.780899Z",
     "iopub.status.idle": "2022-03-30T18:30:20.943038Z",
     "shell.execute_reply": "2022-03-30T18:30:20.942443Z",
     "shell.execute_reply.started": "2022-03-30T18:22:40.781417Z"
    },
    "papermill": {
     "duration": 0.055303,
     "end_time": "2022-03-30T23:26:18.776289",
     "exception": false,
     "start_time": "2022-03-30T23:26:18.720986",
     "status": "completed"
    },
    "tags": []
   },
   "source": [
    "\"\"\"\n",
    "res = np.ndarray([3, 6])\n",
    "for i, i_v in enumerate([10, 20, 30, 50, 70, 100]):\n",
    "    for j, j_v in enumerate([10, 30, 50]):\n",
    "        m = StackedDNN(1, i_v, i_v+10, j_v, j_v+10)\n",
    "        m.fit(X_train, y_train)\n",
    "        score = pearsonr(m.predict(X_test), y_test)[0]\n",
    "        res[j][i] = score\n",
    "        print(f'i = {i}, j = {j} finished, score = {score}')\n",
    "\"\"\""
   ]
  },
  {
   "cell_type": "code",
   "execution_count": null,
   "id": "4403ffa4",
   "metadata": {
    "execution": {
     "iopub.execute_input": "2022-03-30T21:07:56.041172Z",
     "iopub.status.busy": "2022-03-30T21:07:56.040671Z",
     "iopub.status.idle": "2022-03-30T21:08:09.494525Z",
     "shell.execute_reply": "2022-03-30T21:08:09.493771Z",
     "shell.execute_reply.started": "2022-03-30T21:07:56.041133Z"
    },
    "papermill": {
     "duration": 0.056426,
     "end_time": "2022-03-30T23:26:18.887798",
     "exception": false,
     "start_time": "2022-03-30T23:26:18.831372",
     "status": "completed"
    },
    "tags": []
   },
   "outputs": [],
   "source": []
  },
  {
   "cell_type": "code",
   "execution_count": null,
   "id": "1b8ce57b",
   "metadata": {
    "execution": {
     "iopub.execute_input": "2022-03-30T21:15:23.380121Z",
     "iopub.status.busy": "2022-03-30T21:15:23.37947Z",
     "iopub.status.idle": "2022-03-30T21:15:23.392128Z",
     "shell.execute_reply": "2022-03-30T21:15:23.390687Z",
     "shell.execute_reply.started": "2022-03-30T21:15:23.380083Z"
    },
    "papermill": {
     "duration": 0.05549,
     "end_time": "2022-03-30T23:26:19.013852",
     "exception": false,
     "start_time": "2022-03-30T23:26:18.958362",
     "status": "completed"
    },
    "tags": []
   },
   "outputs": [],
   "source": []
  },
  {
   "cell_type": "code",
   "execution_count": 26,
   "id": "c8e9f663",
   "metadata": {
    "execution": {
     "iopub.execute_input": "2022-03-30T23:26:19.132055Z",
     "iopub.status.busy": "2022-03-30T23:26:19.130955Z",
     "iopub.status.idle": "2022-03-30T23:26:19.134405Z",
     "shell.execute_reply": "2022-03-30T23:26:19.133839Z",
     "shell.execute_reply.started": "2022-03-30T17:46:58.919478Z"
    },
    "papermill": {
     "duration": 0.064208,
     "end_time": "2022-03-30T23:26:19.134557",
     "exception": false,
     "start_time": "2022-03-30T23:26:19.070349",
     "status": "completed"
    },
    "tags": []
   },
   "outputs": [],
   "source": [
    "#np.sum(res > 10000000000000)"
   ]
  },
  {
   "cell_type": "code",
   "execution_count": 27,
   "id": "9b872bd7",
   "metadata": {
    "execution": {
     "iopub.execute_input": "2022-03-30T23:26:19.252804Z",
     "iopub.status.busy": "2022-03-30T23:26:19.251857Z",
     "iopub.status.idle": "2022-03-30T23:41:31.805621Z",
     "shell.execute_reply": "2022-03-30T23:41:31.806845Z",
     "shell.execute_reply.started": "2022-03-30T22:42:25.652144Z"
    },
    "papermill": {
     "duration": 912.616307,
     "end_time": "2022-03-30T23:41:31.807129",
     "exception": false,
     "start_time": "2022-03-30T23:26:19.190822",
     "status": "completed"
    },
    "tags": []
   },
   "outputs": [],
   "source": [
    "from catboost import CatBoostRegressor\n",
    "model = CatBoostRegressor(iterations=8000, task_type='GPU', devices='0', silent=True).fit(data, target)"
   ]
  },
  {
   "cell_type": "code",
   "execution_count": 28,
   "id": "8a79aa77",
   "metadata": {
    "execution": {
     "iopub.execute_input": "2022-03-30T23:41:31.976772Z",
     "iopub.status.busy": "2022-03-30T23:41:31.975680Z",
     "iopub.status.idle": "2022-03-30T23:41:31.978111Z",
     "shell.execute_reply": "2022-03-30T23:41:31.978940Z",
     "shell.execute_reply.started": "2022-03-30T22:30:23.232881Z"
    },
    "papermill": {
     "duration": 0.088295,
     "end_time": "2022-03-30T23:41:31.979171",
     "exception": false,
     "start_time": "2022-03-30T23:41:31.890876",
     "status": "completed"
    },
    "tags": []
   },
   "outputs": [],
   "source": [
    "#est_score(model)"
   ]
  },
  {
   "cell_type": "code",
   "execution_count": 29,
   "id": "1eb15fa5",
   "metadata": {
    "execution": {
     "iopub.execute_input": "2022-03-30T23:41:32.145544Z",
     "iopub.status.busy": "2022-03-30T23:41:32.144432Z",
     "iopub.status.idle": "2022-03-30T23:41:32.146771Z",
     "shell.execute_reply": "2022-03-30T23:41:32.147603Z"
    },
    "papermill": {
     "duration": 0.089012,
     "end_time": "2022-03-30T23:41:32.147820",
     "exception": false,
     "start_time": "2022-03-30T23:41:32.058808",
     "status": "completed"
    },
    "tags": []
   },
   "outputs": [],
   "source": [
    "#res_boost = model.predict(X_test)"
   ]
  },
  {
   "cell_type": "code",
   "execution_count": 30,
   "id": "1039825f",
   "metadata": {
    "execution": {
     "iopub.execute_input": "2022-03-30T23:41:32.513623Z",
     "iopub.status.busy": "2022-03-30T23:41:32.512504Z",
     "iopub.status.idle": "2022-03-30T23:41:32.515667Z",
     "shell.execute_reply": "2022-03-30T23:41:32.514729Z",
     "shell.execute_reply.started": "2022-03-30T22:32:13.537101Z"
    },
    "papermill": {
     "duration": 0.214512,
     "end_time": "2022-03-30T23:41:32.515900",
     "exception": false,
     "start_time": "2022-03-30T23:41:32.301388",
     "status": "completed"
    },
    "tags": []
   },
   "outputs": [],
   "source": [
    "#a = 0.5\n",
    "#pearsonr(a*res_boost+(1-a)*res, y_test)[0]"
   ]
  },
  {
   "cell_type": "code",
   "execution_count": 31,
   "id": "051ceb73",
   "metadata": {
    "execution": {
     "iopub.execute_input": "2022-03-30T23:41:32.833789Z",
     "iopub.status.busy": "2022-03-30T23:41:32.831558Z",
     "iopub.status.idle": "2022-03-30T23:41:33.450653Z",
     "shell.execute_reply": "2022-03-30T23:41:33.451621Z"
    },
    "papermill": {
     "duration": 0.735252,
     "end_time": "2022-03-30T23:41:33.451924",
     "exception": false,
     "start_time": "2022-03-30T23:41:32.716672",
     "status": "completed"
    },
    "tags": []
   },
   "outputs": [
    {
     "name": "stdout",
     "output_type": "stream",
     "text": [
      "This version of the API is not optimized and should not be used to estimate the runtime of your code on the hidden test set.\n"
     ]
    }
   ],
   "source": [
    "import ubiquant\n",
    "env = ubiquant.make_env()   # initialize the environment\n",
    "iter_test = env.iter_test()    # an iterator which loops over the test set and sample submission\n",
    "for (test_df, sample_prediction_df) in iter_test:\n",
    "    res_boost = model.predict(test_df[features])\n",
    "    res_nn = nn_model.predict(test_df[features])\n",
    "    test_df['target']  = 0.5*res_boost + 0.5*res_nn\n",
    "    env.predict(test_df[['row_id','target']])"
   ]
  },
  {
   "cell_type": "code",
   "execution_count": null,
   "id": "903668b7",
   "metadata": {
    "execution": {
     "iopub.execute_input": "2022-03-27T14:44:24.228544Z",
     "iopub.status.busy": "2022-03-27T14:44:24.22746Z",
     "iopub.status.idle": "2022-03-27T14:44:24.243794Z",
     "shell.execute_reply": "2022-03-27T14:44:24.243089Z",
     "shell.execute_reply.started": "2022-03-27T14:44:24.228476Z"
    },
    "papermill": {
     "duration": 0.090831,
     "end_time": "2022-03-30T23:41:33.650467",
     "exception": false,
     "start_time": "2022-03-30T23:41:33.559636",
     "status": "completed"
    },
    "tags": []
   },
   "outputs": [],
   "source": []
  },
  {
   "cell_type": "code",
   "execution_count": null,
   "id": "5e4d1d79",
   "metadata": {
    "execution": {
     "iopub.execute_input": "2022-03-27T14:43:19.018371Z",
     "iopub.status.busy": "2022-03-27T14:43:19.01783Z",
     "iopub.status.idle": "2022-03-27T14:43:19.023314Z",
     "shell.execute_reply": "2022-03-27T14:43:19.022464Z",
     "shell.execute_reply.started": "2022-03-27T14:43:19.018335Z"
    },
    "papermill": {
     "duration": 0.063246,
     "end_time": "2022-03-30T23:41:33.777586",
     "exception": false,
     "start_time": "2022-03-30T23:41:33.714340",
     "status": "completed"
    },
    "tags": []
   },
   "outputs": [],
   "source": []
  },
  {
   "cell_type": "code",
   "execution_count": 32,
   "id": "e4e7a2b2",
   "metadata": {
    "execution": {
     "iopub.execute_input": "2022-03-30T23:41:33.914064Z",
     "iopub.status.busy": "2022-03-30T23:41:33.913182Z",
     "iopub.status.idle": "2022-03-30T23:41:33.917800Z",
     "shell.execute_reply": "2022-03-30T23:41:33.918400Z",
     "shell.execute_reply.started": "2022-03-27T14:43:24.140623Z"
    },
    "papermill": {
     "duration": 0.076902,
     "end_time": "2022-03-30T23:41:33.918628",
     "exception": false,
     "start_time": "2022-03-30T23:41:33.841726",
     "status": "completed"
    },
    "tags": []
   },
   "outputs": [
    {
     "data": {
      "text/plain": [
       "0.902"
      ]
     },
     "execution_count": 32,
     "metadata": {},
     "output_type": "execute_result"
    }
   ],
   "source": [
    ".902"
   ]
  },
  {
   "cell_type": "code",
   "execution_count": null,
   "id": "58236ea7",
   "metadata": {
    "papermill": {
     "duration": 0.065951,
     "end_time": "2022-03-30T23:41:34.049136",
     "exception": false,
     "start_time": "2022-03-30T23:41:33.983185",
     "status": "completed"
    },
    "tags": []
   },
   "outputs": [],
   "source": []
  }
 ],
 "metadata": {
  "kernelspec": {
   "display_name": "Python 3",
   "language": "python",
   "name": "python3"
  },
  "language_info": {
   "codemirror_mode": {
    "name": "ipython",
    "version": 3
   },
   "file_extension": ".py",
   "mimetype": "text/x-python",
   "name": "python",
   "nbconvert_exporter": "python",
   "pygments_lexer": "ipython3",
   "version": "3.7.12"
  },
  "papermill": {
   "default_parameters": {},
   "duration": 2075.537877,
   "end_time": "2022-03-30T23:41:36.887390",
   "environment_variables": {},
   "exception": null,
   "input_path": "__notebook__.ipynb",
   "output_path": "__notebook__.ipynb",
   "parameters": {},
   "start_time": "2022-03-30T23:07:01.349513",
   "version": "2.3.3"
  }
 },
 "nbformat": 4,
 "nbformat_minor": 5
}
