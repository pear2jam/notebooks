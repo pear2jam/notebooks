{
 "cells": [
  {
   "cell_type": "code",
   "execution_count": 1,
   "id": "92adda02",
   "metadata": {
    "_cell_guid": "b1076dfc-b9ad-4769-8c92-a6c4dae69d19",
    "_uuid": "8f2839f25d086af736a60e9eeb907d3b93b6e0e5",
    "execution": {
     "iopub.execute_input": "2022-04-17T14:06:26.955199Z",
     "iopub.status.busy": "2022-04-17T14:06:26.953703Z",
     "iopub.status.idle": "2022-04-17T14:06:28.678252Z",
     "shell.execute_reply": "2022-04-17T14:06:28.677671Z",
     "shell.execute_reply.started": "2022-04-16T16:41:03.365194Z"
    },
    "papermill": {
     "duration": 1.753812,
     "end_time": "2022-04-17T14:06:28.678404",
     "exception": false,
     "start_time": "2022-04-17T14:06:26.924592",
     "status": "completed"
    },
    "tags": []
   },
   "outputs": [],
   "source": [
    "import numpy as np\n",
    "import pandas as pd\n",
    "import matplotlib.pyplot as plt\n",
    "%matplotlib inline\n",
    "import seaborn as sns\n",
    "import torch"
   ]
  },
  {
   "cell_type": "code",
   "execution_count": 2,
   "id": "5fc210ad",
   "metadata": {
    "execution": {
     "iopub.execute_input": "2022-04-17T14:06:28.731130Z",
     "iopub.status.busy": "2022-04-17T14:06:28.729418Z",
     "iopub.status.idle": "2022-04-17T14:06:28.733399Z",
     "shell.execute_reply": "2022-04-17T14:06:28.733014Z",
     "shell.execute_reply.started": "2022-04-16T16:41:05.611564Z"
    },
    "papermill": {
     "duration": 0.030071,
     "end_time": "2022-04-17T14:06:28.733515",
     "exception": false,
     "start_time": "2022-04-17T14:06:28.703444",
     "status": "completed"
    },
    "tags": []
   },
   "outputs": [],
   "source": [
    "data_types_dict = {\n",
    "    'time_id': 'int32',\n",
    "    'investment_id': 'int16',\n",
    "    \"target\": 'float16',\n",
    "}\n",
    "\n",
    "features = [f'f_{i}' for i in range(300)]\n",
    "\n",
    "for f in features:\n",
    "    data_types_dict[f] = 'float16'"
   ]
  },
  {
   "cell_type": "code",
   "execution_count": 3,
   "id": "873633e5",
   "metadata": {
    "execution": {
     "iopub.execute_input": "2022-04-17T14:06:28.784084Z",
     "iopub.status.busy": "2022-04-17T14:06:28.781384Z",
     "iopub.status.idle": "2022-04-17T14:06:28.803814Z",
     "shell.execute_reply": "2022-04-17T14:06:28.804217Z",
     "shell.execute_reply.started": "2022-04-16T16:41:05.61848Z"
    },
    "papermill": {
     "duration": 0.047829,
     "end_time": "2022-04-17T14:06:28.804334",
     "exception": false,
     "start_time": "2022-04-17T14:06:28.756505",
     "status": "completed"
    },
    "tags": []
   },
   "outputs": [],
   "source": [
    "data = pd.read_csv('../input/ubiquant-market-prediction/train.csv', \n",
    "                       usecols = data_types_dict.keys(),\n",
    "                       dtype=data_types_dict,\n",
    "                       index_col = 0, chunksize = 3141410) #3141410"
   ]
  },
  {
   "cell_type": "code",
   "execution_count": 4,
   "id": "44c4b0a8",
   "metadata": {
    "execution": {
     "iopub.execute_input": "2022-04-17T14:06:28.855553Z",
     "iopub.status.busy": "2022-04-17T14:06:28.855077Z",
     "iopub.status.idle": "2022-04-17T14:12:43.709887Z",
     "shell.execute_reply": "2022-04-17T14:12:43.708963Z",
     "shell.execute_reply.started": "2022-04-16T16:41:06.707683Z"
    },
    "papermill": {
     "duration": 374.882226,
     "end_time": "2022-04-17T14:12:43.710037",
     "exception": false,
     "start_time": "2022-04-17T14:06:28.827811",
     "status": "completed"
    },
    "tags": []
   },
   "outputs": [
    {
     "name": "stderr",
     "output_type": "stream",
     "text": [
      "/opt/conda/lib/python3.7/site-packages/numpy/lib/arraysetops.py:583: FutureWarning: elementwise comparison failed; returning scalar instead, but in the future will perform elementwise comparison\n",
      "  mask |= (ar1 == a)\n"
     ]
    }
   ],
   "source": [
    "data = next(iter(data))"
   ]
  },
  {
   "cell_type": "code",
   "execution_count": 5,
   "id": "ab98373a",
   "metadata": {
    "execution": {
     "iopub.execute_input": "2022-04-17T14:12:43.781381Z",
     "iopub.status.busy": "2022-04-17T14:12:43.780215Z",
     "iopub.status.idle": "2022-04-17T14:12:47.401483Z",
     "shell.execute_reply": "2022-04-17T14:12:47.401023Z"
    },
    "papermill": {
     "duration": 3.664947,
     "end_time": "2022-04-17T14:12:47.401640",
     "exception": false,
     "start_time": "2022-04-17T14:12:43.736693",
     "status": "completed"
    },
    "tags": []
   },
   "outputs": [],
   "source": [
    "target = data['target']\n",
    "data.drop(['target'], inplace=True, axis=1)"
   ]
  },
  {
   "cell_type": "code",
   "execution_count": 6,
   "id": "7a06ac0c",
   "metadata": {
    "execution": {
     "iopub.execute_input": "2022-04-17T14:12:47.454857Z",
     "iopub.status.busy": "2022-04-17T14:12:47.454132Z",
     "iopub.status.idle": "2022-04-17T14:12:47.456216Z",
     "shell.execute_reply": "2022-04-17T14:12:47.456586Z",
     "shell.execute_reply.started": "2022-04-16T16:42:29.374882Z"
    },
    "papermill": {
     "duration": 0.030331,
     "end_time": "2022-04-17T14:12:47.456733",
     "exception": false,
     "start_time": "2022-04-17T14:12:47.426402",
     "status": "completed"
    },
    "tags": []
   },
   "outputs": [],
   "source": [
    "from scipy.stats import pearsonr \n",
    "def est_score(model):\n",
    "    y_pred = model.predict(X_test)\n",
    "    return pearsonr(y_pred, y_test)[0]"
   ]
  },
  {
   "cell_type": "code",
   "execution_count": 7,
   "id": "9ecc0ca2",
   "metadata": {
    "execution": {
     "iopub.execute_input": "2022-04-17T14:12:47.590107Z",
     "iopub.status.busy": "2022-04-17T14:12:47.589358Z",
     "iopub.status.idle": "2022-04-17T14:12:47.591789Z",
     "shell.execute_reply": "2022-04-17T14:12:47.591258Z",
     "shell.execute_reply.started": "2022-04-16T16:42:29.433698Z"
    },
    "papermill": {
     "duration": 0.111054,
     "end_time": "2022-04-17T14:12:47.591899",
     "exception": false,
     "start_time": "2022-04-17T14:12:47.480845",
     "status": "completed"
    },
    "tags": []
   },
   "outputs": [],
   "source": [
    "device = torch.device('cuda') if torch.cuda.is_available() else torch.device('cpu')\n",
    "\n",
    "def move_to(data, device):\n",
    "    \"\"\"\n",
    "    moving data to device\n",
    "    :param data: data to move\n",
    "    :param device: device\n",
    "    :return: moved data\n",
    "    \"\"\"\n",
    "\n",
    "    if isinstance(data, (list, tuple)):\n",
    "        return [move_to(x, device) for x in data]\n",
    "    return data.to(device, non_blocking=True)"
   ]
  },
  {
   "cell_type": "code",
   "execution_count": 8,
   "id": "699ff4f9",
   "metadata": {
    "execution": {
     "iopub.execute_input": "2022-04-17T14:12:47.644469Z",
     "iopub.status.busy": "2022-04-17T14:12:47.643740Z",
     "iopub.status.idle": "2022-04-17T14:12:47.646222Z",
     "shell.execute_reply": "2022-04-17T14:12:47.645803Z",
     "shell.execute_reply.started": "2022-04-16T16:42:29.51752Z"
    },
    "papermill": {
     "duration": 0.030907,
     "end_time": "2022-04-17T14:12:47.646321",
     "exception": false,
     "start_time": "2022-04-17T14:12:47.615414",
     "status": "completed"
    },
    "tags": []
   },
   "outputs": [],
   "source": [
    "def batch_loader(X, y, batch_size = 4096, equal=False):\n",
    "    i = 0\n",
    "    while True:\n",
    "        if i + batch_size >= y.shape[0]: \n",
    "            break\n",
    "            \n",
    "        yield X.iloc[i:i+batch_size, :], y[i:i+batch_size]\n",
    "        i += batch_size"
   ]
  },
  {
   "cell_type": "code",
   "execution_count": 9,
   "id": "4dbc4676",
   "metadata": {
    "execution": {
     "iopub.execute_input": "2022-04-17T14:12:47.698860Z",
     "iopub.status.busy": "2022-04-17T14:12:47.697896Z",
     "iopub.status.idle": "2022-04-17T14:12:47.699828Z",
     "shell.execute_reply": "2022-04-17T14:12:47.700209Z",
     "shell.execute_reply.started": "2022-04-16T16:42:29.525827Z"
    },
    "papermill": {
     "duration": 0.030468,
     "end_time": "2022-04-17T14:12:47.700328",
     "exception": false,
     "start_time": "2022-04-17T14:12:47.669860",
     "status": "completed"
    },
    "tags": []
   },
   "outputs": [],
   "source": [
    "def pearson_loss(x, y):\n",
    "    vx = x - torch.mean(x)\n",
    "    vy = y - torch.mean(y)\n",
    "    loss = -torch.sum(vx*vy) / (torch.sqrt(torch.sum(vx*vx)) * torch.sqrt(torch.sum(vy*vy)))\n",
    "    return loss"
   ]
  },
  {
   "cell_type": "code",
   "execution_count": 10,
   "id": "7b721818",
   "metadata": {
    "execution": {
     "iopub.execute_input": "2022-04-17T14:12:47.752563Z",
     "iopub.status.busy": "2022-04-17T14:12:47.751861Z",
     "iopub.status.idle": "2022-04-17T14:12:47.753860Z",
     "shell.execute_reply": "2022-04-17T14:12:47.754226Z",
     "shell.execute_reply.started": "2022-04-16T16:42:29.538344Z"
    },
    "papermill": {
     "duration": 0.030679,
     "end_time": "2022-04-17T14:12:47.754342",
     "exception": false,
     "start_time": "2022-04-17T14:12:47.723663",
     "status": "completed"
    },
    "tags": []
   },
   "outputs": [],
   "source": [
    "def reduce_matching(a):\n",
    "    a = a[0].tolist()\n",
    "    ids = list(set(a))\n",
    "    ids_dict = {}\n",
    "    for i in range(len(ids)):\n",
    "        ids_dict[ids[i]] = i\n",
    "\n",
    "    for i in range(len(a)):\n",
    "        a[i] = ids_dict[a[i]]\n",
    "    return move_to(torch.FloatTensor(a).view(-1, 1), device)"
   ]
  },
  {
   "cell_type": "code",
   "execution_count": 11,
   "id": "01bb47ab",
   "metadata": {
    "execution": {
     "iopub.execute_input": "2022-04-17T14:12:47.806141Z",
     "iopub.status.busy": "2022-04-17T14:12:47.805391Z",
     "iopub.status.idle": "2022-04-17T14:12:47.807318Z",
     "shell.execute_reply": "2022-04-17T14:12:47.807708Z",
     "shell.execute_reply.started": "2022-04-16T16:42:29.548316Z"
    },
    "papermill": {
     "duration": 0.029443,
     "end_time": "2022-04-17T14:12:47.807828",
     "exception": false,
     "start_time": "2022-04-17T14:12:47.778385",
     "status": "completed"
    },
    "tags": []
   },
   "outputs": [],
   "source": [
    "def standard(a):\n",
    "    a -= a.mean()\n",
    "    a /= a.std()\n",
    "    return a"
   ]
  },
  {
   "cell_type": "code",
   "execution_count": 12,
   "id": "283550c4",
   "metadata": {
    "execution": {
     "iopub.execute_input": "2022-04-17T14:12:47.868513Z",
     "iopub.status.busy": "2022-04-17T14:12:47.867748Z",
     "iopub.status.idle": "2022-04-17T14:12:47.869688Z",
     "shell.execute_reply": "2022-04-17T14:12:47.870078Z",
     "shell.execute_reply.started": "2022-04-16T16:46:15.428371Z"
    },
    "papermill": {
     "duration": 0.038243,
     "end_time": "2022-04-17T14:12:47.870187",
     "exception": false,
     "start_time": "2022-04-17T14:12:47.831944",
     "status": "completed"
    },
    "tags": []
   },
   "outputs": [],
   "source": [
    "class DNN_Model(torch.nn.Module):\n",
    "    def __init__(self, deep_size):\n",
    "        super().__init__()\n",
    "        self.deep_size = deep_size\n",
    "        self.index = 0\n",
    "        self.model_name = 'DNN_Model_0'\n",
    "        self.linear_1 = torch.nn.Linear(300, deep_size)\n",
    "        self.linear_2 = torch.nn.Linear(deep_size, deep_size)\n",
    "        self.linear_3 = torch.nn.Linear(deep_size+64, 128)\n",
    "        self.linear_4 = torch.nn.Linear(128, 128)\n",
    "        self.linear_5 = torch.nn.Linear(128, 64)\n",
    "        self.linear_6 = torch.nn.Linear(64, 1)\n",
    "        \n",
    "        self.id_linear_1 = torch.nn.Linear(1, 16)\n",
    "        self.id_linear_2 = torch.nn.Linear(16, 32)\n",
    "        self.id_linear_3 = torch.nn.Linear(32, 64)\n",
    "        \n",
    "        self.dout = torch.nn.Dropout(p=0.5)\n",
    "        self.act = torch.nn.SiLU()\n",
    "    \n",
    "    def tensor_forward(self, X_tensor):\n",
    "        X_tensor = move_to(X_tensor, device)\n",
    "        ids = X_tensor[:, 0].view(1, -1)\n",
    "        X_tensor = X_tensor[:, 1:]\n",
    "        \n",
    "        ids = standard(reduce_matching(ids))\n",
    "        \n",
    "        ids = self.act(self.id_linear_1(ids))\n",
    "        ids = self.act(self.id_linear_2(ids))\n",
    "        ids = self.act(self.id_linear_3(ids))\n",
    "        \n",
    "        tensor_X = self.act(self.linear_1(X_tensor))\n",
    "        tensor_X = self.act(self.linear_2(tensor_X))\n",
    "        \n",
    "        tensor_X = torch.cat([tensor_X, ids], axis=1)\n",
    "        \n",
    "        tensor_X = self.act(self.linear_3(tensor_X))\n",
    "        tensor_X = self.dout(tensor_X)\n",
    "        tensor_X = self.act(self.linear_4(tensor_X))\n",
    "        tensor_X = self.act(self.linear_5(tensor_X))\n",
    "        tensor_X = self.linear_6(tensor_X)\n",
    "        return tensor_X \n",
    "\n",
    "    def forward(self, X):\n",
    "        tensor_X = torch.FloatTensor(X.values)\n",
    "        return self.tensor_forward(tensor_X)"
   ]
  },
  {
   "cell_type": "code",
   "execution_count": 13,
   "id": "2f3eb272",
   "metadata": {
    "execution": {
     "iopub.execute_input": "2022-04-17T14:12:47.929110Z",
     "iopub.status.busy": "2022-04-17T14:12:47.928365Z",
     "iopub.status.idle": "2022-04-17T14:12:47.930627Z",
     "shell.execute_reply": "2022-04-17T14:12:47.930204Z",
     "shell.execute_reply.started": "2022-04-16T16:42:29.575012Z"
    },
    "papermill": {
     "duration": 0.037201,
     "end_time": "2022-04-17T14:12:47.930736",
     "exception": false,
     "start_time": "2022-04-17T14:12:47.893535",
     "status": "completed"
    },
    "tags": []
   },
   "outputs": [],
   "source": [
    "class DNN_Model_1(torch.nn.Module):\n",
    "    def __init__(self, deep_size):\n",
    "        super().__init__()\n",
    "        self.deep_size = deep_size\n",
    "        self.index = 1\n",
    "        self.model = torch.nn.Sequential(\n",
    "            torch.nn.Linear(300, deep_size),\n",
    "            torch.nn.SiLU(),\n",
    "            torch.nn.Linear(deep_size, deep_size),\n",
    "            torch.nn.SiLU(),\n",
    "            torch.nn.Dropout(p=0.3),\n",
    "            \n",
    "            torch.nn.Linear(deep_size, deep_size),\n",
    "            torch.nn.SiLU(),\n",
    "            torch.nn.Linear(deep_size, deep_size),\n",
    "            torch.nn.SiLU(),\n",
    "            torch.nn.Dropout(p=0.3),\n",
    "            \n",
    "            torch.nn.Linear(deep_size, deep_size),\n",
    "            torch.nn.SiLU(),\n",
    "            torch.nn.Linear(deep_size, deep_size),\n",
    "            torch.nn.SiLU(),\n",
    "            torch.nn.Dropout(p=0.3),\n",
    "            \n",
    "            torch.nn.Linear(deep_size, deep_size),\n",
    "            torch.nn.SiLU(),\n",
    "            torch.nn.Linear(deep_size, deep_size),\n",
    "            torch.nn.SiLU(),\n",
    "            torch.nn.Dropout(p=0.3),\n",
    "            \n",
    "            torch.nn.Linear(deep_size, deep_size),\n",
    "            torch.nn.SiLU(),\n",
    "            torch.nn.Linear(deep_size, deep_size),\n",
    "            torch.nn.SiLU(),\n",
    "            torch.nn.Dropout(p=0.3),\n",
    "            \n",
    "            torch.nn.Linear(deep_size, deep_size),\n",
    "            torch.nn.SiLU(),\n",
    "            torch.nn.Dropout(p=0.3),\n",
    "            \n",
    "            torch.nn.Linear(deep_size, deep_size),\n",
    "            torch.nn.SiLU(),\n",
    "            torch.nn.Linear(deep_size, 1)\n",
    "        )\n",
    "        \n",
    "        self.model_name = 'DNN_Model_1'\n",
    "        \n",
    "                \n",
    "    def tensor_forward(self, X_tensor):\n",
    "        X_tensor = move_to(X_tensor, device)\n",
    "        X_tensor = X_tensor[:, 1:]\n",
    "        return self.model(X_tensor)\n",
    "\n",
    "    def forward(self, X):\n",
    "        tensor_X = torch.FloatTensor(X.values)\n",
    "        return self.tensor_forward(tensor_X)"
   ]
  },
  {
   "cell_type": "code",
   "execution_count": 14,
   "id": "426244aa",
   "metadata": {
    "execution": {
     "iopub.execute_input": "2022-04-17T14:12:47.992569Z",
     "iopub.status.busy": "2022-04-17T14:12:47.990156Z",
     "iopub.status.idle": "2022-04-17T14:12:47.995539Z",
     "shell.execute_reply": "2022-04-17T14:12:47.995132Z",
     "shell.execute_reply.started": "2022-04-16T16:42:29.590869Z"
    },
    "papermill": {
     "duration": 0.041487,
     "end_time": "2022-04-17T14:12:47.995660",
     "exception": false,
     "start_time": "2022-04-17T14:12:47.954173",
     "status": "completed"
    },
    "tags": []
   },
   "outputs": [],
   "source": [
    "class DNN_Model_2(torch.nn.Module):\n",
    "    def __init__(self, deep_size):\n",
    "        super().__init__()\n",
    "        self.deep_size = deep_size\n",
    "        self.index = 2\n",
    "        self.model_name = 'DNN_Model_2'\n",
    "        self.linear_1 = torch.nn.Linear(300, deep_size)\n",
    "        self.linear_2 = torch.nn.Linear(deep_size, 350)\n",
    "        self.linear_3 = torch.nn.Linear(350, deep_size)\n",
    "        self.linear_4 = torch.nn.Linear(deep_size+64, 256)\n",
    "        self.linear_5 = torch.nn.Linear(256, 256)\n",
    "        self.linear_6 = torch.nn.Linear(256, 128)\n",
    "        self.linear_7 = torch.nn.Linear(128, 128)\n",
    "        self.linear_8 = torch.nn.Linear(128, 64)\n",
    "        self.linear_9 = torch.nn.Linear(64, 1)\n",
    "        \n",
    "        self.id_linear_1 = torch.nn.Linear(1, 32)\n",
    "        self.id_linear_2 = torch.nn.Linear(32, 64)\n",
    "        self.id_linear_3 = torch.nn.Linear(64, 100)\n",
    "        self.id_linear_4 = torch.nn.Linear(100, 64)\n",
    "        self.id_linear_5 = torch.nn.Linear(64, 64)\n",
    "        \n",
    "        self.dout = torch.nn.Dropout(p=0.4)\n",
    "        self.act = torch.nn.SiLU()\n",
    "    \n",
    "    def tensor_forward(self, X_tensor):\n",
    "        X_tensor = move_to(X_tensor, device)\n",
    "        ids = X_tensor[:, 0].view(1, -1)\n",
    "        X_tensor = X_tensor[:, 1:]\n",
    "        \n",
    "        ids = standard(reduce_matching(ids))\n",
    "        \n",
    "        ids = self.act(self.id_linear_1(ids))\n",
    "        ids = self.act(self.id_linear_2(ids))\n",
    "        ids = self.act(self.id_linear_3(ids))\n",
    "        ids = self.dout(ids)\n",
    "        ids = self.act(self.id_linear_4(ids))\n",
    "        ids = self.act(self.id_linear_5(ids))\n",
    "        \n",
    "        tensor_X = self.act(self.linear_1(X_tensor))\n",
    "        tensor_X = self.act(self.linear_2(tensor_X))\n",
    "        tensor_X = self.dout(tensor_X)\n",
    "        tensor_X = self.act(self.linear_3(tensor_X))\n",
    "        \n",
    "        tensor_X = torch.cat([tensor_X, ids], axis=1)\n",
    "        \n",
    "        tensor_X = self.act(self.linear_4(tensor_X))\n",
    "        tensor_X = self.act(self.linear_5(tensor_X))\n",
    "        tensor_X = self.dout(tensor_X)\n",
    "        tensor_X_6 = self.act(self.linear_6(tensor_X))\n",
    "        tensor_X = self.act(self.linear_7(tensor_X_6))\n",
    "        tensor_X = self.act(self.linear_8(tensor_X + tensor_X_6))\n",
    "        tensor_X = self.linear_9(tensor_X)\n",
    "        return tensor_X \n",
    "\n",
    "    def forward(self, X):\n",
    "        tensor_X = torch.FloatTensor(X.values)\n",
    "        return self.tensor_forward(tensor_X)"
   ]
  },
  {
   "cell_type": "code",
   "execution_count": 15,
   "id": "35da02d8",
   "metadata": {
    "execution": {
     "iopub.execute_input": "2022-04-17T14:12:48.059358Z",
     "iopub.status.busy": "2022-04-17T14:12:48.051146Z",
     "iopub.status.idle": "2022-04-17T14:12:48.061535Z",
     "shell.execute_reply": "2022-04-17T14:12:48.061113Z",
     "shell.execute_reply.started": "2022-04-16T16:42:29.610383Z"
    },
    "papermill": {
     "duration": 0.042137,
     "end_time": "2022-04-17T14:12:48.061664",
     "exception": false,
     "start_time": "2022-04-17T14:12:48.019527",
     "status": "completed"
    },
    "tags": []
   },
   "outputs": [],
   "source": [
    "class DNN_Model_3(torch.nn.Module):\n",
    "    def __init__(self, deep_size):\n",
    "        super().__init__()\n",
    "        self.deep_size = deep_size\n",
    "        self.index = 3\n",
    "        self.linear1 = torch.nn.Linear(300, deep_size)\n",
    "        \n",
    "        self.linear2_1 = torch.nn.Linear(deep_size, deep_size)\n",
    "        self.linear2_2 = torch.nn.Linear(deep_size, deep_size)\n",
    "        self.linear2_3 = torch.nn.Linear(deep_size, deep_size)\n",
    "        \n",
    "        self.linear3_1 = torch.nn.Linear(deep_size, deep_size)\n",
    "        self.linear3_2 = torch.nn.Linear(deep_size, deep_size)\n",
    "        self.linear3_3 = torch.nn.Linear(deep_size, deep_size)\n",
    "        \n",
    "        self.linear4_1 = torch.nn.Linear(deep_size, deep_size)\n",
    "        self.linear4_2 = torch.nn.Linear(deep_size, deep_size)\n",
    "        self.linear4_3 = torch.nn.Linear(deep_size, deep_size)\n",
    "        \n",
    "        self.linear5_1 = torch.nn.Linear(deep_size, deep_size)\n",
    "        self.linear5_2 = torch.nn.Linear(deep_size, deep_size)\n",
    "        self.linear5_3 = torch.nn.Linear(deep_size, deep_size)\n",
    "        \n",
    "        self.linear6_1 = torch.nn.Linear(deep_size, deep_size)\n",
    "        self.linear6_2 = torch.nn.Linear(deep_size, 1)\n",
    "        \n",
    "        self.act = torch.nn.SiLU()\n",
    "        self.dout = torch.nn.Dropout(p=0.5)\n",
    "        \n",
    "        self.model_name = 'DNN_Model_3'\n",
    "\n",
    "                \n",
    "    def tensor_forward(self, X_tensor):\n",
    "        X_tensor = move_to(X_tensor, device)\n",
    "        X_tensor = X_tensor[:, 1:]\n",
    "        X_tensor = self.act(self.linear1(X_tensor))\n",
    "        \n",
    "        X_tensor = self.act(self.linear2_1(X_tensor))\n",
    "        X_tensor = self.act(self.linear2_2(X_tensor))\n",
    "        X_tensor = self.dout(X_tensor)\n",
    "        res_2 = self.act(self.linear2_3(X_tensor))\n",
    "        \n",
    "        X_tensor = self.act(self.linear3_1(res_2))\n",
    "        X_tensor = self.act(self.linear3_2(X_tensor))\n",
    "        X_tensor = self.dout(X_tensor)\n",
    "        res_3 = self.act(self.linear3_3(X_tensor))\n",
    "        \n",
    "        X_tensor = self.act(self.linear4_1(res_2 + res_3))\n",
    "        X_tensor = self.act(self.linear4_2(X_tensor))\n",
    "        X_tensor = self.dout(X_tensor)\n",
    "        res_4 = self.act(self.linear4_3(X_tensor))\n",
    "        \n",
    "        res_4 = X_tensor\n",
    "\n",
    "        X_tensor = self.act(self.linear5_1(res_3 + res_4))\n",
    "        X_tensor = self.act(self.linear5_2(X_tensor))\n",
    "        X_tensor = self.dout(X_tensor)\n",
    "        X_tensor = self.act(self.linear5_3(X_tensor))\n",
    "        \n",
    "        X_tensor = self.act(self.linear6_1(X_tensor + res_4))\n",
    "        X_tensor = self.linear6_2(X_tensor)\n",
    "        \n",
    "        return X_tensor\n",
    "        \n",
    "\n",
    "    def forward(self, X):\n",
    "        tensor_X = torch.FloatTensor(X.values)\n",
    "        return self.tensor_forward(tensor_X)"
   ]
  },
  {
   "cell_type": "code",
   "execution_count": 16,
   "id": "4a0e87cb",
   "metadata": {
    "execution": {
     "iopub.execute_input": "2022-04-17T14:12:48.120071Z",
     "iopub.status.busy": "2022-04-17T14:12:48.119332Z",
     "iopub.status.idle": "2022-04-17T14:12:48.121113Z",
     "shell.execute_reply": "2022-04-17T14:12:48.121889Z",
     "shell.execute_reply.started": "2022-04-16T16:42:29.630361Z"
    },
    "papermill": {
     "duration": 0.036483,
     "end_time": "2022-04-17T14:12:48.122025",
     "exception": false,
     "start_time": "2022-04-17T14:12:48.085542",
     "status": "completed"
    },
    "tags": []
   },
   "outputs": [],
   "source": [
    "class DNN_Model_4(torch.nn.Module):\n",
    "    def __init__(self, deep_size):\n",
    "        super().__init__()\n",
    "        self.deep_size = deep_size\n",
    "        self.index = 4\n",
    "        act_1 = torch.nn.SiLU\n",
    "        self.model = self.model = torch.nn.Sequential(\n",
    "            torch.nn.Linear(300, deep_size),\n",
    "            act_1(),\n",
    "            torch.nn.Linear(deep_size, deep_size),\n",
    "            act_1(),\n",
    "            torch.nn.Linear(deep_size, 2*deep_size),\n",
    "            act_1(),\n",
    "            torch.nn.Linear(2*deep_size, 2*deep_size),\n",
    "            \n",
    "            torch.nn.Dropout(p=0.4),\n",
    "            \n",
    "            torch.nn.Linear(2*deep_size, 2*deep_size),\n",
    "            act_1(),\n",
    "            torch.nn.Linear(2*deep_size, 2*deep_size),\n",
    "            act_1(),\n",
    "            torch.nn.Linear(2*deep_size, deep_size),\n",
    "            act_1(),\n",
    "            \n",
    "            torch.nn.Dropout(p=0.4),\n",
    "            \n",
    "            torch.nn.Linear(deep_size, deep_size),\n",
    "            act_1(),\n",
    "            torch.nn.Linear(deep_size, deep_size),\n",
    "            act_1(),\n",
    "            torch.nn.Linear(deep_size, 1)\n",
    "            \n",
    "        )\n",
    "        \n",
    "        self.model_name = 'DNN_Model_4'\n",
    "        \n",
    "                \n",
    "    def tensor_forward(self, X_tensor):\n",
    "        X_tensor = move_to(X_tensor, device)\n",
    "        X_tensor = X_tensor[:, 1:]\n",
    "        return self.model(X_tensor)\n",
    "\n",
    "    def forward(self, X):\n",
    "        tensor_X = torch.FloatTensor(X.values)\n",
    "        return self.tensor_forward(tensor_X)"
   ]
  },
  {
   "cell_type": "code",
   "execution_count": 17,
   "id": "363505c9",
   "metadata": {
    "execution": {
     "iopub.execute_input": "2022-04-17T14:12:48.172811Z",
     "iopub.status.busy": "2022-04-17T14:12:48.172209Z",
     "iopub.status.idle": "2022-04-17T14:12:48.174898Z",
     "shell.execute_reply": "2022-04-17T14:12:48.174448Z",
     "shell.execute_reply.started": "2022-04-16T16:42:29.643266Z"
    },
    "papermill": {
     "duration": 0.029336,
     "end_time": "2022-04-17T14:12:48.175024",
     "exception": false,
     "start_time": "2022-04-17T14:12:48.145688",
     "status": "completed"
    },
    "tags": []
   },
   "outputs": [],
   "source": [
    "dnn_models = [DNN_Model, DNN_Model_1, DNN_Model_2, DNN_Model_3, DNN_Model_4]"
   ]
  },
  {
   "cell_type": "code",
   "execution_count": 18,
   "id": "ad99fa94",
   "metadata": {
    "execution": {
     "iopub.execute_input": "2022-04-17T14:12:48.227972Z",
     "iopub.status.busy": "2022-04-17T14:12:48.227307Z",
     "iopub.status.idle": "2022-04-17T14:12:48.229794Z",
     "shell.execute_reply": "2022-04-17T14:12:48.229336Z",
     "shell.execute_reply.started": "2022-04-16T16:42:29.663057Z"
    },
    "papermill": {
     "duration": 0.031032,
     "end_time": "2022-04-17T14:12:48.229898",
     "exception": false,
     "start_time": "2022-04-17T14:12:48.198866",
     "status": "completed"
    },
    "tags": []
   },
   "outputs": [],
   "source": [
    "def corr_based_coefs(a):\n",
    "    if a.shape[0] < 2:\n",
    "        return np.array([1])\n",
    "    preds_sum = np.sum(a, axis=0)\n",
    "    corrs = np.array([pearsonr( (preds_sum-a[i])/(a.shape[0]-1), a[i])[0] for i in range(a.shape[0])])\n",
    "    corrs = 1 - corrs\n",
    "    corrs /= np.sum(corrs)\n",
    "    return corrs"
   ]
  },
  {
   "cell_type": "code",
   "execution_count": 19,
   "id": "e2870217",
   "metadata": {
    "execution": {
     "iopub.execute_input": "2022-04-17T14:12:48.303261Z",
     "iopub.status.busy": "2022-04-17T14:12:48.295423Z",
     "iopub.status.idle": "2022-04-17T14:12:48.305168Z",
     "shell.execute_reply": "2022-04-17T14:12:48.305548Z",
     "shell.execute_reply.started": "2022-04-16T20:48:37.303144Z"
    },
    "papermill": {
     "duration": 0.052554,
     "end_time": "2022-04-17T14:12:48.305696",
     "exception": false,
     "start_time": "2022-04-17T14:12:48.253142",
     "status": "completed"
    },
    "tags": []
   },
   "outputs": [],
   "source": [
    "class StackedDNN:\n",
    "    def __init__(self, n, model, min_deep=30, max_deep=40):\n",
    "        self.nets = [model(np.random.randint(min_deep, max_deep)) for i in range(n)]\n",
    "        self.model_name = self.nets[0].model_name\n",
    "        for net in self.nets:\n",
    "            net = move_to(net, device)\n",
    "    \n",
    "    def fit(self, X, y, iters, batch_size=4096, subset=1, float_subset=True, silent=True, logs=True, plot=False, val=False, X_val=None, y_val=None):\n",
    "        \n",
    "        if val:\n",
    "            tensor_train_val = move_to(torch.FloatTensor(X_val.values), device)\n",
    "            tensor_y_val = move_to(torch.FloatTensor(y_val.values), device)\n",
    "            \n",
    "        if logs and silent:\n",
    "            print(f'Net {self.nets[0].model_name}')\n",
    "            \n",
    "        for i in range(len(self.nets)):\n",
    "    \n",
    "            scores_train = []\n",
    "            scores_val = []\n",
    "        \n",
    "            if val:\n",
    "                tensor_train_val = move_to(torch.FloatTensor(X_val.values).clone(), device)\n",
    "                tensor_y_val = move_to(torch.FloatTensor(y_val.values), device)\n",
    "            scores_train = []\n",
    "            scores_val = []\n",
    "\n",
    "            opt = torch.optim.Adam(self.nets[i].parameters(), lr=5e-4)\n",
    "\n",
    "            if float_subset:\n",
    "                subset_ind = np.random.uniform(subset, 1)\n",
    "\n",
    "            subset_ind = np.random.choice(batch_size, int(batch_size*subset))\n",
    "            \n",
    "            if not silent:\n",
    "                print(f'>>> Net {i + 1}/{len(self.nets)}')\n",
    "                print(f'Deep size: {self.nets[i].deep_size}')\n",
    "                print()\n",
    "                \n",
    "                \n",
    "            for epoch in range(iters):\n",
    "                offset = 0\n",
    "                #learning cycle\n",
    "                while offset + batch_size < y.shape[0]: \n",
    "                    self.nets[i].train()\n",
    "                    self.nets[i].zero_grad()\n",
    "                    X_tensor = move_to(torch.FloatTensor(X.iloc[offset:offset+batch_size, :].values), device)\n",
    "                    y_tensor = move_to(torch.FloatTensor(y[offset:offset+batch_size].values), device)\n",
    "                    X_tensor = X_tensor[subset_ind,:]\n",
    "                    y_tensor = y_tensor[subset_ind]\n",
    "                    \n",
    "                    loss = pearson_loss(self.nets[i].tensor_forward(X_tensor).view(-1), y_tensor)\n",
    "                    loss.backward()\n",
    "                    opt.step()\n",
    "                    offset += batch_size\n",
    "\n",
    "                #prints\n",
    "                if val:\n",
    "                    self.nets[i].eval()\n",
    "                    val_loss = pearson_loss(self.nets[i].tensor_forward(tensor_train_val).view(-1), tensor_y_val)\n",
    "                    scores_val.append(float(val_loss.detach()))\n",
    "                scores_train.append(float(loss.detach()))\n",
    "\n",
    "                if not silent:\n",
    "                    print(f'epoch {epoch} finished with {loss} loss')\n",
    "                    if val:\n",
    "                        print(f'val loss {val_loss}')\n",
    "                \n",
    "            if logs and silent:\n",
    "                print(f'Net {i+1}/{len(self.nets)} fitted')\n",
    "                \n",
    "            if not silent:\n",
    "                if val:\n",
    "                    print(f'Finished with \\n train loss: {loss}\\n val loss: {val_loss}')\n",
    "                else:\n",
    "                    print(f'Finished with {loss} loss')\n",
    "            if plot:\n",
    "                if val:\n",
    "                    sns.lineplot(x=range(iters), y=scores_train, label='train')\n",
    "                    sns.lineplot(x=range(iters), y=scores_val, label='val')\n",
    "                else:\n",
    "                    sns.lineplot(scores_train)\n",
    "                plt.plot()\n",
    "\n",
    "        \n",
    "    def predict(self, X):\n",
    "        y_pred = np.ndarray([len(self.nets), X.shape[0]])\n",
    "        for i in range(len(self.nets)):\n",
    "            self.nets[i].eval()\n",
    "            y_pred[i] = np.array(self.nets[i].forward(X).detach().view(-1).cpu())\n",
    "        y_pred = corr_based_coefs(y_pred).dot(y_pred)\n",
    "        return y_pred\n",
    "    \n",
    "    def save(self):\n",
    "        import os\n",
    "        try:\n",
    "            os.mkdir(f'./{self.model_name}')\n",
    "        except:\n",
    "            pass\n",
    "        with open(f'./{self.model_name}/config.txt', 'w') as f:\n",
    "            f.write(str(self.nets[0].index) + '\\n')\n",
    "            for i in range(len(self.nets)):\n",
    "                torch.save(self.nets[i].state_dict(), f'./{self.model_name}/model:{i}')\n",
    "                f.write(str(self.nets[i].deep_size) + '\\n')\n",
    "\n",
    "    \n",
    "                       \n",
    "    def load(self):\n",
    "        with open(f'../input/ubiquantdevelop/{self.model_name}/config.txt', 'r') as f:\n",
    "            dnn_model = dnn_models[int(f.readline())]\n",
    "            \n",
    "            for i in range(len(self.nets)):\n",
    "                self.nets[i] = dnn_model(int(f.readline()))\n",
    "                self.nets[i].load_state_dict(torch.load(f'../input/ubiquantdevelop/{self.model_name}/model:{i}', map_location=torch.device('cpu')))\n",
    "                self.nets[i] = move_to(self.nets[i], device)"
   ]
  },
  {
   "cell_type": "markdown",
   "id": "05e28a7b",
   "metadata": {
    "papermill": {
     "duration": 0.024816,
     "end_time": "2022-04-17T14:12:48.354657",
     "exception": false,
     "start_time": "2022-04-17T14:12:48.329841",
     "status": "completed"
    },
    "tags": []
   },
   "source": [
    "#написать ноутбук как меняется необходимое количество эпох в завимисимости от размера выбранной части выборки\n",
    "#то есть для подвыборки лучшее качетство получается на n итерациях, как дело обстоит если увеличивать выборку\n",
    "#лучше взять датасет для регресии и поменьше\n",
    "#можно взять несколько датасетов"
   ]
  },
  {
   "cell_type": "code",
   "execution_count": 20,
   "id": "d0124834",
   "metadata": {
    "execution": {
     "iopub.execute_input": "2022-04-17T14:12:48.411400Z",
     "iopub.status.busy": "2022-04-17T14:12:48.410898Z",
     "iopub.status.idle": "2022-04-17T14:36:12.904364Z",
     "shell.execute_reply": "2022-04-17T14:36:12.904868Z",
     "shell.execute_reply.started": "2022-04-16T16:46:21.262517Z"
    },
    "papermill": {
     "duration": 1404.526021,
     "end_time": "2022-04-17T14:36:12.905029",
     "exception": false,
     "start_time": "2022-04-17T14:12:48.379008",
     "status": "completed"
    },
    "tags": []
   },
   "outputs": [
    {
     "name": "stdout",
     "output_type": "stream",
     "text": [
      "Net DNN_Model_0\n",
      "Net 1/25 fitted\n",
      "Net 2/25 fitted\n",
      "Net 3/25 fitted\n",
      "Net 4/25 fitted\n",
      "Net 5/25 fitted\n",
      "Net 6/25 fitted\n",
      "Net 7/25 fitted\n",
      "Net 8/25 fitted\n",
      "Net 9/25 fitted\n",
      "Net 10/25 fitted\n",
      "Net 11/25 fitted\n",
      "Net 12/25 fitted\n",
      "Net 13/25 fitted\n",
      "Net 14/25 fitted\n",
      "Net 15/25 fitted\n",
      "Net 16/25 fitted\n",
      "Net 17/25 fitted\n",
      "Net 18/25 fitted\n",
      "Net 19/25 fitted\n",
      "Net 20/25 fitted\n",
      "Net 21/25 fitted\n",
      "Net 22/25 fitted\n",
      "Net 23/25 fitted\n",
      "Net 24/25 fitted\n",
      "Net 25/25 fitted\n"
     ]
    }
   ],
   "source": [
    "nn_model = StackedDNN(25, DNN_Model, min_deep=260, max_deep=289)\n",
    "nn_model.fit(data, target, 8, subset=0.85, batch_size=int(1.5*4096))\n",
    "nn_model.save()"
   ]
  },
  {
   "cell_type": "code",
   "execution_count": 21,
   "id": "6a75dbcf",
   "metadata": {
    "execution": {
     "iopub.execute_input": "2022-04-17T14:36:12.976097Z",
     "iopub.status.busy": "2022-04-17T14:36:12.975292Z",
     "iopub.status.idle": "2022-04-17T14:58:20.008807Z",
     "shell.execute_reply": "2022-04-17T14:58:20.009217Z",
     "shell.execute_reply.started": "2022-04-15T22:40:04.924506Z"
    },
    "papermill": {
     "duration": 1327.071132,
     "end_time": "2022-04-17T14:58:20.009369",
     "exception": false,
     "start_time": "2022-04-17T14:36:12.938237",
     "status": "completed"
    },
    "tags": []
   },
   "outputs": [
    {
     "name": "stdout",
     "output_type": "stream",
     "text": [
      "Net DNN_Model_1\n",
      "Net 1/25 fitted\n",
      "Net 2/25 fitted\n",
      "Net 3/25 fitted\n",
      "Net 4/25 fitted\n",
      "Net 5/25 fitted\n",
      "Net 6/25 fitted\n",
      "Net 7/25 fitted\n",
      "Net 8/25 fitted\n",
      "Net 9/25 fitted\n",
      "Net 10/25 fitted\n",
      "Net 11/25 fitted\n",
      "Net 12/25 fitted\n",
      "Net 13/25 fitted\n",
      "Net 14/25 fitted\n",
      "Net 15/25 fitted\n",
      "Net 16/25 fitted\n",
      "Net 17/25 fitted\n",
      "Net 18/25 fitted\n",
      "Net 19/25 fitted\n",
      "Net 20/25 fitted\n",
      "Net 21/25 fitted\n",
      "Net 22/25 fitted\n",
      "Net 23/25 fitted\n",
      "Net 24/25 fitted\n",
      "Net 25/25 fitted\n"
     ]
    }
   ],
   "source": [
    "nn_model_1 = StackedDNN(25, DNN_Model_1, min_deep=40, max_deep=41)\n",
    "nn_model_1.fit(data, target, 8, subset=0.85, batch_size=int(1.5*4096))\n",
    "nn_model_1.save()"
   ]
  },
  {
   "cell_type": "code",
   "execution_count": 22,
   "id": "7fa5d2cb",
   "metadata": {
    "execution": {
     "iopub.execute_input": "2022-04-17T14:58:20.092485Z",
     "iopub.status.busy": "2022-04-17T14:58:20.091764Z",
     "iopub.status.idle": "2022-04-17T15:24:38.631345Z",
     "shell.execute_reply": "2022-04-17T15:24:38.631784Z",
     "shell.execute_reply.started": "2022-04-16T16:47:54.163475Z"
    },
    "papermill": {
     "duration": 1578.582952,
     "end_time": "2022-04-17T15:24:38.631939",
     "exception": false,
     "start_time": "2022-04-17T14:58:20.048987",
     "status": "completed"
    },
    "tags": []
   },
   "outputs": [
    {
     "name": "stdout",
     "output_type": "stream",
     "text": [
      "Net DNN_Model_2\n",
      "Net 1/25 fitted\n",
      "Net 2/25 fitted\n",
      "Net 3/25 fitted\n",
      "Net 4/25 fitted\n",
      "Net 5/25 fitted\n",
      "Net 6/25 fitted\n",
      "Net 7/25 fitted\n",
      "Net 8/25 fitted\n",
      "Net 9/25 fitted\n",
      "Net 10/25 fitted\n",
      "Net 11/25 fitted\n",
      "Net 12/25 fitted\n",
      "Net 13/25 fitted\n",
      "Net 14/25 fitted\n",
      "Net 15/25 fitted\n",
      "Net 16/25 fitted\n",
      "Net 17/25 fitted\n",
      "Net 18/25 fitted\n",
      "Net 19/25 fitted\n",
      "Net 20/25 fitted\n",
      "Net 21/25 fitted\n",
      "Net 22/25 fitted\n",
      "Net 23/25 fitted\n",
      "Net 24/25 fitted\n",
      "Net 25/25 fitted\n"
     ]
    }
   ],
   "source": [
    "nn_model_2 = StackedDNN(25, DNN_Model_2, min_deep=220, max_deep=250)\n",
    "nn_model_2.fit(data, target, 8, subset=0.85, batch_size=int(1.5*4096))\n",
    "nn_model_2.save()"
   ]
  },
  {
   "cell_type": "code",
   "execution_count": 23,
   "id": "17d5994c",
   "metadata": {
    "execution": {
     "iopub.execute_input": "2022-04-17T15:24:38.730715Z",
     "iopub.status.busy": "2022-04-17T15:24:38.729940Z",
     "iopub.status.idle": "2022-04-17T15:47:18.878174Z",
     "shell.execute_reply": "2022-04-17T15:47:18.878597Z",
     "shell.execute_reply.started": "2022-04-15T22:32:54.77661Z"
    },
    "papermill": {
     "duration": 1360.199784,
     "end_time": "2022-04-17T15:47:18.878787",
     "exception": false,
     "start_time": "2022-04-17T15:24:38.679003",
     "status": "completed"
    },
    "tags": []
   },
   "outputs": [
    {
     "name": "stdout",
     "output_type": "stream",
     "text": [
      "Net DNN_Model_3\n",
      "Net 1/25 fitted\n",
      "Net 2/25 fitted\n",
      "Net 3/25 fitted\n",
      "Net 4/25 fitted\n",
      "Net 5/25 fitted\n",
      "Net 6/25 fitted\n",
      "Net 7/25 fitted\n",
      "Net 8/25 fitted\n",
      "Net 9/25 fitted\n",
      "Net 10/25 fitted\n",
      "Net 11/25 fitted\n",
      "Net 12/25 fitted\n",
      "Net 13/25 fitted\n",
      "Net 14/25 fitted\n",
      "Net 15/25 fitted\n",
      "Net 16/25 fitted\n",
      "Net 17/25 fitted\n",
      "Net 18/25 fitted\n",
      "Net 19/25 fitted\n",
      "Net 20/25 fitted\n",
      "Net 21/25 fitted\n",
      "Net 22/25 fitted\n",
      "Net 23/25 fitted\n",
      "Net 24/25 fitted\n",
      "Net 25/25 fitted\n"
     ]
    }
   ],
   "source": [
    "nn_model_3 = StackedDNN(25, DNN_Model_3, min_deep=90, max_deep=110)\n",
    "nn_model_3.fit(data, target, 8, subset=0.85, batch_size=int(1.5*4096))\n",
    "nn_model_3.save()"
   ]
  },
  {
   "cell_type": "code",
   "execution_count": 24,
   "id": "d4c9b426",
   "metadata": {
    "execution": {
     "iopub.execute_input": "2022-04-17T15:47:18.992483Z",
     "iopub.status.busy": "2022-04-17T15:47:18.991712Z",
     "iopub.status.idle": "2022-04-17T16:07:16.974827Z",
     "shell.execute_reply": "2022-04-17T16:07:16.975514Z",
     "shell.execute_reply.started": "2022-04-15T22:35:29.171316Z"
    },
    "papermill": {
     "duration": 1198.042538,
     "end_time": "2022-04-17T16:07:16.975744",
     "exception": false,
     "start_time": "2022-04-17T15:47:18.933206",
     "status": "completed"
    },
    "tags": []
   },
   "outputs": [
    {
     "name": "stdout",
     "output_type": "stream",
     "text": [
      "Net DNN_Model_4\n",
      "Net 1/25 fitted\n",
      "Net 2/25 fitted\n",
      "Net 3/25 fitted\n",
      "Net 4/25 fitted\n",
      "Net 5/25 fitted\n",
      "Net 6/25 fitted\n",
      "Net 7/25 fitted\n",
      "Net 8/25 fitted\n",
      "Net 9/25 fitted\n",
      "Net 10/25 fitted\n",
      "Net 11/25 fitted\n",
      "Net 12/25 fitted\n",
      "Net 13/25 fitted\n",
      "Net 14/25 fitted\n",
      "Net 15/25 fitted\n",
      "Net 16/25 fitted\n",
      "Net 17/25 fitted\n",
      "Net 18/25 fitted\n",
      "Net 19/25 fitted\n",
      "Net 20/25 fitted\n",
      "Net 21/25 fitted\n",
      "Net 22/25 fitted\n",
      "Net 23/25 fitted\n",
      "Net 24/25 fitted\n",
      "Net 25/25 fitted\n"
     ]
    }
   ],
   "source": [
    "nn_model_4 = StackedDNN(25, DNN_Model_4, min_deep=90, max_deep=110)\n",
    "nn_model_4.fit(data, target, 8, subset=0.85, batch_size=int(1.5*4096))\n",
    "nn_model_4.save()"
   ]
  },
  {
   "cell_type": "code",
   "execution_count": 25,
   "id": "7f07d589",
   "metadata": {
    "execution": {
     "iopub.execute_input": "2022-04-17T16:07:17.222523Z",
     "iopub.status.busy": "2022-04-17T16:07:17.217259Z",
     "iopub.status.idle": "2022-04-17T16:23:22.114448Z",
     "shell.execute_reply": "2022-04-17T16:23:22.115531Z",
     "shell.execute_reply.started": "2022-04-12T22:24:12.142396Z"
    },
    "papermill": {
     "duration": 965.024063,
     "end_time": "2022-04-17T16:23:22.115751",
     "exception": false,
     "start_time": "2022-04-17T16:07:17.091688",
     "status": "completed"
    },
    "tags": []
   },
   "outputs": [],
   "source": [
    "from catboost import CatBoostRegressor\n",
    "model = CatBoostRegressor(iterations=10000, task_type='GPU', devices='0', silent=True, subsample=0.9, bootstrap_type='Poisson').fit(data, target)"
   ]
  },
  {
   "cell_type": "code",
   "execution_count": 26,
   "id": "35e0781a",
   "metadata": {
    "execution": {
     "iopub.execute_input": "2022-04-17T16:23:22.375663Z",
     "iopub.status.busy": "2022-04-17T16:23:22.374931Z",
     "iopub.status.idle": "2022-04-17T16:23:22.377054Z",
     "shell.execute_reply": "2022-04-17T16:23:22.377860Z",
     "shell.execute_reply.started": "2022-04-12T22:27:21.594066Z"
    },
    "papermill": {
     "duration": 0.168932,
     "end_time": "2022-04-17T16:23:22.378044",
     "exception": false,
     "start_time": "2022-04-17T16:23:22.209112",
     "status": "completed"
    },
    "tags": []
   },
   "outputs": [],
   "source": [
    "model.save_model(\"cat_model\")"
   ]
  }
 ],
 "metadata": {
  "kernelspec": {
   "display_name": "Python 3",
   "language": "python",
   "name": "python3"
  },
  "language_info": {
   "codemirror_mode": {
    "name": "ipython",
    "version": 3
   },
   "file_extension": ".py",
   "mimetype": "text/x-python",
   "name": "python",
   "nbconvert_exporter": "python",
   "pygments_lexer": "ipython3",
   "version": "3.7.12"
  },
  "papermill": {
   "default_parameters": {},
   "duration": 8225.125289,
   "end_time": "2022-04-17T16:23:24.098933",
   "environment_variables": {},
   "exception": null,
   "input_path": "__notebook__.ipynb",
   "output_path": "__notebook__.ipynb",
   "parameters": {},
   "start_time": "2022-04-17T14:06:18.973644",
   "version": "2.3.3"
  }
 },
 "nbformat": 4,
 "nbformat_minor": 5
}
