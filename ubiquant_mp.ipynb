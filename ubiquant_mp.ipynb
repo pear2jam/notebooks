{
 "cells": [
  {
   "cell_type": "code",
   "execution_count": 1,
   "id": "19acb1e9",
   "metadata": {
    "_cell_guid": "b1076dfc-b9ad-4769-8c92-a6c4dae69d19",
    "_uuid": "8f2839f25d086af736a60e9eeb907d3b93b6e0e5",
    "execution": {
     "iopub.execute_input": "2022-04-16T17:32:09.192853Z",
     "iopub.status.busy": "2022-04-16T17:32:09.191373Z",
     "iopub.status.idle": "2022-04-16T17:32:11.269102Z",
     "shell.execute_reply": "2022-04-16T17:32:11.269803Z",
     "shell.execute_reply.started": "2022-04-16T16:41:03.365194Z"
    },
    "papermill": {
     "duration": 2.124085,
     "end_time": "2022-04-16T17:32:11.270146",
     "exception": false,
     "start_time": "2022-04-16T17:32:09.146061",
     "status": "completed"
    },
    "tags": []
   },
   "outputs": [],
   "source": [
    "import numpy as np\n",
    "import pandas as pd\n",
    "import matplotlib.pyplot as plt\n",
    "%matplotlib inline\n",
    "import seaborn as sns\n",
    "import torch"
   ]
  },
  {
   "cell_type": "code",
   "execution_count": 2,
   "id": "c03cd6cb",
   "metadata": {
    "execution": {
     "iopub.execute_input": "2022-04-16T17:32:11.423378Z",
     "iopub.status.busy": "2022-04-16T17:32:11.422574Z",
     "iopub.status.idle": "2022-04-16T17:32:11.424694Z",
     "shell.execute_reply": "2022-04-16T17:32:11.424067Z",
     "shell.execute_reply.started": "2022-04-16T16:41:05.611564Z"
    },
    "papermill": {
     "duration": 0.073664,
     "end_time": "2022-04-16T17:32:11.424838",
     "exception": false,
     "start_time": "2022-04-16T17:32:11.351174",
     "status": "completed"
    },
    "tags": []
   },
   "outputs": [],
   "source": [
    "data_types_dict = {\n",
    "    'time_id': 'int32',\n",
    "    'investment_id': 'int16',\n",
    "    \"target\": 'float16',\n",
    "}\n",
    "\n",
    "features = [f'f_{i}' for i in range(300)]\n",
    "\n",
    "for f in features:\n",
    "    data_types_dict[f] = 'float16'"
   ]
  },
  {
   "cell_type": "code",
   "execution_count": 3,
   "id": "344cd38e",
   "metadata": {
    "execution": {
     "iopub.execute_input": "2022-04-16T17:32:11.564282Z",
     "iopub.status.busy": "2022-04-16T17:32:11.563388Z",
     "iopub.status.idle": "2022-04-16T17:32:11.588133Z",
     "shell.execute_reply": "2022-04-16T17:32:11.589378Z",
     "shell.execute_reply.started": "2022-04-16T16:41:05.61848Z"
    },
    "papermill": {
     "duration": 0.099012,
     "end_time": "2022-04-16T17:32:11.589578",
     "exception": false,
     "start_time": "2022-04-16T17:32:11.490566",
     "status": "completed"
    },
    "tags": []
   },
   "outputs": [],
   "source": [
    "data = pd.read_csv('../input/ubiquant-market-prediction/train.csv', \n",
    "                       usecols = data_types_dict.keys(),\n",
    "                       dtype=data_types_dict,\n",
    "                       index_col = 0, chunksize = 3141410) #3141410"
   ]
  },
  {
   "cell_type": "code",
   "execution_count": 4,
   "id": "d6e32ef3",
   "metadata": {
    "execution": {
     "iopub.execute_input": "2022-04-16T17:32:11.730864Z",
     "iopub.status.busy": "2022-04-16T17:32:11.730031Z",
     "iopub.status.idle": "2022-04-16T17:38:27.444402Z",
     "shell.execute_reply": "2022-04-16T17:38:27.443861Z",
     "shell.execute_reply.started": "2022-04-16T16:41:06.707683Z"
    },
    "papermill": {
     "duration": 375.79111,
     "end_time": "2022-04-16T17:38:27.444568",
     "exception": false,
     "start_time": "2022-04-16T17:32:11.653458",
     "status": "completed"
    },
    "tags": []
   },
   "outputs": [
    {
     "name": "stderr",
     "output_type": "stream",
     "text": [
      "/opt/conda/lib/python3.7/site-packages/numpy/lib/arraysetops.py:583: FutureWarning: elementwise comparison failed; returning scalar instead, but in the future will perform elementwise comparison\n",
      "  mask |= (ar1 == a)\n"
     ]
    }
   ],
   "source": [
    "data = next(iter(data))"
   ]
  },
  {
   "cell_type": "code",
   "execution_count": 5,
   "id": "29025e85",
   "metadata": {
    "execution": {
     "iopub.execute_input": "2022-04-16T17:38:27.542331Z",
     "iopub.status.busy": "2022-04-16T17:38:27.541545Z",
     "iopub.status.idle": "2022-04-16T17:38:27.544873Z",
     "shell.execute_reply": "2022-04-16T17:38:27.545284Z",
     "shell.execute_reply.started": "2022-04-16T16:42:58.345905Z"
    },
    "papermill": {
     "duration": 0.053666,
     "end_time": "2022-04-16T17:38:27.545408",
     "exception": false,
     "start_time": "2022-04-16T17:38:27.491742",
     "status": "completed"
    },
    "tags": []
   },
   "outputs": [
    {
     "data": {
      "text/plain": [
       "\"\\ntime_id = 270 #40\\nX_train = data.loc[:time_id-1,]\\nX_test = data.loc[time_id:,]\\nprint(X_train.shape[0], X_test.shape[0])\\n\\ny_train = X_train['target']\\nX_train.drop(['target'], inplace=True, axis=1)\\n\\ny_test = X_test['target']\\nX_test.drop(['target'], inplace=True, axis=1)\\nprint(y_train.shape[0], y_test.shape[0])\\nprint(y_test.shape[0]/y_train.shape[0])\\n\""
      ]
     },
     "execution_count": 5,
     "metadata": {},
     "output_type": "execute_result"
    }
   ],
   "source": [
    "\"\"\"\n",
    "time_id = 270 #40\n",
    "X_train = data.loc[:time_id-1,]\n",
    "X_test = data.loc[time_id:,]\n",
    "print(X_train.shape[0], X_test.shape[0])\n",
    "\n",
    "y_train = X_train['target']\n",
    "X_train.drop(['target'], inplace=True, axis=1)\n",
    "\n",
    "y_test = X_test['target']\n",
    "X_test.drop(['target'], inplace=True, axis=1)\n",
    "print(y_train.shape[0], y_test.shape[0])\n",
    "print(y_test.shape[0]/y_train.shape[0])\n",
    "\"\"\""
   ]
  },
  {
   "cell_type": "code",
   "execution_count": 6,
   "id": "8b115fd5",
   "metadata": {
    "execution": {
     "iopub.execute_input": "2022-04-16T17:38:27.646603Z",
     "iopub.status.busy": "2022-04-16T17:38:27.645794Z",
     "iopub.status.idle": "2022-04-16T17:38:31.075659Z",
     "shell.execute_reply": "2022-04-16T17:38:31.075182Z"
    },
    "papermill": {
     "duration": 3.488057,
     "end_time": "2022-04-16T17:38:31.075802",
     "exception": false,
     "start_time": "2022-04-16T17:38:27.587745",
     "status": "completed"
    },
    "tags": []
   },
   "outputs": [],
   "source": [
    "target = data['target']\n",
    "#data.drop(['target', 'investment_id'], inplace=True, axis=1)\n",
    "data.drop(['target'], inplace=True, axis=1)"
   ]
  },
  {
   "cell_type": "code",
   "execution_count": 7,
   "id": "0dddc7b0",
   "metadata": {
    "execution": {
     "iopub.execute_input": "2022-04-16T17:38:31.162849Z",
     "iopub.status.busy": "2022-04-16T17:38:31.161339Z",
     "iopub.status.idle": "2022-04-16T17:38:31.163487Z",
     "shell.execute_reply": "2022-04-16T17:38:31.163908Z",
     "shell.execute_reply.started": "2022-04-16T16:42:29.374882Z"
    },
    "papermill": {
     "duration": 0.047619,
     "end_time": "2022-04-16T17:38:31.164040",
     "exception": false,
     "start_time": "2022-04-16T17:38:31.116421",
     "status": "completed"
    },
    "tags": []
   },
   "outputs": [],
   "source": [
    "from scipy.stats import pearsonr \n",
    "def est_score(model):\n",
    "    y_pred = model.predict(X_test)\n",
    "    return pearsonr(y_pred, y_test)[0]"
   ]
  },
  {
   "cell_type": "code",
   "execution_count": 8,
   "id": "e6d54208",
   "metadata": {
    "execution": {
     "iopub.execute_input": "2022-04-16T17:38:31.249080Z",
     "iopub.status.busy": "2022-04-16T17:38:31.247512Z",
     "iopub.status.idle": "2022-04-16T17:38:31.249658Z",
     "shell.execute_reply": "2022-04-16T17:38:31.250055Z",
     "shell.execute_reply.started": "2022-04-16T16:42:29.387248Z"
    },
    "papermill": {
     "duration": 0.045906,
     "end_time": "2022-04-16T17:38:31.250169",
     "exception": false,
     "start_time": "2022-04-16T17:38:31.204263",
     "status": "completed"
    },
    "tags": []
   },
   "outputs": [],
   "source": [
    "#from sklearn.model_selection import train_test_split\n",
    "#X_train, X_test, y_train, y_test = train_test_split(data, data['target'], test_size=0.1, stratify=data.index)\n",
    "\n",
    "#id_train = X_train['investment_id']\n",
    "#id_test = X_test['investment_id']\n",
    "\n",
    "#X_train.drop(['target', 'investment_id'], inplace=True, axis=1)\n",
    "#X_test.drop(['target', 'investment_id'], inplace=True, axis=1)"
   ]
  },
  {
   "cell_type": "code",
   "execution_count": 9,
   "id": "3962d303",
   "metadata": {
    "execution": {
     "iopub.execute_input": "2022-04-16T17:38:31.336237Z",
     "iopub.status.busy": "2022-04-16T17:38:31.334718Z",
     "iopub.status.idle": "2022-04-16T17:38:31.336830Z",
     "shell.execute_reply": "2022-04-16T17:38:31.337232Z",
     "shell.execute_reply.started": "2022-04-16T16:42:29.394808Z"
    },
    "papermill": {
     "duration": 0.046671,
     "end_time": "2022-04-16T17:38:31.337353",
     "exception": false,
     "start_time": "2022-04-16T17:38:31.290682",
     "status": "completed"
    },
    "tags": []
   },
   "outputs": [],
   "source": [
    "#id_train.isna().sum()"
   ]
  },
  {
   "cell_type": "code",
   "execution_count": 10,
   "id": "2ff0f590",
   "metadata": {
    "execution": {
     "iopub.execute_input": "2022-04-16T17:38:31.422799Z",
     "iopub.status.busy": "2022-04-16T17:38:31.422040Z",
     "iopub.status.idle": "2022-04-16T17:38:31.424033Z",
     "shell.execute_reply": "2022-04-16T17:38:31.424393Z",
     "shell.execute_reply.started": "2022-04-16T16:42:29.403678Z"
    },
    "papermill": {
     "duration": 0.046395,
     "end_time": "2022-04-16T17:38:31.424522",
     "exception": false,
     "start_time": "2022-04-16T17:38:31.378127",
     "status": "completed"
    },
    "tags": []
   },
   "outputs": [],
   "source": [
    "#del data"
   ]
  },
  {
   "cell_type": "code",
   "execution_count": 11,
   "id": "992d7957",
   "metadata": {
    "execution": {
     "iopub.execute_input": "2022-04-16T17:38:31.508509Z",
     "iopub.status.busy": "2022-04-16T17:38:31.508033Z",
     "iopub.status.idle": "2022-04-16T17:38:31.511843Z",
     "shell.execute_reply": "2022-04-16T17:38:31.511382Z",
     "shell.execute_reply.started": "2022-04-16T16:42:29.413014Z"
    },
    "papermill": {
     "duration": 0.047125,
     "end_time": "2022-04-16T17:38:31.511954",
     "exception": false,
     "start_time": "2022-04-16T17:38:31.464829",
     "status": "completed"
    },
    "tags": []
   },
   "outputs": [],
   "source": [
    "#from sklearn.linear_model import LinearRegression\n",
    "#reg_model = LinearRegression(copy_X=False).fit(X_train, y_train)"
   ]
  },
  {
   "cell_type": "code",
   "execution_count": 12,
   "id": "de774ac6",
   "metadata": {
    "execution": {
     "iopub.execute_input": "2022-04-16T17:38:31.596547Z",
     "iopub.status.busy": "2022-04-16T17:38:31.595878Z",
     "iopub.status.idle": "2022-04-16T17:38:31.598301Z",
     "shell.execute_reply": "2022-04-16T17:38:31.597916Z",
     "shell.execute_reply.started": "2022-04-16T16:42:29.42198Z"
    },
    "papermill": {
     "duration": 0.045732,
     "end_time": "2022-04-16T17:38:31.598403",
     "exception": false,
     "start_time": "2022-04-16T17:38:31.552671",
     "status": "completed"
    },
    "tags": []
   },
   "outputs": [],
   "source": [
    "#est_score(reg_model)"
   ]
  },
  {
   "cell_type": "code",
   "execution_count": 13,
   "id": "48496b9f",
   "metadata": {
    "execution": {
     "iopub.execute_input": "2022-04-16T17:38:31.776984Z",
     "iopub.status.busy": "2022-04-16T17:38:31.776113Z",
     "iopub.status.idle": "2022-04-16T17:38:31.780035Z",
     "shell.execute_reply": "2022-04-16T17:38:31.779624Z",
     "shell.execute_reply.started": "2022-04-16T16:42:29.433698Z"
    },
    "papermill": {
     "duration": 0.141668,
     "end_time": "2022-04-16T17:38:31.780145",
     "exception": false,
     "start_time": "2022-04-16T17:38:31.638477",
     "status": "completed"
    },
    "tags": []
   },
   "outputs": [],
   "source": [
    "device = torch.device('cuda') if torch.cuda.is_available() else torch.device('cpu')\n",
    "\n",
    "def move_to(data, device):\n",
    "    \"\"\"\n",
    "    moving data to device\n",
    "    :param data: data to move\n",
    "    :param device: device\n",
    "    :return: moved data\n",
    "    \"\"\"\n",
    "\n",
    "    if isinstance(data, (list, tuple)):\n",
    "        return [move_to(x, device) for x in data]\n",
    "    return data.to(device, non_blocking=True)"
   ]
  },
  {
   "cell_type": "code",
   "execution_count": 14,
   "id": "9ab2aa6d",
   "metadata": {
    "execution": {
     "iopub.execute_input": "2022-04-16T17:38:31.864004Z",
     "iopub.status.busy": "2022-04-16T17:38:31.863239Z",
     "iopub.status.idle": "2022-04-16T17:38:31.868770Z",
     "shell.execute_reply": "2022-04-16T17:38:31.868303Z",
     "shell.execute_reply.started": "2022-04-16T16:42:29.51752Z"
    },
    "papermill": {
     "duration": 0.048249,
     "end_time": "2022-04-16T17:38:31.868880",
     "exception": false,
     "start_time": "2022-04-16T17:38:31.820631",
     "status": "completed"
    },
    "tags": []
   },
   "outputs": [],
   "source": [
    "def batch_loader(X, y, batch_size = 4096, equal=False):\n",
    "    i = 0\n",
    "    while True:\n",
    "        if i + batch_size >= y.shape[0]: \n",
    "            break\n",
    "            \n",
    "        yield X.iloc[i:i+batch_size, :], y[i:i+batch_size]\n",
    "        i += batch_size"
   ]
  },
  {
   "cell_type": "code",
   "execution_count": 15,
   "id": "88cccc13",
   "metadata": {
    "execution": {
     "iopub.execute_input": "2022-04-16T17:38:31.959867Z",
     "iopub.status.busy": "2022-04-16T17:38:31.959038Z",
     "iopub.status.idle": "2022-04-16T17:38:31.961474Z",
     "shell.execute_reply": "2022-04-16T17:38:31.961032Z",
     "shell.execute_reply.started": "2022-04-16T16:42:29.525827Z"
    },
    "papermill": {
     "duration": 0.051722,
     "end_time": "2022-04-16T17:38:31.961580",
     "exception": false,
     "start_time": "2022-04-16T17:38:31.909858",
     "status": "completed"
    },
    "tags": []
   },
   "outputs": [],
   "source": [
    "def pearson_loss(x, y):\n",
    "    vx = x - torch.mean(x)\n",
    "    vy = y - torch.mean(y)\n",
    "    loss = -torch.sum(vx*vy) / (torch.sqrt(torch.sum(vx*vx)) * torch.sqrt(torch.sum(vy*vy)))\n",
    "    return loss"
   ]
  },
  {
   "cell_type": "code",
   "execution_count": 16,
   "id": "40cbff8c",
   "metadata": {
    "execution": {
     "iopub.execute_input": "2022-04-16T17:38:32.059453Z",
     "iopub.status.busy": "2022-04-16T17:38:32.058586Z",
     "iopub.status.idle": "2022-04-16T17:38:32.060744Z",
     "shell.execute_reply": "2022-04-16T17:38:32.061162Z",
     "shell.execute_reply.started": "2022-04-16T16:42:29.538344Z"
    },
    "papermill": {
     "duration": 0.054574,
     "end_time": "2022-04-16T17:38:32.061299",
     "exception": false,
     "start_time": "2022-04-16T17:38:32.006725",
     "status": "completed"
    },
    "tags": []
   },
   "outputs": [],
   "source": [
    "def reduce_matching(a):\n",
    "    a = a[0].tolist()\n",
    "    ids = list(set(a))\n",
    "    ids_dict = {}\n",
    "    for i in range(len(ids)):\n",
    "        ids_dict[ids[i]] = i\n",
    "\n",
    "    for i in range(len(a)):\n",
    "        a[i] = ids_dict[a[i]]\n",
    "    return move_to(torch.FloatTensor(a).view(-1, 1), device)"
   ]
  },
  {
   "cell_type": "code",
   "execution_count": 17,
   "id": "77a30728",
   "metadata": {
    "execution": {
     "iopub.execute_input": "2022-04-16T17:38:32.155627Z",
     "iopub.status.busy": "2022-04-16T17:38:32.155102Z",
     "iopub.status.idle": "2022-04-16T17:38:32.159108Z",
     "shell.execute_reply": "2022-04-16T17:38:32.158499Z",
     "shell.execute_reply.started": "2022-04-16T16:42:29.548316Z"
    },
    "papermill": {
     "duration": 0.052259,
     "end_time": "2022-04-16T17:38:32.159223",
     "exception": false,
     "start_time": "2022-04-16T17:38:32.106964",
     "status": "completed"
    },
    "tags": []
   },
   "outputs": [],
   "source": [
    "def standard(a):\n",
    "    a -= a.mean()\n",
    "    a /= a.std()\n",
    "    return a"
   ]
  },
  {
   "cell_type": "code",
   "execution_count": 18,
   "id": "d213e794",
   "metadata": {
    "execution": {
     "iopub.execute_input": "2022-04-16T17:38:32.260242Z",
     "iopub.status.busy": "2022-04-16T17:38:32.259424Z",
     "iopub.status.idle": "2022-04-16T17:38:32.262264Z",
     "shell.execute_reply": "2022-04-16T17:38:32.261789Z",
     "shell.execute_reply.started": "2022-04-16T16:46:15.428371Z"
    },
    "papermill": {
     "duration": 0.059264,
     "end_time": "2022-04-16T17:38:32.262375",
     "exception": false,
     "start_time": "2022-04-16T17:38:32.203111",
     "status": "completed"
    },
    "tags": []
   },
   "outputs": [],
   "source": [
    "class DNN_Model(torch.nn.Module):\n",
    "    def __init__(self, deep_size):\n",
    "        super().__init__()\n",
    "        self.deep_size = deep_size\n",
    "        self.index = 0\n",
    "        self.model_name = 'DNN_Model_0'\n",
    "        self.linear_1 = torch.nn.Linear(300, deep_size)\n",
    "        self.linear_2 = torch.nn.Linear(deep_size, deep_size)\n",
    "        self.linear_3 = torch.nn.Linear(deep_size+64, 128)\n",
    "        self.linear_4 = torch.nn.Linear(128, 128)\n",
    "        self.linear_5 = torch.nn.Linear(128, 64)\n",
    "        self.linear_6 = torch.nn.Linear(64, 1)\n",
    "        \n",
    "        self.id_linear_1 = torch.nn.Linear(1, 16)\n",
    "        self.id_linear_2 = torch.nn.Linear(16, 32)\n",
    "        self.id_linear_3 = torch.nn.Linear(32, 64)\n",
    "        \n",
    "        self.dout = torch.nn.Dropout(p=0.5)\n",
    "        self.act = torch.nn.SiLU()\n",
    "    \n",
    "    def tensor_forward(self, X_tensor):\n",
    "        X_tensor = move_to(X_tensor, device)\n",
    "        ids = X_tensor[:, 0].view(1, -1)\n",
    "        X_tensor = X_tensor[:, 1:]\n",
    "        \n",
    "        ids = standard(reduce_matching(ids))\n",
    "        \n",
    "        ids = self.act(self.id_linear_1(ids))\n",
    "        ids = self.act(self.id_linear_2(ids))\n",
    "        ids = self.act(self.id_linear_3(ids))\n",
    "        \n",
    "        tensor_X = self.act(self.linear_1(X_tensor))\n",
    "        tensor_X = self.act(self.linear_2(tensor_X))\n",
    "        \n",
    "        tensor_X = torch.cat([tensor_X, ids], axis=1)\n",
    "        \n",
    "        tensor_X = self.act(self.linear_3(tensor_X))\n",
    "        #tensor_X = self.dout(tensor_X)\n",
    "        tensor_X = self.act(self.linear_4(tensor_X))\n",
    "        tensor_X = self.act(self.linear_5(tensor_X))\n",
    "        tensor_X = self.linear_6(tensor_X)\n",
    "        return tensor_X \n",
    "\n",
    "    def forward(self, X):\n",
    "        tensor_X = torch.FloatTensor(X.values)\n",
    "        return self.tensor_forward(tensor_X)"
   ]
  },
  {
   "cell_type": "code",
   "execution_count": 19,
   "id": "7fcc9fd3",
   "metadata": {
    "execution": {
     "iopub.execute_input": "2022-04-16T17:38:32.365437Z",
     "iopub.status.busy": "2022-04-16T17:38:32.364639Z",
     "iopub.status.idle": "2022-04-16T17:38:32.366953Z",
     "shell.execute_reply": "2022-04-16T17:38:32.367362Z",
     "shell.execute_reply.started": "2022-04-16T16:42:29.575012Z"
    },
    "papermill": {
     "duration": 0.060406,
     "end_time": "2022-04-16T17:38:32.367495",
     "exception": false,
     "start_time": "2022-04-16T17:38:32.307089",
     "status": "completed"
    },
    "tags": []
   },
   "outputs": [],
   "source": [
    "class DNN_Model_1(torch.nn.Module):\n",
    "    def __init__(self, deep_size):\n",
    "        super().__init__()\n",
    "        self.deep_size = deep_size\n",
    "        self.index = 1\n",
    "        self.model = torch.nn.Sequential(\n",
    "            torch.nn.Linear(300, deep_size),\n",
    "            torch.nn.SiLU(),\n",
    "            torch.nn.Linear(deep_size, deep_size),\n",
    "            torch.nn.SiLU(),\n",
    "            torch.nn.Dropout(p=0.3),\n",
    "            \n",
    "            torch.nn.Linear(deep_size, deep_size),\n",
    "            torch.nn.SiLU(),\n",
    "            torch.nn.Linear(deep_size, deep_size),\n",
    "            torch.nn.SiLU(),\n",
    "            torch.nn.Dropout(p=0.3),\n",
    "            \n",
    "            torch.nn.Linear(deep_size, deep_size),\n",
    "            torch.nn.SiLU(),\n",
    "            torch.nn.Linear(deep_size, deep_size),\n",
    "            torch.nn.SiLU(),\n",
    "            torch.nn.Dropout(p=0.3),\n",
    "            \n",
    "            torch.nn.Linear(deep_size, deep_size),\n",
    "            torch.nn.SiLU(),\n",
    "            torch.nn.Linear(deep_size, deep_size),\n",
    "            torch.nn.SiLU(),\n",
    "            torch.nn.Dropout(p=0.3),\n",
    "            \n",
    "            torch.nn.Linear(deep_size, deep_size),\n",
    "            torch.nn.SiLU(),\n",
    "            torch.nn.Linear(deep_size, deep_size),\n",
    "            torch.nn.SiLU(),\n",
    "            torch.nn.Dropout(p=0.3),\n",
    "            \n",
    "            torch.nn.Linear(deep_size, deep_size),\n",
    "            torch.nn.SiLU(),\n",
    "            torch.nn.Dropout(p=0.3),\n",
    "            \n",
    "            torch.nn.Linear(deep_size, deep_size),\n",
    "            torch.nn.SiLU(),\n",
    "            torch.nn.Linear(deep_size, 1)\n",
    "        )\n",
    "        \n",
    "        self.model_name = 'DNN_Model_1'\n",
    "        \n",
    "                \n",
    "    def tensor_forward(self, X_tensor):\n",
    "        X_tensor = move_to(X_tensor, device)\n",
    "        X_tensor = X_tensor[:, 1:]\n",
    "        return self.model(X_tensor)\n",
    "\n",
    "    def forward(self, X):\n",
    "        tensor_X = torch.FloatTensor(X.values)\n",
    "        return self.tensor_forward(tensor_X)"
   ]
  },
  {
   "cell_type": "code",
   "execution_count": 20,
   "id": "5fe8b7b1",
   "metadata": {
    "execution": {
     "iopub.execute_input": "2022-04-16T17:38:32.471793Z",
     "iopub.status.busy": "2022-04-16T17:38:32.470903Z",
     "iopub.status.idle": "2022-04-16T17:38:32.473603Z",
     "shell.execute_reply": "2022-04-16T17:38:32.473171Z",
     "shell.execute_reply.started": "2022-04-16T16:42:29.590869Z"
    },
    "papermill": {
     "duration": 0.063383,
     "end_time": "2022-04-16T17:38:32.473738",
     "exception": false,
     "start_time": "2022-04-16T17:38:32.410355",
     "status": "completed"
    },
    "tags": []
   },
   "outputs": [],
   "source": [
    "class DNN_Model_2(torch.nn.Module):\n",
    "    def __init__(self, deep_size):\n",
    "        super().__init__()\n",
    "        self.deep_size = deep_size\n",
    "        self.index = 2\n",
    "        self.model_name = 'DNN_Model_2'\n",
    "        self.linear_1 = torch.nn.Linear(300, deep_size)\n",
    "        self.linear_2 = torch.nn.Linear(deep_size, 350)\n",
    "        self.linear_3 = torch.nn.Linear(350, deep_size)\n",
    "        self.linear_4 = torch.nn.Linear(deep_size+64, 256)\n",
    "        self.linear_5 = torch.nn.Linear(256, 256)\n",
    "        self.linear_6 = torch.nn.Linear(256, 128)\n",
    "        self.linear_7 = torch.nn.Linear(128, 128)\n",
    "        self.linear_8 = torch.nn.Linear(128, 64)\n",
    "        self.linear_9 = torch.nn.Linear(64, 1)\n",
    "        \n",
    "        self.id_linear_1 = torch.nn.Linear(1, 32)\n",
    "        self.id_linear_2 = torch.nn.Linear(32, 64)\n",
    "        self.id_linear_3 = torch.nn.Linear(64, 100)\n",
    "        self.id_linear_4 = torch.nn.Linear(100, 64)\n",
    "        self.id_linear_5 = torch.nn.Linear(64, 64)\n",
    "        \n",
    "        self.dout = torch.nn.Dropout(p=0.4)\n",
    "        self.act = torch.nn.SiLU()\n",
    "    \n",
    "    def tensor_forward(self, X_tensor):\n",
    "        X_tensor = move_to(X_tensor, device)\n",
    "        ids = X_tensor[:, 0].view(1, -1)\n",
    "        X_tensor = X_tensor[:, 1:]\n",
    "        \n",
    "        ids = standard(reduce_matching(ids))\n",
    "        \n",
    "        ids = self.act(self.id_linear_1(ids))\n",
    "        ids = self.act(self.id_linear_2(ids))\n",
    "        ids = self.act(self.id_linear_3(ids))\n",
    "        ids = self.dout(ids)\n",
    "        ids = self.act(self.id_linear_4(ids))\n",
    "        ids = self.act(self.id_linear_5(ids))\n",
    "        \n",
    "        tensor_X = self.act(self.linear_1(X_tensor))\n",
    "        tensor_X = self.act(self.linear_2(tensor_X))\n",
    "        tensor_X = self.dout(tensor_X)\n",
    "        tensor_X = self.act(self.linear_3(tensor_X))\n",
    "        \n",
    "        tensor_X = torch.cat([tensor_X, ids], axis=1)\n",
    "        \n",
    "        tensor_X = self.act(self.linear_4(tensor_X))\n",
    "        tensor_X = self.act(self.linear_5(tensor_X))\n",
    "        tensor_X = self.dout(tensor_X)\n",
    "        tensor_X_6 = self.act(self.linear_6(tensor_X))\n",
    "        tensor_X = self.act(self.linear_7(tensor_X_6))\n",
    "        tensor_X = self.act(self.linear_8(tensor_X + tensor_X_6))\n",
    "        tensor_X = self.linear_9(tensor_X)\n",
    "        return tensor_X \n",
    "\n",
    "    def forward(self, X):\n",
    "        tensor_X = torch.FloatTensor(X.values)\n",
    "        return self.tensor_forward(tensor_X)"
   ]
  },
  {
   "cell_type": "code",
   "execution_count": 21,
   "id": "96826990",
   "metadata": {
    "execution": {
     "iopub.execute_input": "2022-04-16T17:38:32.573097Z",
     "iopub.status.busy": "2022-04-16T17:38:32.572304Z",
     "iopub.status.idle": "2022-04-16T17:38:32.574644Z",
     "shell.execute_reply": "2022-04-16T17:38:32.574239Z",
     "shell.execute_reply.started": "2022-04-16T16:42:29.610383Z"
    },
    "papermill": {
     "duration": 0.05783,
     "end_time": "2022-04-16T17:38:32.574750",
     "exception": false,
     "start_time": "2022-04-16T17:38:32.516920",
     "status": "completed"
    },
    "tags": []
   },
   "outputs": [],
   "source": [
    "class DNN_Model_3(torch.nn.Module):\n",
    "    def __init__(self, deep_size):\n",
    "        super().__init__()\n",
    "        self.deep_size = deep_size\n",
    "        self.index = 3\n",
    "        self.linear1 = torch.nn.Linear(300, deep_size)\n",
    "        \n",
    "        self.linear2_1 = torch.nn.Linear(deep_size, deep_size)\n",
    "        self.linear2_2 = torch.nn.Linear(deep_size, deep_size)\n",
    "        self.linear2_3 = torch.nn.Linear(deep_size, deep_size)\n",
    "        \n",
    "        self.linear3_1 = torch.nn.Linear(deep_size, deep_size)\n",
    "        self.linear3_2 = torch.nn.Linear(deep_size, deep_size)\n",
    "        self.linear3_3 = torch.nn.Linear(deep_size, deep_size)\n",
    "        \n",
    "        self.linear4_1 = torch.nn.Linear(deep_size, deep_size)\n",
    "        self.linear4_2 = torch.nn.Linear(deep_size, deep_size)\n",
    "        self.linear4_3 = torch.nn.Linear(deep_size, deep_size)\n",
    "        \n",
    "        self.linear5_1 = torch.nn.Linear(deep_size, deep_size)\n",
    "        self.linear5_2 = torch.nn.Linear(deep_size, deep_size)\n",
    "        self.linear5_3 = torch.nn.Linear(deep_size, deep_size)\n",
    "        \n",
    "        self.linear6_1 = torch.nn.Linear(deep_size, deep_size)\n",
    "        self.linear6_2 = torch.nn.Linear(deep_size, 1)\n",
    "        \n",
    "        self.act = torch.nn.SiLU()\n",
    "        self.dout = torch.nn.Dropout(p=0.5)\n",
    "        \n",
    "        self.model_name = 'DNN_Model_3'\n",
    "\n",
    "                \n",
    "    def tensor_forward(self, X_tensor):\n",
    "        X_tensor = move_to(X_tensor, device)\n",
    "        X_tensor = X_tensor[:, 1:]\n",
    "        X_tensor = self.act(self.linear1(X_tensor))\n",
    "        \n",
    "        X_tensor = self.act(self.linear2_1(X_tensor))\n",
    "        X_tensor = self.act(self.linear2_2(X_tensor))\n",
    "        X_tensor = self.dout(X_tensor)\n",
    "        res_2 = self.act(self.linear2_3(X_tensor))\n",
    "        \n",
    "        \n",
    "        #res_2 = X_tensor\n",
    "        \n",
    "        X_tensor = self.act(self.linear3_1(res_2))\n",
    "        X_tensor = self.act(self.linear3_2(X_tensor))\n",
    "        X_tensor = self.dout(X_tensor)\n",
    "        res_3 = self.act(self.linear3_3(X_tensor))\n",
    "        \n",
    "        \n",
    "        #res_3 = X_tensor\n",
    "        \n",
    "        X_tensor = self.act(self.linear4_1(res_2 + res_3))\n",
    "        X_tensor = self.act(self.linear4_2(X_tensor))\n",
    "        X_tensor = self.dout(X_tensor)\n",
    "        res_4 = self.act(self.linear4_3(X_tensor))\n",
    "        \n",
    "        res_4 = X_tensor\n",
    "\n",
    "        X_tensor = self.act(self.linear5_1(res_3 + res_4))\n",
    "        X_tensor = self.act(self.linear5_2(X_tensor))\n",
    "        X_tensor = self.dout(X_tensor)\n",
    "        X_tensor = self.act(self.linear5_3(X_tensor))\n",
    "        \n",
    "        X_tensor = self.act(self.linear6_1(X_tensor + res_4))\n",
    "        X_tensor = self.linear6_2(X_tensor)\n",
    "        \n",
    "        return X_tensor\n",
    "        \n",
    "\n",
    "    def forward(self, X):\n",
    "        tensor_X = torch.FloatTensor(X.values)\n",
    "        return self.tensor_forward(tensor_X)"
   ]
  },
  {
   "cell_type": "code",
   "execution_count": 22,
   "id": "6bcec0b0",
   "metadata": {
    "execution": {
     "iopub.execute_input": "2022-04-16T17:38:32.665730Z",
     "iopub.status.busy": "2022-04-16T17:38:32.664943Z",
     "iopub.status.idle": "2022-04-16T17:38:32.666856Z",
     "shell.execute_reply": "2022-04-16T17:38:32.667248Z",
     "shell.execute_reply.started": "2022-04-16T16:42:29.630361Z"
    },
    "papermill": {
     "duration": 0.052222,
     "end_time": "2022-04-16T17:38:32.667360",
     "exception": false,
     "start_time": "2022-04-16T17:38:32.615138",
     "status": "completed"
    },
    "tags": []
   },
   "outputs": [],
   "source": [
    "class DNN_Model_4(torch.nn.Module):\n",
    "    def __init__(self, deep_size):\n",
    "        super().__init__()\n",
    "        self.deep_size = deep_size\n",
    "        self.index = 4\n",
    "        act_1 = torch.nn.SiLU\n",
    "        self.model = self.model = torch.nn.Sequential(\n",
    "            torch.nn.Linear(300, deep_size),\n",
    "            act_1(),\n",
    "            torch.nn.Linear(deep_size, deep_size),\n",
    "            act_1(),\n",
    "            torch.nn.Linear(deep_size, 2*deep_size),\n",
    "            act_1(),\n",
    "            torch.nn.Linear(2*deep_size, 2*deep_size),\n",
    "            \n",
    "            torch.nn.Dropout(p=0.4),\n",
    "            \n",
    "            torch.nn.Linear(2*deep_size, 2*deep_size),\n",
    "            act_1(),\n",
    "            torch.nn.Linear(2*deep_size, 2*deep_size),\n",
    "            act_1(),\n",
    "            torch.nn.Linear(2*deep_size, deep_size),\n",
    "            act_1(),\n",
    "            \n",
    "            torch.nn.Dropout(p=0.4),\n",
    "            \n",
    "            torch.nn.Linear(deep_size, deep_size),\n",
    "            act_1(),\n",
    "            torch.nn.Linear(deep_size, deep_size),\n",
    "            act_1(),\n",
    "            torch.nn.Linear(deep_size, 1)\n",
    "            \n",
    "        )\n",
    "        \n",
    "        self.model_name = 'DNN_Model_4'\n",
    "        \n",
    "                \n",
    "    def tensor_forward(self, X_tensor):\n",
    "        X_tensor = move_to(X_tensor, device)\n",
    "        X_tensor = X_tensor[:, 1:]\n",
    "        return self.model(X_tensor)\n",
    "\n",
    "    def forward(self, X):\n",
    "        tensor_X = torch.FloatTensor(X.values)\n",
    "        return self.tensor_forward(tensor_X)"
   ]
  },
  {
   "cell_type": "code",
   "execution_count": 23,
   "id": "2e415132",
   "metadata": {
    "execution": {
     "iopub.execute_input": "2022-04-16T17:38:32.752974Z",
     "iopub.status.busy": "2022-04-16T17:38:32.752232Z",
     "iopub.status.idle": "2022-04-16T17:38:32.754555Z",
     "shell.execute_reply": "2022-04-16T17:38:32.754174Z",
     "shell.execute_reply.started": "2022-04-16T16:42:29.643266Z"
    },
    "papermill": {
     "duration": 0.045932,
     "end_time": "2022-04-16T17:38:32.754684",
     "exception": false,
     "start_time": "2022-04-16T17:38:32.708752",
     "status": "completed"
    },
    "tags": []
   },
   "outputs": [],
   "source": [
    "dnn_models = [DNN_Model, DNN_Model_1, DNN_Model_2, DNN_Model_3, DNN_Model_4]"
   ]
  },
  {
   "cell_type": "code",
   "execution_count": 24,
   "id": "1ce39fa7",
   "metadata": {
    "execution": {
     "iopub.execute_input": "2022-04-16T17:38:32.839090Z",
     "iopub.status.busy": "2022-04-16T17:38:32.838371Z",
     "iopub.status.idle": "2022-04-16T17:38:32.840304Z",
     "shell.execute_reply": "2022-04-16T17:38:32.840732Z",
     "shell.execute_reply.started": "2022-04-16T16:42:29.654768Z"
    },
    "papermill": {
     "duration": 0.04568,
     "end_time": "2022-04-16T17:38:32.840849",
     "exception": false,
     "start_time": "2022-04-16T17:38:32.795169",
     "status": "completed"
    },
    "tags": []
   },
   "outputs": [],
   "source": [
    "#написать subsample еще раз (также попробовать booststrap)\n",
    "#написать еще пару моделей, желательно как можно более разных\n",
    "#из большого количества моделей выбрать топ лучших (на полном датасете!)\n",
    "#продумать как можно (например с помощью матрицы корреляции) стакать сети в одной модели чтобы увеличить скор\n",
    "#поработать с бустами, попробовать их пообъединять"
   ]
  },
  {
   "cell_type": "code",
   "execution_count": 25,
   "id": "7c9c9c37",
   "metadata": {
    "execution": {
     "iopub.execute_input": "2022-04-16T17:38:32.927406Z",
     "iopub.status.busy": "2022-04-16T17:38:32.926594Z",
     "iopub.status.idle": "2022-04-16T17:38:32.928379Z",
     "shell.execute_reply": "2022-04-16T17:38:32.928869Z",
     "shell.execute_reply.started": "2022-04-16T16:42:29.663057Z"
    },
    "papermill": {
     "duration": 0.047878,
     "end_time": "2022-04-16T17:38:32.928996",
     "exception": false,
     "start_time": "2022-04-16T17:38:32.881118",
     "status": "completed"
    },
    "tags": []
   },
   "outputs": [],
   "source": [
    "def corr_based_coefs(a):\n",
    "    if a.shape[0] < 2:\n",
    "        return np.array([1])\n",
    "    preds_sum = np.sum(a, axis=0)\n",
    "    corrs = np.array([pearsonr( (preds_sum-a[i])/(a.shape[0]-1), a[i])[0] for i in range(a.shape[0])])\n",
    "    #print(f'Correlation coefs: {corrs}')\n",
    "    corrs = 1 - corrs\n",
    "    corrs /= np.sum(corrs)\n",
    "    #print(f'Stacking coefs: {corrs}')\n",
    "    return corrs"
   ]
  },
  {
   "cell_type": "code",
   "execution_count": 26,
   "id": "6f72b883",
   "metadata": {
    "execution": {
     "iopub.execute_input": "2022-04-16T17:38:33.035933Z",
     "iopub.status.busy": "2022-04-16T17:38:33.035108Z",
     "iopub.status.idle": "2022-04-16T17:38:33.036935Z",
     "shell.execute_reply": "2022-04-16T17:38:33.037334Z",
     "shell.execute_reply.started": "2022-04-16T16:43:24.642135Z"
    },
    "papermill": {
     "duration": 0.067544,
     "end_time": "2022-04-16T17:38:33.037451",
     "exception": false,
     "start_time": "2022-04-16T17:38:32.969907",
     "status": "completed"
    },
    "tags": []
   },
   "outputs": [],
   "source": [
    "class StackedDNN:\n",
    "    def __init__(self, n, model, min_deep=30, max_deep=40):\n",
    "        self.nets = [model(np.random.randint(min_deep, max_deep)) for i in range(n)]\n",
    "        self.model_name = self.nets[0].model_name\n",
    "        for net in self.nets:\n",
    "            net = move_to(net, device)\n",
    "    \n",
    "    def fit(self, X, y, iters, batch_size=4096, subset=1, float_subset=True, silent=True, logs=True, plot=False, val=False, X_val=None, y_val=None):\n",
    "        \n",
    "        if val:\n",
    "            tensor_train_val = move_to(torch.FloatTensor(X_val.values), device)\n",
    "            tensor_y_val = move_to(torch.FloatTensor(y_val.values), device)\n",
    "            \n",
    "        if logs and silent:\n",
    "            print(f'Net {self.nets[0].model_name}')\n",
    "            \n",
    "        for i in range(len(self.nets)):\n",
    "    \n",
    "            scores_train = []\n",
    "            scores_val = []\n",
    "        \n",
    "            if val:\n",
    "                tensor_train_val = move_to(torch.FloatTensor(X_val.values).clone(), device)\n",
    "                tensor_y_val = move_to(torch.FloatTensor(y_val.values), device)\n",
    "            scores_train = []\n",
    "            scores_val = []\n",
    "\n",
    "            opt = torch.optim.Adam(self.nets[i].parameters(), lr=5e-4)\n",
    "\n",
    "            if float_subset:\n",
    "                subset_ind = np.random.uniform(subset, 1)\n",
    "\n",
    "            subset_ind = np.random.choice(batch_size, int(batch_size*subset))\n",
    "            \n",
    "            if not silent:\n",
    "                print(f'>>> Net {i + 1}/{len(self.nets)}')\n",
    "                print(f'Deep size: {self.nets[i].deep_size}')\n",
    "                print()\n",
    "                \n",
    "                \n",
    "            for epoch in range(iters):\n",
    "                offset = 0\n",
    "                #learning cycle\n",
    "                while offset + batch_size < y.shape[0]: \n",
    "                    self.nets[i].train()\n",
    "                    self.nets[i].zero_grad()\n",
    "                    X_tensor = move_to(torch.FloatTensor(X.iloc[offset:offset+batch_size, :].values), device)\n",
    "                    y_tensor = move_to(torch.FloatTensor(y[offset:offset+batch_size].values), device)\n",
    "                    X_tensor = X_tensor[subset_ind,:]\n",
    "                    y_tensor = y_tensor[subset_ind]\n",
    "                    \n",
    "                    loss = pearson_loss(self.nets[i].tensor_forward(X_tensor).view(-1), y_tensor)\n",
    "                    loss.backward()\n",
    "                    opt.step()\n",
    "                    offset += batch_size\n",
    "\n",
    "                #prints\n",
    "                if val:\n",
    "                    self.nets[i].eval()\n",
    "                    val_loss = pearson_loss(self.nets[i].tensor_forward(tensor_train_val).view(-1), tensor_y_val)\n",
    "                    scores_val.append(float(val_loss.detach()))\n",
    "                scores_train.append(float(loss.detach()))\n",
    "\n",
    "                if not silent:\n",
    "                    print(f'epoch {epoch} finished with {loss} loss')\n",
    "                    if val:\n",
    "                        print(f'val loss {val_loss}')\n",
    "                \n",
    "            if logs and silent:\n",
    "                print(f'Net {i+1}/{len(self.nets)} fitted')\n",
    "                \n",
    "            if not silent:\n",
    "                if val:\n",
    "                    print(f'Finished with \\n train loss: {loss}\\n val loss: {val_loss}')\n",
    "                else:\n",
    "                    print(f'Finished with {loss} loss')\n",
    "            if plot:\n",
    "                if val:\n",
    "                    sns.lineplot(x=range(iters), y=scores_train, label='train')\n",
    "                    sns.lineplot(x=range(iters), y=scores_val, label='val')\n",
    "                else:\n",
    "                    sns.lineplot(scores_train)\n",
    "                plt.plot()\n",
    "\n",
    "        \n",
    "    def predict(self, X):\n",
    "        y_pred = np.ndarray([len(self.nets), X.shape[0]])\n",
    "        for i in range(len(self.nets)):\n",
    "            self.nets[i].eval()\n",
    "            y_pred[i] = np.array(self.nets[i].forward(X).detach().view(-1).cpu())\n",
    "        y_pred = corr_based_coefs(y_pred).dot(y_pred)\n",
    "        return y_pred\n",
    "    \n",
    "    def save(self):\n",
    "        import os\n",
    "        try:\n",
    "            os.mkdir(f'./{self.model_name}')\n",
    "        except:\n",
    "            pass\n",
    "        with open(f'./{self.model_name}/config.txt', 'w') as f:\n",
    "            f.write(str(self.nets[0].index) + '\\n')\n",
    "            for i in range(len(self.nets)):\n",
    "                torch.save(self.nets[i].state_dict(), f'./{self.model_name}/model:{i}')\n",
    "                f.write(str(self.nets[i].deep_size) + '\\n')\n",
    "\n",
    "    \n",
    "                       \n",
    "    def load(self):\n",
    "        with open(f'../input/ubiquantdevelop/{self.model_name}/config.txt', 'r') as f:\n",
    "            dnn_model = dnn_models[int(f.readline())]\n",
    "            \n",
    "            for i in range(len(self.nets)):\n",
    "                self.nets[i] = dnn_model(int(f.readline()))\n",
    "                self.nets[i].load_state_dict(torch.load(f'../input/ubiquantdevelop/{self.model_name}/model:{i}', map_location=torch.device('cpu')))\n",
    "                self.nets[i] = move_to(self.nets[i], device)"
   ]
  },
  {
   "cell_type": "code",
   "execution_count": 27,
   "id": "b3a41153",
   "metadata": {
    "execution": {
     "iopub.execute_input": "2022-04-16T17:38:33.125721Z",
     "iopub.status.busy": "2022-04-16T17:38:33.124987Z",
     "iopub.status.idle": "2022-04-16T17:38:33.127390Z",
     "shell.execute_reply": "2022-04-16T17:38:33.126972Z",
     "shell.execute_reply.started": "2022-04-16T16:42:29.774085Z"
    },
    "papermill": {
     "duration": 0.04583,
     "end_time": "2022-04-16T17:38:33.127490",
     "exception": false,
     "start_time": "2022-04-16T17:38:33.081660",
     "status": "completed"
    },
    "tags": []
   },
   "outputs": [],
   "source": [
    "#0   0.16049979767507658\n",
    "#1   0.16195405253013023\n",
    "#2   0.16213173833206326\n",
    "#3   0.16256979869460275\n",
    "#4"
   ]
  },
  {
   "cell_type": "markdown",
   "id": "8c8b03ca",
   "metadata": {
    "papermill": {
     "duration": 0.040725,
     "end_time": "2022-04-16T17:38:33.208382",
     "exception": false,
     "start_time": "2022-04-16T17:38:33.167657",
     "status": "completed"
    },
    "tags": []
   },
   "source": [
    "#написать ноутбук как меняется необходимое количество эпох в завимисимости от размера выбранной части выборки\n",
    "#то есть для подвыборки лучшее качетство получается на n итерациях, как дело обстоит если увеличивать выборку\n",
    "#лучше взять датасет для регресии и поменьше\n",
    "#можно взять несколько датасетов"
   ]
  },
  {
   "cell_type": "code",
   "execution_count": 28,
   "id": "a0253477",
   "metadata": {
    "execution": {
     "iopub.execute_input": "2022-04-16T17:38:33.292037Z",
     "iopub.status.busy": "2022-04-16T17:38:33.291496Z",
     "iopub.status.idle": "2022-04-16T17:38:33.295112Z",
     "shell.execute_reply": "2022-04-16T17:38:33.294717Z",
     "shell.execute_reply.started": "2022-04-16T16:42:29.775842Z"
    },
    "papermill": {
     "duration": 0.046521,
     "end_time": "2022-04-16T17:38:33.295216",
     "exception": false,
     "start_time": "2022-04-16T17:38:33.248695",
     "status": "completed"
    },
    "tags": []
   },
   "outputs": [],
   "source": [
    "#nn_model = StackedDNN(18, DNN_Model, min_deep=280, max_deep=301)\n",
    "#nn_model.fit(data, target, 10, subset=0.85) -->.1512"
   ]
  },
  {
   "cell_type": "code",
   "execution_count": null,
   "id": "0dbcf498",
   "metadata": {
    "papermill": {
     "duration": 0.040375,
     "end_time": "2022-04-16T17:38:33.376253",
     "exception": false,
     "start_time": "2022-04-16T17:38:33.335878",
     "status": "completed"
    },
    "tags": []
   },
   "outputs": [],
   "source": []
  },
  {
   "cell_type": "code",
   "execution_count": 29,
   "id": "e92b61b8",
   "metadata": {
    "execution": {
     "iopub.execute_input": "2022-04-16T17:38:33.467650Z",
     "iopub.status.busy": "2022-04-16T17:38:33.467050Z",
     "iopub.status.idle": "2022-04-16T17:58:42.686122Z",
     "shell.execute_reply": "2022-04-16T17:58:42.686558Z",
     "shell.execute_reply.started": "2022-04-16T16:46:21.262517Z"
    },
    "papermill": {
     "duration": 1209.269984,
     "end_time": "2022-04-16T17:58:42.686729",
     "exception": false,
     "start_time": "2022-04-16T17:38:33.416745",
     "status": "completed"
    },
    "tags": []
   },
   "outputs": [
    {
     "name": "stdout",
     "output_type": "stream",
     "text": [
      "Net DNN_Model_0\n",
      "Net 1/15 fitted\n",
      "Net 2/15 fitted\n",
      "Net 3/15 fitted\n",
      "Net 4/15 fitted\n",
      "Net 5/15 fitted\n",
      "Net 6/15 fitted\n",
      "Net 7/15 fitted\n",
      "Net 8/15 fitted\n",
      "Net 9/15 fitted\n",
      "Net 10/15 fitted\n",
      "Net 11/15 fitted\n",
      "Net 12/15 fitted\n",
      "Net 13/15 fitted\n",
      "Net 14/15 fitted\n",
      "Net 15/15 fitted\n"
     ]
    }
   ],
   "source": [
    "nn_model = StackedDNN(15, DNN_Model, min_deep=280, max_deep=301)\n",
    "nn_model.fit(data, target, 10, subset=0.85)\n",
    "nn_model.save()"
   ]
  },
  {
   "cell_type": "code",
   "execution_count": 30,
   "id": "d5a5655b",
   "metadata": {
    "execution": {
     "iopub.execute_input": "2022-04-16T17:58:42.782574Z",
     "iopub.status.busy": "2022-04-16T17:58:42.781810Z",
     "iopub.status.idle": "2022-04-16T18:07:04.881290Z",
     "shell.execute_reply": "2022-04-16T18:07:04.881742Z",
     "shell.execute_reply.started": "2022-04-15T22:40:04.924506Z"
    },
    "papermill": {
     "duration": 502.149867,
     "end_time": "2022-04-16T18:07:04.881903",
     "exception": false,
     "start_time": "2022-04-16T17:58:42.732036",
     "status": "completed"
    },
    "tags": []
   },
   "outputs": [
    {
     "name": "stdout",
     "output_type": "stream",
     "text": [
      "Net DNN_Model_1\n",
      "Net 1/8 fitted\n",
      "Net 2/8 fitted\n",
      "Net 3/8 fitted\n",
      "Net 4/8 fitted\n",
      "Net 5/8 fitted\n",
      "Net 6/8 fitted\n",
      "Net 7/8 fitted\n",
      "Net 8/8 fitted\n"
     ]
    }
   ],
   "source": [
    "nn_model_1 = StackedDNN(8, DNN_Model_1, min_deep=40, max_deep=41)\n",
    "nn_model_1.fit(data, target, 8, subset=0.85)\n",
    "nn_model_1.save()"
   ]
  },
  {
   "cell_type": "code",
   "execution_count": 31,
   "id": "4304b46f",
   "metadata": {
    "execution": {
     "iopub.execute_input": "2022-04-16T18:07:04.982874Z",
     "iopub.status.busy": "2022-04-16T18:07:04.982128Z",
     "iopub.status.idle": "2022-04-16T18:30:49.340808Z",
     "shell.execute_reply": "2022-04-16T18:30:49.341248Z",
     "shell.execute_reply.started": "2022-04-16T16:47:54.163475Z"
    },
    "papermill": {
     "duration": 1424.411204,
     "end_time": "2022-04-16T18:30:49.341404",
     "exception": false,
     "start_time": "2022-04-16T18:07:04.930200",
     "status": "completed"
    },
    "tags": []
   },
   "outputs": [
    {
     "name": "stdout",
     "output_type": "stream",
     "text": [
      "Net DNN_Model_2\n",
      "Net 1/15 fitted\n",
      "Net 2/15 fitted\n",
      "Net 3/15 fitted\n",
      "Net 4/15 fitted\n",
      "Net 5/15 fitted\n",
      "Net 6/15 fitted\n",
      "Net 7/15 fitted\n",
      "Net 8/15 fitted\n",
      "Net 9/15 fitted\n",
      "Net 10/15 fitted\n",
      "Net 11/15 fitted\n",
      "Net 12/15 fitted\n",
      "Net 13/15 fitted\n",
      "Net 14/15 fitted\n",
      "Net 15/15 fitted\n"
     ]
    }
   ],
   "source": [
    "nn_model_2 = StackedDNN(15, DNN_Model_2, min_deep=220, max_deep=250)\n",
    "nn_model_2.fit(data, target, 10, subset=0.85)\n",
    "nn_model_2.save()"
   ]
  },
  {
   "cell_type": "code",
   "execution_count": 32,
   "id": "9fffb053",
   "metadata": {
    "execution": {
     "iopub.execute_input": "2022-04-16T18:30:49.461190Z",
     "iopub.status.busy": "2022-04-16T18:30:49.460375Z",
     "iopub.status.idle": "2022-04-16T18:49:14.679152Z",
     "shell.execute_reply": "2022-04-16T18:49:14.679564Z",
     "shell.execute_reply.started": "2022-04-15T22:32:54.77661Z"
    },
    "papermill": {
     "duration": 1105.280877,
     "end_time": "2022-04-16T18:49:14.679755",
     "exception": false,
     "start_time": "2022-04-16T18:30:49.398878",
     "status": "completed"
    },
    "tags": []
   },
   "outputs": [
    {
     "name": "stdout",
     "output_type": "stream",
     "text": [
      "Net DNN_Model_3\n",
      "Net 1/15 fitted\n",
      "Net 2/15 fitted\n",
      "Net 3/15 fitted\n",
      "Net 4/15 fitted\n",
      "Net 5/15 fitted\n",
      "Net 6/15 fitted\n",
      "Net 7/15 fitted\n",
      "Net 8/15 fitted\n",
      "Net 9/15 fitted\n",
      "Net 10/15 fitted\n",
      "Net 11/15 fitted\n",
      "Net 12/15 fitted\n",
      "Net 13/15 fitted\n",
      "Net 14/15 fitted\n",
      "Net 15/15 fitted\n"
     ]
    }
   ],
   "source": [
    "nn_model_3 = StackedDNN(15, DNN_Model_3, min_deep=90, max_deep=110)\n",
    "nn_model_3.fit(data, target, 9, subset=0.85)\n",
    "nn_model.save()"
   ]
  },
  {
   "cell_type": "code",
   "execution_count": 33,
   "id": "bbcafbf1",
   "metadata": {
    "execution": {
     "iopub.execute_input": "2022-04-16T18:49:14.803149Z",
     "iopub.status.busy": "2022-04-16T18:49:14.802388Z",
     "iopub.status.idle": "2022-04-16T19:10:24.010108Z",
     "shell.execute_reply": "2022-04-16T19:10:24.010521Z",
     "shell.execute_reply.started": "2022-04-15T22:35:29.171316Z"
    },
    "papermill": {
     "duration": 1269.272727,
     "end_time": "2022-04-16T19:10:24.010689",
     "exception": false,
     "start_time": "2022-04-16T18:49:14.737962",
     "status": "completed"
    },
    "tags": []
   },
   "outputs": [
    {
     "name": "stdout",
     "output_type": "stream",
     "text": [
      "Net DNN_Model_4\n",
      "Net 1/20 fitted\n",
      "Net 2/20 fitted\n",
      "Net 3/20 fitted\n",
      "Net 4/20 fitted\n",
      "Net 5/20 fitted\n",
      "Net 6/20 fitted\n",
      "Net 7/20 fitted\n",
      "Net 8/20 fitted\n",
      "Net 9/20 fitted\n",
      "Net 10/20 fitted\n",
      "Net 11/20 fitted\n",
      "Net 12/20 fitted\n",
      "Net 13/20 fitted\n",
      "Net 14/20 fitted\n",
      "Net 15/20 fitted\n",
      "Net 16/20 fitted\n",
      "Net 17/20 fitted\n",
      "Net 18/20 fitted\n",
      "Net 19/20 fitted\n",
      "Net 20/20 fitted\n"
     ]
    }
   ],
   "source": [
    "nn_model_4 = StackedDNN(20, DNN_Model_4, min_deep=90, max_deep=110)\n",
    "nn_model_4.fit(data, target, 9, subset=0.85)\n",
    "nn_model.save()"
   ]
  },
  {
   "cell_type": "code",
   "execution_count": 34,
   "id": "338501c3",
   "metadata": {
    "execution": {
     "iopub.execute_input": "2022-04-16T19:10:24.143169Z",
     "iopub.status.busy": "2022-04-16T19:10:24.142657Z",
     "iopub.status.idle": "2022-04-16T19:26:26.306910Z",
     "shell.execute_reply": "2022-04-16T19:26:26.307931Z",
     "shell.execute_reply.started": "2022-04-12T22:24:12.142396Z"
    },
    "papermill": {
     "duration": 962.233512,
     "end_time": "2022-04-16T19:26:26.308137",
     "exception": false,
     "start_time": "2022-04-16T19:10:24.074625",
     "status": "completed"
    },
    "tags": []
   },
   "outputs": [],
   "source": [
    "from catboost import CatBoostRegressor\n",
    "model = CatBoostRegressor(iterations=10000, task_type='GPU', devices='0', silent=True, subsample=0.9, bootstrap_type='Poisson').fit(data, target)"
   ]
  },
  {
   "cell_type": "code",
   "execution_count": 35,
   "id": "42f8b402",
   "metadata": {
    "execution": {
     "iopub.execute_input": "2022-04-16T19:26:26.572740Z",
     "iopub.status.busy": "2022-04-16T19:26:26.572020Z",
     "iopub.status.idle": "2022-04-16T19:26:26.575602Z",
     "shell.execute_reply": "2022-04-16T19:26:26.576492Z",
     "shell.execute_reply.started": "2022-04-12T22:27:21.594066Z"
    },
    "papermill": {
     "duration": 0.169444,
     "end_time": "2022-04-16T19:26:26.576682",
     "exception": false,
     "start_time": "2022-04-16T19:26:26.407238",
     "status": "completed"
    },
    "tags": []
   },
   "outputs": [],
   "source": [
    "model.save_model(\"cat_model\")"
   ]
  },
  {
   "cell_type": "code",
   "execution_count": null,
   "id": "e9e0afef",
   "metadata": {
    "execution": {
     "iopub.execute_input": "2022-04-16T16:22:15.464138Z",
     "iopub.status.busy": "2022-04-16T16:22:15.46356Z",
     "iopub.status.idle": "2022-04-16T16:22:15.660068Z",
     "shell.execute_reply": "2022-04-16T16:22:15.659406Z",
     "shell.execute_reply.started": "2022-04-16T16:22:15.464099Z"
    },
    "papermill": {
     "duration": 0.094453,
     "end_time": "2022-04-16T19:26:26.766874",
     "exception": false,
     "start_time": "2022-04-16T19:26:26.672421",
     "status": "completed"
    },
    "tags": []
   },
   "outputs": [],
   "source": []
  },
  {
   "cell_type": "code",
   "execution_count": null,
   "id": "55a7fba4",
   "metadata": {
    "execution": {
     "iopub.execute_input": "2022-04-16T16:40:44.365942Z",
     "iopub.status.busy": "2022-04-16T16:40:44.365736Z",
     "iopub.status.idle": "2022-04-16T16:40:44.380232Z",
     "shell.execute_reply": "2022-04-16T16:40:44.379123Z",
     "shell.execute_reply.started": "2022-04-16T16:40:44.365903Z"
    },
    "papermill": {
     "duration": 0.094152,
     "end_time": "2022-04-16T19:26:26.956314",
     "exception": false,
     "start_time": "2022-04-16T19:26:26.862162",
     "status": "completed"
    },
    "tags": []
   },
   "outputs": [],
   "source": []
  },
  {
   "cell_type": "code",
   "execution_count": 36,
   "id": "ee1b00f4",
   "metadata": {
    "execution": {
     "iopub.execute_input": "2022-04-16T19:26:27.167412Z",
     "iopub.status.busy": "2022-04-16T19:26:27.166559Z",
     "iopub.status.idle": "2022-04-16T19:26:27.169947Z",
     "shell.execute_reply": "2022-04-16T19:26:27.170562Z",
     "shell.execute_reply.started": "2022-04-12T23:09:39.891087Z"
    },
    "papermill": {
     "duration": 0.118145,
     "end_time": "2022-04-16T19:26:27.170747",
     "exception": false,
     "start_time": "2022-04-16T19:26:27.052602",
     "status": "completed"
    },
    "tags": []
   },
   "outputs": [
    {
     "data": {
      "text/plain": [
       "'\\nbest = 0\\nfor i in range(100000):\\n    a = np.random.rand(7)\\n    for j in range(7):\\n        if (np.random.rand() <= 0.06):\\n            a[j] = 0\\n    a /= np.sum(a)\\n    total = pearsonr(a[0]*res + a[1]*res_1 + a[2]*res_2 + a[3]*res_3 + a[4]*res_4 + a[5]*res_5 + a[6]*res_boost, y_test)[0]\\n    if total > best:\\n        best = total\\n        print(a, best, i)\\n'"
      ]
     },
     "execution_count": 36,
     "metadata": {},
     "output_type": "execute_result"
    }
   ],
   "source": [
    "\"\"\"\n",
    "best = 0\n",
    "for i in range(100000):\n",
    "    a = np.random.rand(7)\n",
    "    for j in range(7):\n",
    "        if (np.random.rand() <= 0.06):\n",
    "            a[j] = 0\n",
    "    a /= np.sum(a)\n",
    "    total = pearsonr(a[0]*res + a[1]*res_1 + a[2]*res_2 + a[3]*res_3 + a[4]*res_4 + a[5]*res_5 + a[6]*res_boost, y_test)[0]\n",
    "    if total > best:\n",
    "        best = total\n",
    "        print(a, best, i)\n",
    "\"\"\""
   ]
  },
  {
   "cell_type": "code",
   "execution_count": null,
   "id": "dfdafe85",
   "metadata": {
    "execution": {
     "iopub.execute_input": "2022-04-12T23:06:32.209701Z",
     "iopub.status.busy": "2022-04-12T23:06:32.209121Z",
     "iopub.status.idle": "2022-04-12T23:06:32.214955Z",
     "shell.execute_reply": "2022-04-12T23:06:32.214137Z",
     "shell.execute_reply.started": "2022-04-12T23:06:32.209667Z"
    },
    "papermill": {
     "duration": 0.072079,
     "end_time": "2022-04-16T19:26:27.330305",
     "exception": false,
     "start_time": "2022-04-16T19:26:27.258226",
     "status": "completed"
    },
    "tags": []
   },
   "outputs": [],
   "source": []
  },
  {
   "cell_type": "code",
   "execution_count": 37,
   "id": "50e982da",
   "metadata": {
    "execution": {
     "iopub.execute_input": "2022-04-16T19:26:27.543638Z",
     "iopub.status.busy": "2022-04-16T19:26:27.541926Z",
     "iopub.status.idle": "2022-04-16T19:26:27.544272Z",
     "shell.execute_reply": "2022-04-16T19:26:27.544723Z"
    },
    "papermill": {
     "duration": 0.14079,
     "end_time": "2022-04-16T19:26:27.544852",
     "exception": false,
     "start_time": "2022-04-16T19:26:27.404062",
     "status": "completed"
    },
    "tags": []
   },
   "outputs": [],
   "source": [
    "#[0.001, 0.337, 0.116, 0.01, 0.536] - coefs"
   ]
  },
  {
   "cell_type": "code",
   "execution_count": 38,
   "id": "1e7a13d9",
   "metadata": {
    "execution": {
     "iopub.execute_input": "2022-04-16T19:26:27.700056Z",
     "iopub.status.busy": "2022-04-16T19:26:27.698493Z",
     "iopub.status.idle": "2022-04-16T19:26:27.700730Z",
     "shell.execute_reply": "2022-04-16T19:26:27.701175Z",
     "shell.execute_reply.started": "2022-04-12T22:31:25.664792Z"
    },
    "papermill": {
     "duration": 0.081894,
     "end_time": "2022-04-16T19:26:27.701302",
     "exception": false,
     "start_time": "2022-04-16T19:26:27.619408",
     "status": "completed"
    },
    "tags": []
   },
   "outputs": [],
   "source": [
    "#pearsonr(0*res + 0*res_1 + 0*res_2 + 0*res_3 + 1/6*res_4 + 0*res_5, y_test)[0]"
   ]
  },
  {
   "cell_type": "code",
   "execution_count": 39,
   "id": "d51a7682",
   "metadata": {
    "execution": {
     "iopub.execute_input": "2022-04-16T19:26:27.852302Z",
     "iopub.status.busy": "2022-04-16T19:26:27.851525Z",
     "iopub.status.idle": "2022-04-16T19:26:27.854441Z",
     "shell.execute_reply": "2022-04-16T19:26:27.853959Z",
     "shell.execute_reply.started": "2022-04-08T18:03:42.888363Z"
    },
    "papermill": {
     "duration": 0.080072,
     "end_time": "2022-04-16T19:26:27.854560",
     "exception": false,
     "start_time": "2022-04-16T19:26:27.774488",
     "status": "completed"
    },
    "tags": []
   },
   "outputs": [],
   "source": [
    "#1-0.111-0.43-0.02"
   ]
  },
  {
   "cell_type": "code",
   "execution_count": 40,
   "id": "15a129ac",
   "metadata": {
    "execution": {
     "iopub.execute_input": "2022-04-16T19:26:27.998567Z",
     "iopub.status.busy": "2022-04-16T19:26:27.997948Z",
     "iopub.status.idle": "2022-04-16T19:26:28.000431Z",
     "shell.execute_reply": "2022-04-16T19:26:28.000847Z",
     "shell.execute_reply.started": "2022-04-04T14:08:16.754963Z"
    },
    "papermill": {
     "duration": 0.071612,
     "end_time": "2022-04-16T19:26:28.000971",
     "exception": false,
     "start_time": "2022-04-16T19:26:27.929359",
     "status": "completed"
    },
    "tags": []
   },
   "outputs": [
    {
     "data": {
      "text/plain": [
       "'\\na = 0.8\\nprint(pearsonr(res, y_test)[0])\\nprint(pearsonr(res_boost, y_test)[0])\\npearsonr(a*res_boost+(1-a)*res, y_test)[0]\\n'"
      ]
     },
     "execution_count": 40,
     "metadata": {},
     "output_type": "execute_result"
    }
   ],
   "source": [
    "\"\"\"\n",
    "a = 0.8\n",
    "print(pearsonr(res, y_test)[0])\n",
    "print(pearsonr(res_boost, y_test)[0])\n",
    "pearsonr(a*res_boost+(1-a)*res, y_test)[0]\n",
    "\"\"\""
   ]
  },
  {
   "cell_type": "code",
   "execution_count": 41,
   "id": "7510c5e1",
   "metadata": {
    "execution": {
     "iopub.execute_input": "2022-04-16T19:26:28.138224Z",
     "iopub.status.busy": "2022-04-16T19:26:28.137406Z",
     "iopub.status.idle": "2022-04-16T19:26:28.140006Z",
     "shell.execute_reply": "2022-04-16T19:26:28.140397Z",
     "shell.execute_reply.started": "2022-04-08T14:43:05.282332Z"
    },
    "papermill": {
     "duration": 0.073652,
     "end_time": "2022-04-16T19:26:28.140507",
     "exception": false,
     "start_time": "2022-04-16T19:26:28.066855",
     "status": "completed"
    },
    "tags": []
   },
   "outputs": [
    {
     "data": {
      "text/plain": [
       "\"\\nimport ubiquant\\nenv = ubiquant.make_env()   # initialize the environment\\niter_test = env.iter_test()    # an iterator which loops over the test set and sample submission\\nfor (test_df, sample_prediction_df) in iter_test:\\n    res = nn_model.predict(test_df[features])\\n    res_1 = nn_model_1.predict(test_df[features])\\n    res_2 = nn_model_2.predict(test_df[features])\\n    res_3 = nn_model_3.predict(test_df[features])\\n    res_boost = model.predict(test_df[features])\\n    #[0.001, 0.337, 0.116, 0.01, 0.536]\\n    test_df['target']  = 0.001*res + 0.337*res_1 + 0.116*res_2 + 0.01*res_3 + 0.536*res_boost\\n    env.predict(test_df[['row_id','target']])\\n\""
      ]
     },
     "execution_count": 41,
     "metadata": {},
     "output_type": "execute_result"
    }
   ],
   "source": [
    "\"\"\"\n",
    "import ubiquant\n",
    "env = ubiquant.make_env()   # initialize the environment\n",
    "iter_test = env.iter_test()    # an iterator which loops over the test set and sample submission\n",
    "for (test_df, sample_prediction_df) in iter_test:\n",
    "    res = nn_model.predict(test_df[features])\n",
    "    res_1 = nn_model_1.predict(test_df[features])\n",
    "    res_2 = nn_model_2.predict(test_df[features])\n",
    "    res_3 = nn_model_3.predict(test_df[features])\n",
    "    res_boost = model.predict(test_df[features])\n",
    "    #[0.001, 0.337, 0.116, 0.01, 0.536]\n",
    "    test_df['target']  = 0.001*res + 0.337*res_1 + 0.116*res_2 + 0.01*res_3 + 0.536*res_boost\n",
    "    env.predict(test_df[['row_id','target']])\n",
    "\"\"\""
   ]
  },
  {
   "cell_type": "code",
   "execution_count": null,
   "id": "faee478f",
   "metadata": {
    "execution": {
     "iopub.execute_input": "2022-03-27T14:44:24.228544Z",
     "iopub.status.busy": "2022-03-27T14:44:24.22746Z",
     "iopub.status.idle": "2022-03-27T14:44:24.243794Z",
     "shell.execute_reply": "2022-03-27T14:44:24.243089Z",
     "shell.execute_reply.started": "2022-03-27T14:44:24.228476Z"
    },
    "papermill": {
     "duration": 0.064638,
     "end_time": "2022-04-16T19:26:28.270089",
     "exception": false,
     "start_time": "2022-04-16T19:26:28.205451",
     "status": "completed"
    },
    "tags": []
   },
   "outputs": [],
   "source": []
  },
  {
   "cell_type": "code",
   "execution_count": null,
   "id": "3e130a7f",
   "metadata": {
    "execution": {
     "iopub.execute_input": "2022-03-27T14:43:19.018371Z",
     "iopub.status.busy": "2022-03-27T14:43:19.01783Z",
     "iopub.status.idle": "2022-03-27T14:43:19.023314Z",
     "shell.execute_reply": "2022-03-27T14:43:19.022464Z",
     "shell.execute_reply.started": "2022-03-27T14:43:19.018335Z"
    },
    "papermill": {
     "duration": 0.064581,
     "end_time": "2022-04-16T19:26:28.399664",
     "exception": false,
     "start_time": "2022-04-16T19:26:28.335083",
     "status": "completed"
    },
    "tags": []
   },
   "outputs": [],
   "source": []
  },
  {
   "cell_type": "code",
   "execution_count": null,
   "id": "612f1737",
   "metadata": {
    "papermill": {
     "duration": 0.064854,
     "end_time": "2022-04-16T19:26:28.529235",
     "exception": false,
     "start_time": "2022-04-16T19:26:28.464381",
     "status": "completed"
    },
    "tags": []
   },
   "outputs": [],
   "source": []
  }
 ],
 "metadata": {
  "kernelspec": {
   "display_name": "Python 3",
   "language": "python",
   "name": "python3"
  },
  "language_info": {
   "codemirror_mode": {
    "name": "ipython",
    "version": 3
   },
   "file_extension": ".py",
   "mimetype": "text/x-python",
   "name": "python",
   "nbconvert_exporter": "python",
   "pygments_lexer": "ipython3",
   "version": "3.7.12"
  },
  "papermill": {
   "default_parameters": {},
   "duration": 6868.907499,
   "end_time": "2022-04-16T19:26:30.116245",
   "environment_variables": {},
   "exception": null,
   "input_path": "__notebook__.ipynb",
   "output_path": "__notebook__.ipynb",
   "parameters": {},
   "start_time": "2022-04-16T17:32:01.208746",
   "version": "2.3.3"
  }
 },
 "nbformat": 4,
 "nbformat_minor": 5
}
