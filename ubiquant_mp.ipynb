{
 "cells": [
  {
   "cell_type": "code",
   "execution_count": 1,
   "id": "63152e41",
   "metadata": {
    "_cell_guid": "b1076dfc-b9ad-4769-8c92-a6c4dae69d19",
    "_uuid": "8f2839f25d086af736a60e9eeb907d3b93b6e0e5",
    "execution": {
     "iopub.execute_input": "2022-04-19T07:45:16.032774Z",
     "iopub.status.busy": "2022-04-19T07:45:16.031735Z",
     "iopub.status.idle": "2022-04-19T07:45:18.504759Z",
     "shell.execute_reply": "2022-04-19T07:45:18.503667Z",
     "shell.execute_reply.started": "2022-04-16T16:41:03.365194Z"
    },
    "papermill": {
     "duration": 2.517362,
     "end_time": "2022-04-19T07:45:18.504941",
     "exception": false,
     "start_time": "2022-04-19T07:45:15.987579",
     "status": "completed"
    },
    "tags": []
   },
   "outputs": [],
   "source": [
    "import numpy as np\n",
    "import pandas as pd\n",
    "import matplotlib.pyplot as plt\n",
    "%matplotlib inline\n",
    "import seaborn as sns\n",
    "import torch"
   ]
  },
  {
   "cell_type": "code",
   "execution_count": 2,
   "id": "feab0b24",
   "metadata": {
    "execution": {
     "iopub.execute_input": "2022-04-19T07:45:18.574821Z",
     "iopub.status.busy": "2022-04-19T07:45:18.573598Z",
     "iopub.status.idle": "2022-04-19T07:45:18.576352Z",
     "shell.execute_reply": "2022-04-19T07:45:18.575760Z",
     "shell.execute_reply.started": "2022-04-16T16:41:05.611564Z"
    },
    "papermill": {
     "duration": 0.039343,
     "end_time": "2022-04-19T07:45:18.576483",
     "exception": false,
     "start_time": "2022-04-19T07:45:18.537140",
     "status": "completed"
    },
    "tags": []
   },
   "outputs": [],
   "source": [
    "data_types_dict = {\n",
    "    'time_id': 'int32',\n",
    "    'investment_id': 'int16',\n",
    "    \"target\": 'float16',\n",
    "}\n",
    "\n",
    "features = [f'f_{i}' for i in range(300)]\n",
    "\n",
    "for f in features:\n",
    "    data_types_dict[f] = 'float16'"
   ]
  },
  {
   "cell_type": "code",
   "execution_count": 3,
   "id": "d6914dee",
   "metadata": {
    "execution": {
     "iopub.execute_input": "2022-04-19T07:45:18.641973Z",
     "iopub.status.busy": "2022-04-19T07:45:18.640879Z",
     "iopub.status.idle": "2022-04-19T07:45:18.670820Z",
     "shell.execute_reply": "2022-04-19T07:45:18.669839Z",
     "shell.execute_reply.started": "2022-04-16T16:41:05.61848Z"
    },
    "papermill": {
     "duration": 0.063776,
     "end_time": "2022-04-19T07:45:18.670954",
     "exception": false,
     "start_time": "2022-04-19T07:45:18.607178",
     "status": "completed"
    },
    "tags": []
   },
   "outputs": [],
   "source": [
    "data = pd.read_csv('../input/ubiquant-market-prediction/train.csv', \n",
    "                       usecols = data_types_dict.keys(),\n",
    "                       dtype=data_types_dict,\n",
    "                       index_col = 0, chunksize = 3141410) #3141410"
   ]
  },
  {
   "cell_type": "code",
   "execution_count": 4,
   "id": "fcb1b2a0",
   "metadata": {
    "execution": {
     "iopub.execute_input": "2022-04-19T07:45:18.739739Z",
     "iopub.status.busy": "2022-04-19T07:45:18.738510Z",
     "iopub.status.idle": "2022-04-19T07:52:24.225975Z",
     "shell.execute_reply": "2022-04-19T07:52:24.225379Z",
     "shell.execute_reply.started": "2022-04-16T16:41:06.707683Z"
    },
    "papermill": {
     "duration": 425.522988,
     "end_time": "2022-04-19T07:52:24.226158",
     "exception": false,
     "start_time": "2022-04-19T07:45:18.703170",
     "status": "completed"
    },
    "tags": []
   },
   "outputs": [
    {
     "name": "stderr",
     "output_type": "stream",
     "text": [
      "/opt/conda/lib/python3.7/site-packages/numpy/lib/arraysetops.py:583: FutureWarning: elementwise comparison failed; returning scalar instead, but in the future will perform elementwise comparison\n",
      "  mask |= (ar1 == a)\n"
     ]
    }
   ],
   "source": [
    "data = next(iter(data))"
   ]
  },
  {
   "cell_type": "code",
   "execution_count": 5,
   "id": "48f3e150",
   "metadata": {
    "execution": {
     "iopub.execute_input": "2022-04-19T07:52:24.356986Z",
     "iopub.status.busy": "2022-04-19T07:52:24.355831Z",
     "iopub.status.idle": "2022-04-19T07:52:28.331125Z",
     "shell.execute_reply": "2022-04-19T07:52:28.330158Z"
    },
    "papermill": {
     "duration": 4.067673,
     "end_time": "2022-04-19T07:52:28.331343",
     "exception": false,
     "start_time": "2022-04-19T07:52:24.263670",
     "status": "completed"
    },
    "tags": []
   },
   "outputs": [],
   "source": [
    "target = data['target']\n",
    "data.drop(['target'], inplace=True, axis=1)"
   ]
  },
  {
   "cell_type": "code",
   "execution_count": 6,
   "id": "fa1bc827",
   "metadata": {
    "execution": {
     "iopub.execute_input": "2022-04-19T07:52:28.405157Z",
     "iopub.status.busy": "2022-04-19T07:52:28.403007Z",
     "iopub.status.idle": "2022-04-19T07:52:28.405960Z",
     "shell.execute_reply": "2022-04-19T07:52:28.406545Z",
     "shell.execute_reply.started": "2022-04-16T16:42:29.374882Z"
    },
    "papermill": {
     "duration": 0.042046,
     "end_time": "2022-04-19T07:52:28.406725",
     "exception": false,
     "start_time": "2022-04-19T07:52:28.364679",
     "status": "completed"
    },
    "tags": []
   },
   "outputs": [],
   "source": [
    "from scipy.stats import pearsonr \n",
    "def est_score(model):\n",
    "    y_pred = model.predict(X_test)\n",
    "    return pearsonr(y_pred, y_test)[0]"
   ]
  },
  {
   "cell_type": "code",
   "execution_count": 7,
   "id": "31787693",
   "metadata": {
    "execution": {
     "iopub.execute_input": "2022-04-19T07:52:28.594176Z",
     "iopub.status.busy": "2022-04-19T07:52:28.593394Z",
     "iopub.status.idle": "2022-04-19T07:52:28.597255Z",
     "shell.execute_reply": "2022-04-19T07:52:28.596622Z",
     "shell.execute_reply.started": "2022-04-16T16:42:29.433698Z"
    },
    "papermill": {
     "duration": 0.157659,
     "end_time": "2022-04-19T07:52:28.597458",
     "exception": false,
     "start_time": "2022-04-19T07:52:28.439799",
     "status": "completed"
    },
    "tags": []
   },
   "outputs": [],
   "source": [
    "device = torch.device('cuda') if torch.cuda.is_available() else torch.device('cpu')\n",
    "\n",
    "def move_to(data, device):\n",
    "    \"\"\"\n",
    "    moving data to device\n",
    "    :param data: data to move\n",
    "    :param device: device\n",
    "    :return: moved data\n",
    "    \"\"\"\n",
    "\n",
    "    if isinstance(data, (list, tuple)):\n",
    "        return [move_to(x, device) for x in data]\n",
    "    return data.to(device, non_blocking=True)"
   ]
  },
  {
   "cell_type": "code",
   "execution_count": 8,
   "id": "0dc1994b",
   "metadata": {
    "execution": {
     "iopub.execute_input": "2022-04-19T07:52:28.669156Z",
     "iopub.status.busy": "2022-04-19T07:52:28.668152Z",
     "iopub.status.idle": "2022-04-19T07:52:28.671951Z",
     "shell.execute_reply": "2022-04-19T07:52:28.672518Z",
     "shell.execute_reply.started": "2022-04-16T16:42:29.51752Z"
    },
    "papermill": {
     "duration": 0.042262,
     "end_time": "2022-04-19T07:52:28.672683",
     "exception": false,
     "start_time": "2022-04-19T07:52:28.630421",
     "status": "completed"
    },
    "tags": []
   },
   "outputs": [],
   "source": [
    "def batch_loader(X, y, batch_size = 4096, equal=False):\n",
    "    i = 0\n",
    "    while True:\n",
    "        if i + batch_size >= y.shape[0]: \n",
    "            break\n",
    "            \n",
    "        yield X.iloc[i:i+batch_size, :], y[i:i+batch_size]\n",
    "        i += batch_size"
   ]
  },
  {
   "cell_type": "code",
   "execution_count": 9,
   "id": "09d4fe63",
   "metadata": {
    "execution": {
     "iopub.execute_input": "2022-04-19T07:52:28.744795Z",
     "iopub.status.busy": "2022-04-19T07:52:28.743697Z",
     "iopub.status.idle": "2022-04-19T07:52:28.746052Z",
     "shell.execute_reply": "2022-04-19T07:52:28.746729Z",
     "shell.execute_reply.started": "2022-04-16T16:42:29.525827Z"
    },
    "papermill": {
     "duration": 0.041621,
     "end_time": "2022-04-19T07:52:28.746890",
     "exception": false,
     "start_time": "2022-04-19T07:52:28.705269",
     "status": "completed"
    },
    "tags": []
   },
   "outputs": [],
   "source": [
    "def pearson_loss(x, y):\n",
    "    vx = x - torch.mean(x)\n",
    "    vy = y - torch.mean(y)\n",
    "    loss = -torch.sum(vx*vy) / (torch.sqrt(torch.sum(vx*vx)) * torch.sqrt(torch.sum(vy*vy)))\n",
    "    return loss"
   ]
  },
  {
   "cell_type": "code",
   "execution_count": 10,
   "id": "30c60698",
   "metadata": {
    "execution": {
     "iopub.execute_input": "2022-04-19T07:52:28.818714Z",
     "iopub.status.busy": "2022-04-19T07:52:28.817690Z",
     "iopub.status.idle": "2022-04-19T07:52:28.821353Z",
     "shell.execute_reply": "2022-04-19T07:52:28.820797Z",
     "shell.execute_reply.started": "2022-04-16T16:42:29.538344Z"
    },
    "papermill": {
     "duration": 0.041857,
     "end_time": "2022-04-19T07:52:28.821490",
     "exception": false,
     "start_time": "2022-04-19T07:52:28.779633",
     "status": "completed"
    },
    "tags": []
   },
   "outputs": [],
   "source": [
    "def reduce_matching(a):\n",
    "    a = a[0].tolist()\n",
    "    ids = list(set(a))\n",
    "    ids_dict = {}\n",
    "    for i in range(len(ids)):\n",
    "        ids_dict[ids[i]] = i\n",
    "\n",
    "    for i in range(len(a)):\n",
    "        a[i] = ids_dict[a[i]]\n",
    "    return move_to(torch.FloatTensor(a).view(-1, 1), device)"
   ]
  },
  {
   "cell_type": "code",
   "execution_count": 11,
   "id": "b7b816c9",
   "metadata": {
    "execution": {
     "iopub.execute_input": "2022-04-19T07:52:28.888059Z",
     "iopub.status.busy": "2022-04-19T07:52:28.886942Z",
     "iopub.status.idle": "2022-04-19T07:52:28.892719Z",
     "shell.execute_reply": "2022-04-19T07:52:28.892113Z",
     "shell.execute_reply.started": "2022-04-16T16:42:29.548316Z"
    },
    "papermill": {
     "duration": 0.040077,
     "end_time": "2022-04-19T07:52:28.892853",
     "exception": false,
     "start_time": "2022-04-19T07:52:28.852776",
     "status": "completed"
    },
    "tags": []
   },
   "outputs": [],
   "source": [
    "def standard(a):\n",
    "    a -= a.mean()\n",
    "    a /= a.std()\n",
    "    return a"
   ]
  },
  {
   "cell_type": "code",
   "execution_count": 12,
   "id": "736fc710",
   "metadata": {
    "execution": {
     "iopub.execute_input": "2022-04-19T07:52:28.959770Z",
     "iopub.status.busy": "2022-04-19T07:52:28.958683Z",
     "iopub.status.idle": "2022-04-19T07:52:28.973151Z",
     "shell.execute_reply": "2022-04-19T07:52:28.973684Z",
     "shell.execute_reply.started": "2022-04-16T16:46:15.428371Z"
    },
    "papermill": {
     "duration": 0.048466,
     "end_time": "2022-04-19T07:52:28.973841",
     "exception": false,
     "start_time": "2022-04-19T07:52:28.925375",
     "status": "completed"
    },
    "tags": []
   },
   "outputs": [],
   "source": [
    "class DNN_Model(torch.nn.Module):\n",
    "    def __init__(self, deep_size):\n",
    "        super().__init__()\n",
    "        self.deep_size = deep_size\n",
    "        self.index = 0\n",
    "        self.model_name = 'DNN_Model_0'\n",
    "        self.linear_1 = torch.nn.Linear(300, deep_size)\n",
    "        self.linear_2 = torch.nn.Linear(deep_size, deep_size)\n",
    "        self.linear_3 = torch.nn.Linear(deep_size+64, 128)\n",
    "        self.linear_4 = torch.nn.Linear(128, 128)\n",
    "        self.linear_5 = torch.nn.Linear(128, 64)\n",
    "        self.linear_6 = torch.nn.Linear(64, 1)\n",
    "        \n",
    "        self.id_linear_1 = torch.nn.Linear(1, 16)\n",
    "        self.id_linear_2 = torch.nn.Linear(16, 32)\n",
    "        self.id_linear_3 = torch.nn.Linear(32, 64)\n",
    "        \n",
    "        self.dout = torch.nn.Dropout(p=0.5)\n",
    "        self.act = torch.nn.SiLU()\n",
    "    \n",
    "    def tensor_forward(self, X_tensor):\n",
    "        X_tensor = move_to(X_tensor, device)\n",
    "        ids = X_tensor[:, 0].view(1, -1)\n",
    "        X_tensor = X_tensor[:, 1:]\n",
    "        \n",
    "        ids = standard(reduce_matching(ids))\n",
    "        \n",
    "        ids = self.act(self.id_linear_1(ids))\n",
    "        ids = self.act(self.id_linear_2(ids))\n",
    "        ids = self.act(self.id_linear_3(ids))\n",
    "        \n",
    "        tensor_X = self.act(self.linear_1(X_tensor))\n",
    "        tensor_X = self.act(self.linear_2(tensor_X))\n",
    "        \n",
    "        tensor_X = torch.cat([tensor_X, ids], axis=1)\n",
    "        \n",
    "        tensor_X = self.act(self.linear_3(tensor_X))\n",
    "        tensor_X = self.dout(tensor_X)\n",
    "        tensor_X = self.act(self.linear_4(tensor_X))\n",
    "        tensor_X = self.act(self.linear_5(tensor_X))\n",
    "        tensor_X = self.linear_6(tensor_X)\n",
    "        return tensor_X \n",
    "\n",
    "    def forward(self, X):\n",
    "        tensor_X = torch.FloatTensor(X.values)\n",
    "        return self.tensor_forward(tensor_X)"
   ]
  },
  {
   "cell_type": "code",
   "execution_count": 13,
   "id": "f0d6e254",
   "metadata": {
    "execution": {
     "iopub.execute_input": "2022-04-19T07:52:29.053360Z",
     "iopub.status.busy": "2022-04-19T07:52:29.052212Z",
     "iopub.status.idle": "2022-04-19T07:52:29.054814Z",
     "shell.execute_reply": "2022-04-19T07:52:29.055340Z",
     "shell.execute_reply.started": "2022-04-16T16:42:29.575012Z"
    },
    "papermill": {
     "duration": 0.05,
     "end_time": "2022-04-19T07:52:29.055494",
     "exception": false,
     "start_time": "2022-04-19T07:52:29.005494",
     "status": "completed"
    },
    "tags": []
   },
   "outputs": [],
   "source": [
    "class DNN_Model_1(torch.nn.Module):\n",
    "    def __init__(self, deep_size):\n",
    "        super().__init__()\n",
    "        self.deep_size = deep_size\n",
    "        self.index = 1\n",
    "        self.model = torch.nn.Sequential(\n",
    "            torch.nn.Linear(300, deep_size),\n",
    "            torch.nn.SiLU(),\n",
    "            torch.nn.Linear(deep_size, deep_size),\n",
    "            torch.nn.SiLU(),\n",
    "            torch.nn.Dropout(p=0.3),\n",
    "            \n",
    "            torch.nn.Linear(deep_size, deep_size),\n",
    "            torch.nn.SiLU(),\n",
    "            torch.nn.Linear(deep_size, deep_size),\n",
    "            torch.nn.SiLU(),\n",
    "            torch.nn.Dropout(p=0.3),\n",
    "            \n",
    "            torch.nn.Linear(deep_size, deep_size),\n",
    "            torch.nn.SiLU(),\n",
    "            torch.nn.Linear(deep_size, deep_size),\n",
    "            torch.nn.SiLU(),\n",
    "            torch.nn.Dropout(p=0.3),\n",
    "            \n",
    "            torch.nn.Linear(deep_size, deep_size),\n",
    "            torch.nn.SiLU(),\n",
    "            torch.nn.Linear(deep_size, deep_size),\n",
    "            torch.nn.SiLU(),\n",
    "            torch.nn.Dropout(p=0.3),\n",
    "            \n",
    "            torch.nn.Linear(deep_size, deep_size),\n",
    "            torch.nn.SiLU(),\n",
    "            torch.nn.Linear(deep_size, deep_size),\n",
    "            torch.nn.SiLU(),\n",
    "            torch.nn.Dropout(p=0.3),\n",
    "            \n",
    "            torch.nn.Linear(deep_size, deep_size),\n",
    "            torch.nn.SiLU(),\n",
    "            torch.nn.Dropout(p=0.3),\n",
    "            \n",
    "            torch.nn.Linear(deep_size, deep_size),\n",
    "            torch.nn.SiLU(),\n",
    "            torch.nn.Linear(deep_size, 1)\n",
    "        )\n",
    "        \n",
    "        self.model_name = 'DNN_Model_1'\n",
    "        \n",
    "                \n",
    "    def tensor_forward(self, X_tensor):\n",
    "        X_tensor = move_to(X_tensor, device)\n",
    "        X_tensor = X_tensor[:, 1:]\n",
    "        return self.model(X_tensor)\n",
    "\n",
    "    def forward(self, X):\n",
    "        tensor_X = torch.FloatTensor(X.values)\n",
    "        return self.tensor_forward(tensor_X)"
   ]
  },
  {
   "cell_type": "code",
   "execution_count": 14,
   "id": "9f1fb062",
   "metadata": {
    "execution": {
     "iopub.execute_input": "2022-04-19T07:52:29.138376Z",
     "iopub.status.busy": "2022-04-19T07:52:29.137207Z",
     "iopub.status.idle": "2022-04-19T07:52:29.140259Z",
     "shell.execute_reply": "2022-04-19T07:52:29.140869Z",
     "shell.execute_reply.started": "2022-04-16T16:42:29.590869Z"
    },
    "papermill": {
     "duration": 0.053285,
     "end_time": "2022-04-19T07:52:29.141027",
     "exception": false,
     "start_time": "2022-04-19T07:52:29.087742",
     "status": "completed"
    },
    "tags": []
   },
   "outputs": [],
   "source": [
    "class DNN_Model_2(torch.nn.Module):\n",
    "    def __init__(self, deep_size):\n",
    "        super().__init__()\n",
    "        self.deep_size = deep_size\n",
    "        self.index = 2\n",
    "        self.model_name = 'DNN_Model_2'\n",
    "        self.linear_1 = torch.nn.Linear(300, deep_size)\n",
    "        self.linear_2 = torch.nn.Linear(deep_size, 350)\n",
    "        self.linear_3 = torch.nn.Linear(350, deep_size)\n",
    "        self.linear_4 = torch.nn.Linear(deep_size+64, 256)\n",
    "        self.linear_5 = torch.nn.Linear(256, 256)\n",
    "        self.linear_6 = torch.nn.Linear(256, 128)\n",
    "        self.linear_7 = torch.nn.Linear(128, 128)\n",
    "        self.linear_8 = torch.nn.Linear(128, 64)\n",
    "        self.linear_9 = torch.nn.Linear(64, 1)\n",
    "        \n",
    "        self.id_linear_1 = torch.nn.Linear(1, 32)\n",
    "        self.id_linear_2 = torch.nn.Linear(32, 64)\n",
    "        self.id_linear_3 = torch.nn.Linear(64, 100)\n",
    "        self.id_linear_4 = torch.nn.Linear(100, 64)\n",
    "        self.id_linear_5 = torch.nn.Linear(64, 64)\n",
    "        \n",
    "        self.dout = torch.nn.Dropout(p=0.4)\n",
    "        self.act = torch.nn.SiLU()\n",
    "    \n",
    "    def tensor_forward(self, X_tensor):\n",
    "        X_tensor = move_to(X_tensor, device)\n",
    "        ids = X_tensor[:, 0].view(1, -1)\n",
    "        X_tensor = X_tensor[:, 1:]\n",
    "        \n",
    "        ids = standard(reduce_matching(ids))\n",
    "        \n",
    "        ids = self.act(self.id_linear_1(ids))\n",
    "        ids = self.act(self.id_linear_2(ids))\n",
    "        ids = self.act(self.id_linear_3(ids))\n",
    "        ids = self.dout(ids)\n",
    "        ids = self.act(self.id_linear_4(ids))\n",
    "        ids = self.act(self.id_linear_5(ids))\n",
    "        \n",
    "        tensor_X = self.act(self.linear_1(X_tensor))\n",
    "        tensor_X = self.act(self.linear_2(tensor_X))\n",
    "        tensor_X = self.dout(tensor_X)\n",
    "        tensor_X = self.act(self.linear_3(tensor_X))\n",
    "        \n",
    "        tensor_X = torch.cat([tensor_X, ids], axis=1)\n",
    "        \n",
    "        tensor_X = self.act(self.linear_4(tensor_X))\n",
    "        tensor_X = self.act(self.linear_5(tensor_X))\n",
    "        tensor_X = self.dout(tensor_X)\n",
    "        tensor_X_6 = self.act(self.linear_6(tensor_X))\n",
    "        tensor_X = self.act(self.linear_7(tensor_X_6))\n",
    "        tensor_X = self.act(self.linear_8(tensor_X + tensor_X_6))\n",
    "        tensor_X = self.linear_9(tensor_X)\n",
    "        return tensor_X \n",
    "\n",
    "    def forward(self, X):\n",
    "        tensor_X = torch.FloatTensor(X.values)\n",
    "        return self.tensor_forward(tensor_X)"
   ]
  },
  {
   "cell_type": "code",
   "execution_count": 15,
   "id": "5cd8d5bf",
   "metadata": {
    "execution": {
     "iopub.execute_input": "2022-04-19T07:52:29.224373Z",
     "iopub.status.busy": "2022-04-19T07:52:29.218735Z",
     "iopub.status.idle": "2022-04-19T07:52:29.227752Z",
     "shell.execute_reply": "2022-04-19T07:52:29.227058Z",
     "shell.execute_reply.started": "2022-04-16T16:42:29.610383Z"
    },
    "papermill": {
     "duration": 0.054857,
     "end_time": "2022-04-19T07:52:29.227888",
     "exception": false,
     "start_time": "2022-04-19T07:52:29.173031",
     "status": "completed"
    },
    "tags": []
   },
   "outputs": [],
   "source": [
    "class DNN_Model_3(torch.nn.Module):\n",
    "    def __init__(self, deep_size):\n",
    "        super().__init__()\n",
    "        self.deep_size = deep_size\n",
    "        self.index = 3\n",
    "        self.linear1 = torch.nn.Linear(300, deep_size)\n",
    "        \n",
    "        self.linear2_1 = torch.nn.Linear(deep_size, deep_size)\n",
    "        self.linear2_2 = torch.nn.Linear(deep_size, deep_size)\n",
    "        self.linear2_3 = torch.nn.Linear(deep_size, deep_size)\n",
    "        \n",
    "        self.linear3_1 = torch.nn.Linear(deep_size, deep_size)\n",
    "        self.linear3_2 = torch.nn.Linear(deep_size, deep_size)\n",
    "        self.linear3_3 = torch.nn.Linear(deep_size, deep_size)\n",
    "        \n",
    "        self.linear4_1 = torch.nn.Linear(deep_size, deep_size)\n",
    "        self.linear4_2 = torch.nn.Linear(deep_size, deep_size)\n",
    "        self.linear4_3 = torch.nn.Linear(deep_size, deep_size)\n",
    "        \n",
    "        self.linear5_1 = torch.nn.Linear(deep_size, deep_size)\n",
    "        self.linear5_2 = torch.nn.Linear(deep_size, deep_size)\n",
    "        self.linear5_3 = torch.nn.Linear(deep_size, deep_size)\n",
    "        \n",
    "        self.linear6_1 = torch.nn.Linear(deep_size, deep_size)\n",
    "        self.linear6_2 = torch.nn.Linear(deep_size, 1)\n",
    "        \n",
    "        self.act = torch.nn.SiLU()\n",
    "        self.dout = torch.nn.Dropout(p=0.5)\n",
    "        \n",
    "        self.model_name = 'DNN_Model_3'\n",
    "\n",
    "                \n",
    "    def tensor_forward(self, X_tensor):\n",
    "        X_tensor = move_to(X_tensor, device)\n",
    "        X_tensor = X_tensor[:, 1:]\n",
    "        X_tensor = self.act(self.linear1(X_tensor))\n",
    "        \n",
    "        X_tensor = self.act(self.linear2_1(X_tensor))\n",
    "        X_tensor = self.act(self.linear2_2(X_tensor))\n",
    "        X_tensor = self.dout(X_tensor)\n",
    "        res_2 = self.act(self.linear2_3(X_tensor))\n",
    "        \n",
    "        X_tensor = self.act(self.linear3_1(res_2))\n",
    "        X_tensor = self.act(self.linear3_2(X_tensor))\n",
    "        X_tensor = self.dout(X_tensor)\n",
    "        res_3 = self.act(self.linear3_3(X_tensor))\n",
    "        \n",
    "        X_tensor = self.act(self.linear4_1(res_2 + res_3))\n",
    "        X_tensor = self.act(self.linear4_2(X_tensor))\n",
    "        X_tensor = self.dout(X_tensor)\n",
    "        res_4 = self.act(self.linear4_3(X_tensor))\n",
    "        \n",
    "        res_4 = X_tensor\n",
    "\n",
    "        X_tensor = self.act(self.linear5_1(res_3 + res_4))\n",
    "        X_tensor = self.act(self.linear5_2(X_tensor))\n",
    "        X_tensor = self.dout(X_tensor)\n",
    "        X_tensor = self.act(self.linear5_3(X_tensor))\n",
    "        \n",
    "        X_tensor = self.act(self.linear6_1(X_tensor + res_4))\n",
    "        X_tensor = self.linear6_2(X_tensor)\n",
    "        \n",
    "        return X_tensor\n",
    "        \n",
    "\n",
    "    def forward(self, X):\n",
    "        tensor_X = torch.FloatTensor(X.values)\n",
    "        return self.tensor_forward(tensor_X)"
   ]
  },
  {
   "cell_type": "code",
   "execution_count": 16,
   "id": "a5704c44",
   "metadata": {
    "execution": {
     "iopub.execute_input": "2022-04-19T07:52:29.300941Z",
     "iopub.status.busy": "2022-04-19T07:52:29.299786Z",
     "iopub.status.idle": "2022-04-19T07:52:29.308143Z",
     "shell.execute_reply": "2022-04-19T07:52:29.307497Z",
     "shell.execute_reply.started": "2022-04-16T16:42:29.630361Z"
    },
    "papermill": {
     "duration": 0.048266,
     "end_time": "2022-04-19T07:52:29.308353",
     "exception": false,
     "start_time": "2022-04-19T07:52:29.260087",
     "status": "completed"
    },
    "tags": []
   },
   "outputs": [],
   "source": [
    "class DNN_Model_4(torch.nn.Module):\n",
    "    def __init__(self, deep_size):\n",
    "        super().__init__()\n",
    "        self.deep_size = deep_size\n",
    "        self.index = 4\n",
    "        act_1 = torch.nn.SiLU\n",
    "        self.model = self.model = torch.nn.Sequential(\n",
    "            torch.nn.Linear(300, deep_size),\n",
    "            act_1(),\n",
    "            torch.nn.Linear(deep_size, deep_size),\n",
    "            act_1(),\n",
    "            torch.nn.Linear(deep_size, 2*deep_size),\n",
    "            act_1(),\n",
    "            torch.nn.Linear(2*deep_size, 2*deep_size),\n",
    "            \n",
    "            torch.nn.Dropout(p=0.4),\n",
    "            \n",
    "            torch.nn.Linear(2*deep_size, 2*deep_size),\n",
    "            act_1(),\n",
    "            torch.nn.Linear(2*deep_size, 2*deep_size),\n",
    "            act_1(),\n",
    "            torch.nn.Linear(2*deep_size, deep_size),\n",
    "            act_1(),\n",
    "            \n",
    "            torch.nn.Dropout(p=0.4),\n",
    "            \n",
    "            torch.nn.Linear(deep_size, deep_size),\n",
    "            act_1(),\n",
    "            torch.nn.Linear(deep_size, deep_size),\n",
    "            act_1(),\n",
    "            torch.nn.Linear(deep_size, 1)\n",
    "            \n",
    "        )\n",
    "        \n",
    "        self.model_name = 'DNN_Model_4'\n",
    "        \n",
    "                \n",
    "    def tensor_forward(self, X_tensor):\n",
    "        X_tensor = move_to(X_tensor, device)\n",
    "        X_tensor = X_tensor[:, 1:]\n",
    "        return self.model(X_tensor)\n",
    "\n",
    "    def forward(self, X):\n",
    "        tensor_X = torch.FloatTensor(X.values)\n",
    "        return self.tensor_forward(tensor_X)"
   ]
  },
  {
   "cell_type": "code",
   "execution_count": 17,
   "id": "0f98c8e0",
   "metadata": {
    "execution": {
     "iopub.execute_input": "2022-04-19T07:52:29.375587Z",
     "iopub.status.busy": "2022-04-19T07:52:29.373046Z",
     "iopub.status.idle": "2022-04-19T07:52:29.379221Z",
     "shell.execute_reply": "2022-04-19T07:52:29.380022Z",
     "shell.execute_reply.started": "2022-04-16T16:42:29.643266Z"
    },
    "papermill": {
     "duration": 0.040908,
     "end_time": "2022-04-19T07:52:29.380204",
     "exception": false,
     "start_time": "2022-04-19T07:52:29.339296",
     "status": "completed"
    },
    "tags": []
   },
   "outputs": [],
   "source": [
    "dnn_models = [DNN_Model, DNN_Model_1, DNN_Model_2, DNN_Model_3, DNN_Model_4]"
   ]
  },
  {
   "cell_type": "code",
   "execution_count": 18,
   "id": "0a4bc4d3",
   "metadata": {
    "execution": {
     "iopub.execute_input": "2022-04-19T07:52:29.454441Z",
     "iopub.status.busy": "2022-04-19T07:52:29.453548Z",
     "iopub.status.idle": "2022-04-19T07:52:29.456995Z",
     "shell.execute_reply": "2022-04-19T07:52:29.456427Z",
     "shell.execute_reply.started": "2022-04-16T16:42:29.663057Z"
    },
    "papermill": {
     "duration": 0.045059,
     "end_time": "2022-04-19T07:52:29.457186",
     "exception": false,
     "start_time": "2022-04-19T07:52:29.412127",
     "status": "completed"
    },
    "tags": []
   },
   "outputs": [],
   "source": [
    "def corr_based_coefs(a):\n",
    "    if a.shape[0] < 2:\n",
    "        return np.array([1])\n",
    "    preds_sum = np.sum(a, axis=0)\n",
    "    corrs = np.array([pearsonr( (preds_sum-a[i])/(a.shape[0]-1), a[i])[0] for i in range(a.shape[0])])\n",
    "    corrs = 1 - corrs\n",
    "    corrs /= np.sum(corrs)\n",
    "    return corrs"
   ]
  },
  {
   "cell_type": "code",
   "execution_count": 19,
   "id": "fa238877",
   "metadata": {
    "execution": {
     "iopub.execute_input": "2022-04-19T07:52:29.551769Z",
     "iopub.status.busy": "2022-04-19T07:52:29.540430Z",
     "iopub.status.idle": "2022-04-19T07:52:29.554822Z",
     "shell.execute_reply": "2022-04-19T07:52:29.554221Z",
     "shell.execute_reply.started": "2022-04-16T20:48:37.303144Z"
    },
    "papermill": {
     "duration": 0.065821,
     "end_time": "2022-04-19T07:52:29.554954",
     "exception": false,
     "start_time": "2022-04-19T07:52:29.489133",
     "status": "completed"
    },
    "tags": []
   },
   "outputs": [],
   "source": [
    "class StackedDNN:\n",
    "    def __init__(self, n, model, min_deep=30, max_deep=40):\n",
    "        self.nets = [model(np.random.randint(min_deep, max_deep)) for i in range(n)]\n",
    "        self.model_name = self.nets[0].model_name\n",
    "        for net in self.nets:\n",
    "            net = move_to(net, device)\n",
    "    \n",
    "    def fit(self, X, y, iters, batch_size=4096, subset=1, float_subset=True, silent=True, logs=True, plot=False, val=False, X_val=None, y_val=None):\n",
    "        \n",
    "        if val:\n",
    "            tensor_train_val = move_to(torch.FloatTensor(X_val.values), device)\n",
    "            tensor_y_val = move_to(torch.FloatTensor(y_val.values), device)\n",
    "            \n",
    "        if logs and silent:\n",
    "            print(f'Net {self.nets[0].model_name}')\n",
    "            \n",
    "        for i in range(len(self.nets)):\n",
    "    \n",
    "            scores_train = []\n",
    "            scores_val = []\n",
    "        \n",
    "            if val:\n",
    "                tensor_train_val = move_to(torch.FloatTensor(X_val.values).clone(), device)\n",
    "                tensor_y_val = move_to(torch.FloatTensor(y_val.values), device)\n",
    "            scores_train = []\n",
    "            scores_val = []\n",
    "\n",
    "            opt = torch.optim.Adam(self.nets[i].parameters(), lr=5e-4)\n",
    "\n",
    "            if float_subset:\n",
    "                subset_ind = np.random.uniform(subset, 1)\n",
    "\n",
    "            subset_ind = np.random.choice(batch_size, int(batch_size*subset))\n",
    "            \n",
    "            if not silent:\n",
    "                print(f'>>> Net {i + 1}/{len(self.nets)}')\n",
    "                print(f'Deep size: {self.nets[i].deep_size}')\n",
    "                print()\n",
    "                \n",
    "                \n",
    "            for epoch in range(iters):\n",
    "                offset = 0\n",
    "                #learning cycle\n",
    "                while offset + batch_size < y.shape[0]: \n",
    "                    self.nets[i].train()\n",
    "                    self.nets[i].zero_grad()\n",
    "                    X_tensor = move_to(torch.FloatTensor(X.iloc[offset:offset+batch_size, :].values), device)\n",
    "                    y_tensor = move_to(torch.FloatTensor(y[offset:offset+batch_size].values), device)\n",
    "                    X_tensor = X_tensor[subset_ind,:]\n",
    "                    y_tensor = y_tensor[subset_ind]\n",
    "                    \n",
    "                    loss = pearson_loss(self.nets[i].tensor_forward(X_tensor).view(-1), y_tensor)\n",
    "                    loss.backward()\n",
    "                    opt.step()\n",
    "                    offset += batch_size\n",
    "\n",
    "                #prints\n",
    "                if val:\n",
    "                    self.nets[i].eval()\n",
    "                    val_loss = pearson_loss(self.nets[i].tensor_forward(tensor_train_val).view(-1), tensor_y_val)\n",
    "                    scores_val.append(float(val_loss.detach()))\n",
    "                scores_train.append(float(loss.detach()))\n",
    "\n",
    "                if not silent:\n",
    "                    print(f'epoch {epoch} finished with {loss} loss')\n",
    "                    if val:\n",
    "                        print(f'val loss {val_loss}')\n",
    "                \n",
    "            if logs and silent:\n",
    "                print(f'Net {i+1}/{len(self.nets)} fitted')\n",
    "                \n",
    "            if not silent:\n",
    "                if val:\n",
    "                    print(f'Finished with \\n train loss: {loss}\\n val loss: {val_loss}')\n",
    "                else:\n",
    "                    print(f'Finished with {loss} loss')\n",
    "            if plot:\n",
    "                if val:\n",
    "                    sns.lineplot(x=range(iters), y=scores_train, label='train')\n",
    "                    sns.lineplot(x=range(iters), y=scores_val, label='val')\n",
    "                else:\n",
    "                    sns.lineplot(scores_train)\n",
    "                plt.plot()\n",
    "\n",
    "        \n",
    "    def predict(self, X):\n",
    "        y_pred = np.ndarray([len(self.nets), X.shape[0]])\n",
    "        for i in range(len(self.nets)):\n",
    "            self.nets[i].eval()\n",
    "            y_pred[i] = np.array(self.nets[i].forward(X).detach().view(-1).cpu())\n",
    "        y_pred = corr_based_coefs(y_pred).dot(y_pred)\n",
    "        return y_pred\n",
    "    \n",
    "    def save(self):\n",
    "        import os\n",
    "        try:\n",
    "            os.mkdir(f'./{self.model_name}')\n",
    "        except:\n",
    "            pass\n",
    "        with open(f'./{self.model_name}/config.txt', 'w') as f:\n",
    "            f.write(str(self.nets[0].index) + '\\n')\n",
    "            for i in range(len(self.nets)):\n",
    "                torch.save(self.nets[i].state_dict(), f'./{self.model_name}/model:{i}')\n",
    "                f.write(str(self.nets[i].deep_size) + '\\n')\n",
    "\n",
    "    \n",
    "                       \n",
    "    def load(self):\n",
    "        with open(f'../input/ubiquantdevelop/{self.model_name}/config.txt', 'r') as f:\n",
    "            dnn_model = dnn_models[int(f.readline())]\n",
    "            \n",
    "            for i in range(len(self.nets)):\n",
    "                self.nets[i] = dnn_model(int(f.readline()))\n",
    "                self.nets[i].load_state_dict(torch.load(f'../input/ubiquantdevelop/{self.model_name}/model:{i}', map_location=torch.device('cpu')))\n",
    "                self.nets[i] = move_to(self.nets[i], device)"
   ]
  },
  {
   "cell_type": "markdown",
   "id": "96d6f3e6",
   "metadata": {
    "papermill": {
     "duration": 0.031564,
     "end_time": "2022-04-19T07:52:29.618387",
     "exception": false,
     "start_time": "2022-04-19T07:52:29.586823",
     "status": "completed"
    },
    "tags": []
   },
   "source": [
    "#написать ноутбук как меняется необходимое количество эпох в завимисимости от размера выбранной части выборки\n",
    "#то есть для подвыборки лучшее качетство получается на n итерациях, как дело обстоит если увеличивать выборку\n",
    "#лучше взять датасет для регресии и поменьше\n",
    "#можно взять несколько датасетов"
   ]
  },
  {
   "cell_type": "code",
   "execution_count": 20,
   "id": "664e550c",
   "metadata": {
    "execution": {
     "iopub.execute_input": "2022-04-19T07:52:29.696206Z",
     "iopub.status.busy": "2022-04-19T07:52:29.695423Z",
     "iopub.status.idle": "2022-04-19T08:09:12.979576Z",
     "shell.execute_reply": "2022-04-19T08:09:12.980153Z",
     "shell.execute_reply.started": "2022-04-16T16:46:21.262517Z"
    },
    "papermill": {
     "duration": 1003.328663,
     "end_time": "2022-04-19T08:09:12.980392",
     "exception": false,
     "start_time": "2022-04-19T07:52:29.651729",
     "status": "completed"
    },
    "tags": []
   },
   "outputs": [
    {
     "name": "stdout",
     "output_type": "stream",
     "text": [
      "Net DNN_Model_0\n",
      "Net 1/25 fitted\n",
      "Net 2/25 fitted\n",
      "Net 3/25 fitted\n",
      "Net 4/25 fitted\n",
      "Net 5/25 fitted\n",
      "Net 6/25 fitted\n",
      "Net 7/25 fitted\n",
      "Net 8/25 fitted\n",
      "Net 9/25 fitted\n",
      "Net 10/25 fitted\n",
      "Net 11/25 fitted\n",
      "Net 12/25 fitted\n",
      "Net 13/25 fitted\n",
      "Net 14/25 fitted\n",
      "Net 15/25 fitted\n",
      "Net 16/25 fitted\n",
      "Net 17/25 fitted\n",
      "Net 18/25 fitted\n",
      "Net 19/25 fitted\n",
      "Net 20/25 fitted\n",
      "Net 21/25 fitted\n",
      "Net 22/25 fitted\n",
      "Net 23/25 fitted\n",
      "Net 24/25 fitted\n",
      "Net 25/25 fitted\n"
     ]
    }
   ],
   "source": [
    "nn_model = StackedDNN(25, DNN_Model, min_deep=260, max_deep=289)\n",
    "nn_model.fit(data, target, 6, subset=0.65, batch_size=int(2*4096))\n",
    "nn_model.save()"
   ]
  },
  {
   "cell_type": "code",
   "execution_count": 21,
   "id": "e602ce65",
   "metadata": {
    "execution": {
     "iopub.execute_input": "2022-04-19T08:09:13.071196Z",
     "iopub.status.busy": "2022-04-19T08:09:13.070120Z",
     "iopub.status.idle": "2022-04-19T08:27:58.513137Z",
     "shell.execute_reply": "2022-04-19T08:27:58.514339Z",
     "shell.execute_reply.started": "2022-04-15T22:40:04.924506Z"
    },
    "papermill": {
     "duration": 1125.491824,
     "end_time": "2022-04-19T08:27:58.514629",
     "exception": false,
     "start_time": "2022-04-19T08:09:13.022805",
     "status": "completed"
    },
    "tags": []
   },
   "outputs": [
    {
     "name": "stdout",
     "output_type": "stream",
     "text": [
      "Net DNN_Model_1\n",
      "Net 1/25 fitted\n",
      "Net 2/25 fitted\n",
      "Net 3/25 fitted\n",
      "Net 4/25 fitted\n",
      "Net 5/25 fitted\n",
      "Net 6/25 fitted\n",
      "Net 7/25 fitted\n",
      "Net 8/25 fitted\n",
      "Net 9/25 fitted\n",
      "Net 10/25 fitted\n",
      "Net 11/25 fitted\n",
      "Net 12/25 fitted\n",
      "Net 13/25 fitted\n",
      "Net 14/25 fitted\n",
      "Net 15/25 fitted\n",
      "Net 16/25 fitted\n",
      "Net 17/25 fitted\n",
      "Net 18/25 fitted\n",
      "Net 19/25 fitted\n",
      "Net 20/25 fitted\n",
      "Net 21/25 fitted\n",
      "Net 22/25 fitted\n",
      "Net 23/25 fitted\n",
      "Net 24/25 fitted\n",
      "Net 25/25 fitted\n"
     ]
    }
   ],
   "source": [
    "nn_model_1 = StackedDNN(25, DNN_Model_1, min_deep=40, max_deep=41)\n",
    "nn_model_1.fit(data, target, 6, subset=0.65, batch_size=int(1.5*4096))\n",
    "nn_model_1.save()"
   ]
  },
  {
   "cell_type": "code",
   "execution_count": 22,
   "id": "ff9a5690",
   "metadata": {
    "execution": {
     "iopub.execute_input": "2022-04-19T08:27:58.711709Z",
     "iopub.status.busy": "2022-04-19T08:27:58.710720Z",
     "iopub.status.idle": "2022-04-19T08:47:05.016947Z",
     "shell.execute_reply": "2022-04-19T08:47:05.017962Z",
     "shell.execute_reply.started": "2022-04-16T16:47:54.163475Z"
    },
    "papermill": {
     "duration": 1146.41135,
     "end_time": "2022-04-19T08:47:05.018284",
     "exception": false,
     "start_time": "2022-04-19T08:27:58.606934",
     "status": "completed"
    },
    "tags": []
   },
   "outputs": [
    {
     "name": "stdout",
     "output_type": "stream",
     "text": [
      "Net DNN_Model_2\n",
      "Net 1/25 fitted\n",
      "Net 2/25 fitted\n",
      "Net 3/25 fitted\n",
      "Net 4/25 fitted\n",
      "Net 5/25 fitted\n",
      "Net 6/25 fitted\n",
      "Net 7/25 fitted\n",
      "Net 8/25 fitted\n",
      "Net 9/25 fitted\n",
      "Net 10/25 fitted\n",
      "Net 11/25 fitted\n",
      "Net 12/25 fitted\n",
      "Net 13/25 fitted\n",
      "Net 14/25 fitted\n",
      "Net 15/25 fitted\n",
      "Net 16/25 fitted\n",
      "Net 17/25 fitted\n",
      "Net 18/25 fitted\n",
      "Net 19/25 fitted\n",
      "Net 20/25 fitted\n",
      "Net 21/25 fitted\n",
      "Net 22/25 fitted\n",
      "Net 23/25 fitted\n",
      "Net 24/25 fitted\n",
      "Net 25/25 fitted\n"
     ]
    }
   ],
   "source": [
    "nn_model_2 = StackedDNN(25, DNN_Model_2, min_deep=220, max_deep=250)\n",
    "nn_model_2.fit(data, target, 6, subset=0.65, batch_size=int(2*4096))\n",
    "nn_model_2.save()"
   ]
  },
  {
   "cell_type": "code",
   "execution_count": 23,
   "id": "165ea60a",
   "metadata": {
    "execution": {
     "iopub.execute_input": "2022-04-19T08:47:05.151862Z",
     "iopub.status.busy": "2022-04-19T08:47:05.150846Z",
     "iopub.status.idle": "2022-04-19T09:03:47.208821Z",
     "shell.execute_reply": "2022-04-19T09:03:47.209424Z",
     "shell.execute_reply.started": "2022-04-15T22:32:54.77661Z"
    },
    "papermill": {
     "duration": 1002.126798,
     "end_time": "2022-04-19T09:03:47.209613",
     "exception": false,
     "start_time": "2022-04-19T08:47:05.082815",
     "status": "completed"
    },
    "tags": []
   },
   "outputs": [
    {
     "name": "stdout",
     "output_type": "stream",
     "text": [
      "Net DNN_Model_3\n",
      "Net 1/25 fitted\n",
      "Net 2/25 fitted\n",
      "Net 3/25 fitted\n",
      "Net 4/25 fitted\n",
      "Net 5/25 fitted\n",
      "Net 6/25 fitted\n",
      "Net 7/25 fitted\n",
      "Net 8/25 fitted\n",
      "Net 9/25 fitted\n",
      "Net 10/25 fitted\n",
      "Net 11/25 fitted\n",
      "Net 12/25 fitted\n",
      "Net 13/25 fitted\n",
      "Net 14/25 fitted\n",
      "Net 15/25 fitted\n",
      "Net 16/25 fitted\n",
      "Net 17/25 fitted\n",
      "Net 18/25 fitted\n",
      "Net 19/25 fitted\n",
      "Net 20/25 fitted\n",
      "Net 21/25 fitted\n",
      "Net 22/25 fitted\n",
      "Net 23/25 fitted\n",
      "Net 24/25 fitted\n",
      "Net 25/25 fitted\n"
     ]
    }
   ],
   "source": [
    "nn_model_3 = StackedDNN(25, DNN_Model_3, min_deep=90, max_deep=110)\n",
    "nn_model_3.fit(data, target, 6, subset=0.65, batch_size=int(2*4096))\n",
    "nn_model_3.save()"
   ]
  },
  {
   "cell_type": "code",
   "execution_count": 24,
   "id": "68c18e69",
   "metadata": {
    "execution": {
     "iopub.execute_input": "2022-04-19T09:03:47.362374Z",
     "iopub.status.busy": "2022-04-19T09:03:47.361421Z",
     "iopub.status.idle": "2022-04-19T09:18:09.952823Z",
     "shell.execute_reply": "2022-04-19T09:18:09.953405Z",
     "shell.execute_reply.started": "2022-04-15T22:35:29.171316Z"
    },
    "papermill": {
     "duration": 862.670266,
     "end_time": "2022-04-19T09:18:09.953570",
     "exception": false,
     "start_time": "2022-04-19T09:03:47.283304",
     "status": "completed"
    },
    "tags": []
   },
   "outputs": [
    {
     "name": "stdout",
     "output_type": "stream",
     "text": [
      "Net DNN_Model_4\n",
      "Net 1/25 fitted\n",
      "Net 2/25 fitted\n",
      "Net 3/25 fitted\n",
      "Net 4/25 fitted\n",
      "Net 5/25 fitted\n",
      "Net 6/25 fitted\n",
      "Net 7/25 fitted\n",
      "Net 8/25 fitted\n",
      "Net 9/25 fitted\n",
      "Net 10/25 fitted\n",
      "Net 11/25 fitted\n",
      "Net 12/25 fitted\n",
      "Net 13/25 fitted\n",
      "Net 14/25 fitted\n",
      "Net 15/25 fitted\n",
      "Net 16/25 fitted\n",
      "Net 17/25 fitted\n",
      "Net 18/25 fitted\n",
      "Net 19/25 fitted\n",
      "Net 20/25 fitted\n",
      "Net 21/25 fitted\n",
      "Net 22/25 fitted\n",
      "Net 23/25 fitted\n",
      "Net 24/25 fitted\n",
      "Net 25/25 fitted\n"
     ]
    }
   ],
   "source": [
    "nn_model_4 = StackedDNN(25, DNN_Model_4, min_deep=90, max_deep=110)\n",
    "nn_model_4.fit(data, target, 6, subset=0.65, batch_size=int(2*4096))\n",
    "nn_model_4.save()"
   ]
  },
  {
   "cell_type": "code",
   "execution_count": 25,
   "id": "2170734f",
   "metadata": {
    "execution": {
     "iopub.execute_input": "2022-04-19T09:18:10.129404Z",
     "iopub.status.busy": "2022-04-19T09:18:10.128729Z",
     "iopub.status.idle": "2022-04-19T09:37:03.112039Z",
     "shell.execute_reply": "2022-04-19T09:37:03.113311Z",
     "shell.execute_reply.started": "2022-04-12T22:24:12.142396Z"
    },
    "papermill": {
     "duration": 1133.074772,
     "end_time": "2022-04-19T09:37:03.113570",
     "exception": false,
     "start_time": "2022-04-19T09:18:10.038798",
     "status": "completed"
    },
    "tags": []
   },
   "outputs": [],
   "source": [
    "from catboost import CatBoostRegressor\n",
    "model = CatBoostRegressor(iterations=12000, task_type='GPU', devices='0', silent=True, subsample=0.9, bootstrap_type='Poisson').fit(data, target)"
   ]
  },
  {
   "cell_type": "code",
   "execution_count": 26,
   "id": "24744f0d",
   "metadata": {
    "execution": {
     "iopub.execute_input": "2022-04-19T09:37:03.506781Z",
     "iopub.status.busy": "2022-04-19T09:37:03.505790Z",
     "iopub.status.idle": "2022-04-19T09:37:03.510549Z",
     "shell.execute_reply": "2022-04-19T09:37:03.511719Z",
     "shell.execute_reply.started": "2022-04-12T22:27:21.594066Z"
    },
    "papermill": {
     "duration": 0.275015,
     "end_time": "2022-04-19T09:37:03.511975",
     "exception": false,
     "start_time": "2022-04-19T09:37:03.236960",
     "status": "completed"
    },
    "tags": []
   },
   "outputs": [],
   "source": [
    "model.save_model(\"cat_model\")"
   ]
  }
 ],
 "metadata": {
  "kernelspec": {
   "display_name": "Python 3",
   "language": "python",
   "name": "python3"
  },
  "language_info": {
   "codemirror_mode": {
    "name": "ipython",
    "version": 3
   },
   "file_extension": ".py",
   "mimetype": "text/x-python",
   "name": "python",
   "nbconvert_exporter": "python",
   "pygments_lexer": "ipython3",
   "version": "3.7.12"
  },
  "papermill": {
   "default_parameters": {},
   "duration": 6720.812234,
   "end_time": "2022-04-19T09:37:06.510976",
   "environment_variables": {},
   "exception": null,
   "input_path": "__notebook__.ipynb",
   "output_path": "__notebook__.ipynb",
   "parameters": {},
   "start_time": "2022-04-19T07:45:05.698742",
   "version": "2.3.3"
  }
 },
 "nbformat": 4,
 "nbformat_minor": 5
}
